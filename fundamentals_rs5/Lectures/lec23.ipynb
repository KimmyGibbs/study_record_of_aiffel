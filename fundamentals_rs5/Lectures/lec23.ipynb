{
 "cells": [
  {
   "cell_type": "markdown",
   "metadata": {},
   "source": [
    "# **23. 논문 작성 가이드**"
   ]
  },
  {
   "cell_type": "markdown",
   "metadata": {},
   "source": [
    "## **23-1. 좋은 논문을 쓰는 법**"
   ]
  },
  {
   "cell_type": "markdown",
   "metadata": {},
   "source": [
    "논문을 써본 적이 있나요? 대학원을 다녔던 경험이 없는 사람이라면 논문을 쓸 일이 거의 없었을 것입니다.<br>\n",
    "'논문'이라고 하니까 뭔가 엄청 전문적이고 다가가기 힘든 벽이 느껴지는 것 같은데요... 박사님, 교수님들처럼 대단한 사람이 아니더라도 괜찮은 논문을 쓸 수 있을까요? 답은 \"어렵지만 가능하다\"입니다. 그러면 어떻게 해야 논문을 잘 쓸 수 있을까요?<br>\n",
    "\n",
    "사실, 좋은 논문을 쓸 때 가장 중요하고도 어려운 부분이 바로 좋은 연구를 하는 것입니다. 연구 주제와 아이디어가 의미 있고, 그것을 뒷받침하는 실험 결과가 있어야 좋은 논문을 쓸 수 있죠. 아래 사진은 해외의 질의 응답 커뮤니티 Quora에 올라온 글입니다."
   ]
  },
  {
   "cell_type": "markdown",
   "metadata": {},
   "source": [
    "![https://www.quora.com/Why-is-publishing-a-research-paper-so-hard](../Images/lec_23/1.png)"
   ]
  },
  {
   "cell_type": "markdown",
   "metadata": {},
   "source": [
    "\"논문을 출판하는 것이 왜 어려운가요?\"라는 질문에 \"연구하고 논문을 쓰는 것이 어려운 것이고, 이 둘을 잘 했으면 논문 출판은 어렵지 않다.\"라는 답변이 달렸습니다. 그만큼 좋은 연구를 하는 것이 중요한데요, 아쉽지만 이 노드에서 연구를 잘 하는 방법을 알려드리지는 못합니다. 대신 연구를 어느 정도 진행하고 논문을 쓰기 시작할 때, 작은 팁이라도 드리기 위한 글이죠🙂"
   ]
  },
  {
   "cell_type": "markdown",
   "metadata": {},
   "source": [
    "논문을 잘 쓰기 위한 최고의 방법은 무엇일까요? 제 생각은, **논문을 많이 읽어보는 것**입니다. 논문마다 주제, 아이디어, 실험 방법은 다양하지만, 내용의 흐름은 비슷하다는 것을 알 수 있기 때문이죠. 논문을 여러 편 읽어보면서 각 챕터마다 어떤 내용이 들어가고, 어떤 내용을 강조해야 하는지 알게 된다면 논문을 직접 쓸 때도 훨씬 수월할 것입니다. 물론 시간이 많이 걸리고 쉽지 않은 방법이지만... 이 노드에서 간단하게라도 설명해보겠습니다. 우선 논문을 제출하고 심사받는 과정 자체가 익숙하지 않은 사람들을 위해 저널/컨퍼런스/워크샵이 무엇인지, 논문 심사 절차가 어떻게 되는지 등을 먼저 알려드리고, 그 다음에 본격적으로 논문 작성법을 설명하겠습니다!"
   ]
  },
  {
   "cell_type": "markdown",
   "metadata": {},
   "source": [
    "### **목차**\n",
    "\n",
    "- 좋은 논문을 쓰는 법\n",
    "\n",
    "- 논문을 어디에 제출할까?\n",
    "\n",
    "- 내가 쓴 논문이 출판되기까지\n",
    "\n",
    "- 연구계획서 쓰는 법\n",
    "\n",
    "- 논문 양식에 대해서\n",
    "\n",
    "- 논문 작성법\n",
    "\n",
    "- 논문 리뷰와 피드백 반영\n",
    "\n",
    "- 마무리하며: 모두연에서 연구하기"
   ]
  },
  {
   "cell_type": "markdown",
   "metadata": {},
   "source": [
    "### **읽어보면 좋은 자료들**\n",
    "\n",
    "- [대학원생 때 알았더라면 좋았을 것들](https://gradschoolstory.net/)\n",
    "\n",
    "- Jennifer Widom, [\"Tips for Writing Technical Papers\"](https://cs.stanford.edu/people/widom/paper-writing.html)\n",
    "\n",
    "- Andrej Karpathy, [\"A Survival Guide to a PhD\"](http://karpathy.github.io/2016/09/07/phd/)"
   ]
  },
  {
   "cell_type": "markdown",
   "metadata": {},
   "source": [
    "## **23-2. 논문을 어디에 제출할까?**"
   ]
  },
  {
   "cell_type": "markdown",
   "metadata": {},
   "source": [
    "### **저널? 컨퍼런스? 워크샵?**\n",
    "---"
   ]
  },
  {
   "cell_type": "markdown",
   "metadata": {},
   "source": [
    "#### **저널**\n",
    "\n",
    "**저널**(journal)은 정기적으로 출판되는 학술지입니다. 학술 논문뿐만 아니라 뉴스나 사설 등의 여러 기고문들도 찾아볼 수 있죠. 잘 알려진 학술지 '네이처(Nature)', '사이언스(Science)' 등이 바로 저널에 속합니다. 일반적으로 저널 논문은 컨퍼런스 논문보다 분량이 많고, 마감 기한이 따로 없기 때문에 논문 심사 과정도 철저한 편입니다.\n",
    "\n",
    "- AI 분야의 대표적인 저널 몇 가지\n",
    "\n",
    "    - [IEEE Transactions on Pattern Analysis and Machine Intelligence](https://ieeexplore.ieee.org/xpl/RecentIssue.jsp?punumber=34)\n",
    "\n",
    "    - [International Journal of Computer Vision](https://www.springer.com/journal/11263)\n",
    "\n",
    "    - [Nature Machine Intelligence](https://www.nature.com/natmachintell/)\n",
    "\n",
    "    - [Neural Networks](https://www.sciencedirect.com/journal/neural-networks)\n",
    "    \n",
    "    - [Journal of Machine Learning Research](https://www.jmlr.org/)"
   ]
  },
  {
   "cell_type": "markdown",
   "metadata": {},
   "source": [
    "#### **컨퍼런스**\n",
    "\n",
    "**컨퍼런스**(conference)는 정기적으로 개최되는 학술행사입니다. 연구자들이 본인의 논문을 발표하고, 논문 내용이 담긴 큰 포스터를 만들어서 전시하기도 합니다. 논문 제출이 항상 열려있는 저널과 다르게, 컨퍼런스에는 행사 일정이 있으므로 논문 제출 기한이 명확하고 본 행사 이전에 논문 심사가 완료됩니다. 그래서 논문 분량이나 심사 과정 등이 저널에 비해 가벼운 편입니다. (그렇다고 해서 컨퍼런스 논문 심사를 대충 하는 건 아닙니다!) 논문이 빠르게 출판된다는 특성 때문에, 새로운 연구 결과들이 쏟아지고 있는 인공지능 분야에서는 저널보다 컨퍼런스에 논문을 투고하는 일이 많습니다. 심지어 논문이 완성되자마자 [arXiv](https://arxiv.org/)(아카이브)와 같은 사이트에 바로 올리고 이후에 컨퍼런스 일정에 맞춰 제출하는 경우도 많죠.\n",
    "\n",
    "- AI 분야의 대표적인 컨퍼런스 정보\n",
    "    - [AI Conference Deadlines:](https://aideadlin.es/?sub=ML,CV,CG,NLP,RO,SP,DM,AP,KR,HCI) 대표적인 AI 컨퍼런스들의 개최 일정과 논문 제출 마감일을 한번에 보여줍니다."
   ]
  },
  {
   "cell_type": "markdown",
   "metadata": {},
   "source": [
    "![CVPR 2019의 포스터 발표 현장 (출처: https://gseg.igp.ethz.ch/news-and-events.html)](../Images/lec_23/2.png)"
   ]
  },
  {
   "cell_type": "markdown",
   "metadata": {},
   "source": [
    "#### **워크샵**\n",
    "\n",
    "**워크샵**(workshop)은 메인 컨퍼런스가 진행되는 기간에 특정 주제를 두고 열리는 작은 컨퍼런스입니다. 셋 중에서 진입장벽이 가장 낮고, 비슷한 주제를 연구하는 사람들을 만날 수 있다는 장점이 있습니다."
   ]
  },
  {
   "cell_type": "markdown",
   "metadata": {},
   "source": [
    "### **어디에 제출하면 좋을까?**\n",
    "---"
   ]
  },
  {
   "cell_type": "markdown",
   "metadata": {},
   "source": [
    "#### **저널, 컨퍼런스의 주제 살펴보기**\n",
    "\n",
    "모든 저널과 컨퍼런스는 다루는 분야가 정해져 있습니다. 엄청난 발견을 한 논문이 제출된다고 해도, 분야가 맞지 않는다면 논문 게재가 승인될 수 없습니다. 그러면 마음에 두고 있는 저널/컨퍼런스가 자신의 논문과 분야가 같은지는 어떻게 알 수 있을까요? 물론 이름만 봐도 어느 정도는 알 수 있습니다. CVPR(Computer Vision and Pattern Recognition)은 컴퓨터 비전과 패턴 인식에 관한 컨퍼런스일 것이고, ICML(International Conference on Machine Learning)은 머신러닝 관련 컨퍼런스겠죠.\n",
    "가장 확실한 방법은 저널/컨퍼런스의 홈페이지에 들어가서 `Submission`, `Instructions for Authors`(저널의 경우), 또는 `Call for Papers`(컨퍼런스, 워크샵의 경우)와 같은 메뉴를 살펴보는 것입니다"
   ]
  },
  {
   "cell_type": "markdown",
   "metadata": {},
   "source": [
    "![https://www.jmlr.org/author-info.html](../Images/lec_23/3.png)"
   ]
  },
  {
   "cell_type": "markdown",
   "metadata": {},
   "source": [
    "저널 JMLR(Journal of Machine Learning Research)이 다루는 분야입니다. 머신러닝 분야 논문은 다 제출받는 것 같네요."
   ]
  },
  {
   "cell_type": "markdown",
   "metadata": {},
   "source": [
    "![CVPR 2023 Call for Papers (https://cvpr.thecvf.com/Conferences/2023/CallForPapers)](../Images/lec_23/4.png)"
   ]
  },
  {
   "cell_type": "markdown",
   "metadata": {},
   "source": [
    "컨퍼런스 CVPR(Computer Vision and Pattern Recognition) 2023의 `Call for Papers`입니다. 컴퓨터 비전, 패턴 인식 분야에도 엄청나게 많은 주제들이 있네요!\n",
    "\n",
    "홈페이지를 찾아봤는데도 뭔가 애매하다면, 저널/컨퍼런스에서 이전에 출판된 논문들을 살펴보는 것도 도움이 됩니다.\n",
    "`학회/저널이름 + papers`, `학회이름 + proceedings`를 검색하면 논문들의 목록을 볼 수 있는데, 유료 구독이 필요한 일부 저널을 제외하고는 내용을 볼 수 있습니다."
   ]
  },
  {
   "cell_type": "markdown",
   "metadata": {},
   "source": [
    "![NeurIPS 2021 Proceedings (https://papers.nips.cc/paper/2021)](../Images/lec_23/5.png)"
   ]
  },
  {
   "cell_type": "markdown",
   "metadata": {},
   "source": [
    "### **💡주의해야 할 점**\n",
    "---"
   ]
  },
  {
   "cell_type": "markdown",
   "metadata": {},
   "source": [
    "- 하나의 논문을 여러 곳에 한꺼번에 제출하면 안 됩니다.\n",
    "\n",
    "    - 물론 한 곳에만 제출했다가 거절당하면 어떡하나 싶은 마음은 있겠지만... 학계는 넓으면서도 꽤 좁아서, 세부 주제 단위로 내려가면 연구자들의 수가 많지 않습니다. 최악의 경우에는 중복으로 제출한 논문들의 심사위원 중에 겹치는 사람이 있을 수도 있습니다.\n",
    "\n",
    "    - 한 곳에 우선 제출하고 나서 게재 불가(reject) 판정을 받으면 그 때 다른 곳에 제출하면 됩니다.\n",
    "\n",
    "- 약탈적 학술지, 부실 학회(predatory journal/conference)를 조심하세요.\n",
    "\n",
    "    - 약탈적 학술지는 일부 출판사가 영리적인 목적으로 돈만 내면 논문을 게재할 수 있게 만든 곳을 말합니다. 논문을 제대로 심사하지 않기 때문에 논문의 질이 떨어지고, 연구 윤리를 지키지 않은 (위조, 표절 등) 논문들도 많습니다. 이런 곳에 논문을 제출한다면 논문 한 편의 실적이 당장 생기기는 하겠지만, 장기적으로는 연구자로서의 진로에 큰 악영향을 끼칩니다.\n",
    "\n",
    "    - [돈만 내면 가짜 논문으로도 참가…황당한 국제학술대회](https://imnews.imbc.com/replay/2018/nwdesk/article/4706334_30181.html) (2018.7.19. MBC 뉴스데스크)\n",
    "\n",
    "    - 한국연구재단의 부실학술활동 예방 가이드 ([출처](https://www.nrf.re.kr/cms/board/general/view?menu_no=53&nts_no=108850))\n",
    "\n",
    "        - [부실학술활동 예방을 위한 권고사항](https://d3s0tskafalll9.cloudfront.net/media/documents/%EB%B6%80%EC%8B%A4%ED%95%99%EC%88%A0%ED%99%9C%EB%8F%99_%EC%98%88%EB%B0%A9%EC%9D%84_%EC%9C%84%ED%95%9C_%EA%B6%8C%EA%B3%A0%EC%82%AC%ED%95%AD.hwp) (hwp)\n",
    "        - [약탈적 학술지와 학회 예방 가이드(요약)](https://d3s0tskafalll9.cloudfront.net/media/documents/%EC%95%BD%ED%83%88%EC%A0%81_%ED%95%99%EC%88%A0%EC%A7%80%EC%99%80_%ED%95%99%ED%9A%8C_%EC%98%88%EB%B0%A9_%EA%B0%80%EC%9D%B4%EB%93%9C%EC%9A%94%EC%95%BD.pdf) (pdf)\n",
    "        - [약탈적 학술지와 학회 예방 가이드(전문)](https://d3s0tskafalll9.cloudfront.net/media/documents/%EC%95%BD%ED%83%88%EC%A0%81_%ED%95%99%EC%88%A0%EC%A7%80%EC%99%80_%ED%95%99%ED%9A%8C_%EC%98%88%EB%B0%A9_%EA%B0%80%EC%9D%B4%EB%93%9C%EC%A0%84%EB%AC%B8.pdf) (pdf)"
   ]
  },
  {
   "cell_type": "markdown",
   "metadata": {},
   "source": [
    "## **23-3. 내가 쓴 논문이 출판되기까지**"
   ]
  },
  {
   "cell_type": "markdown",
   "metadata": {},
   "source": [
    "### **논문 심사 과정**\n",
    "---"
   ]
  },
  {
   "cell_type": "markdown",
   "metadata": {},
   "source": [
    "논문이 출판되기 위해서는 우선 심사(review)가 완료되어야 합니다. 이 논문이 저널/컨퍼런스에 실려도 좋을지 판단하는 과정이죠.\n",
    "\n",
    "- **저자**: 논문을 쓴 사람입니다. 저자가 여러 명일 때는 교신저자가 대표로 저널/컨퍼런스 편집부와의 소통을 담당합니다.\n",
    "\n",
    "- **리뷰어(reviewer)**: 편집부로부터 논문을 받아서 게재 가능/불가능 여부를 판단하고 피드백을 남깁니다.\n",
    "\n",
    "- **에디터(editor), 편집부**: 저자로부터 제출받은 논문을 리뷰어들에게 전달하고, 리뷰어들의 심사 내용을 바탕으로 게재 가능 여부를 최종 판단합니다.\n",
    "\n",
    "논문 심사 결과는 다음 두 가지로 나눌 수 있습니다.\n",
    "\n",
    "- **게재 가능 (accept)**: 축하합니다! 논문이 저널/컨퍼런스로부터 게재를 승인받았습니다. 리뷰어들의 피드백을 잘 반영한다면 논문이 출판될 수 있다는 뜻입니다.\n",
    "\n",
    "- **게재 불가능 (reject)**: 안타깝지만 논문을 실어줄 수 없다는 뜻입니다. 논문의 주제가 저널/컨퍼런스의 주제에서 벗어났을 수도 있고, 그냥 (리뷰어가 보기에) 논문에 아쉬운 점이 많았을 수도 있습니다.\n",
    "\n",
    "    - [유명 AI 컨퍼런스들의 acceptance 비율](https://github.com/lixin4ever/Conference-Acceptance-Rate)을 보면, 제출된 전체 논문 중에서 약 30% 이하의 논문들만이 게재가 됩니다. 좋은 곳에 논문을 내는 것은 그만큼 어려운 일이기 때문에, 논문이 reject 되었다고 해도 리뷰어들의 피드백을 바탕으로 논문을 잘 보완한다면 좋은 저널/컨퍼런스에 논문이 accept될 수 있을 것입니다."
   ]
  },
  {
   "cell_type": "markdown",
   "metadata": {},
   "source": [
    "#### **논문 심사 프로세스**"
   ]
  },
  {
   "cell_type": "markdown",
   "metadata": {},
   "source": [
    "![https://authorservices.wiley.com/Reviewers/journal-reviewers/what-is-peer-review/the-peer-review-process.html](../Images/lec_23/6.png)"
   ]
  },
  {
   "cell_type": "markdown",
   "metadata": {},
   "source": [
    "논문에 따라 다르지만, 대부분 다음과 같은 과정을 거쳐서 심사가 진행됩니다.\n",
    "\n",
    "1. 연구자가 저널/컨퍼런스의 홈페이지에서 논문 파일을 제출합니다.\n",
    "\n",
    "2. 저널/컨퍼런스 편집부의 에디터(editor)가 논문이 양식에 잘 맞춰져 있는지 확인하고, 문제가 없을 경우 리뷰어들에게 논문을 전달합니다.\n",
    "\n",
    "3. 리뷰어는 논문을 심사하고 게재 여부에 대한 의견과 피드백을 작성하여 에디터에게 다시 전달합니다.\n",
    "\n",
    "4. 편집부는 심사 결과를 취합하여 논문의 게재 여부를 결정하고, 리뷰어들의 피드백과 함께 저자에게 전달합니다.\n",
    "\n",
    "5. 게재 불가능 판정을 받을 정도는 아니지만 우선 논문 보완이 필요한 경우, 저자는 리뷰어들의 피드백을 반영하여 논문을 수정하고 논문 수정본을 다시 제출합니다.\n",
    "\n",
    "6. 논문 게재가 최종 승인되었다면 이후에 논문이 출판됩니다."
   ]
  },
  {
   "cell_type": "markdown",
   "metadata": {},
   "source": [
    "#### **심사 과정에서의 익명성**\n",
    "\n",
    "공정한 심사를 위해, 논문 심사 과정에서는 익명성이 보장되어야 합니다. 만약 저자와 리뷰어가 서로 아는 사이라면 논문 심사 결과에 영향을 줄 수 있겠죠. 그래서 대부분의 AI분야 저널/컨퍼런스에서는 **double-blind review** 시스템을 채택하고 있습니다.\n",
    "\n",
    "- 리뷰어들은 자신이 받은 논문의 저자가 누구인지 모릅니다.\n",
    "- 저자들도 자신의 논문을 누가 심사했는지 모릅니다."
   ]
  },
  {
   "cell_type": "markdown",
   "metadata": {},
   "source": [
    "### **논문 심사 기준**\n",
    "\n",
    "---\n",
    "\n",
    "논문의 심사 기준은 저널/컨퍼런스마다 다르지만, 유명 AI 컨퍼런스 NeurIPS의 [리뷰어 가이드라인](https://neurips.cc/Conferences/2022/ReviewerGuidelines)에서는 다음과 같은 항목들을 언급하고 있습니다.\n",
    "\n",
    "- **Originality(독창성)**: 해결하고자 하는 문제, 또는 논문의 아이디어가 독창적입니다. 논문의 연구가 이전 연구들과 어떻게 다른지 명확하게 설명되어 있습니다.\n",
    "- **Quality(품질), Soundness(건전성)**: 저자가 논문에서 주장하는 내용들이 이론적 또는 실험적으로 증명되어 있습니다. 논문에서 사용된 방법들이 적절하며, 저자들은 논문에서 제시한 아이디어의 장점과 약점을 솔직하게 설명하고 있습니다.\n",
    "- **Clarity(명쾌함)**: 독자들이 읽기 쉽도록, 논문의 글이 명확하고 짜임새가 좋습니다.\n",
    "- **Significance(중요성), Contribution(기여)**: 논문이 특정 연구 분야에 기여하는 부분이 있고, 논문에서 제시한 방법과 결과들이 가치가 있습니다."
   ]
  },
  {
   "cell_type": "markdown",
   "metadata": {},
   "source": [
    "## **23-4. 연구계획서 쓰는 법**"
   ]
  },
  {
   "cell_type": "markdown",
   "metadata": {},
   "source": [
    "**연구계획서**란, 말 그대로 본인이 어떤 연구를 진행할 것인지 설명하는 문서입니다.<br>\n",
    "사실 대학원에서는 논문을 쓸 때마다 연구계획서를 쓰지는 않습니다. 입학할 때와 학위논문을 쓰기 직전에 제출하는 연구계획서, 그리고 연구과제 수주를 위해 작성하는 제안서 정도가 전부입니다. (물론 연구실마다 다를 수 있습니다. 평소에도 연구계획서 작성을 독려하는 교수님이 계실지도...) 하지만 만약 모두의연구소에서 논문을 쓰려고 한다면 먼저 연구계획서를 작성해서 팀을 꾸리고 연구에 필요한 것들을 지원받는 것이 좋은 방법이 될 수 있습니다."
   ]
  },
  {
   "cell_type": "markdown",
   "metadata": {},
   "source": [
    "### **연구계획서 작성하기**\n",
    "\n",
    "---\n",
    "\n",
    "연구계획서와 논문의 가장 큰 차이점은, 연구 결과를 정리하는 논문과 다르게 연구계획서는 연구가 진행되기 전에 또는 연구 초반에 작성된다는 것입니다. 그렇기 때문에 논문의 핵심 아이디어나 논문에서 사용할 모델 구조 등을 아주 자세하게 적을 필요는 없지만, **연구의 목적**과 **연구의 필요성**, **연구 방법론**은 명확하게 작성되어야 합니다. 이를테면 \"본인이 이 연구를 통해 어떤 문제를 해결하려고 하고, 이 연구가 왜 중요하고, (대략적으로) 어떤 방법을 사용할 것이다.\"와 같은 내용 말입니다."
   ]
  },
  {
   "cell_type": "markdown",
   "metadata": {},
   "source": [
    "#### **연구 주제**\n",
    "> 무엇을 연구할 것인가?\n",
    "\n",
    "연구계획서의 제목에 해당하는 부분입니다. '어떤 모델을 이용해서 어떤 태스크를 해결하겠다', '어떤 기능을 하는 모델/알고리즘을 개발하겠다'와 같은 내용이 포함됩니다."
   ]
  },
  {
   "cell_type": "markdown",
   "metadata": {},
   "source": [
    "#### **연구의 목적, 연구의 필요성**\n",
    "> 연구를 통해 어떤 문제를 해결할 것인가? 이 연구에 어떤 의미가 있는가?\n",
    "\n",
    "모든 연구는 **문제**로부터 시작됩니다. '어떤 기능을 하는 모델이 아직 없는데 만들어보려고 한다', '어떤 모델의 이러이러한 한계점을 개선하려고 한다' 와 같은 주제들은 모두 특정한 문제를 해결하기 위한 연구입니다. 그렇기 때문에 문제 상황을 정확히 인지하는 것이 연구계획서를 작성할 때도, 이후에 연구를 본격적으로 진행할 때도 도움이 됩니다. 어떤 문제를 해결하기 위해 연구를 진행할 예정인지 이야기하는 부분이 바로 `연구의 목적`에 해당됩니다. 연구계획서에서 연구의 목적과 함께 중요하게 다루어야 할 내용이 하나 더 있는데, `연구의 필요성`입니다. 연구가 마무리되었을 때 결과물이 어떤 의미를 가지는지 강조하는 부분이죠. 실용적인 결과물이 나올 만한 주제가 아니더라도, 이 연구가 특정 분야의 지식에 어떻게 기여할 수 있는지 설명하는 것으로 충분합니다."
   ]
  },
  {
   "cell_type": "markdown",
   "metadata": {},
   "source": [
    "#### **선행 연구 리뷰**\n",
    "> 연구 주제와 관련된 선행 연구로는 어떤 논문들이 있는가?\n",
    "\n",
    "새로운 연구는 어느 날 갑자기 '뿅' 하고 나타나는 것이 아닙니다. 하나의 연구 결과가 발표되기 전까지 수많은 선행 연구들이 있었죠. 연구의 목적이 선행 연구의 한계를 개선하는 것이라면 그 대상이 되는 연구, 그리고 한계점을 개선하려고 했던 다른 연구들을 선행 연구 리뷰에 포함시킬 수 있습니다. 그 외에도 같은 연구 주제를 다루었거나 같은 방법론을 사용했던 다른 논문들을 언급하고, 의의와 한계점을 간단하게 정리할 수도 있습니다."
   ]
  },
  {
   "cell_type": "markdown",
   "metadata": {},
   "source": [
    "#### **연구 방법론**\n",
    "> 어떤 방법으로 문제에 접근할 것인가?\n",
    "\n",
    "해결하고 싶은 문제, 그리고 관련된 선행 연구들이 이제 준비되었습니다. 남은 것은 '그래서 이 연구에서 어떤 방법으로 문제를 해결할 것인가?', 즉 연구 방법에 관한 이야기입니다. 어떤 모델, 또는 어떤 알고리즘을 사용할 것인지 이야기하고, 왜 그 방법을 선택했는지 나름대로의 근거를 설명할 수 있어야 합니다. 물론 연구계획서는 연구 초반에 작성하는 것이기 때문에 지금 단계에서 선택한 방법이 최선이 아닐 수 있습니다. 그러므로 지금 당장 완벽한 방법을 연구계획서에 써야 한다는 부담을 가질 필요 없이, 연구의 방향성을 정한다는 느낌으로 작성하면 됩니다."
   ]
  },
  {
   "cell_type": "markdown",
   "metadata": {},
   "source": [
    "#### **참고문헌**\n",
    "선행 연구 리뷰 단계에서 참고했던 자료들을 정리합니다."
   ]
  },
  {
   "cell_type": "markdown",
   "metadata": {},
   "source": [
    "#### **그 외에도...**\n",
    "연구계획서의 목적에 따라 기대 성과, 필요 예산, 연구 일정 등의 내용을 추가할 수 있습니다."
   ]
  },
  {
   "cell_type": "markdown",
   "metadata": {},
   "source": [
    "## **23-5. 논문 양식에 대해서**"
   ]
  },
  {
   "cell_type": "markdown",
   "metadata": {},
   "source": [
    "연구계획서를 쓴 이후 연구를 계속 진행해서 괜찮은 결과를 얻었습니다. 목표가 되는 저널/컨퍼런스도 정했고, 이제 슬슬 논문을 쓰려고 합니다. 그런데 어디에 써야 할까요?\n",
    "그냥 한글이나 워드에다가 대충 써서 제출하는 건 왠지 아닌 것 같습니다.\n",
    "논문을 찾아서 읽다 보니까 논문들의 양식이 비슷하던데, 이런 건 어떻게 맞추는 걸까요?"
   ]
  },
  {
   "cell_type": "markdown",
   "metadata": {},
   "source": [
    "### **논문 양식 다운받기**\n",
    "---"
   ]
  },
  {
   "cell_type": "markdown",
   "metadata": {},
   "source": [
    "논문의 양식도 저널/컨퍼런스 홈페이지를 살펴보는 것이 가장 정확합니다. 일반적으로 `Submission(제출)` 메뉴에 양식 파일이 업로드되어 있습니다.\n",
    "논문의 분량, 여백 크기, 폰트 종류와 글자 크기, 참고문헌 형식 등 논문 양식에 관한 정보들도 찾을 수 있습니다."
   ]
  },
  {
   "cell_type": "markdown",
   "metadata": {},
   "source": [
    "![AI 컨퍼런스 NeurIPS의 양식 파일 (https://neurips.cc/Conferences/2022/PaperInformation/StyleFiles)](../Images/lec_23/7.png)"
   ]
  },
  {
   "cell_type": "markdown",
   "metadata": {},
   "source": [
    "![AI 컨퍼런스 CVPR의 양식 파일 (Word) (https://cvpr2022.thecvf.com/author-guidelines)](../Images/lec_23/8.png)"
   ]
  },
  {
   "cell_type": "markdown",
   "metadata": {},
   "source": [
    "논문 양식은 일반적으로 **Microsoft Word**, 또는 **LaTeX** (레이텍) 파일로 제공됩니다.\n",
    "바로 위 사진처럼 워드 파일이 있다면 그냥 열어서 수정하면 되니까 어렵지 않은데... LaTeX은 대체 무엇이며, 어떻게 쓰는 걸까요?"
   ]
  },
  {
   "cell_type": "markdown",
   "metadata": {},
   "source": [
    "### **LaTeX 알아보기**\n",
    "\n",
    "---\n",
    "\n",
    "**LaTeX**(레이텍)은 문서 조판을 위한 프로그램입니다 (Wikipedia 설명 참조). 웹 브라우저가 HTML 문서를 렌더링하여 화면에 적절한 형태로 띄워주는 것처럼, LaTeX 형식으로 작성된 tex 파일을 컴파일하면 멋진 문서를 만들 수 있습니다.\n",
    "아래 사진에서 왼쪽 화면은 LaTeX으로 작성된 문서, 오른쪽은 왼쪽 문서를 컴파일한 결과입니다."
   ]
  },
  {
   "cell_type": "markdown",
   "metadata": {},
   "source": [
    "![AI 컨퍼런스 CVPR의 양식 파일 (LaTeX) (https://cvpr2022.thecvf.com/author-guidelines)](../Images/lec_23/9.png)"
   ]
  },
  {
   "cell_type": "markdown",
   "metadata": {},
   "source": [
    "왼쪽 화면만 봐도 뭔가 복잡한데요, 쉬운 Word를 두고 왜 굳이 어려워 보이는 LaTeX을 쓰는 걸까요?\n",
    "LaTeX의 가장 중요한 장점은 문서의 내용과 형식을 분리했다는 것이라고 합니다. 문서의 디자인에 신경을 쓰지 않아도, LaTeX 형식에 맞춰 내용을 적으면 기본 레이아웃으로 렌더링을 알아서 해주기 때문이죠. 그 밖에도 수식을 쓰기 편하다는 점, LaTeX은 오픈 소스 프로그램이기 때문에 어떤 환경에서도 같은 문서를 얻을 수 있다는 점, 가볍고 버전 관리가 가능하다는 점 등이 LaTeX을 쓰는 이유가 될 수 있습니다."
   ]
  },
  {
   "cell_type": "markdown",
   "metadata": {},
   "source": [
    "- TeX Stack Exchange에 올라왔던 질문: [Why should I use LaTeX?](https://tex.stackexchange.com/questions/1756/why-should-i-use-latex)\n",
    "- LaTeX 공식 사이트: [The LaTeX Project](https://www.latex-project.org/)\n",
    "- 국내 TeX 커뮤니티: [KTUG 한글 TeX 사용자 그룹](http://www.ktug.org/xe/)"
   ]
  },
  {
   "cell_type": "markdown",
   "metadata": {},
   "source": [
    "위의 KTUG 웹사이트에서 LaTeX 프로그램을 설치하면 tex 파일을 작성하고 컴파일할 수 있는데, 더 간단한 방법이 있습니다.\n",
    "바로 [Overleaf](https://www.overleaf.com/)라는 온라인 LaTeX 에디터입니다. 협업에 쓰이는 일부 기능들을 제외하고는 무료로 사용이 가능하고, 온라인 에디터기 때문에 언제 어디서나 접속해서 문서를 편집할 수 있습니다. 위 사진의 CVPR 논문 양식도 Overleaf에서 캡쳐한 화면입니다. 내용을 수정하고 `Recompile` 버튼을 누르면 업데이트된 문서를 확인할 수 있고, `Download PDF` 버튼을 누르면 pdf 파일을 다운받을 수 있습니다."
   ]
  },
  {
   "cell_type": "markdown",
   "metadata": {},
   "source": [
    "### **LaTeX 기본 문법**\n",
    "\n",
    "---\n",
    "\n",
    "사실 논문 양식을 다운받아서 사용하는 경우에는 형식 관련된 명령어들을 그대로 두고 내용 부분만 바꾸면 됩니다. 그렇지만 LaTeX 문서에 있는 이상한 명령어들이 무엇을 의미하는지 조금이라도 알면 더 좋겠죠?"
   ]
  },
  {
   "cell_type": "markdown",
   "metadata": {},
   "source": [
    "#### **LaTeX 문서의 구조와 기본 명령어**\n",
    "\n",
    "LaTeX 문서는 기본적으로 다음과 같은 구조를 가지고 있습니다."
   ]
  },
  {
   "cell_type": "markdown",
   "metadata": {},
   "source": [
    "```latex\n",
    "\\documentclass{...}\n",
    "% preamble\n",
    "\\begin{document}\n",
    "% document\n",
    "\\end{document}\n",
    "```"
   ]
  },
  {
   "cell_type": "markdown",
   "metadata": {},
   "source": [
    "- preamble 영역: 문서 전체의 속성을 지정하고, 필요한 패키지들을 불러옵니다. (HTML의 <head> 태그와 비슷한 느낌입니다.)\n",
    "\n",
    "    - `\\documentclass{...}`: 문서의 종류를 지정하여 적절한 기본 레이아웃을 선택합니다. 중괄호 안에 문서의 종류가 들어가는데, 일반적인 논문이나 리포트의 경우 `article`을 사용합니다. 이외에도 `book`, `slides`, `letter` 등의 document class들이 존재합니다.\n",
    "    \n",
    "    - `\\usepackages{...}`: 문서에서 사용할 패키지들을 불러옵니다. (아래의 패키지 이외에도 많은 패키지들이 존재합니다!)\n",
    "        - `\\usepackage{amsmath}`, `\\usepackage{amssymb}`: 다양한 수학 기호들이 포함되어 있습니다.\n",
    "        - `\\usepackage{graphicx}`: 문서에 그래픽 파일을 삽입할 수 있도록 합니다.\n",
    "        - `\\usepackage{hyperref}`: 하이퍼링크를 지원하는 패키지입니다.\n",
    "\n",
    "- document 영역: 문서의 본문에 해당하는 영역입니다. (HTML의 <body> 태그와 비슷합니다.)\n",
    "    - `\\chapter{...}`, `\\section{...}`, `\\subsection{...}`, ... : 문서의 섹션을 구분합니다. 중괄호 안에 소제목 이름이 들어갑니다.\n",
    "    \n",
    "    - `\\begin{...}` ~ `\\end{...}`: 문서의 특정 영역에 대한 환경(environment)을 지정합니다. `begin` 명령어와 `end` 명령어 사이에 들어가는 내용은 지정된 환경에 따라 특정한 서식이 적용됩니다. environment에는 여러 종류가 있는데, 대표적으로 다음과 같은 것들이 있습니다.\n",
    "        - `equation`: 수식 영역입니다.\n",
    "        - `center`: 문단을 가운데 정렬합니다.\n",
    "        - `tabular`: 표와 같은 형태를 가지도록 내용을 행과 열로 정렬합니다"
   ]
  },
  {
   "cell_type": "markdown",
   "metadata": {},
   "source": [
    "#### **LaTeX으로 수식 쓰기**\n",
    "\n",
    "위에서, 논문 작성에 LaTeX을 많이 쓰는 이유 중 하나가 수식이라고 이야기했습니다. 수식을 쓰기 편하다는 장점도 있지만, LaTeX 컴파일러가 수식을 멋지게 렌더링해준다는 장점도 있습니다. 수식을 쓰는 방법에는 다음과 같이 두 가지가 있습니다.\n",
    "\n",
    "- inline math: 본문 사이에 들어가는 $y=x^{2}$ 와 같은 수식을 의미합니다. `$ ... $`의 형태로 `$` 기호 사이에 수식 내용을 넣습니다.\n",
    "- displayed math: 한 줄을 모두 차지하는 수식입니다. `$$ ... $$` 형태로 작성하거나 `\\begin{equation}`~`\\end{equation}` 명령어를 사용합니다."
   ]
  },
  {
   "cell_type": "markdown",
   "metadata": {},
   "source": [
    "```latex\n",
    "$$\n",
    "y=x^2\n",
    "$$\n",
    "```\n",
    "\n",
    "$$y=x^{2}$$"
   ]
  },
  {
   "cell_type": "markdown",
   "metadata": {},
   "source": [
    "수학 기호와 연산자\n",
    "\n",
    "- 그리스 문자: 대문자는 `\\Alpha`, 소문자는 `\\alpha` 형태로 작성합니다.\n",
    "- 위첨자와 아래첨자: `x^2` &rarr; $X^2$, `x_2` &rarr; $x_2$\n",
    "- 로그: `\\log_2{x}` &rarr; $log_2{x}$\n",
    "- 제곱근: `\\sqrt{2}` &rarr; $\\sqrt{2}$\n",
    "- 분수: `\\frac{1}{2}` &rarr; $\\frac{1}{2}$\n",
    "- 합 연산자(시그마): `\\sum_{n=1}^{100} n` &rarr; $\\sum_{n=1}^{100} n$\n",
    "- 적분: `\\int_{1}^{\\infty} \\frac{1}{x} dx` &rarr; $\\int_{1}^{\\infty} \\frac{1}{x} dx$\n",
    "- [이외의 수학 기호들](https://personal.math.ubc.ca/~cautis/tools/latexmath.html)\n",
    "\n",
    "더 많은 내용은 아래의 링크들을 참고해주세요!"
   ]
  },
  {
   "cell_type": "markdown",
   "metadata": {},
   "source": [
    "#### **참고 자료**\n",
    "- [Wikibooks LaTeX book](https://en.wikibooks.org/wiki/LaTeX)\n",
    "- [Overleaf LaTeX guide](https://www.overleaf.com/learn)"
   ]
  },
  {
   "cell_type": "markdown",
   "metadata": {},
   "source": [
    "## **23-6. 논문 작성법(1)**"
   ]
  },
  {
   "cell_type": "markdown",
   "metadata": {},
   "source": [
    "### **논문의 저자권과 연구 윤리**\n",
    "\n",
    "---\n",
    "\n",
    "논문 작성법을 본격적으로 설명하기 전에, 좋은 논문을 쓰는 것보다 더 중요한 내용을 말씀드리겠습니다."
   ]
  },
  {
   "cell_type": "markdown",
   "metadata": {},
   "source": [
    "#### **저자권 (Authorship)**\n",
    "\n",
    "**저자권**이란, 논문의 저자가 될 권리입니다. 논문의 저자가 된다는 것은 특정 연구에 대한 기여를 인정받는 것과 함께 연구에 대한 책임도 지는 것이기 때문에, 연구에 직접 기여한 사람이 저자가 되어야 합니다. 연구에 기여한 사람의 이름을 안 넣는 것도 문제가 되지만, 저자로서의 기여를 하지 않은 사람을 끼워넣는 것도 문제가 됩니다. 몇 년 전에, 일부 교수들이 자녀의 대학 입시를 위해 자녀의 이름을 논문의 저자로 끼워넣었던 사실이 드러나면서 논란이 생겼죠.\n",
    "\n",
    "- 황정빈 기자, [<'아주 못된 녀석'의 논문 부정 교수 추적기>](https://www.sisain.co.kr/news/articleView.html?idxno=47368)\n",
    "\n",
    "*누가 저자가 되는가와 함께, 누구 이름이 먼저 나올 것인가*도 저자권에서 중요한 문제입니다. 이름이 올라가는 게 중요하지 순서는 별로 상관없는 게 아닌가...라고 생각할 수 있지만 그렇지 않습니다. 마지막의 주저자/책임저자를 제외하고, 기여도가 높은 사람의 이름이 앞에 나옵니다. 일반적으로 `제1저자`-`(제2저자)`-`공저자`-`주저자/책임저자`의 순서로 저자의 이름이 올라갑니다.\n",
    "\n",
    "- **제1저자** (First author): 연구의 기여도가 가장 높은 사람입니다. 연구의 기획 단계부터 가설 수립, 실험, 결과 분석, 논문 작성 등 연구 과정 전반에서 핵심적인 역할을 수행합니다. 하나의 논문에서 제1저자는 한 명이 되는 것이 원칙이며, 가끔 둘 이상의 저자들이 동등한 기여도를 인정받아 공동 1저자가 되기도 합니다. (공동 1저자가 3명인 논문도 드물게 보기는 했는데, 공동 1저자는 꼭 필요한 경우에 2명이 되는 것이 일반적입니다.)\n",
    "\n",
    "- **제2저자** (Second author): 제1저자 다음으로 기여도가 높은 사람입니다. 제2저자를 따로 정하지 않은 논문들도 많이 있습니다.\n",
    "\n",
    "- **공저자** (Co-author): 제1저자, 주저자와 함께 연구를 진행한 사람입니다. 제1저자만큼 연구에서 큰 역할을 했던 것은 아니지만, 그래도 저자권을 가질 만큼 연구에 기여한 사람입니다.\n",
    "\n",
    "- **주저자/책임저자** (Last author): 논문과 그 연구에 책임을 지는 사람입니다. 대학원생이나 포닥이 쓴 논문인 경우 지도교수, 기업에서 쓴 논문인 경우 연구 프로젝트의 리더가 주저자가 됩니다.\n",
    "\n",
    "- **교신저자** (Corresponding author): 저자들의 대표 자격으로 저널/컨퍼런스 측과 연락을 주고받습니다. 일반적으로 주저자/책임저자가 교신저자 역할까지 수행하는 경우가 많습니다."
   ]
  },
  {
   "cell_type": "markdown",
   "metadata": {},
   "source": [
    "### **연구 윤리**\n",
    "\n",
    "연구 윤리는 과학적 연구 활동을 하면서 지켜야 할 윤리적인 원칙들입니다. 연구 윤리와 관련하여 많이 다루어지는 내용은 **연구 부정 행위**가 있고, 사람이나 동물을 대상으로 실험을 수행하는 일부 연구 분야에서는 그에 걸맞은 연구 윤리가 존재합니다. 대표적인 연구 부정 행위에는 다음과 같은 것들이 있습니다.\n",
    "\n",
    "- **위조**: 없는 데이터나 실험 결과를 만들어내는 것입니다.\n",
    "\n",
    "- **변조**: 데이터나 실험 결과 등을 자신의 가설에 맞게 변형하는 것입니다.\n",
    "\n",
    "- **표절**: 다른 저작물을 임의로 인용하는 것입니다. 인용 자체는 문제가 되지 않지만, 다른 글을 인용하고도 표시를 안 한다거나, 문장째로 복사-붙여넣기를 한다면 문제가 됩니다.\n",
    "\n",
    "- **부당한 논문 저자 표시**: 위에서 설명했던 저자권과 관련된 부정 행위입니다. 저자권이 있는 사람을 누락시키거나, 저자권이 없는 사람을 끼워넣는 것, 저자의 순서를 임의로 변경하는 것 등이 해당됩니다.\n",
    "\n",
    "한국연구재단의 [연구윤리정보포털](https://www.cre.or.kr/)에서 연구윤리 관련 가이드라인과 사례집을 찾아볼 수 있습니다."
   ]
  },
  {
   "cell_type": "markdown",
   "metadata": {},
   "source": [
    "#### **논문을 쓰는 순서**\n",
    "\n",
    "---\n",
    "\n",
    "처음에 논문을 쓰기 시작할 때 빈 화면을 띄워놓고 있으면, 어디서부터 시작해야 할지 참 막막합니다.\n",
    "논문 제목은 자꾸 이게 낫나 저게 낫나 고민하게 되고 Abstract 부분도 감이 안 잡힙니다. 논문을 그래도 좀 쉽게 쓰려면 어떻게 해야 할까요?\n",
    "일반적으로, 논문의 구조는 다음과 같습니다."
   ]
  },
  {
   "cell_type": "markdown",
   "metadata": {},
   "source": [
    "```\n",
    "1. Title\n",
    "2. Abstract\n",
    "3. Introduction\n",
    "4. Background, Related works\n",
    "5. Method\n",
    "6. Result\n",
    "7. Discussion, Conclusion\n",
    "8. Acknowledgment\n",
    "9. References\n",
    "```"
   ]
  },
  {
   "cell_type": "markdown",
   "metadata": {},
   "source": [
    "여기에서 강조하고 싶은 점은 **논문을 굳이 맨 처음부터 차례대로 쓸 필요는 없다**는 것입니다.\n",
    "물론 논문을 쓴 경험이 많고 해당 분야의 내공이 깊은 사람이라면 논문을 쭉쭉 써나갈 수 있겠지만, 그렇지 않은 사람들에게는 **쉬운 것부터 쓰는 것**이 좋은 방법이 될 수 있습니다. 아무래도 논문의 전체 내용을 포함하고 논문의 첫인상을 결정하는 `Title`, `Abstract`보다는 자신이 수행했던 내용을 설명하는 `Method`, `Result` 부분이 작성하기에는 더 편하겠죠. 여기에서는 다음과 같은 순서로 논문 쓰는 법을 소개하겠습니다."
   ]
  },
  {
   "cell_type": "markdown",
   "metadata": {},
   "source": [
    "1. Method\n",
    "2. Result\n",
    "3. Introduction (+ Background, Related works)\n",
    "4. Conclusion (+ Discussion, Future works)\n",
    "5. Title, Abstract\n",
    "6. Acknowledgment, References"
   ]
  },
  {
   "cell_type": "markdown",
   "metadata": {},
   "source": [
    "> 위의 논문 구조는 변경될 수 있습니다. Conclusion을 따로 안 나누고 Result 부분에 녹인 논문도 있고, Background와 Related works 부분 없이 Introduction에서 관련 내용을 설명한 논문도 있습니다."
   ]
  },
  {
   "cell_type": "markdown",
   "metadata": {},
   "source": [
    "## **23-7. 논문 작성법 (2)**"
   ]
  },
  {
   "cell_type": "markdown",
   "metadata": {},
   "source": [
    "#### **논문 작성하기**\n",
    "\n",
    "---\n",
    "\n",
    "이제 본격적으로 논문을 써 봅시다. 논문 하나를 예시로 들어서 살펴보겠습니다.\n",
    "\n",
    "- Daniela Mihai and Jonathon Hare, \"[Learning to Draw: Emergent Communication through Sketching](https://arxiv.org/abs/2106.02067)\" (NeurIPS 2021)\n",
    "\n",
    "첫 번째 모델(`sender` agent)이 입력 이미지로부터 짧은 직선들로 이루어진 스케치를 생성하고, 두 번째 모델(`receiver` agent)이 스케치와 여러 카테고리의 이미지들을 입력받아 올바른 이미지(스케치에 해당하는 이미지)를 선택하도록 학습시킨 논문입니다."
   ]
  },
  {
   "cell_type": "markdown",
   "metadata": {},
   "source": [
    "1. **Method**\n",
    "> 어떤 방법을 사용해서 연구를 했고, 실험은 어떻게 진행되었는가?\n",
    "\n",
    "연구를 진행하고 실험 결과를 얻었다면 아마도 논문에서 가장 쓰기 쉬운 부분일 것입니다. 기존 연구의 어떤 점을 개선했는지, 사용한 기법과 모델은 어떤 것인지 자세히 설명하면 됩니다. 예시 논문에서는 다음과 같은 구조를 가지고 있습니다."
   ]
  },
  {
   "cell_type": "markdown",
   "metadata": {},
   "source": [
    "```\n",
    "3. A model for learning to communicate by drawing\n",
    "\t3.1. The game environment\n",
    "\t3.2. Agents' architectures\n",
    "\t3.3. Training details\n",
    "\t3.4. Making the sender agent's sketches more perceptually relevant\n",
    "```"
   ]
  },
  {
   "cell_type": "markdown",
   "metadata": {},
   "source": [
    "필요한 경우, 수식 등을 사용하여 수행하고자 하는 태스크를 구체적으로 정의합니다."
   ]
  },
  {
   "cell_type": "markdown",
   "metadata": {},
   "source": [
    "![Paper example](../Images/lec_23/10.png)"
   ]
  },
  {
   "cell_type": "markdown",
   "metadata": {},
   "source": [
    "> [Section 3.1]\n",
    "In the first of these variants (we refer to this as *OO-game same*), the target $P_{r}$ is set to be equal to $P_{s}$, and the distractors and target are sampled such that their class labels are disjoint (that is every photo provided to the receiver has a different class). The second setup (*OO-game different*) is similar to the first, but the target $P_{r}$ is chosen to be a different photograph with the same class label as target $P_{s}$."
   ]
  },
  {
   "cell_type": "markdown",
   "metadata": {},
   "source": [
    "연구에 사용한 모델의 구조와 입력, 출력의 형태를 설명합니다. 왜 특정 구조의 모델을 선택한 것인지, 이 논문에서처럼 모델이 출력하는 스케치도 특정 조건 아래에서 생성된다면 그 이유도 함께 언급해주면 더 좋겠죠."
   ]
  },
  {
   "cell_type": "markdown",
   "metadata": {},
   "source": [
    "> [Section 3.2 (문장 1)]\n",
    "We choose to model the early visual systems of both agents with the head part of the VGG16 CNN architecture [40] through to the ReLU activation at the end of the last convolutional layer (commonly referred to as the ReLU5_3 layer) before the final max-pooling and fully connected layers. ... We justify this choice on the basis that it provides the agents with an initial grounding in understanding the statistics of the visual world, and ensures that the visual system cannot collapse and remains universal.\n",
    "\n",
    "> &rarr; 두 agent 모두 visual system으로는 VGG16 CNN 모델의 앞쪽 레이어들을 사용했고(ReLU5_3 레이어까지), 그 이유는 agent가 시각적인 정보를 이해하는 데 필요한 기반을 VGG16 모델이 제공할 수 있을 것이라고 생각했기 때문이다!"
   ]
  },
  {
   "cell_type": "markdown",
   "metadata": {},
   "source": [
    "> [Section 3.2 (문장 2)]\n",
    "For experiments in Section 4, we restrict the production of sketches to be a drawing composed of 20 black, constant width, straight lines on a white canvas of the same size as the input images. ... It is of course possible to have a much more flexible definition of a sketch and incorporate many different modelling assumptions. We choose to leave such exploration for future work and focus on the key question of whether we can actually achieve successful (and potentially interpretable) communication with our simplified but not unrealistic setup.\n",
    "\n",
    "> &rarr; 스케치는 input image와 같은 크기의 캔버스에 그려진 20개의 직선으로만 표현했다. 물론 이런 제한을 안 두는 것도 가능하긴 한데, 이 연구에서는 스케치를 통한 의사 소통이 가능한지 알아보는 데 우선 집중하려고 한다."
   ]
  },
  {
   "cell_type": "markdown",
   "metadata": {},
   "source": [
    "논문에서 사용한 특수한 알고리즘이 있다면 이야기합니다. 물론 연구에서 딥러닝 모델을 학습시킨다고 해서 역전파(backpropagation), 경사 하강법(gradient descent)과 같은 개념을 모두 설명할 필요는 없습니다. 많은 딥러닝 논문에서 공통적으로 사용되는 알고리즘이고, 논문에서 중요한 부분은 누구나 아는 기초 개념이 아니라 논문에서 주장하는 새로운 아이디어기 때문입니다. 예시 논문에서도 fine tuning 등 기초적인 부분은 간단하게만 이야기하고, 모델이 스케치를 어떻게 생성하는지는 자세히 설명하고 있습니다."
   ]
  },
  {
   "cell_type": "markdown",
   "metadata": {},
   "source": [
    ">[Section 3.2 (문장 3)]\n",
    "In all experiments, we utilise pretrained weights and freeze this part of the model during training. ... The weights are the standard torchvision ImageNet weights, except in the cases where we explore the effect of shape bias (see Section 4.5). As these pretrained weights were learned with images that were normalised according to the ImageNet statistics, all inputs to the VGG16 backbone (including sketches) are normalised accordingly.\n",
    "\n",
    "> &rarr; 모든 실험에서 pretrained weight(torchvision ImageNet weight)를 사용했다. pretraining에 사용된 이미지들은 모두 적절하게 정규화(normalization)되어있기 때문에, VGG16 backbone에 입력될 이미지들도 같은 방법으로 정규화되었다."
   ]
  },
  {
   "cell_type": "markdown",
   "metadata": {},
   "source": [
    "> [Section 3.2 (문장 4)]\n",
    "To produce a sketch image from the line parameters output by the MLP, we utilise the differentiable rasterisation approach introduced by Mihai and Hare [34]. At a high level, this approach works by computing the distance transform on a pixel grid for each primitive being rendered. A relaxed approximation of a rasterisation function is applied to the distance transform to compute a raster image of the specific primitive. Finally, a differentiable composition function is applied to compose the individual rasters into a single image. More specifically, ...\n",
    "\n",
    "> &rarr; 스케치를 그리는 방법으로는 Mihai와 Hare의 논문*에 나온 differentiable rasterization을 이용했다. 이 접근법은 대략적으로 각각의 primitive**에 대해 pixel grid(=canvas) 위에서의 위치를 계산하는 방식으로 동작하는데, ... (자세한 설명)<br>\n",
    "> `*` Mihai and Hare: 이 논문의 저자들이 썼던 다른 논문<br>\n",
    "> `**` primitive: 직선, 곡선, 원 등 스케치를 구성하는 기본 요소"
   ]
  },
  {
   "cell_type": "markdown",
   "metadata": {},
   "source": [
    "논문의 아이디어가 설득력을 얻으려면 누가 실험을 해도 같은 결과를 얻을 수 있어야 하기 때문에, 딥러닝 모델을 학습시킨 경우 손실 함수(loss function)와 옵티마이저(optimizer), 학습률(learning rate)을 무엇으로 지정했는지도 설명해주는 것이 독자들에게도 도움이 됩니다."
   ]
  },
  {
   "cell_type": "markdown",
   "metadata": {},
   "source": [
    "[Section 3.3]\n",
    "For the loss function, we follow Havrylov and Titov [19] and choose to use Weston and Watkins [43]’s multi-class generalisation of hinge loss (aka multi margin loss), ... Optimisation of the parameters of both agents is performed using the Adam optimiser with an initial learning rate of $1 \\times 10^{-4}$ for all experiments. ... Batch size is $K + 1$, where $K$ is the number of distractors, for all experiments. Unless otherwise stated, training was performed for 250 epochs."
   ]
  },
  {
   "cell_type": "markdown",
   "metadata": {},
   "source": [
    "만약 실험을 진행하면서 추가한 세팅이 있거나, 논문의 아이디어 중 강조하고 싶은 부분이 있다면 별도의 section으로 두는 것도 좋습니다."
   ]
  },
  {
   "cell_type": "markdown",
   "metadata": {},
   "source": [
    "> [Section 3.4]\n",
    "In order to induce the sender to produce sketches that are more interpretable, we explore the idea of using an additional loss function between the differences in feature maps of the backbone CNN from the produced sketch and the input image. ... Inspired by Zhang et al. [45] we formulate a loss based on the normalised differences between feature maps of the backbone network ...\n",
    "\n",
    "> &rarr; sender agent의 스케치를 사람이 알아보기 더 쉽게 하기 위해서, backbone CNN 모델의 feature map과 생성된 스케치, 입력 이미지에 관한 loss function을 추가적으로 사용하는 방법을 탐색해보겠다."
   ]
  },
  {
   "cell_type": "markdown",
   "metadata": {},
   "source": [
    "2. **Result**\n",
    "> 실험의 정성적, 정량적 결과가 어땠는가? 다른 최신 연구들과 비교했을 때 이 결과가 유의미한가?\n",
    "\n",
    "논문에서 제시하는 방법이 실제로 의미가 있다는 것을 보여주기 위해 논문 저자들은 여러 가지 실험을 진행합니다. 실험에서 사용한 데이터셋은 무엇이었는지, 실험이 어떤 과정으로 진행되었는지, 실험 결과가 어땠는지, 실험에서 관찰한 내용은 무엇이었는지 등을 설명하면 됩니다.\n",
    "생각해보니 `Method` 부분에서도 옵티마이저, 학습률 등 실험에서 사용한 하이퍼파라미터(hyperparameter) 이야기를 했던 것 같은데, `Result` 부분과는 무엇이 다를까요? 사실 정답은 없습니다! 논문의 흐름에 따라서 `Method`에 포함될 수도, `Result`에 포함될 수도 있죠. 굳이 따지자면, 모든 실험에서 공통적으로 사용한 세팅(모델의 구조, 스케치를 그리는 방법, perceptual loss의 개념 등)은 `Method`에 포함시키고, 특정 실험에서만 사용한 세팅은 `Result`에서 실험 결과와 함께 설명하는 것이 좋습니다.\n",
    "예시 논문에서는 다음 부분에 해당됩니다."
   ]
  },
  {
   "cell_type": "markdown",
   "metadata": {},
   "source": [
    "```\n",
    "4. Experiments\n",
    "\t4.1. Can agents communicate by learning to draw?\n",
    "\t4.2. What effect does weighting the perceptual loss have on the sketches?\n",
    "\t4.3. Does the OO-game influence the sketches to be more recognisable as the type of object?\n",
    "\t4.4. How does the model’s capacity influence the visual communication channel?\n",
    "\t4.5. How does the texture/shape bias of the visual system alter communication?\n",
    "\t4.6. Do the models learn to pick out salient features?\n",
    "\t4.7. Do agents learn to draw in a fashion that humans can interpret?\n",
    "```"
   ]
  },
  {
   "cell_type": "markdown",
   "metadata": {},
   "source": [
    "section들의 제목을 보면, 저자들은 알아내고 싶은 것들을 질문으로 표현하고 각 section에서 실험 결과를 설명하고 있습니다. 실험 결과는 정성적 결과(sender agent가 생성한 스케치)와 정량적 결과(receiver agent의 정확도) 모두를 포함합니다."
   ]
  },
  {
   "cell_type": "markdown",
   "metadata": {},
   "source": [
    "![실험 결과는 정성적 결과와 정량적 결과 모두를 포함합니다.](../Images/lec_23/11.png)"
   ]
  },
  {
   "cell_type": "markdown",
   "metadata": {},
   "source": [
    "> [Section 4.1 (문장 1)]\n",
    "In Table 1, we show quantitative and qualitative results of the visual communication game played under the three different configurations. The results demonstrate that it is possible for agents to successfully play this type of image referential game by learning to draw. ... However, the addition of the perceptual loss, motivated in Section 3.4, significantly improves the interpretability of the communication channel at almost no cost in the actual communication success rate.\n",
    "\n",
    "> &rarr; sender agent가 스케치를 생성하는 방법으로도 image referential game(Chapter 1, 2 참조)이 가능했다. perceptual loss를 추가했더니, 정확도가 거의 안 떨어졌는데도 스케치의 interpretability가 크게 향상되었다."
   ]
  },
  {
   "cell_type": "markdown",
   "metadata": {},
   "source": [
    "> [Section 4.1 (문장 2)]\n",
    "One interesting observation is that although the sketches for some of the classes have greatly improved when incorporating the perceptual loss, for photographs of animals or birds, the sketches are not particularly representative of the class instance or distinguishable for the human eye. In the following sections we explore the model to try to better understand what factors affect drawing production.\n",
    "\n",
    "> &rarr; perceptual loss를 추가하는 것은 스케치 품질 향상에 도움이 되었지만, 동물이나 새 등 일부 클래스의 사진은 스케치에서 대상의 형태가 잘 드러나지 않았다. 스케치 생성 과정에서 영향을 미치는 요인들이 무엇인지, 이후 section들에서 한번 알아보겠다!"
   ]
  },
  {
   "cell_type": "markdown",
   "metadata": {},
   "source": [
    "> [Section 4.5]\n",
    "Next, we show that a texture or shape bias of the visual system influences visual communication. ... The results shown in Table 4 suggest that inducing a “shape bias\" into the model does not significantly improve the agent’s performance in playing the game, but produces more meaningful drawings. By using the VGG16 weights pretrained on Stylized-ImageNet [15], the communication protocol also becomes more faithful to the actual shape of the objects. A shape-based sketch is much more interpretable to humans, as it has been known for a long time that shape is the most important cue for human object recognition [27].\n",
    "\n",
    "> &rarr; \"shape bias\"를 추가한 결과, 즉 일반 ImageNet 대신 Stylized-ImageNet* 데이터셋으로 pretrained된 VGG16 모델의 weight를 사용한 결과 receiver agent의 분류 정확도가 유의미하게 증가하지는 않았지만, 생성된 스케치를 사람이 알아보기가 더 쉬워졌다.<br>\n",
    "> `*` Stylized-ImageNet: ImageNet 이미지에 style transfer를 적용하여 texture 정보를 없애고, shape 관련 특징들이 상대적으로 강조되도록 만든 데이터셋"
   ]
  },
  {
   "cell_type": "markdown",
   "metadata": {},
   "source": [
    "좋은 실험 결과를 얻는 것은 연구에서 중요한 부분입니다. 그에 못지않게, 실험 결과를 잘 보여주는 것도 아주 중요합니다. 물론 `Result`의 본문에서 '정확도가 증가했다', '스케치의 interpretability가 향상되었다'와 같이 실험 결과를 설명해주지만, 그림이나 표로도 정리하면 한번에 살펴볼 수 있겠죠."
   ]
  },
  {
   "cell_type": "markdown",
   "metadata": {},
   "source": [
    "**Figure**는 논문에 들어가는 이미지를 가리킵니다. `Method`에서 모델의 구조나 특정 알고리즘을 설명하는 데에도 쓰이고, `Result`에서 정성적인 결과를 보여주거나 수치 데이터를 그래프 형태로 나타내기도 합니다. **Table**은 표 형태로 정리된 데이터입니다. 여러 가지 실험의 정량적 결과를 비교하거나 다른 연구의 모델과 성능을 비교할 때 많이 사용됩니다.\n",
    "아래 그림과 같이, 논문에 Figure, Table을 추가할 때는 번호와 함께 제목과 설명을 추가해야 합니다. Figure, Table 번호는 논문에 위치한 순서대로 1, 2, 3, ... 번을 붙입니다. 논문에서 가장 먼저 나오는 그림은 `Figure 1`, 가장 먼저 나오는 표는 `Table 1`이 되는 방식입니다."
   ]
  },
  {
   "cell_type": "markdown",
   "metadata": {},
   "source": [
    "![위쪽 이미지는 Table 4, 아래쪽 이미지는 Figure 3입니다.](../Images/lec_23/12.png)"
   ]
  },
  {
   "cell_type": "markdown",
   "metadata": {},
   "source": [
    "3. **Introduction (+ Background, Related works)**\n",
    "> 이 연구에서 어떤 문제를 해결하려고 하는가? 관련된 선행 연구에는 어떤 것들이 있었고, 그 연구들의 의의와 한계점은 무엇이었는가? 그래서 이 연구의 위치는 어디쯤인가?\n",
    "\n",
    "어떤 연구도 단독으로 존재할 수는 없습니다. 연구 결과가 나오기까지 수많은 선행 연구들이 있었죠. 그렇기 때문에, 논문을 읽다 보면 이런 식의 전개를 자주 볼 수 있습니다."
   ]
  },
  {
   "cell_type": "markdown",
   "metadata": {},
   "source": [
    "```\n",
    "- 이런 모델/알고리즘/태스크가 있는데, 관련된 논문들은 이런 것들이 있다.\n",
    "- 그런데 이 연구들에는 이런 단점이 있다.\n",
    "- 그래서 이런 부분을 시도해봄으로써 단점을 해결해보겠다.\n",
    "```"
   ]
  },
  {
   "cell_type": "markdown",
   "metadata": {},
   "source": [
    "`Method`에서 본격적으로 연구의 아이디어를 이야기하기 전에, `Introduction`은 위와 같은 배경을 설명해주는 곳입니다. `Introduction`의 가장 중요한 역할은 **문제를 정의**하고, **연구의 위치를 명확하게 하는 것**입니다. 특정 분야의 학문이 발전해온 길에서 이 연구가 어디에 위치하는지, 이 연구가 특정 분야에서 가지는 의미가 무엇인지 밝히는 것입니다.\n",
    "예시 논문에서는 다음 부분에 해당됩니다."
   ]
  },
  {
   "cell_type": "markdown",
   "metadata": {},
   "source": [
    "```\n",
    "1. Introduction\n",
    "2. Communication between agents\n",
    "```"
   ]
  },
  {
   "cell_type": "markdown",
   "metadata": {},
   "source": [
    "> [Chapter 1 (문장 1)]\n",
    "Imagine you and a friend are playing a game where you have to get your friend to guess an object in the room by you sketching the object. ... This paper explores how artificial agents parameterised by neural networks can learn to play similar drawing games. More specifically, we reformulate the traditional referential game such that one agent draws a sketch of a given photo and the second agent guesses, based on the drawing, the corresponding photo from a set of images.\n",
    "\n",
    "> &rarr; 친숙한 비유(한 사람이 물체를 그린 다음, 다른 사람이 스케치를 보고 무엇을 그린 것인지 맞히는 게임)를 통해 문제 정의를 쉽게 해보자. 이 논문에서는 신경망으로 이루어진 인공 agent들이 비슷한 게임을 어떻게 학습하는지 알아보겠다."
   ]
  },
  {
   "cell_type": "markdown",
   "metadata": {},
   "source": [
    "> [Chapter 1 (문장 2)]\n",
    "Spurred by innovations in artificial neural networks, deep and reinforcement learning techniques, recent work in multi-agent emergent communication [4, 17, 19, 29, 37] pursues interactions in the form of gameplay between agents to induce human-like communication. Artificial communicating agents can collaborate to solve various tasks: ...\n",
    "\n",
    "> &rarr; multi-agent emergent communication이라는 분야를 설명하면서, 최근에 어떤 논문들이 나왔는지, 그 논문들에서 어떤 태스크를 해결했는지 소개해보겠다."
   ]
  },
  {
   "cell_type": "markdown",
   "metadata": {},
   "source": [
    "> [Chapter 1 (문장 3)]\n",
    "To date, studies on communication emergence in multi-agent games have focused on exploring a language-based communication channel, with messages represented by discrete tokens or token sequences [6, 17, 19, 25, 28, 29, 35]. However, these communication protocols can be difficult for a human to interpret [3, 26, 33]. In this work we propose a direct and potentially self-explainable means of transmitting knowledge: sketching.\n",
    "\n",
    "> &rarr; multi-agent emergent communication 관련 논문들에서는 agent 사이에서 전달되는 메시지가 주로 token이나 token sequence의 형태로 표현되었는데, 이런 메시지는 사람이 봤을 때 해석하기 힘들다. 그래서 이 논문에서는 더 이해하기 쉬운 스케치를 사용하여 메시지를 전달하는 방법을 제안하겠다!"
   ]
  },
  {
   "cell_type": "markdown",
   "metadata": {},
   "source": [
    "4. **Conclusion (+ Discussion, Future works)**\n",
    "> 이 연구가 학문에 기여하는 부분은 무엇이고, 개선될만한 한계점은 무엇인가?\n",
    "\n",
    "논문을 마무리하는 부분입니다. 연구를 통해 알아낸 사실들을 정리하고 연구 결과가 어떤 의미를 가지는지 설명합니다. `Discussion`이나 `Future work`가 있는 논문도 있는데, 이 연구에서 개선될만한 한계점을 이야기하는 부분입니다. 본인 연구의 한계점을 이야기하는 게 안 좋게 보이는 건 아닐지 걱정이 될 수도 있지만, 연구의 범위를 정확하게 아는 것도 중요합니다. 학문은 계속 발전하기 때문에, 아주 대단한 논문에도 개선점은 존재합니다.\n",
    "예시 논문에서는 다음 부분에 해당됩니다."
   ]
  },
  {
   "cell_type": "markdown",
   "metadata": {},
   "source": [
    "```\n",
    "5. Conclusions and Future Work\n",
    "```"
   ]
  },
  {
   "cell_type": "markdown",
   "metadata": {},
   "source": [
    "> [Chapter 5 (문장 1)]\n",
    "We have demonstrated that it is possible to develop and study an emergent communication system between agents where the communication channel is visual. Further, we have shown that a simple addition to the loss function (that is motivated by biological observations) can be used to produce messages between the agents that are directly interpretable by humans.\n",
    "\n",
    "> &rarr; 연구에서 밝혀낸 것: 시각적인 수단으로도 agent 사이의 의사 소통이 가능했다. 그리고 기존의 loss function에 간단한 식을 더하는 것만으로도 사람이 이해할 수 있는 메시지를 생성할 수 있었다."
   ]
  },
  {
   "cell_type": "markdown",
   "metadata": {},
   "source": [
    "이 연구에서 더 살펴볼만한 문제와 함께, 향후 연구 방향을 제시하고 있습니다."
   ]
  },
  {
   "cell_type": "markdown",
   "metadata": {},
   "source": [
    "> [Chapter 5 (문장 2)]\n",
    "One big question to explore in the future is to what extent this is influenced by the original training biases of the backbone network — are these drawings produced as a result of the original labels of the ImageNet training data, or are they in some way more generic than that?\n",
    "\n",
    "> &rarr; 스케치 생성 과정에서 모델의 pretrained weight가 얼마나 영향을 주는가? 스케치는 ImageNet 라벨 값에 의해 생성되는 결과물인가, 아니면 더 일반적인 원리가 존재하는가?"
   ]
  },
  {
   "cell_type": "markdown",
   "metadata": {},
   "source": [
    "> [Chapter 5 (문장 3)]\n",
    "Going further, as previously mentioned, learning a perceptual loss would be a good direction to explore, but perhaps this should also be coupled with a top-down attention mechanism based on the latent representation of the input. ... Such an extension could also be coupled with a much richer approach to drawing, with variable numbers of strokes, which are not necessarily constrained to being straight lines. Coupling feedback or attention into the drawing mechanism itself could also prove to be a worthy endeavour.\n",
    "\n",
    "> &rarr; perceptual loss의 결과도 괜찮았지만, top-down attention같은 것도 적용해볼 수 있지 않을까? 스케치도 직선 몇 개보다는 필기구로 그린 것처럼 개선하면 좋을 것 같다."
   ]
  },
  {
   "cell_type": "markdown",
   "metadata": {},
   "source": [
    "마지막 부분에서는 연구가 가지는 의미와 저자들이 기대하는 것들을 설명하면서 논문이 마무리됩니다."
   ]
  },
  {
   "cell_type": "markdown",
   "metadata": {},
   "source": [
    "> [Chapter 5 (문장 4)]\n",
    "We hope that this work lays the groundwork for more study in this space. Fundamentally our desire is that it provides the foundations for exploring how different types of drawing and communication emerges between artificial agents under differing environmental and internal constraints and pressures. ... We recognise however that our work may have broader implications beyond just understanding how communication evolves. ... Our current models are clearly incapable of this, but such innovations will happen in the future."
   ]
  },
  {
   "cell_type": "markdown",
   "metadata": {},
   "source": [
    "5. **Title, Abstract**\n",
    "사람들이 논문을 읽을 때 가장 먼저 만나는 부분이 바로 `Title`과 `Abstract`입니다. 많은 논문들을 훑어봐야 할 때는 Title, Abstract만 빠르게 살펴보고 본문을 자세히 읽어볼지 말지 결정하기도 하죠. 그렇기 때문에 논문의 전체적인 내용이 잘 드러나도록 작성하는 것이 중요합니다.\n",
    "논문의 제목은 연구에서 제안하는 모델/알고리즘의 이름이나 연구 주제, 사용한 방법론 등을 포함합니다. 예시 논문과 참고 문헌 리스트에서 몇 편을 가져왔습니다."
   ]
  },
  {
   "cell_type": "markdown",
   "metadata": {},
   "source": [
    "- Learning to Draw: Emergent Communication through Sketching\n",
    "- ImageNet-trained CNNs are biased towards texture; increasing shape bias improves accuracy and robustness\n",
    "- Learning generative visual models from few training examples: An incremental bayesian approach tested on 101 object categories\n",
    "- Image style transfer using convolutional neural networks"
   ]
  },
  {
   "cell_type": "markdown",
   "metadata": {},
   "source": [
    "논문의 `Abstract`(초록)은 논문의 내용을 요약하는 한 문단 분량의 짧은 글입니다. 논문의 전체적인 흐름(연구를 시작하게 된 배경이 무엇인지, 어떤 연구를 진행했는지, 어떤 결론이 나왔는지)에 맞춰 작성합니다. 원래 `Abstract` 부분은 한 문단으로 되어 있지만, 가독성을 위해 문단을 나누어 보여드리겠습니다."
   ]
  },
  {
   "cell_type": "markdown",
   "metadata": {},
   "source": [
    "> [연구의 배경]\n",
    "Evidence that visual communication preceded written language and provided a basis for it goes back to prehistory, in forms such as cave and rock paintings depicting traces of our distant ancestors. Emergent communication research has sought to explore how agents can learn to communicate in order to collaboratively solve tasks. Existing research has focused on language, with a learned communication channel transmitting sequences of discrete tokens between the agents.\n",
    "\n",
    "> [연구 내용]\n",
    "In this work, we explore a visual communication channel between agents that are allowed to draw with simple strokes. Our agents are parameterised by deep neural networks, and the drawing procedure is differentiable, allowing for end-to-end training.\n",
    "\n",
    "> [연구의 결론]\n",
    "In the framework of a referential communication game, we demonstrate that agents can not only successfully learn to communicate by drawing, but with appropriate inductive biases, can do so in a fashion that humans can interpret. We hope to encourage future research to consider visual communication as a more flexible and directly interpretable alternative of training collaborative agents."
   ]
  },
  {
   "cell_type": "markdown",
   "metadata": {},
   "source": [
    "5. **Acknowledgment, References**\n",
    "`Acknowledgment`는 저자 이외에 연구에 도움을 준 사람들을 기록합니다. 만약 연구가 특정 연구 과제의 지원을 받아 진행되었을 경우, 사사 문구를 표기합니다."
   ]
  },
  {
   "cell_type": "markdown",
   "metadata": {},
   "source": [
    "> D.M. is supported by the EPSRC Doctoral Training Partnership (EP/R513325/1). J.H. received funding from the EPSRC Centre for Spatial Computational Learning (EP/S030069/1). The authors acknowledge the use of the IRIDIS High-Performance Computing Facility, the ECS Alpha Cluster, and associated support services at the University of Southampton in the completion of this work.\n",
    "\n",
    "> &rarr; (D.M.과 J.H.는 저자 이름의 이니셜인데, 일반적인 경우 \"This work is supported by ~ \"로 쓸 수 있습니다.) 사사 문구는 연구 과제 이름이나 연구를 지원하는 기관의 이름, 그리고 연구 과제 번호를 적어서 작성합니다."
   ]
  },
  {
   "cell_type": "markdown",
   "metadata": {},
   "source": [
    "`References` 부분에서는 연구를 진행하고 논문을 작성하면서 참고했던 논문, 책 등의 자료를 모두 정리합니다. 사실 여기에도 정해진 양식이 있습니다. 예를 들어, [Google Scholar](https://scholar.google.com/)에서 논문 하나(예시 논문에서 인용되었던 Stylized-ImageNet 논문입니다.)를 검색하고 인용을 누르면 다음과 같은 화면이 뜹니다. 저자의 성과 이름을 모두 쓰는 것(MLA, ISO 690)과 이름은 이니셜로 표기하는 것(APA), 모든 저자들을 표시하는 것(APA)과 1저자 이외에는 `et al.`로 축약하는 것(MLA, ISO 690) 등 작은 차이들이 존재합니다."
   ]
  },
  {
   "cell_type": "markdown",
   "metadata": {},
   "source": [
    "![example of the reference](../Images/lec_23/13.png)"
   ]
  },
  {
   "cell_type": "markdown",
   "metadata": {},
   "source": [
    "그래서 저 세 가지 인용법 중에서 어떤 쪽을 선택해야 할까요? 그것은 저널/컨퍼런스에서 제공한 논문 양식에 따라 다릅니다. Google Scholar에서 제공하는 세 가지 인용법 말고, 다른 양식에 맞춰서 써야 할 때도 있죠. 사실 예시 논문의 참고 문헌들도 살펴보면 조금 다른 양식으로 정리되어 있는 것을 확인할 수 있습니다."
   ]
  },
  {
   "cell_type": "markdown",
   "metadata": {},
   "source": [
    "## **23-8. 논문 리뷰와 피드백 반영**"
   ]
  },
  {
   "cell_type": "markdown",
   "metadata": {},
   "source": [
    "저널/컨퍼런스에 논문을 제출하고 나면 리뷰어들이 논문을 심사하게 됩니다. 리뷰어들은 대부분 해당 분야를 연구하는 대학원생/포닥/교수 등이고, 논문에서 좋은 점과 부족한 점이 무엇인지, 논문이 저널/컨퍼런스에 실릴만한 수준인지 판단합니다."
   ]
  },
  {
   "cell_type": "markdown",
   "metadata": {},
   "source": [
    "#### **논문 리뷰 예시**\n",
    "\n",
    "일반적인 논문 심사 프로세스에서는 리뷰어들의 평가가 교신저자의 메일로 전달되므로, 논문 저자를 제외하면 심사 내용을 알기가 어렵습니다. 하지만 [OpenReview](https://openreview.net/)와 같은 공개 플랫폼에 올라온 논문들은 저자와 리뷰어 이외에도 리뷰 내용을 확인할 수 있는데요, 요즘은 AI 분야의 유명 컨퍼런스들이 OpenReview에서 심사를 많이 진행하고 있습니다.\n",
    "이전 스텝에서 예시로 들었던 논문도 OpenReview에서 심사가 진행되었던 논문입니다. [이 페이지](https://openreview.net/forum?id=YIyYkoJX2eA)에서 리뷰와 피드백 내용을 볼 수 있죠. 아쉽게도 현재 올라와 있는 논문은 최종본이기 때문에 피드백을 반영하기 전의 초기 버전이 어땠는지는 알 수 없지만, 저자들과 리뷰어들 사이에 어떤 이야기가 오고갔는지 살펴봅시다.\n",
    "지금은 심사가 끝난 이후라서 OpenReview 페이지에 저자들의 이름이 나와 있는데, 심사 기간에는 double-blind review 정책에 의해 저자들의 코멘트는 `Official Comment by Paper8863 Authors`, 리뷰어의 평가는 `Official Review by Paper8863 Reviewer 9t7y`와 같이 익명으로 작성됩니다. 이 논문에서, **review**와 **rebuttal**(리뷰 내용에 대해 저자들이 의견을 남기는 것)은 다음과 같은 흐름으로 진행되었습니다."
   ]
  },
  {
   "cell_type": "markdown",
   "metadata": {},
   "source": [
    "- **[review]** 세 명의 리뷰어가 리뷰를 각각 남깁니다. (저널/컨퍼런스에 따라 리뷰 형식은 다를 수 있습니다.)\n",
    "\n",
    "    - Summary: 논문의 내용을 요약합니다. 리뷰어가 논문을 잘못 이해한 것은 아닌지 확인할 수 있습니다.\n",
    "    \n",
    "    - Main Review: 리뷰의 본문에 해당됩니다. 리뷰어마다 스타일은 조금씩 다르지만, 기본적으로 논문의 장점과 개선점, 그리고 논문 내용에 대한 질문들을 포함하고 있습니다.\n",
    "\n",
    "    - Limitations And Societal Impact: 논문의 한계점과 사회적인 영향을 잘 설명하고 있는지 평가합니다.\n",
    "\n",
    "    - Needs Ethics Review: 윤리적인 문제가 있다면 언급합니다.\n",
    "\n",
    "    - Time Spent Reviewing: 논문 리뷰에 걸린 시간입니다.\n",
    "\n",
    "    - Rating: 리뷰어가 논문에 매긴 점수입니다.\n",
    "\n",
    "    - Confidence: 리뷰어 본인 생각에 리뷰 내용이 얼마나 확실한지 평가합니다. 리뷰어가 해당 분야를 잘 알고 있을수록 높은 점수를 매깁니다.\n",
    "\n",
    "    - Code of Conduct: 리뷰를 하면서 규정을 잘 지켰다는 서명 개념입니다."
   ]
  },
  {
   "cell_type": "markdown",
   "metadata": {},
   "source": [
    "- **[rebuttal & revision]**\n",
    "\n",
    "    - 저자들은 리뷰어가 이야기한 개선점과 질문들에 대해 답변합니다.\n",
    "\n",
    "    - 이 논문의 경우, 리뷰어들이 공통적으로 지적한 문제(다양한 실험이 더 많이 있었으면 좋겠다)가 있었습니다. 저자들은 따로 댓글을 남겨서 모든 리뷰어들에게 이런 내용을 언급하고, 부족한 부분을 어떻게 보충할 것인지 이야기합니다.\n",
    "\n",
    "    - 추가 실험의 계획을 구체적으로 작성하고, 실험 결과도 함께 업데이트합니다.\n",
    "\n",
    "- 리뷰어들의 최종 점수를 바탕으로, 컨퍼런스 측에서 논문의 accept/reject 여부를 판단합니다."
   ]
  },
  {
   "cell_type": "markdown",
   "metadata": {},
   "source": [
    "#### **Rebuttal 잘 쓰기**\n",
    "\n",
    "처음 부분에는 리뷰어에게 감사의 말을 남기는 것도 좋습니다. 물론 리뷰어가 연구 내용을 저자들만큼 잘 알고 있지는 않기 때문에 저자들의 의도와는 다른 리뷰가 올 수 있고, 리뷰어에게 서운한 마음이 들 수도 있겠지만... 그래도 좋은 말을 써주는 게 좋겠죠."
   ]
  },
  {
   "cell_type": "markdown",
   "metadata": {},
   "source": [
    "> We would like to begin by thanking the reviewer for their time and for the suggestions to help strengthen our work.\n",
    "\n",
    "> Firstly, we would like to thank the reviewer for the extensive feedback and for the great suggestions to strengthen our work.\n",
    "\n",
    "> We would like to thank the reviewer for the constructive ideas that could be explored and are definitely worth adding to this paper!"
   ]
  },
  {
   "cell_type": "markdown",
   "metadata": {},
   "source": [
    "리뷰어가 지적한 개선점과 질문들에 대해 답변을 각각 작성합니다. 리뷰어의 코멘트가 타당하다면 동의하고 (맞는 말이다, 이런 부분을 추가하겠다, ...), 반박할 내용이 있다면 공격적이지 않게 이야기합니다. 개선이 필요한 부분들을 따로 정리해 두고 하나씩 체크하면 더 꼼꼼하게 수정할 수 있겠죠!"
   ]
  },
  {
   "cell_type": "markdown",
   "metadata": {},
   "source": [
    "![review summary example](../Images/lec_23/14.png)"
   ]
  },
  {
   "cell_type": "markdown",
   "metadata": {},
   "source": [
    "리뷰어들이 공통적으로 이야기한 개선점이 있다면 특히 신경써서 보완해야 합니다. 이 논문에서는 다양한 실험이 더 많이 있었으면 좋겠다는 피드백이 있었고, 저자들은 추가적인 실험을 설계했습니다. 추가 실험을 설계할 때도, 논문을 쓸 때와 같이 실험의 목표와 범위를 확실하게 하고 필요한 경우 타당한 이유를 제시합니다."
   ]
  },
  {
   "cell_type": "markdown",
   "metadata": {},
   "source": [
    "> We note that all reviewers have asked for a variety of different and interesting additional experiments. It might not be possible to do all of these for this paper, however, we've tried to give an indication of what is possible (with preliminary results where we have them) in the individual reviewer responses. Regarding the much-asked-for Human evaluation, we do not want to over-promise, but we believe it should be possible to at least incorporate results from a pilot study that looks at game play when the receiver agent role is played by a human."
   ]
  },
  {
   "cell_type": "markdown",
   "metadata": {},
   "source": [
    "예시 논문에서는 추가 실험 설계 부분에 리뷰어들의 코멘트가 없었기 때문에 처음 계획한 대로 실험을 진행했고, 실험 결과와 실험을 통해 알아낸 사실들을 기록했습니다. 리뷰 과정이 모두 끝난 이후에, 컨퍼런스 측에서 논문의 최종 심사 결과를 알려줍니다. 이 논문은 구두 발표(oral) 논문으로 accept되었습니다. NeurIPS 컨퍼런스에 accept된 논문들 중에서도 좋은 평가를 받은 논문이죠!"
   ]
  },
  {
   "cell_type": "markdown",
   "metadata": {},
   "source": [
    "## **23-9. 마무리하며: 모두연에서 연구하기**"
   ]
  },
  {
   "cell_type": "markdown",
   "metadata": {},
   "source": [
    "여기까지 오시느라 수고 많으셨습니다! 😊\n",
    "노드를 마치면서, 모두의연구소에서 연구를 하는 방법을 소개해드리겠습니다."
   ]
  },
  {
   "cell_type": "markdown",
   "metadata": {},
   "source": [
    "모두의연구소는 **LAB** 프로그램을 통해 커뮤니티의 연구원 분들께 논문 작성 지원 제도를 제공하고 있습니다. GPU 서버와 클라우드는 물론이고, 모두연 Faculty 분들의 논문 지도와 논문 게재료도 지원하고 있죠. 2019년부터 NeurIPS, CVPR 등 유명 학회에 논문이 매년 게재되고 있답니다!"
   ]
  },
  {
   "cell_type": "markdown",
   "metadata": {},
   "source": [
    "> 연구하고 싶은 분야가 있다면 LAB을 만들어서 도전해보시는 건 어떨까요?"
   ]
  },
  {
   "cell_type": "markdown",
   "metadata": {},
   "source": [
    "LAB보다는 더 가벼운 프로그램을 찾는다면 모두연의 스터디 모임 **풀잎스쿨**과 매주 열리는 세미나 **모두팝**에 먼저 참여해보는 것도 좋습니다. 모두연의 문은 항상 열려 있으니, 궁금한 내용이 있다면 편하게 문의해주세요!"
   ]
  }
 ],
 "metadata": {
  "language_info": {
   "name": "python"
  },
  "orig_nbformat": 4
 },
 "nbformat": 4,
 "nbformat_minor": 2
}
