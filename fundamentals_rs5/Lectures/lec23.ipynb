{
 "cells": [
  {
   "cell_type": "markdown",
   "metadata": {},
   "source": [
    "# **23. 논문 작성 가이드**"
   ]
  },
  {
   "cell_type": "markdown",
   "metadata": {},
   "source": [
    "## **23-1. 좋은 논문을 쓰는 법**"
   ]
  },
  {
   "cell_type": "markdown",
   "metadata": {},
   "source": [
    "논문을 써본 적이 있나요? 대학원을 다녔던 경험이 없는 사람이라면 논문을 쓸 일이 거의 없었을 것입니다.<br>\n",
    "'논문'이라고 하니까 뭔가 엄청 전문적이고 다가가기 힘든 벽이 느껴지는 것 같은데요... 박사님, 교수님들처럼 대단한 사람이 아니더라도 괜찮은 논문을 쓸 수 있을까요? 답은 \"어렵지만 가능하다\"입니다. 그러면 어떻게 해야 논문을 잘 쓸 수 있을까요?<br>\n",
    "\n",
    "사실, 좋은 논문을 쓸 때 가장 중요하고도 어려운 부분이 바로 좋은 연구를 하는 것입니다. 연구 주제와 아이디어가 의미 있고, 그것을 뒷받침하는 실험 결과가 있어야 좋은 논문을 쓸 수 있죠. 아래 사진은 해외의 질의 응답 커뮤니티 Quora에 올라온 글입니다."
   ]
  },
  {
   "cell_type": "markdown",
   "metadata": {},
   "source": [
    "![https://www.quora.com/Why-is-publishing-a-research-paper-so-hard](../Images/lec_23/1.png)"
   ]
  },
  {
   "cell_type": "markdown",
   "metadata": {},
   "source": [
    "\"논문을 출판하는 것이 왜 어려운가요?\"라는 질문에 \"연구하고 논문을 쓰는 것이 어려운 것이고, 이 둘을 잘 했으면 논문 출판은 어렵지 않다.\"라는 답변이 달렸습니다. 그만큼 좋은 연구를 하는 것이 중요한데요, 아쉽지만 이 노드에서 연구를 잘 하는 방법을 알려드리지는 못합니다. 대신 연구를 어느 정도 진행하고 논문을 쓰기 시작할 때, 작은 팁이라도 드리기 위한 글이죠🙂"
   ]
  },
  {
   "cell_type": "markdown",
   "metadata": {},
   "source": [
    "논문을 잘 쓰기 위한 최고의 방법은 무엇일까요? 제 생각은, **논문을 많이 읽어보는 것**입니다. 논문마다 주제, 아이디어, 실험 방법은 다양하지만, 내용의 흐름은 비슷하다는 것을 알 수 있기 때문이죠. 논문을 여러 편 읽어보면서 각 챕터마다 어떤 내용이 들어가고, 어떤 내용을 강조해야 하는지 알게 된다면 논문을 직접 쓸 때도 훨씬 수월할 것입니다. 물론 시간이 많이 걸리고 쉽지 않은 방법이지만... 이 노드에서 간단하게라도 설명해보겠습니다. 우선 논문을 제출하고 심사받는 과정 자체가 익숙하지 않은 사람들을 위해 저널/컨퍼런스/워크샵이 무엇인지, 논문 심사 절차가 어떻게 되는지 등을 먼저 알려드리고, 그 다음에 본격적으로 논문 작성법을 설명하겠습니다!"
   ]
  },
  {
   "cell_type": "markdown",
   "metadata": {},
   "source": [
    "### **목차**\n",
    "\n",
    "- 좋은 논문을 쓰는 법\n",
    "\n",
    "- 논문을 어디에 제출할까?\n",
    "\n",
    "- 내가 쓴 논문이 출판되기까지\n",
    "\n",
    "- 연구계획서 쓰는 법\n",
    "\n",
    "- 논문 양식에 대해서\n",
    "\n",
    "- 논문 작성법\n",
    "\n",
    "- 논문 리뷰와 피드백 반영\n",
    "\n",
    "- 마무리하며: 모두연에서 연구하기"
   ]
  },
  {
   "cell_type": "markdown",
   "metadata": {},
   "source": [
    "### **읽어보면 좋은 자료들**\n",
    "\n",
    "- [대학원생 때 알았더라면 좋았을 것들](https://gradschoolstory.net/)\n",
    "\n",
    "- Jennifer Widom, [\"Tips for Writing Technical Papers\"](https://cs.stanford.edu/people/widom/paper-writing.html)\n",
    "\n",
    "- Andrej Karpathy, [\"A Survival Guide to a PhD\"](http://karpathy.github.io/2016/09/07/phd/)"
   ]
  },
  {
   "cell_type": "markdown",
   "metadata": {},
   "source": [
    "## **23-2. 논문을 어디에 제출할까?**"
   ]
  },
  {
   "cell_type": "markdown",
   "metadata": {},
   "source": [
    "### **저널? 컨퍼런스? 워크샵?**\n",
    "---"
   ]
  },
  {
   "cell_type": "markdown",
   "metadata": {},
   "source": [
    "#### **저널**\n",
    "\n",
    "**저널**(journal)은 정기적으로 출판되는 학술지입니다. 학술 논문뿐만 아니라 뉴스나 사설 등의 여러 기고문들도 찾아볼 수 있죠. 잘 알려진 학술지 '네이처(Nature)', '사이언스(Science)' 등이 바로 저널에 속합니다. 일반적으로 저널 논문은 컨퍼런스 논문보다 분량이 많고, 마감 기한이 따로 없기 때문에 논문 심사 과정도 철저한 편입니다.\n",
    "\n",
    "- AI 분야의 대표적인 저널 몇 가지\n",
    "\n",
    "    - [IEEE Transactions on Pattern Analysis and Machine Intelligence](https://ieeexplore.ieee.org/xpl/RecentIssue.jsp?punumber=34)\n",
    "\n",
    "    - [International Journal of Computer Vision](https://www.springer.com/journal/11263)\n",
    "\n",
    "    - [Nature Machine Intelligence](https://www.nature.com/natmachintell/)\n",
    "\n",
    "    - [Neural Networks](https://www.sciencedirect.com/journal/neural-networks)\n",
    "    \n",
    "    - [Journal of Machine Learning Research](https://www.jmlr.org/)"
   ]
  },
  {
   "cell_type": "markdown",
   "metadata": {},
   "source": [
    "#### **컨퍼런스**\n",
    "\n",
    "**컨퍼런스**(conference)는 정기적으로 개최되는 학술행사입니다. 연구자들이 본인의 논문을 발표하고, 논문 내용이 담긴 큰 포스터를 만들어서 전시하기도 합니다. 논문 제출이 항상 열려있는 저널과 다르게, 컨퍼런스에는 행사 일정이 있으므로 논문 제출 기한이 명확하고 본 행사 이전에 논문 심사가 완료됩니다. 그래서 논문 분량이나 심사 과정 등이 저널에 비해 가벼운 편입니다. (그렇다고 해서 컨퍼런스 논문 심사를 대충 하는 건 아닙니다!) 논문이 빠르게 출판된다는 특성 때문에, 새로운 연구 결과들이 쏟아지고 있는 인공지능 분야에서는 저널보다 컨퍼런스에 논문을 투고하는 일이 많습니다. 심지어 논문이 완성되자마자 [arXiv](https://arxiv.org/)(아카이브)와 같은 사이트에 바로 올리고 이후에 컨퍼런스 일정에 맞춰 제출하는 경우도 많죠.\n",
    "\n",
    "- AI 분야의 대표적인 컨퍼런스 정보\n",
    "    - [AI Conference Deadlines:](https://aideadlin.es/?sub=ML,CV,CG,NLP,RO,SP,DM,AP,KR,HCI) 대표적인 AI 컨퍼런스들의 개최 일정과 논문 제출 마감일을 한번에 보여줍니다."
   ]
  },
  {
   "cell_type": "markdown",
   "metadata": {},
   "source": [
    "![CVPR 2019의 포스터 발표 현장 (출처: https://gseg.igp.ethz.ch/news-and-events.html)](../Images/lec_23/2.png)"
   ]
  },
  {
   "cell_type": "markdown",
   "metadata": {},
   "source": [
    "#### **워크샵**\n",
    "\n",
    "**워크샵**(workshop)은 메인 컨퍼런스가 진행되는 기간에 특정 주제를 두고 열리는 작은 컨퍼런스입니다. 셋 중에서 진입장벽이 가장 낮고, 비슷한 주제를 연구하는 사람들을 만날 수 있다는 장점이 있습니다."
   ]
  },
  {
   "cell_type": "markdown",
   "metadata": {},
   "source": [
    "### **어디에 제출하면 좋을까?**\n",
    "---"
   ]
  },
  {
   "cell_type": "markdown",
   "metadata": {},
   "source": [
    "#### **저널, 컨퍼런스의 주제 살펴보기**\n",
    "\n",
    "모든 저널과 컨퍼런스는 다루는 분야가 정해져 있습니다. 엄청난 발견을 한 논문이 제출된다고 해도, 분야가 맞지 않는다면 논문 게재가 승인될 수 없습니다. 그러면 마음에 두고 있는 저널/컨퍼런스가 자신의 논문과 분야가 같은지는 어떻게 알 수 있을까요? 물론 이름만 봐도 어느 정도는 알 수 있습니다. CVPR(Computer Vision and Pattern Recognition)은 컴퓨터 비전과 패턴 인식에 관한 컨퍼런스일 것이고, ICML(International Conference on Machine Learning)은 머신러닝 관련 컨퍼런스겠죠.\n",
    "가장 확실한 방법은 저널/컨퍼런스의 홈페이지에 들어가서 `Submission`, `Instructions for Authors`(저널의 경우), 또는 `Call for Papers`(컨퍼런스, 워크샵의 경우)와 같은 메뉴를 살펴보는 것입니다"
   ]
  },
  {
   "cell_type": "markdown",
   "metadata": {},
   "source": [
    "![https://www.jmlr.org/author-info.html](../Images/lec_23/3.png)"
   ]
  },
  {
   "cell_type": "markdown",
   "metadata": {},
   "source": [
    "저널 JMLR(Journal of Machine Learning Research)이 다루는 분야입니다. 머신러닝 분야 논문은 다 제출받는 것 같네요."
   ]
  },
  {
   "cell_type": "markdown",
   "metadata": {},
   "source": [
    "![CVPR 2023 Call for Papers (https://cvpr.thecvf.com/Conferences/2023/CallForPapers)](../Images/lec_23/4.png)"
   ]
  },
  {
   "cell_type": "markdown",
   "metadata": {},
   "source": [
    "컨퍼런스 CVPR(Computer Vision and Pattern Recognition) 2023의 `Call for Papers`입니다. 컴퓨터 비전, 패턴 인식 분야에도 엄청나게 많은 주제들이 있네요!\n",
    "\n",
    "홈페이지를 찾아봤는데도 뭔가 애매하다면, 저널/컨퍼런스에서 이전에 출판된 논문들을 살펴보는 것도 도움이 됩니다.\n",
    "`학회/저널이름 + papers`, `학회이름 + proceedings`를 검색하면 논문들의 목록을 볼 수 있는데, 유료 구독이 필요한 일부 저널을 제외하고는 내용을 볼 수 있습니다."
   ]
  },
  {
   "cell_type": "markdown",
   "metadata": {},
   "source": [
    "![NeurIPS 2021 Proceedings (https://papers.nips.cc/paper/2021)](../Images/lec_23/5.png)"
   ]
  },
  {
   "cell_type": "markdown",
   "metadata": {},
   "source": [
    "### **💡주의해야 할 점**\n",
    "---"
   ]
  },
  {
   "cell_type": "markdown",
   "metadata": {},
   "source": [
    "- 하나의 논문을 여러 곳에 한꺼번에 제출하면 안 됩니다.\n",
    "\n",
    "    - 물론 한 곳에만 제출했다가 거절당하면 어떡하나 싶은 마음은 있겠지만... 학계는 넓으면서도 꽤 좁아서, 세부 주제 단위로 내려가면 연구자들의 수가 많지 않습니다. 최악의 경우에는 중복으로 제출한 논문들의 심사위원 중에 겹치는 사람이 있을 수도 있습니다.\n",
    "\n",
    "    - 한 곳에 우선 제출하고 나서 게재 불가(reject) 판정을 받으면 그 때 다른 곳에 제출하면 됩니다.\n",
    "\n",
    "- 약탈적 학술지, 부실 학회(predatory journal/conference)를 조심하세요.\n",
    "\n",
    "    - 약탈적 학술지는 일부 출판사가 영리적인 목적으로 돈만 내면 논문을 게재할 수 있게 만든 곳을 말합니다. 논문을 제대로 심사하지 않기 때문에 논문의 질이 떨어지고, 연구 윤리를 지키지 않은 (위조, 표절 등) 논문들도 많습니다. 이런 곳에 논문을 제출한다면 논문 한 편의 실적이 당장 생기기는 하겠지만, 장기적으로는 연구자로서의 진로에 큰 악영향을 끼칩니다.\n",
    "\n",
    "    - [돈만 내면 가짜 논문으로도 참가…황당한 국제학술대회](https://imnews.imbc.com/replay/2018/nwdesk/article/4706334_30181.html) (2018.7.19. MBC 뉴스데스크)\n",
    "\n",
    "    - 한국연구재단의 부실학술활동 예방 가이드 ([출처](https://www.nrf.re.kr/cms/board/general/view?menu_no=53&nts_no=108850))\n",
    "\n",
    "        - [부실학술활동 예방을 위한 권고사항](https://d3s0tskafalll9.cloudfront.net/media/documents/%EB%B6%80%EC%8B%A4%ED%95%99%EC%88%A0%ED%99%9C%EB%8F%99_%EC%98%88%EB%B0%A9%EC%9D%84_%EC%9C%84%ED%95%9C_%EA%B6%8C%EA%B3%A0%EC%82%AC%ED%95%AD.hwp) (hwp)\n",
    "        - [약탈적 학술지와 학회 예방 가이드(요약)](https://d3s0tskafalll9.cloudfront.net/media/documents/%EC%95%BD%ED%83%88%EC%A0%81_%ED%95%99%EC%88%A0%EC%A7%80%EC%99%80_%ED%95%99%ED%9A%8C_%EC%98%88%EB%B0%A9_%EA%B0%80%EC%9D%B4%EB%93%9C%EC%9A%94%EC%95%BD.pdf) (pdf)\n",
    "        - [약탈적 학술지와 학회 예방 가이드(전문)](https://d3s0tskafalll9.cloudfront.net/media/documents/%EC%95%BD%ED%83%88%EC%A0%81_%ED%95%99%EC%88%A0%EC%A7%80%EC%99%80_%ED%95%99%ED%9A%8C_%EC%98%88%EB%B0%A9_%EA%B0%80%EC%9D%B4%EB%93%9C%EC%A0%84%EB%AC%B8.pdf) (pdf)"
   ]
  },
  {
   "cell_type": "markdown",
   "metadata": {},
   "source": [
    "## **23-3. 내가 쓴 논문이 출판되기까지**"
   ]
  },
  {
   "cell_type": "markdown",
   "metadata": {},
   "source": [
    "### **논문 심사 과정**\n",
    "---"
   ]
  },
  {
   "cell_type": "markdown",
   "metadata": {},
   "source": [
    "논문이 출판되기 위해서는 우선 심사(review)가 완료되어야 합니다. 이 논문이 저널/컨퍼런스에 실려도 좋을지 판단하는 과정이죠.\n",
    "\n",
    "- **저자**: 논문을 쓴 사람입니다. 저자가 여러 명일 때는 교신저자가 대표로 저널/컨퍼런스 편집부와의 소통을 담당합니다.\n",
    "\n",
    "- **리뷰어(reviewer)**: 편집부로부터 논문을 받아서 게재 가능/불가능 여부를 판단하고 피드백을 남깁니다.\n",
    "\n",
    "- **에디터(editor), 편집부**: 저자로부터 제출받은 논문을 리뷰어들에게 전달하고, 리뷰어들의 심사 내용을 바탕으로 게재 가능 여부를 최종 판단합니다.\n",
    "\n",
    "논문 심사 결과는 다음 두 가지로 나눌 수 있습니다.\n",
    "\n",
    "- **게재 가능 (accept)**: 축하합니다! 논문이 저널/컨퍼런스로부터 게재를 승인받았습니다. 리뷰어들의 피드백을 잘 반영한다면 논문이 출판될 수 있다는 뜻입니다.\n",
    "\n",
    "- **게재 불가능 (reject)**: 안타깝지만 논문을 실어줄 수 없다는 뜻입니다. 논문의 주제가 저널/컨퍼런스의 주제에서 벗어났을 수도 있고, 그냥 (리뷰어가 보기에) 논문에 아쉬운 점이 많았을 수도 있습니다.\n",
    "\n",
    "    - [유명 AI 컨퍼런스들의 acceptance 비율](https://github.com/lixin4ever/Conference-Acceptance-Rate)을 보면, 제출된 전체 논문 중에서 약 30% 이하의 논문들만이 게재가 됩니다. 좋은 곳에 논문을 내는 것은 그만큼 어려운 일이기 때문에, 논문이 reject 되었다고 해도 리뷰어들의 피드백을 바탕으로 논문을 잘 보완한다면 좋은 저널/컨퍼런스에 논문이 accept될 수 있을 것입니다."
   ]
  },
  {
   "cell_type": "markdown",
   "metadata": {},
   "source": [
    "#### **논문 심사 프로세스**"
   ]
  },
  {
   "cell_type": "markdown",
   "metadata": {},
   "source": [
    "![https://authorservices.wiley.com/Reviewers/journal-reviewers/what-is-peer-review/the-peer-review-process.html](../Images/lec_23/6.png)"
   ]
  },
  {
   "cell_type": "markdown",
   "metadata": {},
   "source": [
    "논문에 따라 다르지만, 대부분 다음과 같은 과정을 거쳐서 심사가 진행됩니다.\n",
    "\n",
    "1. 연구자가 저널/컨퍼런스의 홈페이지에서 논문 파일을 제출합니다.\n",
    "\n",
    "2. 저널/컨퍼런스 편집부의 에디터(editor)가 논문이 양식에 잘 맞춰져 있는지 확인하고, 문제가 없을 경우 리뷰어들에게 논문을 전달합니다.\n",
    "\n",
    "3. 리뷰어는 논문을 심사하고 게재 여부에 대한 의견과 피드백을 작성하여 에디터에게 다시 전달합니다.\n",
    "\n",
    "4. 편집부는 심사 결과를 취합하여 논문의 게재 여부를 결정하고, 리뷰어들의 피드백과 함께 저자에게 전달합니다.\n",
    "\n",
    "5. 게재 불가능 판정을 받을 정도는 아니지만 우선 논문 보완이 필요한 경우, 저자는 리뷰어들의 피드백을 반영하여 논문을 수정하고 논문 수정본을 다시 제출합니다.\n",
    "\n",
    "6. 논문 게재가 최종 승인되었다면 이후에 논문이 출판됩니다."
   ]
  },
  {
   "cell_type": "markdown",
   "metadata": {},
   "source": [
    "#### **심사 과정에서의 익명성**\n",
    "\n",
    "공정한 심사를 위해, 논문 심사 과정에서는 익명성이 보장되어야 합니다. 만약 저자와 리뷰어가 서로 아는 사이라면 논문 심사 결과에 영향을 줄 수 있겠죠. 그래서 대부분의 AI분야 저널/컨퍼런스에서는 **double-blind review** 시스템을 채택하고 있습니다.\n",
    "\n",
    "- 리뷰어들은 자신이 받은 논문의 저자가 누구인지 모릅니다.\n",
    "- 저자들도 자신의 논문을 누가 심사했는지 모릅니다."
   ]
  },
  {
   "cell_type": "markdown",
   "metadata": {},
   "source": [
    "### **논문 심사 기준**\n",
    "\n",
    "---\n",
    "\n",
    "논문의 심사 기준은 저널/컨퍼런스마다 다르지만, 유명 AI 컨퍼런스 NeurIPS의 [리뷰어 가이드라인](https://neurips.cc/Conferences/2022/ReviewerGuidelines)에서는 다음과 같은 항목들을 언급하고 있습니다.\n",
    "\n",
    "- **Originality(독창성)**: 해결하고자 하는 문제, 또는 논문의 아이디어가 독창적입니다. 논문의 연구가 이전 연구들과 어떻게 다른지 명확하게 설명되어 있습니다.\n",
    "- **Quality(품질), Soundness(건전성)**: 저자가 논문에서 주장하는 내용들이 이론적 또는 실험적으로 증명되어 있습니다. 논문에서 사용된 방법들이 적절하며, 저자들은 논문에서 제시한 아이디어의 장점과 약점을 솔직하게 설명하고 있습니다.\n",
    "- **Clarity(명쾌함)**: 독자들이 읽기 쉽도록, 논문의 글이 명확하고 짜임새가 좋습니다.\n",
    "- **Significance(중요성), Contribution(기여)**: 논문이 특정 연구 분야에 기여하는 부분이 있고, 논문에서 제시한 방법과 결과들이 가치가 있습니다."
   ]
  },
  {
   "cell_type": "markdown",
   "metadata": {},
   "source": [
    "## **23-4. 연구계획서 쓰는 법**"
   ]
  },
  {
   "cell_type": "markdown",
   "metadata": {},
   "source": [
    "**연구계획서**란, 말 그대로 본인이 어떤 연구를 진행할 것인지 설명하는 문서입니다.<br>\n",
    "사실 대학원에서는 논문을 쓸 때마다 연구계획서를 쓰지는 않습니다. 입학할 때와 학위논문을 쓰기 직전에 제출하는 연구계획서, 그리고 연구과제 수주를 위해 작성하는 제안서 정도가 전부입니다. (물론 연구실마다 다를 수 있습니다. 평소에도 연구계획서 작성을 독려하는 교수님이 계실지도...) 하지만 만약 모두의연구소에서 논문을 쓰려고 한다면 먼저 연구계획서를 작성해서 팀을 꾸리고 연구에 필요한 것들을 지원받는 것이 좋은 방법이 될 수 있습니다."
   ]
  },
  {
   "cell_type": "markdown",
   "metadata": {},
   "source": [
    "### **연구계획서 작성하기**\n",
    "\n",
    "---\n",
    "\n",
    "연구계획서와 논문의 가장 큰 차이점은, 연구 결과를 정리하는 논문과 다르게 연구계획서는 연구가 진행되기 전에 또는 연구 초반에 작성된다는 것입니다. 그렇기 때문에 논문의 핵심 아이디어나 논문에서 사용할 모델 구조 등을 아주 자세하게 적을 필요는 없지만, **연구의 목적**과 **연구의 필요성**, **연구 방법론**은 명확하게 작성되어야 합니다. 이를테면 \"본인이 이 연구를 통해 어떤 문제를 해결하려고 하고, 이 연구가 왜 중요하고, (대략적으로) 어떤 방법을 사용할 것이다.\"와 같은 내용 말입니다."
   ]
  },
  {
   "cell_type": "markdown",
   "metadata": {},
   "source": [
    "#### **연구 주제**\n",
    "> 무엇을 연구할 것인가?\n",
    "\n",
    "연구계획서의 제목에 해당하는 부분입니다. '어떤 모델을 이용해서 어떤 태스크를 해결하겠다', '어떤 기능을 하는 모델/알고리즘을 개발하겠다'와 같은 내용이 포함됩니다."
   ]
  },
  {
   "cell_type": "markdown",
   "metadata": {},
   "source": [
    "#### **연구의 목적, 연구의 필요성**\n",
    "> 연구를 통해 어떤 문제를 해결할 것인가? 이 연구에 어떤 의미가 있는가?\n",
    "\n",
    "모든 연구는 **문제**로부터 시작됩니다. '어떤 기능을 하는 모델이 아직 없는데 만들어보려고 한다', '어떤 모델의 이러이러한 한계점을 개선하려고 한다' 와 같은 주제들은 모두 특정한 문제를 해결하기 위한 연구입니다. 그렇기 때문에 문제 상황을 정확히 인지하는 것이 연구계획서를 작성할 때도, 이후에 연구를 본격적으로 진행할 때도 도움이 됩니다. 어떤 문제를 해결하기 위해 연구를 진행할 예정인지 이야기하는 부분이 바로 `연구의 목적`에 해당됩니다. 연구계획서에서 연구의 목적과 함께 중요하게 다루어야 할 내용이 하나 더 있는데, `연구의 필요성`입니다. 연구가 마무리되었을 때 결과물이 어떤 의미를 가지는지 강조하는 부분이죠. 실용적인 결과물이 나올 만한 주제가 아니더라도, 이 연구가 특정 분야의 지식에 어떻게 기여할 수 있는지 설명하는 것으로 충분합니다."
   ]
  },
  {
   "cell_type": "markdown",
   "metadata": {},
   "source": [
    "#### **선행 연구 리뷰**\n",
    "> 연구 주제와 관련된 선행 연구로는 어떤 논문들이 있는가?\n",
    "\n",
    "새로운 연구는 어느 날 갑자기 '뿅' 하고 나타나는 것이 아닙니다. 하나의 연구 결과가 발표되기 전까지 수많은 선행 연구들이 있었죠. 연구의 목적이 선행 연구의 한계를 개선하는 것이라면 그 대상이 되는 연구, 그리고 한계점을 개선하려고 했던 다른 연구들을 선행 연구 리뷰에 포함시킬 수 있습니다. 그 외에도 같은 연구 주제를 다루었거나 같은 방법론을 사용했던 다른 논문들을 언급하고, 의의와 한계점을 간단하게 정리할 수도 있습니다."
   ]
  },
  {
   "cell_type": "markdown",
   "metadata": {},
   "source": [
    "#### **연구 방법론**\n",
    "> 어떤 방법으로 문제에 접근할 것인가?\n",
    "\n",
    "해결하고 싶은 문제, 그리고 관련된 선행 연구들이 이제 준비되었습니다. 남은 것은 '그래서 이 연구에서 어떤 방법으로 문제를 해결할 것인가?', 즉 연구 방법에 관한 이야기입니다. 어떤 모델, 또는 어떤 알고리즘을 사용할 것인지 이야기하고, 왜 그 방법을 선택했는지 나름대로의 근거를 설명할 수 있어야 합니다. 물론 연구계획서는 연구 초반에 작성하는 것이기 때문에 지금 단계에서 선택한 방법이 최선이 아닐 수 있습니다. 그러므로 지금 당장 완벽한 방법을 연구계획서에 써야 한다는 부담을 가질 필요 없이, 연구의 방향성을 정한다는 느낌으로 작성하면 됩니다."
   ]
  },
  {
   "cell_type": "markdown",
   "metadata": {},
   "source": [
    "#### **참고문헌**\n",
    "선행 연구 리뷰 단계에서 참고했던 자료들을 정리합니다."
   ]
  },
  {
   "cell_type": "markdown",
   "metadata": {},
   "source": [
    "#### **그 외에도...**\n",
    "연구계획서의 목적에 따라 기대 성과, 필요 예산, 연구 일정 등의 내용을 추가할 수 있습니다."
   ]
  },
  {
   "cell_type": "markdown",
   "metadata": {},
   "source": [
    "## **23-5. 논문 양식에 대해서**"
   ]
  },
  {
   "cell_type": "markdown",
   "metadata": {},
   "source": [
    "연구계획서를 쓴 이후 연구를 계속 진행해서 괜찮은 결과를 얻었습니다. 목표가 되는 저널/컨퍼런스도 정했고, 이제 슬슬 논문을 쓰려고 합니다. 그런데 어디에 써야 할까요?\n",
    "그냥 한글이나 워드에다가 대충 써서 제출하는 건 왠지 아닌 것 같습니다.\n",
    "논문을 찾아서 읽다 보니까 논문들의 양식이 비슷하던데, 이런 건 어떻게 맞추는 걸까요?"
   ]
  },
  {
   "cell_type": "markdown",
   "metadata": {},
   "source": [
    "### **논문 양식 다운받기**\n",
    "---"
   ]
  },
  {
   "cell_type": "markdown",
   "metadata": {},
   "source": [
    "논문의 양식도 저널/컨퍼런스 홈페이지를 살펴보는 것이 가장 정확합니다. 일반적으로 `Submission(제출)` 메뉴에 양식 파일이 업로드되어 있습니다.\n",
    "논문의 분량, 여백 크기, 폰트 종류와 글자 크기, 참고문헌 형식 등 논문 양식에 관한 정보들도 찾을 수 있습니다."
   ]
  },
  {
   "cell_type": "markdown",
   "metadata": {},
   "source": [
    "![AI 컨퍼런스 NeurIPS의 양식 파일 (https://neurips.cc/Conferences/2022/PaperInformation/StyleFiles)](../Images/lec_23/7.png)"
   ]
  },
  {
   "cell_type": "markdown",
   "metadata": {},
   "source": [
    "![AI 컨퍼런스 CVPR의 양식 파일 (Word) (https://cvpr2022.thecvf.com/author-guidelines)](../Images/lec_23/8.png)"
   ]
  },
  {
   "cell_type": "markdown",
   "metadata": {},
   "source": [
    "논문 양식은 일반적으로 **Microsoft Word**, 또는 **LaTeX** (레이텍) 파일로 제공됩니다.\n",
    "바로 위 사진처럼 워드 파일이 있다면 그냥 열어서 수정하면 되니까 어렵지 않은데... LaTeX은 대체 무엇이며, 어떻게 쓰는 걸까요?"
   ]
  },
  {
   "cell_type": "markdown",
   "metadata": {},
   "source": [
    "### **LaTeX 알아보기**\n",
    "\n",
    "---\n",
    "\n",
    "**LaTeX**(레이텍)은 문서 조판을 위한 프로그램입니다 (Wikipedia 설명 참조). 웹 브라우저가 HTML 문서를 렌더링하여 화면에 적절한 형태로 띄워주는 것처럼, LaTeX 형식으로 작성된 tex 파일을 컴파일하면 멋진 문서를 만들 수 있습니다.\n",
    "아래 사진에서 왼쪽 화면은 LaTeX으로 작성된 문서, 오른쪽은 왼쪽 문서를 컴파일한 결과입니다."
   ]
  },
  {
   "cell_type": "markdown",
   "metadata": {},
   "source": [
    "![AI 컨퍼런스 CVPR의 양식 파일 (LaTeX) (https://cvpr2022.thecvf.com/author-guidelines)](../Images/lec_23/9.png)"
   ]
  },
  {
   "cell_type": "markdown",
   "metadata": {},
   "source": [
    "왼쪽 화면만 봐도 뭔가 복잡한데요, 쉬운 Word를 두고 왜 굳이 어려워 보이는 LaTeX을 쓰는 걸까요?\n",
    "LaTeX의 가장 중요한 장점은 문서의 내용과 형식을 분리했다는 것이라고 합니다. 문서의 디자인에 신경을 쓰지 않아도, LaTeX 형식에 맞춰 내용을 적으면 기본 레이아웃으로 렌더링을 알아서 해주기 때문이죠. 그 밖에도 수식을 쓰기 편하다는 점, LaTeX은 오픈 소스 프로그램이기 때문에 어떤 환경에서도 같은 문서를 얻을 수 있다는 점, 가볍고 버전 관리가 가능하다는 점 등이 LaTeX을 쓰는 이유가 될 수 있습니다."
   ]
  },
  {
   "cell_type": "markdown",
   "metadata": {},
   "source": [
    "- TeX Stack Exchange에 올라왔던 질문: [Why should I use LaTeX?](https://tex.stackexchange.com/questions/1756/why-should-i-use-latex)\n",
    "- LaTeX 공식 사이트: [The LaTeX Project](https://www.latex-project.org/)\n",
    "- 국내 TeX 커뮤니티: [KTUG 한글 TeX 사용자 그룹](http://www.ktug.org/xe/)"
   ]
  },
  {
   "cell_type": "markdown",
   "metadata": {},
   "source": [
    "위의 KTUG 웹사이트에서 LaTeX 프로그램을 설치하면 tex 파일을 작성하고 컴파일할 수 있는데, 더 간단한 방법이 있습니다.\n",
    "바로 [Overleaf](https://www.overleaf.com/)라는 온라인 LaTeX 에디터입니다. 협업에 쓰이는 일부 기능들을 제외하고는 무료로 사용이 가능하고, 온라인 에디터기 때문에 언제 어디서나 접속해서 문서를 편집할 수 있습니다. 위 사진의 CVPR 논문 양식도 Overleaf에서 캡쳐한 화면입니다. 내용을 수정하고 `Recompile` 버튼을 누르면 업데이트된 문서를 확인할 수 있고, `Download PDF` 버튼을 누르면 pdf 파일을 다운받을 수 있습니다."
   ]
  },
  {
   "cell_type": "markdown",
   "metadata": {},
   "source": [
    "### **LaTeX 기본 문법**\n",
    "\n",
    "---\n",
    "\n",
    "사실 논문 양식을 다운받아서 사용하는 경우에는 형식 관련된 명령어들을 그대로 두고 내용 부분만 바꾸면 됩니다. 그렇지만 LaTeX 문서에 있는 이상한 명령어들이 무엇을 의미하는지 조금이라도 알면 더 좋겠죠?"
   ]
  },
  {
   "cell_type": "markdown",
   "metadata": {},
   "source": [
    "#### **LaTeX 문서의 구조와 기본 명령어**\n",
    "\n",
    "LaTeX 문서는 기본적으로 다음과 같은 구조를 가지고 있습니다."
   ]
  },
  {
   "cell_type": "markdown",
   "metadata": {},
   "source": [
    "```latex\n",
    "\\documentclass{...}\n",
    "% preamble\n",
    "\\begin{document}\n",
    "% document\n",
    "\\end{document}\n",
    "```"
   ]
  },
  {
   "cell_type": "markdown",
   "metadata": {},
   "source": [
    "- preamble 영역: 문서 전체의 속성을 지정하고, 필요한 패키지들을 불러옵니다. (HTML의 <head> 태그와 비슷한 느낌입니다.)\n",
    "\n",
    "    - `\\documentclass{...}`: 문서의 종류를 지정하여 적절한 기본 레이아웃을 선택합니다. 중괄호 안에 문서의 종류가 들어가는데, 일반적인 논문이나 리포트의 경우 `article`을 사용합니다. 이외에도 `book`, `slides`, `letter` 등의 document class들이 존재합니다.\n",
    "    \n",
    "    - `\\usepackages{...}`: 문서에서 사용할 패키지들을 불러옵니다. (아래의 패키지 이외에도 많은 패키지들이 존재합니다!)\n",
    "        - `\\usepackage{amsmath}`, `\\usepackage{amssymb}`: 다양한 수학 기호들이 포함되어 있습니다.\n",
    "        - `\\usepackage{graphicx}`: 문서에 그래픽 파일을 삽입할 수 있도록 합니다.\n",
    "        - `\\usepackage{hyperref}`: 하이퍼링크를 지원하는 패키지입니다.\n",
    "\n",
    "- document 영역: 문서의 본문에 해당하는 영역입니다. (HTML의 <body> 태그와 비슷합니다.)\n",
    "    - `\\chapter{...}`, `\\section{...}`, `\\subsection{...}`, ... : 문서의 섹션을 구분합니다. 중괄호 안에 소제목 이름이 들어갑니다.\n",
    "    \n",
    "    - `\\begin{...}` ~ `\\end{...}`: 문서의 특정 영역에 대한 환경(environment)을 지정합니다. `begin` 명령어와 `end` 명령어 사이에 들어가는 내용은 지정된 환경에 따라 특정한 서식이 적용됩니다. environment에는 여러 종류가 있는데, 대표적으로 다음과 같은 것들이 있습니다.\n",
    "        - `equation`: 수식 영역입니다.\n",
    "        - `center`: 문단을 가운데 정렬합니다.\n",
    "        - `tabular`: 표와 같은 형태를 가지도록 내용을 행과 열로 정렬합니다"
   ]
  },
  {
   "cell_type": "markdown",
   "metadata": {},
   "source": [
    "#### **LaTeX으로 수식 쓰기**\n",
    "\n",
    "위에서, 논문 작성에 LaTeX을 많이 쓰는 이유 중 하나가 수식이라고 이야기했습니다. 수식을 쓰기 편하다는 장점도 있지만, LaTeX 컴파일러가 수식을 멋지게 렌더링해준다는 장점도 있습니다. 수식을 쓰는 방법에는 다음과 같이 두 가지가 있습니다.\n",
    "\n",
    "- inline math: 본문 사이에 들어가는 $y=x^{2}$ 와 같은 수식을 의미합니다. `$ ... $`의 형태로 `$` 기호 사이에 수식 내용을 넣습니다.\n",
    "- displayed math: 한 줄을 모두 차지하는 수식입니다. `$$ ... $$` 형태로 작성하거나 `\\begin{equation}`~`\\end{equation}` 명령어를 사용합니다."
   ]
  },
  {
   "cell_type": "markdown",
   "metadata": {},
   "source": [
    "```latex\n",
    "$$\n",
    "y=x^2\n",
    "$$\n",
    "```\n",
    "\n",
    "$$y=x^{2}$$"
   ]
  },
  {
   "cell_type": "markdown",
   "metadata": {},
   "source": [
    "수학 기호와 연산자\n",
    "\n",
    "- 그리스 문자: 대문자는 `\\Alpha`, 소문자는 `\\alpha` 형태로 작성합니다.\n",
    "- 위첨자와 아래첨자: `x^2` &rarr; $X^2$, `x_2` &rarr; $x_2$\n",
    "- 로그: `\\log_2{x}` &rarr; $log_2{x}$\n",
    "- 제곱근: `\\sqrt{2}` &rarr; $\\sqrt{2}$\n",
    "- 분수: `\\frac{1}{2}` &rarr; $\\frac{1}{2}$\n",
    "- 합 연산자(시그마): `\\sum_{n=1}^{100} n` &rarr; $\\sum_{n=1}^{100} n$\n",
    "- 적분: `\\int_{1}^{\\infty} \\frac{1}{x} dx` &rarr; $\\int_{1}^{\\infty} \\frac{1}{x} dx$\n",
    "- [이외의 수학 기호들](https://personal.math.ubc.ca/~cautis/tools/latexmath.html)\n",
    "\n",
    "더 많은 내용은 아래의 링크들을 참고해주세요!"
   ]
  },
  {
   "cell_type": "markdown",
   "metadata": {},
   "source": [
    "#### **참고 자료**\n",
    "- [Wikibooks LaTeX book](https://en.wikibooks.org/wiki/LaTeX)\n",
    "- [Overleaf LaTeX guide](https://www.overleaf.com/learn)"
   ]
  },
  {
   "cell_type": "markdown",
   "metadata": {},
   "source": [
    "## **23-6. 논문 작성법(1)**"
   ]
  },
  {
   "cell_type": "markdown",
   "metadata": {},
   "source": [
    "### **논문의 저자권과 연구 윤리**\n",
    "\n",
    "---\n",
    "\n",
    "논문 작성법을 본격적으로 설명하기 전에, 좋은 논문을 쓰는 것보다 더 중요한 내용을 말씀드리겠습니다."
   ]
  },
  {
   "cell_type": "markdown",
   "metadata": {},
   "source": [
    "#### **저자권 (Authorship)**\n",
    "\n",
    "**저자권**이란, 논문의 저자가 될 권리입니다. 논문의 저자가 된다는 것은 특정 연구에 대한 기여를 인정받는 것과 함께 연구에 대한 책임도 지는 것이기 때문에, 연구에 직접 기여한 사람이 저자가 되어야 합니다. 연구에 기여한 사람의 이름을 안 넣는 것도 문제가 되지만, 저자로서의 기여를 하지 않은 사람을 끼워넣는 것도 문제가 됩니다. 몇 년 전에, 일부 교수들이 자녀의 대학 입시를 위해 자녀의 이름을 논문의 저자로 끼워넣었던 사실이 드러나면서 논란이 생겼죠.\n",
    "\n",
    "- 황정빈 기자, [<'아주 못된 녀석'의 논문 부정 교수 추적기>](https://www.sisain.co.kr/news/articleView.html?idxno=47368)\n",
    "\n",
    "*누가 저자가 되는가와 함께, 누구 이름이 먼저 나올 것인가*도 저자권에서 중요한 문제입니다. 이름이 올라가는 게 중요하지 순서는 별로 상관없는 게 아닌가...라고 생각할 수 있지만 그렇지 않습니다. 마지막의 주저자/책임저자를 제외하고, 기여도가 높은 사람의 이름이 앞에 나옵니다. 일반적으로 `제1저자`-`(제2저자)`-`공저자`-`주저자/책임저자`의 순서로 저자의 이름이 올라갑니다.\n",
    "\n",
    "- **제1저자** (First author): 연구의 기여도가 가장 높은 사람입니다. 연구의 기획 단계부터 가설 수립, 실험, 결과 분석, 논문 작성 등 연구 과정 전반에서 핵심적인 역할을 수행합니다. 하나의 논문에서 제1저자는 한 명이 되는 것이 원칙이며, 가끔 둘 이상의 저자들이 동등한 기여도를 인정받아 공동 1저자가 되기도 합니다. (공동 1저자가 3명인 논문도 드물게 보기는 했는데, 공동 1저자는 꼭 필요한 경우에 2명이 되는 것이 일반적입니다.)\n",
    "\n",
    "- **제2저자** (Second author): 제1저자 다음으로 기여도가 높은 사람입니다. 제2저자를 따로 정하지 않은 논문들도 많이 있습니다.\n",
    "\n",
    "- **공저자** (Co-author): 제1저자, 주저자와 함께 연구를 진행한 사람입니다. 제1저자만큼 연구에서 큰 역할을 했던 것은 아니지만, 그래도 저자권을 가질 만큼 연구에 기여한 사람입니다.\n",
    "\n",
    "- **주저자/책임저자** (Last author): 논문과 그 연구에 책임을 지는 사람입니다. 대학원생이나 포닥이 쓴 논문인 경우 지도교수, 기업에서 쓴 논문인 경우 연구 프로젝트의 리더가 주저자가 됩니다.\n",
    "\n",
    "- **교신저자** (Corresponding author): 저자들의 대표 자격으로 저널/컨퍼런스 측과 연락을 주고받습니다. 일반적으로 주저자/책임저자가 교신저자 역할까지 수행하는 경우가 많습니다."
   ]
  },
  {
   "cell_type": "markdown",
   "metadata": {},
   "source": [
    "### **연구 윤리**\n",
    "\n",
    "연구 윤리는 과학적 연구 활동을 하면서 지켜야 할 윤리적인 원칙들입니다. 연구 윤리와 관련하여 많이 다루어지는 내용은 **연구 부정 행위**가 있고, 사람이나 동물을 대상으로 실험을 수행하는 일부 연구 분야에서는 그에 걸맞은 연구 윤리가 존재합니다. 대표적인 연구 부정 행위에는 다음과 같은 것들이 있습니다.\n",
    "\n",
    "- **위조**: 없는 데이터나 실험 결과를 만들어내는 것입니다.\n",
    "\n",
    "- **변조**: 데이터나 실험 결과 등을 자신의 가설에 맞게 변형하는 것입니다.\n",
    "\n",
    "- **표절**: 다른 저작물을 임의로 인용하는 것입니다. 인용 자체는 문제가 되지 않지만, 다른 글을 인용하고도 표시를 안 한다거나, 문장째로 복사-붙여넣기를 한다면 문제가 됩니다.\n",
    "\n",
    "- **부당한 논문 저자 표시**: 위에서 설명했던 저자권과 관련된 부정 행위입니다. 저자권이 있는 사람을 누락시키거나, 저자권이 없는 사람을 끼워넣는 것, 저자의 순서를 임의로 변경하는 것 등이 해당됩니다.\n",
    "\n",
    "한국연구재단의 [연구윤리정보포털](https://www.cre.or.kr/)에서 연구윤리 관련 가이드라인과 사례집을 찾아볼 수 있습니다."
   ]
  },
  {
   "cell_type": "markdown",
   "metadata": {},
   "source": [
    "#### **논문을 쓰는 순서**\n",
    "\n",
    "---\n",
    "\n",
    "처음에 논문을 쓰기 시작할 때 빈 화면을 띄워놓고 있으면, 어디서부터 시작해야 할지 참 막막합니다.\n",
    "논문 제목은 자꾸 이게 낫나 저게 낫나 고민하게 되고 Abstract 부분도 감이 안 잡힙니다. 논문을 그래도 좀 쉽게 쓰려면 어떻게 해야 할까요?\n",
    "일반적으로, 논문의 구조는 다음과 같습니다."
   ]
  },
  {
   "cell_type": "markdown",
   "metadata": {},
   "source": [
    "```\n",
    "1. Title\n",
    "2. Abstract\n",
    "3. Introduction\n",
    "4. Background, Related works\n",
    "5. Method\n",
    "6. Result\n",
    "7. Discussion, Conclusion\n",
    "8. Acknowledgment\n",
    "9. References\n",
    "```"
   ]
  },
  {
   "cell_type": "markdown",
   "metadata": {},
   "source": [
    "여기에서 강조하고 싶은 점은 **논문을 굳이 맨 처음부터 차례대로 쓸 필요는 없다**는 것입니다.\n",
    "물론 논문을 쓴 경험이 많고 해당 분야의 내공이 깊은 사람이라면 논문을 쭉쭉 써나갈 수 있겠지만, 그렇지 않은 사람들에게는 **쉬운 것부터 쓰는 것**이 좋은 방법이 될 수 있습니다. 아무래도 논문의 전체 내용을 포함하고 논문의 첫인상을 결정하는 `Title`, `Abstract`보다는 자신이 수행했던 내용을 설명하는 `Method`, `Result` 부분이 작성하기에는 더 편하겠죠. 여기에서는 다음과 같은 순서로 논문 쓰는 법을 소개하겠습니다."
   ]
  },
  {
   "cell_type": "markdown",
   "metadata": {},
   "source": [
    "1. Method\n",
    "2. Result\n",
    "3. Introduction (+ Background, Related works)\n",
    "4. Conclusion (+ Discussion, Future works)\n",
    "5. Title, Abstract\n",
    "6. Acknowledgment, References"
   ]
  },
  {
   "cell_type": "markdown",
   "metadata": {},
   "source": [
    "> 위의 논문 구조는 변경될 수 있습니다. Conclusion을 따로 안 나누고 Result 부분에 녹인 논문도 있고, Background와 Related works 부분 없이 Introduction에서 관련 내용을 설명한 논문도 있습니다."
   ]
  },
  {
   "cell_type": "markdown",
   "metadata": {},
   "source": [
    "## **23-7. 논문 작성법 (2)**"
   ]
  },
  {
   "cell_type": "markdown",
   "metadata": {},
   "source": [
    "## **23-8. 논문 리뷰와 피드백 반영**"
   ]
  },
  {
   "cell_type": "markdown",
   "metadata": {},
   "source": [
    "## **23-9. 마무리하며: 모두연에서 연구하기**"
   ]
  }
 ],
 "metadata": {
  "language_info": {
   "name": "python"
  },
  "orig_nbformat": 4
 },
 "nbformat": 4,
 "nbformat_minor": 2
}
