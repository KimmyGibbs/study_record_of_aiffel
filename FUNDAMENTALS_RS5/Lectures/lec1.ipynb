{
 "cells": [
  {
   "cell_type": "markdown",
   "metadata": {},
   "source": [
    "# **1. 파이썬으로 코딩 시작하기**"
   ]
  },
  {
   "cell_type": "markdown",
   "metadata": {},
   "source": [
    "## **1-1. 들어가며**"
   ]
  },
  {
   "cell_type": "markdown",
   "metadata": {},
   "source": [
    "🧚 안녕하세요!<br>\n",
    "\n",
    "파이썬으로 코딩을 시작해보는 노드에 오신걸 환영합니다."
   ]
  },
  {
   "cell_type": "markdown",
   "metadata": {},
   "source": [
    "#### **학습 내용**\n",
    "\n",
    "---\n",
    "\n",
    "본 노드는 크게 4 부분으로 구성됩니다."
   ]
  },
  {
   "cell_type": "markdown",
   "metadata": {},
   "source": [
    "- 2-8. 함수와 변수\n",
    "\n",
    "    - 변수, 함수, 스코프, 인자, return의 사용법과 역할을 학습합니다.<br><br>\n",
    "    \n",
    "- 9-12. 제어문\n",
    "\n",
    "    - 대표적인 제어문인 if, while, for를 사용해 봅니다.<br><br>\n",
    "\n",
    "- 13-20. 자료형\n",
    "\n",
    "    - 숫자형, 불리언, 문자열, 튜플, 리스트, 딕셔너리 등 파이썬의 다양한 자료형을 살펴 보고, 사용 방법을 알아봅니다.<br><br>\n",
    "\n",
    "- 22-24. 재귀함수(심화)\n",
    "\n",
    "    - 재귀함수를 이용하여 사람 수에 따른 최적의 치킨 수를 구해 봅니다."
   ]
  },
  {
   "cell_type": "markdown",
   "metadata": {},
   "source": [
    "#### **학습 목표**\n",
    "\n",
    "---\n",
    "\n",
    "- 파이썬을 통해 프로그래밍의 기본 개념들을 이해하고 사용할 수 있습니다.\n",
    "\n",
    "    - 변수(variable)\n",
    "    - 함수(function)\n",
    "    - 연산자(operator)\n",
    "    - 제어문(control statements)\n",
    "    - 자료형(data types)\n",
    "<br><br>\n",
    "- 오류 메시지를 읽고 이해할 수 있습니다.\n",
    "\n",
    "- 학습한 개념들을 토대로 코드를 이해하고 수정할 수 있습니다."
   ]
  },
  {
   "cell_type": "markdown",
   "metadata": {},
   "source": [
    "## **1-2. 함수와 변수 (1) 함수 불러보기**"
   ]
  },
  {
   "cell_type": "markdown",
   "metadata": {},
   "source": [
    "함수 호출하기\n",
    "수학에서의 함수란 (아주 단순화하면) 입력값(input)에 대해 출력값(output)을 가지는 관계를 가리킵니다. $f:x$ &rarr; $y$ 또는 $f(x) = y$로 표기하는데, 여기서 $f$는 함수, $x$는 입력값, $y$는 출력값을 가리킵니다."
   ]
  },
  {
   "cell_type": "markdown",
   "metadata": {},
   "source": [
    "![function flow](../Images/lec_1/1.png)"
   ]
  },
  {
   "cell_type": "markdown",
   "metadata": {},
   "source": [
    "그렇다면 프로그래밍에서의 함수는 어떨까요? 여기서 함수의 의미는 조금 달라집니다. 함수는 불려진 시점에 특정한 작업을 수행하며, 입력값과 출력값은 있을 수도 없을 수도 있답니다."
   ]
  },
  {
   "cell_type": "markdown",
   "metadata": {},
   "source": [
    "함수를 하나 불러봅시다. `print()`라는 함수는 파이썬에 의해 기본적으로 제공되는 함수로, 화면에 문자열을 표시해 주는 역할을 합니다."
   ]
  },
  {
   "cell_type": "markdown",
   "metadata": {},
   "source": [
    "code 셀로 변경 필요\n",
    "```python\n",
    "print()\n",
    "```"
   ]
  },
  {
   "cell_type": "markdown",
   "metadata": {},
   "source": [
    "위 `[Output]`을 확인해 보면 아무것도 보이지 않습니다. 왜일까요? 🤔 아무런 입력값이 없어서 그렇습니다. 그래도 다행입니다. 어떤 함수들은 입력값이 필수라서 입력값이 없을 때 오류를 뱉기 때문입니다."
   ]
  },
  {
   "cell_type": "markdown",
   "metadata": {},
   "source": [
    "그렇다면 숫자 `1`을 입력값으로 넣어 다시 실행해 볼까요?"
   ]
  },
  {
   "cell_type": "code",
   "execution_count": null,
   "metadata": {},
   "outputs": [],
   "source": [
    "print(1)"
   ]
  },
  {
   "cell_type": "markdown",
   "metadata": {},
   "source": [
    "수학에서 함수를 $y=f(x)$로 표기하는 것은 우리에게 너무나 익숙한 사실입니다. 이 함수에서 $f$와 $x$가 각각 함수의 이름과 입력값을 의미하듯이, `print`와 괄호 속 `1`도 동일한 의미를 지닙니다. 프로그래밍 분야에서는 입력값을 주로 **인자(argument)** 라고 부르는데 함께 기억해두면 좋겠죠?"
   ]
  },
  {
   "cell_type": "markdown",
   "metadata": {},
   "source": [
    "`print()` 함수의 괄호 안에서 숫자끼리 덧셈을 하면 어떻게 될까요?"
   ]
  },
  {
   "cell_type": "code",
   "execution_count": null,
   "metadata": {},
   "outputs": [],
   "source": [
    "print(1 + 1)"
   ]
  },
  {
   "cell_type": "markdown",
   "metadata": {},
   "source": [
    "수학의 계산식과 같이 괄호 안의 내용이 먼저 계산되는 것을 볼 수 있습니다. 숫자 대신 글자를 표시하고 싶다면, 프로그램의 코드와 구분해 주기 위해 따옴표 `'` 또는 쌍따옴표 `\"`로 내용을 감싸줘야 합니다. 이렇게 감싼 글자들의 한 묶음을 하나의 **문자열(string)** 이라고 합니다."
   ]
  },
  {
   "cell_type": "markdown",
   "metadata": {},
   "source": [
    "문자열 `'Hello'`를 출력해 볼까요? 👋"
   ]
  },
  {
   "cell_type": "code",
   "execution_count": null,
   "metadata": {},
   "outputs": [],
   "source": [
    "print('Hello')"
   ]
  },
  {
   "cell_type": "markdown",
   "metadata": {},
   "source": [
    "타입을 한번 확인해 볼까요?"
   ]
  },
  {
   "cell_type": "code",
   "execution_count": null,
   "metadata": {},
   "outputs": [],
   "source": [
    "type('Hello')"
   ]
  },
  {
   "cell_type": "markdown",
   "metadata": {},
   "source": [
    "문자열 `Hello`의 타입은 `str`로 나오네요."
   ]
  },
  {
   "cell_type": "markdown",
   "metadata": {},
   "source": [
    "위에서 `print(1 + 1)`을 통해 `2`가 제대로 출력된 것을 확인했었습니다. 문자열끼리 더하면 어떻게 될까요?"
   ]
  },
  {
   "cell_type": "code",
   "execution_count": null,
   "metadata": {},
   "outputs": [],
   "source": [
    "print('Hello ' + 'world!')"
   ]
  },
  {
   "cell_type": "markdown",
   "metadata": {},
   "source": [
    "결과에서 추측할 수 있듯 파이썬에서는 문자열끼리 더하면 각각의 내용(문자열)을 이어줍니다."
   ]
  },
  {
   "cell_type": "markdown",
   "metadata": {},
   "source": [
    "그렇다면 빼는 것도 가능할까요? 한번 시도해 봅시다."
   ]
  },
  {
   "cell_type": "code",
   "execution_count": null,
   "metadata": {},
   "outputs": [],
   "source": [
    "print('Hello' - 'o')"
   ]
  },
  {
   "cell_type": "code",
   "execution_count": null,
   "metadata": {},
   "outputs": [],
   "source": [
    "print('KK' + 1)"
   ]
  },
  {
   "cell_type": "markdown",
   "metadata": {},
   "source": [
    "이런, 오류가 납니다. 내용을 훑어보니 발생된 오류의 유형은 `TypeError`이고, `str` 타입과 `str` 타입 간에 `-` 연산은 지원하지 않음을 알 수 있습니다. 그러므로 문자열끼리는 빼지 말아야겠죠?"
   ]
  },
  {
   "cell_type": "markdown",
   "metadata": {},
   "source": [
    "이외에도 가지각색의 오류(bug)들을 앞으로 자주 마주하게 되실 테지만 겁먹지는 마세요! 이해하기 어려운 오류는 구글 검색 등을 통해 충분히 해결하실 수 있을 겁니다. 개발을 하는 동안 오류는 떼려야 뗄 수 없는 숙명 같은 존재이므로 앞으로 오류를 잘 이해하도록 노력해야겠죠? 나중에는 오히려 아무 오류가 없을 때 불안해지는 시점이 올 겁니다. 😉👍"
   ]
  },
  {
   "cell_type": "markdown",
   "metadata": {},
   "source": [
    "## **1-3. 함수와 변수 (2) 변수 사용하기**"
   ]
  },
  {
   "cell_type": "markdown",
   "metadata": {},
   "source": [
    "$f(x)=y$에서 $f()$가 '함수'라면, 입력값과 출력값인 $x$와 $y$는 '변수'에 해당됩니다."
   ]
  },
  {
   "cell_type": "markdown",
   "metadata": {},
   "source": [
    "`print()`라는 함수에 `greeting`이라는 변수를 입력값으로 주는 예시를 한번 살펴볼까요?"
   ]
  },
  {
   "cell_type": "code",
   "execution_count": null,
   "metadata": {},
   "outputs": [],
   "source": [
    "greeting = '안녕하세요?' \n",
    "#- greeting이라는 변수에 '안녕하세요?'라는 문자열을 저장합니다.\n",
    "print(greeting) \n",
    "#- greeting을 출력합니다."
   ]
  },
  {
   "cell_type": "markdown",
   "metadata": {},
   "source": [
    "사전에서 '변수'를 검색해 보면, 어떤 관계나 범위 안에서 여러 가지 값으로 **변할 수 있는 수** 라고 정의되어 있습니다. 이처럼 변수는 스스로 값을 갖기보단 다른 값을 가리키는 존재입니다."
   ]
  },
  {
   "cell_type": "markdown",
   "metadata": {},
   "source": [
    "위 코드의 첫 번째 줄에서 `greeting`이라는 변수가 `안녕하세요?`라는 문자열을 가리키도록 정의했고, 세 번째 줄에서는 `print()` 함수에 `greeting` 변수를 입력으로 주어 `greeting` 변수가 가리키는 값을 화면에 표시하도록 했습니다. 즉, 변수를 정의하기 위해서는 `[변수명] = [변숫값]`과 같은 형식을 취하면 되며, 이후에는 변수명으로 해당 변숫값을 참조할 수 있습니다."
   ]
  },
  {
   "cell_type": "markdown",
   "metadata": {},
   "source": [
    "여기서 또 배울 수 있는 점이 있습니다. 코드가 한 줄 한 줄 순서대로 처리되기 때문에 변수를 정의(define)하기 전에 먼저 사용하려고 하면 오류가 나게 됩니다. 한번 확인해 볼까요?"
   ]
  },
  {
   "cell_type": "code",
   "execution_count": null,
   "metadata": {},
   "outputs": [],
   "source": [
    "print(something)"
   ]
  },
  {
   "cell_type": "markdown",
   "metadata": {},
   "source": [
    "오류 메시지를 읽어보면 `something`이라는 변수명이 정의되지 않아서(not defined) 발생된 오류임을 확인할 수 있습니다."
   ]
  },
  {
   "cell_type": "markdown",
   "metadata": {},
   "source": [
    "또 다른 경우를 살펴봅시다. 방금 위에서 변수란 어떤 값을 가리키는 존재라고 했죠? 같은 변수명을 재사용하게 될 경우 어떤 값을 가리키는지가 변하게 됩니다."
   ]
  },
  {
   "cell_type": "code",
   "execution_count": null,
   "metadata": {},
   "outputs": [],
   "source": [
    "greeting = '안녕하세요?'\n",
    "greeting = '안녕!'\n",
    "print(greeting)"
   ]
  },
  {
   "cell_type": "markdown",
   "metadata": {},
   "source": [
    "이번에는 `print(greeting)`이 속한 줄의 순서를 조금 바꾼 다음 실행해 볼까요?"
   ]
  },
  {
   "cell_type": "code",
   "execution_count": null,
   "metadata": {},
   "outputs": [],
   "source": [
    "greeting = '안녕하세요?'\n",
    "print(greeting)\n",
    "greeting = '안녕!'"
   ]
  },
  {
   "cell_type": "markdown",
   "metadata": {},
   "source": [
    "코드는 한 줄씩 순서대로 실행되기 때문에, `print()` 함수가 불리는 시점의 `greeting` 변수의 값인 `안녕하세요?`가 출력됩니다."
   ]
  },
  {
   "cell_type": "markdown",
   "metadata": {},
   "source": [
    "## **1-4. 함수와 변수 (3) 새로운 함수를 정의하기**"
   ]
  },
  {
   "cell_type": "markdown",
   "metadata": {},
   "source": [
    "이미 만들어진 함수를 부르는 것 외에 우리가 직접 함수를 만들 수도 있습니다."
   ]
  },
  {
   "cell_type": "markdown",
   "metadata": {},
   "source": [
    "부르면 `안녕!`이라고 표시하는 함수를 정의해 보겠습니다. 함수는 내부에서 다른 함수를 부르거나 변수를 정의하는 등 다양한 작업을 할 수 있습니다. 따라서 함수를 정의하는 방법이 이전의 변수와는 조금 다릅니다."
   ]
  },
  {
   "cell_type": "markdown",
   "metadata": {},
   "source": [
    "참고로, 아래 코드는 실행을 해도 함수를 정의할 뿐 함수 자체를 실행시키지는 않습니다. 즉, `[Output]`에 아무것도 뜨지 않는 것이 정상이라는 거죠! 🙂"
   ]
  },
  {
   "cell_type": "code",
   "execution_count": null,
   "metadata": {},
   "outputs": [],
   "source": [
    "def say_hi():\n",
    "    print('안녕!')\n",
    "#- 부르면 '안녕!'이라고 인사해주는 함수를 정의합니다.\n",
    "\n",
    "# say_hi()"
   ]
  },
  {
   "cell_type": "markdown",
   "metadata": {},
   "source": [
    "실행을 해보면 `IndentationError`가 뜨는 것을 확인하실 수 있을 겁니다."
   ]
  },
  {
   "cell_type": "markdown",
   "metadata": {},
   "source": [
    "이는 들여쓰기 된 코드 블럭, 즉 `indented block`을 기대했는데 왜 빼먹었냐는 불평입니다. `def` 줄의 다음 줄부터 함수 정의가 끝날 때까지는 들여쓰기를 유지해야 하며, 이 들여쓰기가 유지되는 구간을 블럭(block)이라고 합니다. 즉, 파이썬에서 들여쓰기는 이 줄의 코드가 위 단계의 코드에 속한다는 것을 표시합니다."
   ]
  },
  {
   "cell_type": "markdown",
   "metadata": {},
   "source": [
    "`안녕!` 다음 줄에 `반가워.`라고 한 줄 더 표시하고 싶다면, 그다음 줄에 `print()` 함수를 하나 더 추가해 주면 됩니다. 이번에도 함수를 정의하기만 하는 것이니, 화면에 아무것도 출력되지 않아도 걱정 마세요! 👌"
   ]
  },
  {
   "cell_type": "code",
   "execution_count": null,
   "metadata": {},
   "outputs": [],
   "source": [
    "def say_hi_nice():\n",
    "    print('안녕!')\n",
    "    print('반가워.')\n",
    "#- 새로운 함수를 정의합니다."
   ]
  },
  {
   "cell_type": "markdown",
   "metadata": {},
   "source": [
    "자, 다시 한번 확인해 볼까요?"
   ]
  },
  {
   "cell_type": "code",
   "execution_count": null,
   "metadata": {},
   "outputs": [],
   "source": [
    "say_hi_nice()"
   ]
  },
  {
   "cell_type": "markdown",
   "metadata": {},
   "source": [
    "## **1-5. 함수와 변수 (4) 스코프: 변수의 유효 범위**"
   ]
  },
  {
   "cell_type": "markdown",
   "metadata": {},
   "source": [
    "함수 내에서도 변수를 정의할 수 있습니다."
   ]
  },
  {
   "cell_type": "markdown",
   "metadata": {},
   "source": [
    "하지만 이것은 함수 안에서만 일어난 일이라는 것을 명심해야 합니다. 함수가 끝나면 해당 변수는 사라지고, 함수 밖에서 해당 변수를 들여다볼 수도 없습니다. 이게 무슨 말인지 한번 차근차근 알아봅시다. 😎!"
   ]
  },
  {
   "cell_type": "markdown",
   "metadata": {},
   "source": [
    "아래 코드를 실행하면 에러가 발생합니다."
   ]
  },
  {
   "cell_type": "code",
   "execution_count": null,
   "metadata": {},
   "outputs": [],
   "source": [
    "def say_goodbye():\n",
    "    goodbye = '잘 가!'\n",
    "\n",
    "print(goodbye)"
   ]
  },
  {
   "cell_type": "markdown",
   "metadata": {},
   "source": [
    "함수 내에서 선언한 변수를 \"함수의 속마음\", 밖에서 선언한 변수를 \"방송\"이라고 생각해 주세요. 방송국이 시민 개개인의 속마음을 알 순 없으니 에러가 납니다."
   ]
  },
  {
   "cell_type": "markdown",
   "metadata": {},
   "source": [
    "하지만 반대로 함수 내에서 함수 밖의 변수를 읽는 것은 가능합니다. 개개인이 방송을 듣는 건 가능하죠 👂"
   ]
  },
  {
   "cell_type": "code",
   "execution_count": null,
   "metadata": {},
   "outputs": [],
   "source": [
    "name = '하루'\n",
    "#- name이라는 변수는 문자열 '하루'를 가리킵니다.\n",
    "\n",
    "def say_name():\n",
    "    print(name)\n",
    "#- say_name() 함수의 밖에서 정의된 변수(name), 즉 '하루'를 읽어옵니다.\n",
    "\n",
    "say_name()\n",
    "\n",
    "name = '시우'\n",
    "#- 이제, name이라는 변수는 문자열 '시우'를 가리킵니다.\n",
    "\n",
    "say_name()"
   ]
  },
  {
   "cell_type": "markdown",
   "metadata": {},
   "source": [
    "더 나아가서 잠시 생각해 봅시다. 함수 안에서 `=` 을 통해 값을 바꾸면 실제로 바뀔까요? 그렇지 않습니다. 파이썬은 함수 안에서 새로운 변수를 정의하는 것으로만 이해하기 때문이죠."
   ]
  },
  {
   "cell_type": "markdown",
   "metadata": {},
   "source": [
    "이게 무슨 말인지 아래 코드를 통해 살펴봅시다."
   ]
  },
  {
   "cell_type": "code",
   "execution_count": null,
   "metadata": {},
   "outputs": [],
   "source": [
    "name = '하루'\n",
    "#- name은 문자열 '하루'를 가리키는 변수입니다.\n",
    "\n",
    "def change_name():\n",
    "    name = '시우'\n",
    "    #- 여기서 name은 해당 함수 내에서만 문자열 '시우'를 가리킵니다.\n",
    "\n",
    "change_name()\n",
    "#- 함수를 호출해도 아무 일도 일어나지 않습니다.\n",
    "\n",
    "print(name)\n",
    "#- 첫 줄, 즉 함수 바깥에서 정의된 문자열 '하루'가 출력됩니다."
   ]
  },
  {
   "cell_type": "markdown",
   "metadata": {},
   "source": [
    "개개인이 속마음으로 방송을 어떻게 정의 내리냐는 다르지만, 개인의 해석이 전 국민이 보는 방송 자체를 바꿀 순 없겠죠?"
   ]
  },
  {
   "cell_type": "markdown",
   "metadata": {},
   "source": [
    "이처럼 특정 위치에서 어떤 변수에 접근할 수 있는지, 또 한 곳에서 정의된 변수가 어디까지 유효한지 정의된 범위를 변수의 **스코프(scope)** 라고 합니다."
   ]
  },
  {
   "cell_type": "markdown",
   "metadata": {},
   "source": [
    "즉, 위의 코드에서 `name = '하루'`는 함수 내부를 포함해 코드 어디에서든 참조할 수 있으므로, **전역 스코프(global scope)** 를 갖는 변수라고 할 수 있습니다. 반대로 `name = '시우'`는 `change_name()` 내부에서 정의되어 밖에서 볼 수 없으므로, **지역 스코프(local scope)** 를 갖는 변수입니다."
   ]
  },
  {
   "cell_type": "markdown",
   "metadata": {},
   "source": [
    "## **1-6. 함수와 변수 (5) 함수에 인자 전달하기**"
   ]
  },
  {
   "cell_type": "markdown",
   "metadata": {},
   "source": [
    "만약 원하는 이름을 주고 `[이름], 안녕!`을 표시하게 하려면 어떻게 해야 할까요? 아래 코드와 같이 명시적으로 함수에 입력값을 전달해 주는 게 바람직합니다."
   ]
  },
  {
   "cell_type": "markdown",
   "metadata": {},
   "source": [
    "`say_hi_somebody()`라는 새로운 함수를 한번 정의해 보겠습니다. 🙋"
   ]
  },
  {
   "cell_type": "code",
   "execution_count": null,
   "metadata": {},
   "outputs": [],
   "source": [
    "def say_hi_somebody(name):\n",
    "    print(name + ', 안녕!')\n",
    "#- 함수를 정의합니다. \n",
    "#- 이 함수는 문자열인 한 개의 입력값을 받아, '[name], 안녕!'을 출력합니다."
   ]
  },
  {
   "cell_type": "markdown",
   "metadata": {},
   "source": [
    "그리고 한번 실행해 봅니다."
   ]
  },
  {
   "cell_type": "code",
   "execution_count": null,
   "metadata": {},
   "outputs": [],
   "source": [
    "say_hi_somebody('준이')\n",
    "#- 위에서 정의한 함수를 호출합니다.\n",
    "#- \"준이, 안녕!\"이라고 부르기 위해 입력값으로 '준이'를 주었습니다."
   ]
  },
  {
   "cell_type": "markdown",
   "metadata": {},
   "source": [
    "'준이, 안녕!' 이라는 결과를 확인하셨나요? 그렇다면, `say_hi_somebody(name)` 함수를 찬찬히 살펴보겠습니다."
   ]
  },
  {
   "cell_type": "markdown",
   "metadata": {},
   "source": [
    "함수를 정의하는 라인을 주목해 보면, 괄호 `()` 안에 name이라는 입력값이 정의된 것을 확인할 수 있습니다. 이 입력값의 자리에 들어오는 값은 해당 함수 내에서 `name`이라는 변수로 불러서 사용할 수 있습니다. 이처럼 입력값으로 주어진 인자(argument)를 받는 변수를 **매개변수(parameter)** 라고 합니다. 즉, 위 예제에서 함수 내부의 `name`은 매개변수이고, 외부에서 함수를 부를 때 넣어준 `'준이'`는 그 매개변수에 들어가는 인자입니다."
   ]
  },
  {
   "cell_type": "markdown",
   "metadata": {},
   "source": [
    "만약 위의 함수에 이름을 안 넣고 함수를 부르면 어떻게 될까요?"
   ]
  },
  {
   "cell_type": "code",
   "execution_count": null,
   "metadata": {},
   "outputs": [],
   "source": [
    "say_hi_somebody()\n",
    "#- 매개변수를 입력하지 않고 함수를 호출합니다."
   ]
  },
  {
   "cell_type": "markdown",
   "metadata": {},
   "source": [
    "오류가 납니다. 함수는 가끔 아기 👶 같습니다. 저희가 매개변수라는 신제품 분유를 사주기로 약속했는데, 아직 사주지 않아 떼를 쓰는 것입니다."
   ]
  },
  {
   "cell_type": "markdown",
   "metadata": {},
   "source": [
    "`say_hi_somebody()`라는 함수도 `name`이라는 매개변수에 들어갈 인자 없이 살 수 없는 몸입니다."
   ]
  },
  {
   "cell_type": "markdown",
   "metadata": {},
   "source": [
    "오류 메시지는 `say_hi_somebody()`라는 함수가 `name`이라는 매개변수에 들어갈 필수 위치 기반 인자 하나를 누락했다고 말하고 있습니다. 결국 단순하게 이해하자면, `say_hi_somebody()` 함수를 정의할 때 `name`이라는 매개변수를 정의했으니, 여기에 들어갈 인자를 빼고 부르면 안 된다는 말입니다."
   ]
  },
  {
   "cell_type": "markdown",
   "metadata": {},
   "source": [
    "그럼 이번에는 반대로, 아까 입력값 없이 정의했던 `say_hi_nice()` 함수에 억지로 입력값을 넣어봅시다."
   ]
  },
  {
   "cell_type": "code",
   "execution_count": null,
   "metadata": {},
   "outputs": [],
   "source": [
    "say_hi_nice('준이')\n",
    "#- 앞에서 정의했던 함수를 호출합니다."
   ]
  },
  {
   "cell_type": "markdown",
   "metadata": {},
   "source": [
    "이번에도 오류가 나지만 내용은 살짝 다릅니다. `say_hi_nice()` 함수는 위치 기반 인자를 받지 않는데 한 개(`준이`)가 주어졌다는 말입니다. 우리 아기 함수가 지금은 뭘 먹고 싶지 않은데 억지로 먹이면 안 되겠죠. 함수를 호출할 때는 미리 정의된 입력값을 넣어야 한다는 교훈을 얻을 수 있습니다."
   ]
  },
  {
   "cell_type": "markdown",
   "metadata": {},
   "source": [
    "그럼 `print()` 함수처럼 입력값이 있든 없든 불평 없이 자기 할 일을 하는 함수를 정의할 수는 없을까요? 🤔"
   ]
  },
  {
   "cell_type": "code",
   "execution_count": null,
   "metadata": {},
   "outputs": [],
   "source": [
    "def say_hi_default(name='somebody'):\n",
    "    print('안녕, ' + name + '!')"
   ]
  },
  {
   "cell_type": "markdown",
   "metadata": {},
   "source": [
    "`def` 줄의 `name=` 뒤에 뭔가 붙었습니다. `say_hi_default()` 함수에 `준이`를 넣어서 실행해 봅시다."
   ]
  },
  {
   "cell_type": "code",
   "execution_count": null,
   "metadata": {},
   "outputs": [],
   "source": [
    "say_hi_default('준이')"
   ]
  },
  {
   "cell_type": "markdown",
   "metadata": {},
   "source": [
    "이번에는 이름을 뺐을 때 어떻게 동작하는지 확인해 봅시다."
   ]
  },
  {
   "cell_type": "code",
   "execution_count": null,
   "metadata": {},
   "outputs": [],
   "source": [
    "say_hi_default()"
   ]
  },
  {
   "cell_type": "markdown",
   "metadata": {},
   "source": [
    "입력값이 주어지면 그 입력값을 그대로 표시하고, 없으면 somebody라는 값이 있는 것처럼 동작합니다. 즉, 함수가 받을 매개변수의 기본값을 지정해 주면, 입력값이 없을 경우 해당 기본값을 사용하게 됩니다."
   ]
  },
  {
   "cell_type": "markdown",
   "metadata": {},
   "source": [
    "## **1-7. 함수와 변수 (6) 함수에 인자 여러 개 한꺼번에 전달하기**"
   ]
  },
  {
   "cell_type": "markdown",
   "metadata": {},
   "source": [
    "지금까지는 한 명에게만 인사했지만, 이제 난이도를 두 배로 높여서 두 명에게 인사해 봅시다. ✌"
   ]
  },
  {
   "cell_type": "code",
   "execution_count": null,
   "metadata": {},
   "outputs": [],
   "source": [
    "def say_hi_couple(name1, name2):\n",
    "    print(name1 + ', ' + name2 + ' 안녕!')"
   ]
  },
  {
   "cell_type": "markdown",
   "metadata": {},
   "source": [
    "인자를 하나 추가하려면 위의 (`name1`, `name2`)와 같이 괄호 안에서 쉼표로 이름을 다르게 구성해서 넣고, 함수 내에서는 그대로 불러 쓰기만 하면 됩니다. 확인해 볼까요?"
   ]
  },
  {
   "cell_type": "code",
   "execution_count": null,
   "metadata": {},
   "outputs": [],
   "source": [
    "say_hi_couple('그리', '단테')"
   ]
  },
  {
   "cell_type": "markdown",
   "metadata": {},
   "source": [
    "여기서 이름을 하나 빼먹는다면?"
   ]
  },
  {
   "cell_type": "code",
   "execution_count": null,
   "metadata": {},
   "outputs": [],
   "source": [
    "say_hi_couple('그리')"
   ]
  },
  {
   "cell_type": "markdown",
   "metadata": {},
   "source": [
    "오류를 확인해 봅시다. 이유식 🍼 두 개가 아니라며, 약속했던 `name2`를 내놓으라고 합니다. 👶"
   ]
  },
  {
   "cell_type": "markdown",
   "metadata": {},
   "source": [
    "참고로, 함수를 정의할 때 쓰인 인자의 이름을 알고 있다면, 함수를 호출할 때 직접 붙여줄 수도 있습니다. 아래의 코드는 그 의미상 `say_hi_couple('그리', '단테')`와 동일합니다."
   ]
  },
  {
   "cell_type": "code",
   "execution_count": null,
   "metadata": {},
   "outputs": [],
   "source": [
    "say_hi_couple(name1='그리', name2='단테')"
   ]
  },
  {
   "cell_type": "markdown",
   "metadata": {},
   "source": [
    "이렇게 이름으로 인자를 전달할 때는 순서가 상관없기 때문에, 거꾸로 뒤집을 수도 있습니다."
   ]
  },
  {
   "cell_type": "code",
   "execution_count": null,
   "metadata": {},
   "outputs": [],
   "source": [
    "# Q. 이름의 순서를 바꿔보세요. name2='그리', name1='단테\n",
    "say_hi_couple(name2='그리', name1='단테')"
   ]
  },
  {
   "cell_type": "markdown",
   "metadata": {},
   "source": [
    "아기 함수에게 이유식을 줘야 하는 우리 부모 입장에서 더욱 편하겠죠? 각 분유에 레이블을 붙여놓는다면 뭐가 뭔지 알기 쉽기 때문입니다."
   ]
  },
  {
   "cell_type": "markdown",
   "metadata": {},
   "source": [
    "하지만 함수를 정의할 때 약속한 이름이 아닌 엉뚱한 이름을 주면?"
   ]
  },
  {
   "cell_type": "code",
   "execution_count": null,
   "metadata": {},
   "outputs": [],
   "source": [
    "# Q. 넣고 싶은 이름을 인자로 넣어보세요.\n",
    "say_hi_couple(name1='그리', namenamen='단테')"
   ]
  },
  {
   "cell_type": "markdown",
   "metadata": {},
   "source": [
    "😭 이런! 아기 함수가 체해서 화를 내네요. 잘못된 이유식을 줘버렸기 때문입니다. 다음부턴 꼭 조심해야겠어요."
   ]
  },
  {
   "cell_type": "markdown",
   "metadata": {},
   "source": [
    "한편, 입력값이 여러 개일 때도 각 입력값마다 기본값을 지정해 줄 수 있습니다."
   ]
  },
  {
   "cell_type": "markdown",
   "metadata": {},
   "source": [
    "단, 이 경우 기본값이 있는 인자들이 기본값이 없는 필수 인자들의 뒤에 와야 합니다."
   ]
  },
  {
   "cell_type": "code",
   "execution_count": null,
   "metadata": {},
   "outputs": [],
   "source": [
    "def say_hi_couple_default(name1, name2='nobody'):\n",
    "    print(name1 + ', ' + name2 + ' 안녕!')"
   ]
  },
  {
   "cell_type": "markdown",
   "metadata": {},
   "source": [
    "만약 이 규칙을 지키지 않으면 아래와 같이 함수를 정의할 때 바로 오류가 납니다."
   ]
  },
  {
   "cell_type": "code",
   "execution_count": null,
   "metadata": {},
   "outputs": [],
   "source": [
    "def say_hi_couple_default_wrong(name1='nobody', name2):\n",
    "    print(name1 + ', ' + name2 + ' 안녕!')"
   ]
  },
  {
   "cell_type": "markdown",
   "metadata": {},
   "source": [
    "오류를 살펴보면 기본값(`default`)이 없는 인자가 기본값이 있는 인자 뒤에 오면 `SyntaxError`에 해당한다고 합니다."
   ]
  },
  {
   "cell_type": "markdown",
   "metadata": {},
   "source": [
    "위처럼 정의해놓고 `say_hi_couple_default_wrong('단테')`와 같이 인자를 하나만 주고 함수를 호출하면, 과연 생략된 하나의 인자를 `name1`으로 봐야 할지, `name2`로 봐야 할지 불분명하기 때문입니다."
   ]
  },
  {
   "cell_type": "markdown",
   "metadata": {},
   "source": [
    "## **1-8. 함수와 변수 (7) 함수의 결과로 값을 반환하기**"
   ]
  },
  {
   "cell_type": "markdown",
   "metadata": {},
   "source": [
    "## **1-9. 제어문**"
   ]
  },
  {
   "cell_type": "markdown",
   "metadata": {},
   "source": [
    "## **1-10. 제어문 (1) `if`: 진실 혹은 거짓**"
   ]
  },
  {
   "cell_type": "markdown",
   "metadata": {},
   "source": [
    "## **1-11. 제어문 (2) `while`: 조건이 참인 동안 반복**"
   ]
  },
  {
   "cell_type": "markdown",
   "metadata": {},
   "source": [
    "## **1-12. 제어문 (3) `for`: 하나씩 반복**"
   ]
  },
  {
   "cell_type": "markdown",
   "metadata": {},
   "source": [
    "## **1-13. 자료형**"
   ]
  },
  {
   "cell_type": "markdown",
   "metadata": {},
   "source": [
    "## **1-14. 자료형 (1) 정수_integer, `int`**"
   ]
  },
  {
   "cell_type": "markdown",
   "metadata": {},
   "source": [
    "## **1-15. 자료형 (2) 부동소수점 수_floating-point number, `float`**"
   ]
  },
  {
   "cell_type": "markdown",
   "metadata": {},
   "source": [
    "## **1-16. 자료형 (3) `NoneType`**"
   ]
  },
  {
   "cell_type": "markdown",
   "metadata": {},
   "source": [
    "## **1-17. 자료형 (4) 불리언_boolean, `bool`**"
   ]
  },
  {
   "cell_type": "markdown",
   "metadata": {},
   "source": [
    "## **1-18. 자료형 (5) 문자열_string, `str`**"
   ]
  },
  {
   "cell_type": "markdown",
   "metadata": {},
   "source": [
    "## **1-19. 자료형 (6) 튜플과 리스트_`tuple`, `list`**"
   ]
  },
  {
   "cell_type": "markdown",
   "metadata": {},
   "source": [
    "## **1-20. 자료형 (7) 딕셔너리_dictionary, `dict`**"
   ]
  },
  {
   "cell_type": "markdown",
   "metadata": {},
   "source": [
    "## **1-21. 마무리하기** 🌜"
   ]
  },
  {
   "cell_type": "markdown",
   "metadata": {},
   "source": [
    "## **1-22. 재귀함수와 치킨 (심화)**"
   ]
  },
  {
   "cell_type": "markdown",
   "metadata": {},
   "source": [
    "## **1-23. fibonacci (심화)**"
   ]
  },
  {
   "cell_type": "markdown",
   "metadata": {},
   "source": [
    "## **1-24. 더 빠르게! (심화)**"
   ]
  }
 ],
 "metadata": {
  "kernelspec": {
   "display_name": "Python 3 (ipykernel)",
   "language": "python",
   "name": "python3"
  },
  "language_info": {
   "codemirror_mode": {
    "name": "ipython",
    "version": 3
   },
   "file_extension": ".py",
   "mimetype": "text/x-python",
   "name": "python",
   "nbconvert_exporter": "python",
   "pygments_lexer": "ipython3",
   "version": "3.9.7"
  }
 },
 "nbformat": 4,
 "nbformat_minor": 2
}
