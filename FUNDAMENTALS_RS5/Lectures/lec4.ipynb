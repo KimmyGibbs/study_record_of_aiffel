{
 "cells": [
  {
   "cell_type": "markdown",
   "metadata": {},
   "source": [
    "# **4. Data 어떻게 표현하면 좋을까? 배열(array)과 표(table)**"
   ]
  },
  {
   "cell_type": "markdown",
   "metadata": {},
   "source": [
    "## **4-1. 들어가며**"
   ]
  },
  {
   "cell_type": "markdown",
   "metadata": {},
   "source": [
    "🧚 안녕하세요!\n",
    "<br><br>\n",
    "'Data 어떻게 표현하면 좋을까? 배열(array)과 표(table)' 노드에 오신걸 환영합니다."
   ]
  },
  {
   "cell_type": "markdown",
   "metadata": {},
   "source": [
    "### **학습 내용**\n",
    "\n",
    "---\n",
    "\n",
    "- 2.배열은 가까이에~ 기본 통계 데이터를 계산해 볼까? (1) 평균 계산하기<br>\n",
    "\n",
    "- 3.배열은 가까이에~ 기본 통계 데이터를 계산해 볼까? (2) 배열을 활용한 평균, 표준편차, 중앙값 계산<br>\n",
    "\n",
    "- 4.끝판왕 등장! NumPy로 이 모든 걸 한방에! (1) NumPy 소개<br>\n",
    "\n",
    "- 5.끝판왕 등장! numpy로 이 모든 걸 한방에! (2) NumPy 주요 기능<br>\n",
    "\n",
    "- 6.끝판왕 등장! NumPy로 이 모든 걸 한방에! (3) NumPy로 기본 통계 데이터 계산해 보기<br>\n",
    "\n",
    "- 7.데이터의 행렬 변환 (1) 데이터의 행렬 변환<br>\n",
    "\n",
    "- 8.데이터의 행렬 변환 (2) 이미지의 행렬 변환<br>\n",
    "\n",
    "- 9.구조화된 데이터란?<br>\n",
    "\n",
    "- 10.딕셔너리(dictionary)를 활용한 간단한 판타지 게임 logic 설계<br>\n",
    "\n",
    "- 11.구조화된 데이터와 pandas (1) Series<br>\n",
    "\n",
    "- 12.구조화된 데이터와 pandas (2) DataFrame<br>\n",
    "\n",
    "- 13.pandas와 함께 EDA 시작하기<br><br>"
   ]
  },
  {
   "cell_type": "markdown",
   "metadata": {},
   "source": [
    "### **학습 목표**\n",
    "\n",
    "---\n",
    "\n",
    "- 데이터를 배열로 저장하는 것에 대해 이해하고 list, NumPy의 사용법을 학습합니다.\n",
    "- 구조화된 데이터를 저장하는 것을 이해하고 dictionary와 pandas 사용법을 학습합니다.\n",
    "- 이미지 데이터를 NumPy 배열로 저장하는 것을 이해하고 그 사용법을 학습합니다.\n",
    "- 학습한 자료 구조를 활용해서 통계 데이터를 어떻게 계산하는지 학습합니다."
   ]
  },
  {
   "cell_type": "markdown",
   "metadata": {},
   "source": [
    "## **4-2. 배열을 가까이에~ 기본 통계 데이터를 계산해 볼까? (1) 평균 계산하기**"
   ]
  },
  {
   "cell_type": "markdown",
   "metadata": {},
   "source": [
    "배열에 대해 생각해 보기 전에, 간단한 예로 숫자로 구성된 데이터부터 시작해 봅시다. 숫자들의 평균, 분산, 표준편차, 중앙값 등 기본 통계 데이터에 대해 생각해 보는 거예요."
   ]
  },
  {
   "cell_type": "markdown",
   "metadata": {},
   "source": [
    "아, 표준편차, 중앙값은 헷갈린다고요? 네, 그럴 수 있죠. 😅 일단 평균부터 계산해 봅시다.<br><br>"
   ]
  },
  {
   "cell_type": "markdown",
   "metadata": {},
   "source": [
    "##### **평균 계산하기**\n",
    "\n",
    "---\n",
    "\n",
    "평균을 계산하기 위해 사용자로부터 숫자들을 입력받아 보겠습니다. 아래는 상세 알고리즘입니다."
   ]
  },
  {
   "cell_type": "markdown",
   "metadata": {},
   "source": [
    "1. 평균은 숫자들의 합을 총 숫자의 개수로 나눈 값이죠. 일단 숫자들의 합을 `total`, 숫자의 개수는 `count`로 변수명을 정하고 0으로 초깃값을 할당합니다.\n",
    "2. 사용자가 입력하는 숫자는 `input` 함수를 사용해 받습니다. 숫자를 입력하지 않으면 종료합니다.\n",
    "3. while 문으로 조건 지정 반복문을 설정합니다. 숫자를 입력하지 않으면 종료한다고 했으니, 조건은 `input` 함수에서 받은 값이 \"\"이 되면 `False`가 되어서 while 문을 빠져나오게 코딩하면 되겠네요.\n",
    "4. while 문의 조건이 `True`면 `count`와 `total`이 갱신됩니다. 반복문이 실행될 때마다 count를 1씩 증가시키기 위해 증감 연산자를 사용하고, `total`에는 `input`으로 받은 숫자를 더해 줍니다. `input` 함수가 return하는 값의 자료형은 문자열 `str`이니 `float`로 타입을 변환해 주는 것 잊지 마세요!\n",
    "5. 혹시라도 사용자가 숫자가 아닌 엉뚱한 문자열을 입력하면 어떻게 할까요? 사용자로부터 숫자가 아닌 것을 입력받을 때는 예외 처리를 해줍시다."
   ]
  },
  {
   "cell_type": "markdown",
   "metadata": {},
   "source": [
    "아래는 완성 코드입니다."
   ]
  },
  {
   "cell_type": "markdown",
   "metadata": {},
   "source": [
    "**주의사항**<br>\n",
    "코드를 실행시킨 후 숫자를 입력해야 코드가 작동됩니다! 숫자를 입력한 후 코드 실행을 완료하려면 입력 숫자란이 비어있는 상태로 엔터키를 누르세요."
   ]
  },
  {
   "cell_type": "code",
   "execution_count": null,
   "metadata": {},
   "outputs": [],
   "source": [
    "total = 0\n",
    "count = 0\n",
    "numbers = input(\"Enter a number :  (<Enter Key> to quit)\")\n",
    "while numbers != \"\":\n",
    "    try:\n",
    "        x = float(numbers)\n",
    "        count += 1\n",
    "        total = total + x\n",
    "    except ValueError:\n",
    "        print('NOT a number! Ignored..')\n",
    "    numbers = input(\"Enter a number :  (<Enter Key> to quit)\")\n",
    "avg = total / count\n",
    "print(\"\\n average is\", avg)"
   ]
  },
  {
   "cell_type": "markdown",
   "metadata": {},
   "source": [
    "평균 계산을 위해 숫자 여러 개를 입력으로 받지만, 굳이 이 여러 개의 숫자를 배열(array)로 저장하진 않았습니다."
   ]
  },
  {
   "cell_type": "markdown",
   "metadata": {},
   "source": [
    "여기서 평균의 수식을 한번 보겠습니다. 숫자 $a_{1}, a_{2}, ..., a_{n}$ 에 대해서 평균 $A$ 는 다음과 같이 나타냅니다."
   ]
  },
  {
   "cell_type": "markdown",
   "metadata": {},
   "source": [
    "$$A = \\frac{1}{n}\\sum_{k=1}^na_{k} = \\frac{a_{1} + a_{2} + ... + a_{n}}{n}$$"
   ]
  },
  {
   "cell_type": "markdown",
   "metadata": {},
   "source": [
    "잠깐, 아래 기호는 시그마(Sigma)라고 읽어요."
   ]
  },
  {
   "cell_type": "markdown",
   "metadata": {},
   "source": [
    "$$\\sum$$"
   ]
  },
  {
   "cell_type": "markdown",
   "metadata": {},
   "source": [
    "시그마는 합의 기호입니다. 즉 어떤 숫자가 나열되어 있을 때, 그 숫자들을 모두 더하는 연산을 한다고 해 볼게요. 그럼 더하기 식을 하나하나 기호(+) 를 써서 표현하는 것보다는 합의 기호 시그마로 나타내면 더 간편하게 표현할 수 있겠죠?"
   ]
  },
  {
   "cell_type": "markdown",
   "metadata": {},
   "source": [
    "$$X = \\sum_{i=1}^n x_{i} = x_{1} + x_{2} + x_{3} + ... + x_{n}$$"
   ]
  },
  {
   "cell_type": "markdown",
   "metadata": {},
   "source": [
    "평균을 나타내는 수식에서 볼 수 있듯, 평균을 구하기 위해서는 **숫자들의 총합**이 필요할 뿐, 이 숫자들을 굳이 배열 등의 변수로 저장하지 않아도 됩니다. 그래서 코드에서 우리는 숫자들의 총합을 `total`이라는 변수에 계속 할당하고 그 시점까지의 총합만을 기억해 두었어요."
   ]
  },
  {
   "cell_type": "markdown",
   "metadata": {},
   "source": [
    "반복문에 의해서 아래처럼 숫자 입력, 합산이 반복 시행되는 것을 알 수 있겠죠?"
   ]
  },
  {
   "cell_type": "markdown",
   "metadata": {},
   "source": [
    "```python\n",
    "total = 0.0\n",
    "number = float(input(\"enter the number: \"))\n",
    "total = total + number\n",
    "number = float(input(\"enter the number: \"))\n",
    "total = total + number\n",
    "...\n",
    "```"
   ]
  },
  {
   "cell_type": "markdown",
   "metadata": {},
   "source": [
    "## **4-3. 배열은 가까이에~ 기본 통계 데이터를 계산해 볼까? (2) 배열을 활용한 평균, 표준편차, 중앙값 계산**"
   ]
  },
  {
   "cell_type": "markdown",
   "metadata": {},
   "source": [
    "## **4-4. 끝판왕 등장! NumPy로 이 모든 걸 한방에! (1) NumbPy 소개**"
   ]
  },
  {
   "cell_type": "markdown",
   "metadata": {},
   "source": [
    "## **4-5. 끝판왕 등장! NumPy로 이 모든걸 한방에! (2) NumPy 주요 기능**"
   ]
  },
  {
   "cell_type": "markdown",
   "metadata": {},
   "source": [
    "## **4-6. 끝판왕 등장! NumPy로 이 모든걸 한방에! (3) NumPy로 기본 통계 데이터 계산해 보기**"
   ]
  },
  {
   "cell_type": "markdown",
   "metadata": {},
   "source": [
    "## **4-7. 데이터의 행렬 변환 (1) 데이터의 행렬 변환**"
   ]
  },
  {
   "cell_type": "markdown",
   "metadata": {},
   "source": [
    "## **4-8. 데이터의 행렬 변환 (2) 이미지의 행렬 변환**"
   ]
  },
  {
   "cell_type": "markdown",
   "metadata": {},
   "source": [
    "## **4-9. 구조화된 데이터란?**"
   ]
  },
  {
   "cell_type": "markdown",
   "metadata": {},
   "source": [
    "## **4-10. 딕셔너리(dictionary)를 활용한 간단한 판타지 게임 logic 설계**"
   ]
  },
  {
   "cell_type": "markdown",
   "metadata": {},
   "source": [
    "## **4-11. 구조화된 데이터와 pandas (1) Series**"
   ]
  },
  {
   "cell_type": "markdown",
   "metadata": {},
   "source": [
    "## **4-12. 구조화된 데이터와 pandas (2) DataFrame**"
   ]
  },
  {
   "cell_type": "markdown",
   "metadata": {},
   "source": [
    "## **4-13. pandas와 함께 EDA 시작하기**"
   ]
  },
  {
   "cell_type": "markdown",
   "metadata": {},
   "source": [
    "## **4-14. 끝으로**"
   ]
  }
 ],
 "metadata": {
  "language_info": {
   "name": "python"
  }
 },
 "nbformat": 4,
 "nbformat_minor": 2
}
