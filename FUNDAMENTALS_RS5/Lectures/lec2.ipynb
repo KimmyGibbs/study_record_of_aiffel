{
 "cells": [
  {
   "cell_type": "markdown",
   "metadata": {},
   "source": [
    "# **2. 파이썬 잘하는 척 해보자**"
   ]
  },
  {
   "cell_type": "markdown",
   "metadata": {},
   "source": [
    "## **2-1. 들어가며**"
   ]
  },
  {
   "cell_type": "markdown",
   "metadata": {},
   "source": [
    "🧚 안녕하세요!"
   ]
  },
  {
   "cell_type": "markdown",
   "metadata": {},
   "source": [
    "'파이썬 잘하는 척 해보자' 노드에 오신걸 환영합니다."
   ]
  },
  {
   "cell_type": "markdown",
   "metadata": {},
   "source": [
    "#### **학습 내용**\n",
    "\n",
    "---\n",
    "\n",
    "- 2.파이썬 어디까지 써 봤니?!\n",
    "\n",
    "    - 파이썬의 성능과 생산성에 대해 살펴봅니다.\n",
    "<br><br>\n",
    "- 3-5. 파이썬을 더 잘 사용해보자!\n",
    "\n",
    "    - 이중 `for`문, 리스트 컴프리헨션, 제너레이터, Try - Except 예외 처리, Multiprocessing의 개념을 알아보고 실습을 통해 사용 방법을 익혀 봅니다.\n",
    "<br><br>\n",
    "- 6-9. 같은 코드 두 번 짜지 말자!\n",
    "\n",
    "    - 함수 사용 팁을 익히고 람다 표현식을 사용하는 법을 배웁니다. 클래스, 모듈, 패키지가 무엇인지 간략히 알아봅니다.\n",
    "<br><br>\n",
    "- 10.프로그래밍 패러다임과 함수형 프로그래밍\n",
    "\n",
    "    - 절차 지향 프로그래밍과 객체 지향 프로그래밍 그리고 함수형 프로그래밍에 대해 알아봅니다.\n",
    "<br><br>\n",
    "- 11.파이써닉하게 코드를 짜보자\n",
    "\n",
    "    - 파이썬을 좀더 파이써닉하게 활용하는 방법을 알아봅니다."
   ]
  },
  {
   "cell_type": "markdown",
   "metadata": {},
   "source": [
    "#### **학습 목표**\n",
    "\n",
    "---\n",
    "\n",
    "- 코드를 재사용할 수 있습니다.\n",
    "\n",
    "- 프로그래밍 패러다임을 설명할 수 있습니다.\n",
    "\n",
    "- 코드를 파이써닉하게 짤 수 있습니다."
   ]
  },
  {
   "cell_type": "markdown",
   "metadata": {},
   "source": [
    "## **2-2. 파이썬 어디까지 써 봤니?!**"
   ]
  },
  {
   "cell_type": "markdown",
   "metadata": {},
   "source": [
    "#### **파이썬의 성능과 한계**\n",
    "\n",
    "---\n",
    "\n",
    "이 세상에 다양한 언어들이 존재하고 그 언어를 이용하여 각국의 사람들과 소통할 수 있는 것처럼, 다양한 프로그래밍 언어들을 이용해서 컴퓨터와 대화할 수 있습니다. 컴퓨터에게 명령을 내리고 결과를 받아 볼 수 있는 것이죠"
   ]
  },
  {
   "cell_type": "markdown",
   "metadata": {},
   "source": [
    "C, C++, C#, JAVA, PHP, JavaScript, Python, Ruby, Objective-C, Perl 등 용도에 따라 수많은 언어가 있지만 우리는 여기서 **파이썬(Python)** 을 다뤄보고자 합니다."
   ]
  },
  {
   "cell_type": "markdown",
   "metadata": {},
   "source": [
    "우리는 왜 파이썬을 배워야 할까요?"
   ]
  },
  {
   "cell_type": "markdown",
   "metadata": {},
   "source": [
    "파이썬에 대해 더 깊이 들어가기에 앞서 '왜 파이썬인지' 한번 알아보도록 하겠습니다."
   ]
  },
  {
   "cell_type": "markdown",
   "metadata": {},
   "source": [
    "#### **퍼포먼스 vs 생산성**\n",
    "\n",
    "---\n",
    "\n",
    "프로그래밍 언어에서 가장 중요하게 고려돼야 할 것을 꼽으면 바로 '퍼포먼스'와 '생산성' 입니다."
   ]
  },
  {
   "cell_type": "markdown",
   "metadata": {},
   "source": [
    "**1. 퍼포먼스**"
   ]
  },
  {
   "cell_type": "markdown",
   "metadata": {},
   "source": [
    "먼저 **퍼포먼스(성능)** 란 어떤 언어든 코드를 짜서 실행을 시켰을 때 얼마나 빨리 처리가 되는가를 말합니다."
   ]
  },
  {
   "cell_type": "markdown",
   "metadata": {},
   "source": [
    "자전거와 자동차를 이용해 좀 더 자세히 설명해 보겠습니다. 자전거는 사람이 엔진이 되어 움직이는 이동 수단입니다. 그리고 자동차는 기계가 엔진으로 있는 성능이 매우 좋은 이동 수단입니다. 성능이 좋고 나쁘고는 이동수단이 얼마나 빨리 움직이는지에 따라 정해집니다. 자전거를 타고 가는 것보다는 자동차를 타고 움직이는 것이 훨씬 빠르겠죠?"
   ]
  },
  {
   "cell_type": "markdown",
   "metadata": {},
   "source": [
    "언어도 똑같습니다. 퍼포먼스가 좋은 언어는 특정한 연산을 빠르게 수행하고 퍼포먼스가 안 좋은 언어는 연산이 느리게 수행되게 되죠."
   ]
  },
  {
   "cell_type": "markdown",
   "metadata": {},
   "source": [
    "아래는 언어별 특정 연산에 대한 수행 속도 결과입니다."
   ]
  },
  {
   "cell_type": "markdown",
   "metadata": {},
   "source": [
    "![언어별 특정 연산에 대한 수행 속도 결과](../Images/lec_2/1.png)"
   ]
  },
  {
   "cell_type": "markdown",
   "metadata": {},
   "source": [
    "위를 보시면 C 언어가 퍼포먼스 상위를 차지하고 있고 파이썬은 상대적으로 하위에 위치에 있는 것을 보실 수 있습니다."
   ]
  },
  {
   "cell_type": "markdown",
   "metadata": {},
   "source": [
    "**2. 생산성**"
   ]
  },
  {
   "cell_type": "markdown",
   "metadata": {},
   "source": [
    "그렇다면 **생산성**은 무엇을 의미할까요?<br>\n",
    "\n",
    "답은 시간에 있습니다. 시간은 항상 우리에게 충분히 주어지지 않을 때가 더 많습니다. 생산성이란 한 마디로 **똑같은 기능을 하는 프로그램을 얼마나 빨리 작성할 수 있는가** 입니다.<br>\n",
    "\n",
    "빠른 시간 안에 기능을 구현해야 할 때, 높은 생산성은 큰 의미가 있습니다.<br>\n",
    "\n",
    "예를 들어, 저희가 사진을 분류하는 프로그램을 만든다고 해봅시다. 같은 기능을 가진 프로그램이라도 파이썬으로는 일주일 만에 짤 수도 있지만, C++로는 한 달이 걸릴 수도 있습니다. 훨씬 많은 코드를 쳐서 만들어야 하죠."
   ]
  },
  {
   "cell_type": "markdown",
   "metadata": {},
   "source": [
    "**3. 퍼포먼스 vs 생산성**"
   ]
  },
  {
   "cell_type": "markdown",
   "metadata": {},
   "source": [
    "C와 파이썬만 보더라도 이렇게 생산성이 올라가면 퍼포먼스가 떨어지고, 퍼포먼스가 올라가면 생산성이 떨어지는 trade-off가 상당한 걸 보실 수 있습니다. 그렇다면 생산성과 퍼포먼스 중에서는 어떤 것을 우선적으로 선택해야 할까요?"
   ]
  },
  {
   "cell_type": "markdown",
   "metadata": {},
   "source": [
    "생산성과 퍼포먼스가 모두 뛰어난 언어를 선택하면 좋겠지만 사실 생산성이 좋은 언어들은 퍼포먼스가 떨어지고 퍼포먼스가 좋은 언어는 생산성이 떨어집니다. 이런 상황에서 우리는 선택을 해야 합니다."
   ]
  },
  {
   "cell_type": "markdown",
   "metadata": {},
   "source": [
    "> 그래서 어떤 언어를 써야 돼?<br>\n",
    "목적에 맞게, 상황에 맞게 언어를 선택하고 사용하는 방법을 배우면 됩니다.<br>\n",
    "실무에서는 먼저 회사의 각 프로그램들에서 기존에 사용하고 있는 언어를 가장 먼저 고려하고, 그다음에는 개발하고자 하는 프로젝트의 성능과 개발 기간을 고려해서 언어를 정하게 됩니다."
   ]
  },
  {
   "cell_type": "markdown",
   "metadata": {},
   "source": [
    "결국 성능도 고려하고 시간도 고려해야 한다는 말이네요. trade-off에 있는 두 가지를 잘 배합하여 상황에 따라 적절한 언어를 골라야 합니다."
   ]
  },
  {
   "cell_type": "markdown",
   "metadata": {},
   "source": [
    "#### **파이썬의 성능**\n",
    "\n",
    "----\n",
    "\n",
    "일단, 우리가 배우려는 언어는 파이썬이므로 파이썬을 배우면 좋은 이유를 좀 더 알아보겠습니다."
   ]
  },
  {
   "cell_type": "markdown",
   "metadata": {},
   "source": [
    "**1. 높은 생산성**"
   ]
  },
  {
   "cell_type": "markdown",
   "metadata": {},
   "source": [
    "![출처 : xkcd.com/353/](../Images/lec_2/2.png)"
   ]
  },
  {
   "cell_type": "markdown",
   "metadata": {},
   "source": [
    "위 그림은 파이썬 터미널에서 `import antigravity`를 실행하면 나오는 이스터에그 이미지입니다. 파이썬의 `Battery Included`라는 모토에 충실하게, 파이썬은 '이런 것까지 이미 다 포함해 두었나!' 하고 놀라울 만큼 다양한 모듈을 이미 라이브러리화해서 제공하고 있습니다. 뿐만 아니라 `pip`를 통해 얼마든지 쉽게 설치할 수 있는 써드파티 라이브러리를 통해 개발 기간을 크게 단축시킬 수 있게 되죠."
   ]
  },
  {
   "cell_type": "markdown",
   "metadata": {},
   "source": [
    "하늘을 나는 기능조차 직접 구현하지 않고 `import`로 불러다 사용하면 된다는 건 우스개소리긴 하지만, 파이썬을 사용하고 있다면 어떤 기능을 직접 구현하려 들기 전에 한번 검색해 보시기를 권합니다. 대부분의 기능은 이미 어떤 패키지로 만들어져 있을 가능성이 높습니다."
   ]
  },
  {
   "cell_type": "markdown",
   "metadata": {},
   "source": [
    "**2. 코드의 간결함**"
   ]
  },
  {
   "cell_type": "markdown",
   "metadata": {},
   "source": [
    "**java**\n",
    "\n",
    "```java\n",
    "if(true) {\n",
    "    System.out.println(\"첫 번째\");\n",
    "    if(true) {\n",
    "        System.out.println(\"두 번째\");\n",
    "    }\n",
    "}\n",
    "```"
   ]
  },
  {
   "cell_type": "markdown",
   "metadata": {},
   "source": [
    "**python**\n",
    "\n",
    "```python\n",
    "if True :\n",
    "    print(\"첫 번째\")\n",
    "    if True :\n",
    "        print(\"두 번째\")\n",
    "```"
   ]
  },
  {
   "cell_type": "markdown",
   "metadata": {},
   "source": [
    "**3. 빠른 개발 속도**"
   ]
  },
  {
   "cell_type": "markdown",
   "metadata": {},
   "source": [
    "![Average coding time](../Images/lec_2/3.png)"
   ]
  },
  {
   "cell_type": "markdown",
   "metadata": {},
   "source": [
    "위의 표를 살펴봅시다. 같은 문제를 C++로 짜게 되면 평균 11시간 정도의 시간이 걸리고 파이썬으로 짜게 되면 약 3시간의 시간이 걸리는 걸 확인할 수 있습니다. 따라서 성능과 상관없이 개발이 빨리 돼야 하는 프로젝트를 하시게 된다면 파이썬을 사용하시면 좋습니다."
   ]
  },
  {
   "cell_type": "markdown",
   "metadata": {},
   "source": [
    "**4. 스크립트 언어(인터프리터 언어)**"
   ]
  },
  {
   "cell_type": "markdown",
   "metadata": {},
   "source": [
    "스크립트 언어는 인터프리터 언어라고 불리기도 합니다. Python과 같은 스크립트 언어는 컴파일 언어에는 없는 강력한 장점을 가지고 있기 때문에 유용합니다. 아래 컴파일 언어와 스크립트 언어의 비교를 통해 이해해 봅시다."
   ]
  },
  {
   "cell_type": "markdown",
   "metadata": {},
   "source": [
    "**컴파일 언어**\n",
    "\n",
    "- 실행 전 소스 코드를 컴파일하여 기계어로 변환 후 해당 파일을 실행\n",
    "- 이미 기계어로 변환된 것을 실행하므로 비교적 빠름\n",
    "- 컴파일 시점에 소스 코드의 오류를 잡기 쉬움\n",
    "- 같은 소스 코드도 다른 환경(PC, mobile 등)에서 실행하려면 다시 컴파일(기계어로 변환) 해야함"
   ]
  },
  {
   "cell_type": "markdown",
   "metadata": {},
   "source": [
    "**스크립트 언어(인터프리터 언어)**\n",
    "\n",
    "- 코드를 작성함과 동시에 인터프리터가 기계어로 번역하고 실행함\n",
    "- 코드 번역 과정이 있어 비교적 느림\n",
    "- 주 사용 목적이 뚜렷하게 개발되어 사용하기 쉬운 편\n",
    "- 명령줄로 코드를 즉시 실행할 수 있음"
   ]
  },
  {
   "cell_type": "markdown",
   "metadata": {},
   "source": [
    "컴파일 언어와 스크립트 언어에 대한 자세한 설명은 아래를 참고하세요. 다만 그 내용이 매우 어렵고 컴퓨터 발전에 따라 변화가 크기 때문에 너무 깊이 빠져들지 않도록 조심하세요."
   ]
  },
  {
   "cell_type": "markdown",
   "metadata": {},
   "source": [
    "- [Interpreter (computing)](https://en.wikipedia.org/wiki/Interpreter_(computing))"
   ]
  },
  {
   "cell_type": "markdown",
   "metadata": {},
   "source": [
    "이제 왜 파이썬을 배우면 좋은지 감이 오시나요?"
   ]
  },
  {
   "cell_type": "markdown",
   "metadata": {},
   "source": [
    "높은 생산성과, 간결한 코드, 빠른 개발 속도, 스크립트 언어의 장점을 두루 갖춘 파이썬! 다음 스텝에서는 파이썬을 더욱 파이썬답게 잘 사용하는 방법을 알아보도록 하겠습니다."
   ]
  },
  {
   "cell_type": "code",
   "execution_count": null,
   "metadata": {},
   "outputs": [],
   "source": [
    "# Q. 다음을 실행해서 출력되는 파이썬의 이스터에그를 읽고 파이썬의 철학에 대해 생각해보세요.\n",
    "import this"
   ]
  },
  {
   "cell_type": "markdown",
   "metadata": {},
   "source": [
    "## **2-3. 파이썬을 더 잘 사용해보자! (1) for문 잘 사용하기**"
   ]
  },
  {
   "cell_type": "markdown",
   "metadata": {},
   "source": [
    "이번 스텝에서는 while보다 훨씬 많이 쓰이는 반복문인 for문을 더욱 효과적으로 쓰는 방법을 알아보도록 하겠습니다."
   ]
  },
  {
   "cell_type": "markdown",
   "metadata": {},
   "source": [
    "enumerate(), 이중for문, list Comprehension, Generator 총 4가지 개념이 소개됩니다.<br><br>"
   ]
  },
  {
   "cell_type": "markdown",
   "metadata": {},
   "source": [
    "#### **for문 잘 써보기 - enumerate()와 이중 for문**\n",
    "\n",
    "---\n",
    "\n",
    "`for`문을 잘 쓰면 반복적으로 코드를 쓰지 않아도 돼 간결한 코드를 만드는 데 큰 도움이 됩니다."
   ]
  },
  {
   "cell_type": "markdown",
   "metadata": {},
   "source": [
    "아래와 같이 `my_list`에 있는 값들을 하나씩 출력하는 코드를 보겠습니다. 일단 먼저 돌려보시죠!"
   ]
  },
  {
   "cell_type": "code",
   "execution_count": null,
   "metadata": {},
   "outputs": [],
   "source": [
    "my_list = ['a','b','c','d']\n",
    "\n",
    "for i in my_list:\n",
    "    print(\"값 : \", i)"
   ]
  },
  {
   "cell_type": "markdown",
   "metadata": {},
   "source": [
    "출력 결과가 어떻습니까? 값이 쭉 출력되었죠? 그럼 `print` 되는 각각의 값이 몇 번째로 출력되어 나왔는지는 어떻게 확인할까요? 물론 위의 예제는 4개의 값밖에 안 되어 바로 몇 번째인지 한눈에 확인이 가능하나, 100개 정도의 값을 출력한다고 했을 때는 '50번째에 출력된 값이 무엇인가?'라고 물으면 대답하기가 어려워질 것 같습니다."
   ]
  },
  {
   "cell_type": "markdown",
   "metadata": {},
   "source": [
    "확인하는 방법은 `enumerate()`라는 기능을 이용하는 것입니다. `enumerate()`는 리스트, 문자열, 튜플 등이 있는 경우 **순서와 리스트의 값을 함께 반환**해 주는 기능입니다. 그럼 아래 코드를 통해 확인해 보겠습니다."
   ]
  },
  {
   "cell_type": "code",
   "execution_count": null,
   "metadata": {},
   "outputs": [],
   "source": [
    "my_list = ['a','b','c','d']\n",
    "\n",
    "for i, value in enumerate(my_list):\n",
    "    print(\"순번 : \", i, \" , 값 : \", value)"
   ]
  },
  {
   "cell_type": "markdown",
   "metadata": {},
   "source": [
    "`for i, value in enumerate(my_list)`를 이용하면 `i`에 순번이, `value`에 해당 순번의 데이터 값이 나오게 됩니다. 즉, `enumerate()`를 통해 단순 `for`문이 아니라 순서에 대한 결괏값도 함께 추가되었다고 생각하시면 됩니다."
   ]
  },
  {
   "cell_type": "markdown",
   "metadata": {},
   "source": [
    "자 이번엔 이중 `for`문에 대해서 알아보겠습니다. `for` 안에 또 `for`를 쓴 것을 이중 `for`문이라고 합니다."
   ]
  },
  {
   "cell_type": "markdown",
   "metadata": {},
   "source": [
    "눈치 빠르신 분들은 삼중 사중 `for`문도 있지 않을까 하실 텐데 맞습니다! `for`문의 개수에 따라서 몇 중의 for문이고 생성할 수 있습니다. 사실은 삼중 `for`문 이상이고 데이터가 많아지면 매우 느리게 동작하기 때문에 이중 `for`문까지만 쓰는 경우가 많습니다. 물론 필요한 경우는 그 이상도 사용할 수는 있습니다만 효율적인 코드는 아닐 수 있습니다."
   ]
  },
  {
   "cell_type": "markdown",
   "metadata": {},
   "source": [
    "설명이 길어졌는데 바로 이중 `for`문을 돌려보겠습니다."
   ]
  },
  {
   "cell_type": "code",
   "execution_count": null,
   "metadata": {},
   "outputs": [],
   "source": [
    "my_list = ['a','b','c','d']\n",
    "result_list = []\n",
    "\n",
    "for i in range(2):\n",
    "    for j in my_list:\n",
    "        result_list.append((i, j))\n",
    "        \n",
    "print(result_list)"
   ]
  },
  {
   "cell_type": "markdown",
   "metadata": {},
   "source": [
    "결과를 보시면 `i`에 대한 값은 `0,0,0,0,1,1,1,1` 이런 순서로 나오고 `j`에 대한 값은 `a,b,c,d,a,b,c,d` 순으로 나오는 것을 확인할 수 있을 것입니다. 즉, `i`안에 `j`가 있기 때문에 `j`가 다 돌 때까지 `i`는 `0`에서 고정되고 `j`가 순서대로 `a,b,c,d`로 나오게 됩니다. `j`가 전체 다 돌면 `i`는 다음으로 넘어갑니다. 이런 방식으로 `[0, 1]`과 `['a','b','c','d']` 두 리스트를 조합해서 만든 새로운 리스트를 얻게 됩니다."
   ]
  },
  {
   "cell_type": "markdown",
   "metadata": {},
   "source": [
    "**참고** - `range()`"
   ]
  },
  {
   "cell_type": "markdown",
   "metadata": {},
   "source": [
    "- `range(start, stop, step)` : `range(2)`와 같이 정수가 들어가야 하며, `list()` 함수를 통해 값을 뽑아오면 0부터 시작해서 2개인 list (`[0, 1]`) 를 만듭니다. 즉, `stop` 까지 포함하지는 않습니다. `range(1, 10, 2)` 이라면 1부터 9까지 2씩 증가하는 `[1, 3, 5, 7, 9]` 를 만듭니다. 하지만 실제로 반환하는 타입은 `range`이며, 리스트로 받아오고 싶다면 `list(range(1, 10, 2))`를 하시면 됩니다."
   ]
  },
  {
   "cell_type": "markdown",
   "metadata": {},
   "source": [
    "이중 for문을 이용하여 아래와 같이 별을 하나씩 추가하여 찍는 코드를 작성해 보세요."
   ]
  },
  {
   "cell_type": "markdown",
   "metadata": {},
   "source": [
    "```shell\n",
    "*\n",
    "**\n",
    "***\n",
    "****\n",
    "*****\n",
    "******\n",
    "*******\n",
    "********\n",
    "*********\n",
    "**********\n",
    "```"
   ]
  },
  {
   "cell_type": "code",
   "execution_count": null,
   "metadata": {},
   "outputs": [],
   "source": [
    "# Q. 이중 for문을 이용하여 별을 하나씩 추가하여 찍는 코드를 작성해 보세요. \n",
    "# N 개의 라인에 별을 찍자\n",
    "for i in range(10):\n",
    "    # print(i+1)\n",
    "    for j in range(i+1):\n",
    "        print(\"*\", end=\"\")\n",
    "    print()"
   ]
  },
  {
   "cell_type": "markdown",
   "metadata": {},
   "source": [
    "#### **리스트 컴프리헨션(list Comprehension)**\n",
    "\n",
    "---\n",
    "\n",
    "파이썬이 제공하는 편리한 기능 중에 리스트 컴프리헨션이 있습니다. 이것은 리스트 등 순회형 컨테이너 객체로부터 이를 가공한 새로운 리스트를 생성하는 아주 간결하고 편리한 방법입니다. 파이썬이 가진 가장 큰 매력적인 특징 중 하나입니다. 컴프리헨션 기능은 비단 리스트뿐 아니라 셋(Set), 딕셔너리(Dict)에 대해서도 적용 가능합니다. 아래 코드를 살펴봅시다."
   ]
  },
  {
   "cell_type": "code",
   "execution_count": null,
   "metadata": {},
   "outputs": [],
   "source": [
    "my_list = ['a','b','c','d']\n",
    "\n",
    "result_list = [(i, j) for i in range(2) for j in my_list]\n",
    "\n",
    "print(result_list)"
   ]
  },
  {
   "cell_type": "markdown",
   "metadata": {},
   "source": [
    "위에서 이중 for문으로 구현했던 내용과 완전히 동일한 기능을 리스트 컴프리헨션을 이용하여 1줄로 구현해 보았습니다. 앞으로도 컴프리헨션을 적용한 코드 사례를 자주 접하게 될 것입니다."
   ]
  },
  {
   "cell_type": "code",
   "execution_count": null,
   "metadata": {},
   "outputs": [],
   "source": [
    "# Q. 리스트 컴프리헨션을 활용해서 자연수 1부터 100까지 중 홀수를 출력하세요.\n",
    "odd = [i for i in range(1, 100) if i % 2 != 0]\n",
    "print(odd)"
   ]
  },
  {
   "cell_type": "markdown",
   "metadata": {},
   "source": [
    "#### **제너레이터(Generator)**\n",
    "\n",
    "---\n",
    "\n",
    "머신러닝을 하면 매우 많은 데이터를 다루게 됩니다. 데이터는 1건만 존재하는 법은 없기 때문에 우리는 데이터를 처리하는 반복 구조를 위해 for문을 떠올리게 될 것입니다. 위에서 살펴본 코드를 다시 한번 가져와 봅시다."
   ]
  },
  {
   "cell_type": "markdown",
   "metadata": {},
   "source": [
    "우리는 `my_list`에 있는 데이터셋을 하나씩 가져와서 공급해 주는 제너레이터를 만들 것입니다. `my_list`를 총 2번 반복하여 8개의 데이터를 공급할 계획이죠"
   ]
  },
  {
   "cell_type": "markdown",
   "metadata": {},
   "source": [
    "단순히 for문을 사용해서 데이터를 공급해 보도록 하는 첫 번째 코드와, Generator의 개념을 이용하여 데이터를 공급하는 두 번째 코드를 비교해 봅시다."
   ]
  },
  {
   "cell_type": "code",
   "execution_count": null,
   "metadata": {},
   "outputs": [],
   "source": [
    "import sys\n",
    "\n",
    "my_list = ['a','b','c','d']\n",
    "\n",
    "# 인자로 받은 리스트를 가공해서 만든 데이터셋 리스트를 리턴하는 함수\n",
    "def get_dataset_list(my_list):\n",
    "    result_list = []\n",
    "    for i in range(2):\n",
    "        for j in my_list:\n",
    "            result_list.append((i, j))\n",
    "    print('>>  {} data loaded..'.format(len(result_list)))\n",
    "    return result_list\n",
    "\n",
    "for X, y in get_dataset_list(my_list):\n",
    "    print(X, y)\n",
    "print(f'메모리사용량 : {sys.getsizeof(get_dataset_list)}') # sys.getsizeof(메모리 사용량 확인하는 메소드)"
   ]
  },
  {
   "cell_type": "markdown",
   "metadata": {},
   "source": [
    "첫 번째 코드의 문제가 뭘까요? 이중 for 문이 다 돌아가는 걸 기다린 후, 반환된 `result_list` 값에 대해 또 for 문을 돌려야 한다는 것입니다. 뭔가 중복되는 느낌도 들고, 확실히 느리겠죠? 지금은 `my_list` 에 데이터 4개밖에 없지만 만약 1억 개가 담겨 있다면 또 어떤 문제가 있을까요? 바로, `get_dataset_list(my_list)` 를 위해 엄청난 양의 데이터를 전부 메모리에 올려놔야 한다는 것입니다."
   ]
  },
  {
   "cell_type": "code",
   "execution_count": null,
   "metadata": {},
   "outputs": [],
   "source": [
    "my_list = ['a','b','c','d']\n",
    "\n",
    "# 인자로 받은 리스트로부터 데이터를 하나씩 가져오는 제너레이터를 리턴하는 함수\n",
    "def get_dataset_generator(my_list):\n",
    "    for i in range(2):\n",
    "        for j in my_list:\n",
    "            yield (i, j)   # 이 줄이 이전의 append 코드를 대체했습니다\n",
    "            print('>>  1 data loaded..')\n",
    "\n",
    "dataset_generator = get_dataset_generator(my_list)\n",
    "for X, y in dataset_generator:\n",
    "    print(X, y)\n",
    "\n",
    "print(f'메모리 사용량 : {sys.getsizeof(dataset_generator)}')"
   ]
  },
  {
   "cell_type": "markdown",
   "metadata": {},
   "source": [
    "두 번째 코드가 이 문제를 해결합니다. 8번째 줄에 `yield`라는 새로운 키워드가 보이네요."
   ]
  },
  {
   "cell_type": "markdown",
   "metadata": {},
   "source": [
    "영어로 \"Yield\"라는 단어는 \"양보하다\"라는 뜻을 갖고 있죠. 파이썬에서도 마찬가지로 `yield`는 코드 실행의 순서를 밖으로 \"양보\"합니다. 즉, `dataset_generator = get_dataset_generator(my_list)` 을 실행해도 \"generator object\" 만 반환할 뿐, 저희가 원하는 값을 바로 반환하고 있지 않습니다. 실질적으로 데이터를 반환하는 건 for 문에서 값을 하나씩 불러올 때죠."
   ]
  },
  {
   "cell_type": "markdown",
   "metadata": {},
   "source": [
    "위 코드 블록의 실행 결과를 보면 값을 한 번 반환 후 \"1 data loaded..\" 를 출력하는 걸 반복합니다."
   ]
  },
  {
   "cell_type": "markdown",
   "metadata": {},
   "source": [
    "그렇기 때문에 yield는 메모리 사용을 효율적으로 만들 수 있습니다."
   ]
  },
  {
   "cell_type": "markdown",
   "metadata": {},
   "source": [
    "실제 메모리 사용량을 확인해보면 yield를 사용한 반복문이 사용하지 않은 반복문보다 메모리 사용량이 적은걸 확인할 수 있습니다."
   ]
  },
  {
   "cell_type": "markdown",
   "metadata": {},
   "source": [
    "이처럼 제너레이터가 없다면 우리는 길이 1억짜리 리스트를 리턴 받아 메모리에 전부 올려놓고 처리를 시작해야 합니다. 그러나 제너레이터를 활용할 때는 1억 개의 데이터를 전부 메모리에 올려놓을 필요가 없이 현재 처리해야 할 데이터를 1개씩 로드해서 사용할 수 있게 됩니다. 이것은 빅데이터를 처리해야 할 머신러닝 상황에서 매우 요긴합니다."
   ]
  },
  {
   "cell_type": "markdown",
   "metadata": {},
   "source": [
    "## **2-4. 파이썬을 더 잘 사용해보자! (2) Try - Except 예외 처리하기**"
   ]
  },
  {
   "cell_type": "markdown",
   "metadata": {},
   "source": [
    "## **2-5. 파이썬을 더 잘 사용해보자! (3) Multiprocessing**"
   ]
  },
  {
   "cell_type": "markdown",
   "metadata": {},
   "source": [
    "## **2-6. 같은 코드 두 번 짜지 말자! (1) 함수 사용하기**"
   ]
  },
  {
   "cell_type": "markdown",
   "metadata": {},
   "source": [
    "## **2-7. 같은 코드 두 번 짜지 말자! (2) 함수 사용 팁**"
   ]
  },
  {
   "cell_type": "markdown",
   "metadata": {},
   "source": [
    "## **2-8. 같은 코드 두 번 짜지 말자! (3) 람다 표현식**"
   ]
  },
  {
   "cell_type": "markdown",
   "metadata": {},
   "source": [
    "## **2-9. 같은 코드 두 번 짜지 말자! (4) 클래스, 모듈, 패키지**"
   ]
  },
  {
   "cell_type": "markdown",
   "metadata": {},
   "source": [
    "## **2-10. 프로그래밍 패러다임과 함수형 프로그래밍**"
   ]
  },
  {
   "cell_type": "markdown",
   "metadata": {},
   "source": [
    "## **2-11. 파이써닉하게 코드를 짜보자**"
   ]
  }
 ],
 "metadata": {
  "kernelspec": {
   "display_name": "Python 3 (ipykernel)",
   "language": "python",
   "name": "python3"
  },
  "language_info": {
   "codemirror_mode": {
    "name": "ipython",
    "version": 3
   },
   "file_extension": ".py",
   "mimetype": "text/x-python",
   "name": "python",
   "nbconvert_exporter": "python",
   "pygments_lexer": "ipython3",
   "version": "3.9.7"
  }
 },
 "nbformat": 4,
 "nbformat_minor": 2
}
