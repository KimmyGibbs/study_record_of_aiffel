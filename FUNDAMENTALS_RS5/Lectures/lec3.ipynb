{
 "cells": [
  {
   "cell_type": "markdown",
   "metadata": {},
   "source": [
    "# 3. 당신의 행운의 숫자는? 나만의 n면체 주사위 위젯 만들기"
   ]
  },
  {
   "cell_type": "markdown",
   "metadata": {},
   "source": [
    "## 3-1. 들어가며"
   ]
  },
  {
   "cell_type": "markdown",
   "metadata": {},
   "source": [
    "#### **아이스브레이킹**"
   ]
  },
  {
   "cell_type": "markdown",
   "metadata": {},
   "source": [
    "1부터 6까지의 숫자 중에서 하나를 생각해보세요. 제가 주사위를 던져서 여러분이 생각한 숫자를 맞혀보겠습니다!"
   ]
  },
  {
   "cell_type": "code",
   "execution_count": null,
   "metadata": {},
   "outputs": [],
   "source": [
    "from random import randrange\n",
    "\n",
    "your_number = randrange(1,7)\n",
    "print(\"여러분이 생각한 숫자는 \" + str(your_number) + \"인 것 같네요!\")"
   ]
  },
  {
   "cell_type": "markdown",
   "metadata": {},
   "source": [
    "#### **학습 목표**\n",
    "\n",
    "---\n",
    "\n",
    "- 파이썬 클래스 문법을 익힙니다.\n",
    "- 파이썬 클래스를 활용한 객체 지향 프로그래밍을 학습합니다."
   ]
  },
  {
   "cell_type": "markdown",
   "metadata": {},
   "source": [
    "#### **목차**\n",
    "\n",
    "---\n",
    "\n",
    "- 2-3. 객체 지향 프로그래밍\n",
    "    - 객체란?\n",
    "    - 객체 지향 프로그래밍이란?\n",
    "<br><br>\n",
    "- 4-7. 클래스 기본 문법\n",
    "    - 클래스 선언 및 인스턴스화\n",
    "    - 클래스 속성과 메서드\n",
    "    - 생성자\n",
    "    - 클래스 변수와 인스턴스 변수\n",
    "<br><br>\n",
    "- 8.클래스, 조금 더 알아보기 - 상속\n",
    "<br><br>\n",
    "- 9-13. n면체 주사위 만들기\n",
    "    - 기획\n",
    "    - 주 프로그램 - `main` 함수\n",
    "    - FunnyDice 클래스\n",
    "    - FunnyDice 클래스 테스트, `get_input` 함수\n",
    "    - 완성 코드\n"
   ]
  },
  {
   "cell_type": "markdown",
   "metadata": {},
   "source": [
    "## 3-2. 객체 지향 프로그래밍 (1) 객체란?"
   ]
  },
  {
   "cell_type": "markdown",
   "metadata": {},
   "source": [
    "#### **객체가 등장하기까지**\n",
    "\n",
    "---\n",
    "\n",
    "아주 먼 옛날(1950년대쯤)... 컴퓨터는 한창 발전하던 시기였어요. 컴퓨터는 연구실이나 기관에서 다루어지고 있었는데요. 점점 기술이 발전하면서 복잡한 일들을 처리해가고 있었습니다. 단순한 사칙 연산에서 벗어나서 말이에요."
   ]
  },
  {
   "cell_type": "markdown",
   "metadata": {},
   "source": [
    "이때까지만 해도 프로그래밍에는 변수, 함수 정도가 쓰였는데요. 변수는 값을 기억하는 것, 함수는 값을 계산하는 것이에요."
   ]
  },
  {
   "cell_type": "markdown",
   "metadata": {},
   "source": [
    "예를 들자면 이 정도로 다뤄지고 있었다는 말이죠."
   ]
  },
  {
   "cell_type": "markdown",
   "metadata": {},
   "source": [
    "그런데 컴퓨터에게는 해야 할 일을 정말 정확하게 적어줘야 해요. 그러니까 더 어려운 일을 시키려면 프로그램도 복잡해져야 한다는 이야기죠. 프로그램이 복잡해지면서 한 동작에 필요한 변수들이 많아졌어요. 그 많은 변수들을 어떻게 효율적으로 다룰지가 연구 주제였고 다양한 아이디어가 등장합니다."
   ]
  },
  {
   "cell_type": "markdown",
   "metadata": {},
   "source": [
    "여러 아이디어 중 많은 변수를 엮어 놓은 덩어리는 자주 언급되었고 구조체(structure), 객체(object), 클래스(class) 등 저마다 다른 이름으로 불렸습니다."
   ]
  },
  {
   "cell_type": "markdown",
   "metadata": {},
   "source": [
    "![https://web.archive.org/web/20100717111134/http://history.siam.org/sup/Fox_1960_LISP.pdf](../Images/lec_3/1.png)"
   ]
  },
  {
   "cell_type": "markdown",
   "metadata": {},
   "source": [
    "비슷한 시기에 또 다른 아이디어도 있었어요. 함수에 대한 것인데요. 만약 변수가 어떤 동작을 해야 한다면 어떻게 이 둘을 엮을 것인가를 고민합니다."
   ]
  },
  {
   "cell_type": "markdown",
   "metadata": {},
   "source": [
    "```python\n",
    "def run(car_speed, car_direction, speed, direction):\n",
    "    car_speed = speed\n",
    "    car_direction = direction\n",
    "    # ...원하는 동작...\n",
    "    print('car is running')\n",
    "\t\t\n",
    "run(car1_speed, car1_direction, 30, 'east')\n",
    "```"
   ]
  },
  {
   "cell_type": "markdown",
   "metadata": {},
   "source": [
    "이렇게 변수가 함수와 밀접한 관계가 있는 경우에 잘 엮어 놓으면 좋겠다는 생각이 든 것이죠. 역시나 여기서도 프로그래밍 언어마다 다양한 아이디어들이 쏟아졌습니다. 메시지(message), 메서드(method), 멤버 함수(member function) 등 많은 이름들이 등장했어요."
   ]
  },
  {
   "cell_type": "markdown",
   "metadata": {},
   "source": [
    "<u>[이 자료](https://web.archive.org/web/20100717111134/http://history.siam.org/sup/Fox_1960_LISP.pdf)</u>는 LISP라는 프로그래밍 언어에 대한 내용입니다. 자세히 들여다보면 함수를 다루는 방법, 변수들을 연관 짓는 방법 등 지금 컴퓨터 이론의 기초에 해당하는 내용이 등장하는데요. LISP가 지금 사용하는 프로그래밍 언어에 많은 영향을 미쳤기 때문에 그 개념들이 살아남은 것일 뿐입니다. 실제로는 이 당시에도 이미 프로그래밍 언어가 다양했기 때문에 많은 아이디어가 제안되었는데요. 안타깝게도 쓰이지 못하고 사라진 것들이 매우 많습니다."
   ]
  },
  {
   "cell_type": "markdown",
   "metadata": {},
   "source": [
    "최초로 아이디어가 나타나기 시작한 이후로 수십 년간 더 나은 아이디어들과 아이디어들의 조합이 생겨났습니다. 이 아이디어들이 하나의 패러다임이 되고 객체라는 이름으로 통용되기 시작했고 가장 자주 사용되었습니다. 그래서 객체를 아는 것이 프로그래밍 공부에서 중요한 요소가 되었죠."
   ]
  },
  {
   "cell_type": "markdown",
   "metadata": {},
   "source": [
    "![https://cdilga.medium.com/oop-programming-concepts-16eefa0325e3](../Images/lec_3/2.png)"
   ]
  },
  {
   "cell_type": "markdown",
   "metadata": {},
   "source": [
    "객체에 대한 이야기를 옛날이야기로 시작한 이유는 **객체의 절대적 정의가 없다** 는 점을 강조하고 싶었기 때문입니다."
   ]
  },
  {
   "cell_type": "markdown",
   "metadata": {},
   "source": [
    "굉장히 많은 아이디어들이 섞여 지금의 객체에 이른 것이고 지금도 진화해 가는 중입니다. 그렇기 때문에 때로는 같은 개념을 다른 말로 쓰기도 하고, 다른 개념을 같은 말로 쓰기도 합니다. 또, 프로그래밍 언어마다 객체가 갖는 뜻이 조금씩 달라요. 많이 쓰이는 언어인 자바, C#의 객체와 파이썬의 객체는 다르고 활용법이나 관용적으로 쓰이는 모습이 다 다릅니다. 그래서 객체의 특성이라고 적어놔도 그 특성이 파이썬에는 없을 수도 있고, 파이썬에만 있을 수도 있습니다. 그래서 관련 자료를 찾아볼 때 용어를 설명하는 문맥을 잘 잡아내야 합니다."
   ]
  },
  {
   "cell_type": "markdown",
   "metadata": {},
   "source": [
    "이제 이 점을 꼭 기억하고 객체에 대해서 알아보러 떠나보죠~! 고고!!"
   ]
  },
  {
   "cell_type": "markdown",
   "metadata": {},
   "source": [
    "#### **객체**\n",
    "---"
   ]
  },
  {
   "cell_type": "markdown",
   "metadata": {},
   "source": [
    "Everything in Python is an object, and almost everything has attributes and methods."
   ]
  },
  {
   "cell_type": "markdown",
   "metadata": {},
   "source": [
    "\"파이썬(Python)에서 모든 것은 객체(object)다. 그래서 거의 모든 것이 **속성(attributes)** 과 **메서드(methods)** 를 갖는다.\" 고 하는데요. 변수의 묶음이 되는 속성과 연관된 함수를 엮어 놓은 메서드로 이루어졌다는 말입니다."
   ]
  },
  {
   "cell_type": "markdown",
   "metadata": {},
   "source": [
    "```python\n",
    "class Car:\n",
    "    def __init__(self):\n",
    "        # 변수를 만들면 속성이 됩니다\n",
    "        self.speed = 0\n",
    "        self.direction = 'none'\n",
    "\n",
    "    # 함수를 만들면 메서드가 됩니다\n",
    "    def run(self, speed, direction):\n",
    "        self.speed = speed\n",
    "        self.direction = direction\n",
    "        print('car is running')\n",
    "```"
   ]
  },
  {
   "cell_type": "markdown",
   "metadata": {},
   "source": [
    "이 정도로 객체를 만들 수 있다는 이야기인데요. 코드가 이해되지 않더라도 괜찮습니다. 객체 안에서 변수는 속성이 되고, 함수는 메서드가 된다는 점만 알면 됩니다. 이 용어들은 혼용되기도 합니다. 속성 대신 변수라는 말을 써도 괜찮고, 메서드 대신 함수라는 말을 써도 큰일나지 않습니다. 컴퓨터의 세상은 생각보다 엄밀하게 정의하지 않아요."
   ]
  },
  {
   "cell_type": "markdown",
   "metadata": {},
   "source": [
    "파이썬에서는 부울(bool), 정수, 실수, 문자열, 배열, 딕셔너리, 함수, 모듈, 프로그램.. 등 모든 것이 객체입니다. 이 말을 이해하지 못했다 하더라도 좋습니다. 어쨌든 객체라는 점만 확인하고 넘어갑시다. 파이썬의 모든 것이 객체임을 강조하는 이유는 그렇지 않은 프로그래밍 언어들이 있기 때문입니다. 객체가 없는 언어부터 일부분만 객체인 언어까지 다양합니다. 모든 데이터 형태를 객체로 다룬다는 것은 언어의 특징일 뿐 장점이라고 하기는 어렵습니다."
   ]
  },
  {
   "cell_type": "markdown",
   "metadata": {},
   "source": [
    "모든 것을 객체로 다루기 때문에 나타나는 파이썬의 특징들을 천천히 알아보죠."
   ]
  },
  {
   "cell_type": "markdown",
   "metadata": {},
   "source": [
    "#### **변수**\n",
    "\n",
    "---\n",
    "\n",
    "변수 `myvar`에 3을 할당해 보세요."
   ]
  },
  {
   "cell_type": "code",
   "execution_count": null,
   "metadata": {},
   "outputs": [],
   "source": [
    "myvar = 3\n",
    "myvar"
   ]
  },
  {
   "cell_type": "markdown",
   "metadata": {},
   "source": [
    "변수는 단지 이름일 뿐이에요. `=` 연산자를 이용해 값을 할당한다는 의미는 값을 복사하는 것이 아니라 데이터가 담긴 객체에 그냥 이름을 붙이는 것입니다. 진짜 객체를 변수명으로 가리켜 참조할 수 있게 하는 것이죠. `3`이라는 값이 `3`을 담은 객체로 자동으로 만들어집니다. 다른 언어에서는 `3`이라는 값과 `3`을 담은 객체는 다릅니다. 파이썬에서는 '`3`이라는 값'에 해당하는 개념이 없어요. 이런 걸 가리켜 모든 것이 객체라고 하는 거죠."
   ]
  },
  {
   "cell_type": "markdown",
   "metadata": {},
   "source": [
    "즉, 아래 코드는 '`cat`'이 담긴 문자열 타입의 객체를 생성하고 `myword`라는 변수(객체)에 할당, 문자열 객체를 참조하게 합니다."
   ]
  },
  {
   "cell_type": "code",
   "execution_count": null,
   "metadata": {},
   "outputs": [],
   "source": [
    "myword = 'cat'\n",
    "myword"
   ]
  },
  {
   "cell_type": "markdown",
   "metadata": {},
   "source": [
    "앞서 객체는 속성과 메서드를 포함한다고 했습니다. 문자열 클래스에는 `upper()`란 메서드가 있죠?"
   ]
  },
  {
   "cell_type": "code",
   "execution_count": null,
   "metadata": {},
   "outputs": [],
   "source": [
    "myword.upper()"
   ]
  },
  {
   "cell_type": "code",
   "execution_count": null,
   "metadata": {},
   "outputs": [],
   "source": [
    "'cat'.upper()"
   ]
  },
  {
   "cell_type": "markdown",
   "metadata": {},
   "source": [
    "위 두 코드의 출력값이 같습니다. `myword`가 가리키는 문자열과 `'cat'`의 값이 같기 때문입니다."
   ]
  },
  {
   "cell_type": "markdown",
   "metadata": {},
   "source": [
    "다른 예제를 보시죠."
   ]
  },
  {
   "cell_type": "code",
   "execution_count": null,
   "metadata": {},
   "outputs": [],
   "source": [
    "var = 4\n",
    "var"
   ]
  },
  {
   "cell_type": "markdown",
   "metadata": {},
   "source": [
    "변수 `var`에 정수 `4`를 할당합니다.\n",
    "한번 `id()` 라는 함수를 사용해서 객체의 identity를 확인해 보겠습니다."
   ]
  },
  {
   "cell_type": "markdown",
   "metadata": {},
   "source": [
    "`id()` 함수는 파이썬 내장함수로, 프로그램이 돌아가고 있는 동안 객체의 고윳값(identity)을 반환합니다. identity는 메모리 주소 또는 그냥 객체마다 부여된 유일한 값이라고 생각하시면 됩니다. 우리가 주로 쓰는 일반적인 파이썬에서는 메모리 주소를 뜻한다고 합니다."
   ]
  },
  {
   "cell_type": "markdown",
   "metadata": {},
   "source": [
    "- [파이썬 공식 문서: id() 함수](https://docs.python.org/3/library/functions.html#id)"
   ]
  },
  {
   "cell_type": "markdown",
   "metadata": {},
   "source": [
    "변수 `var`와 정수 `4`의 id 값을 확인해 보면 동일합니다."
   ]
  },
  {
   "cell_type": "code",
   "execution_count": null,
   "metadata": {},
   "outputs": [],
   "source": [
    "print(id(var), id(4)) #id 값은 pc마다 다릅니다."
   ]
  },
  {
   "cell_type": "markdown",
   "metadata": {},
   "source": [
    "다음 그림처럼 `4`라는 데이터를 변수 `var`에 할당시킨 것입니다. 따라서 `var`, `4` 각각의 id값을 확인해 보면 같은 값이 나옴을 확인할 수 있습니다."
   ]
  },
  {
   "cell_type": "markdown",
   "metadata": {},
   "source": [
    "이것이 파이썬의 모든 것이 객체이기 때문에 나타나는 일입니다. 꽤 많은 다른 언어들에서는 이런 일이 일어나지 않습니다. 왜냐하면 다른 언어에서는 모든 것이 객체는 아니기 때문이죠."
   ]
  },
  {
   "cell_type": "markdown",
   "metadata": {},
   "source": [
    "![python is a object](../Images/lec_3/3.png)"
   ]
  },
  {
   "cell_type": "markdown",
   "metadata": {},
   "source": [
    "#### **얕은 복사, 깊은 복사**\n",
    "\n",
    "---\n",
    "\n",
    "변수 `var`에 리스트 변수 `mylist`를 할당합니다."
   ]
  },
  {
   "cell_type": "code",
   "execution_count": null,
   "metadata": {},
   "outputs": [],
   "source": [
    "mylist = [1,2,3]\n",
    "var = mylist\n",
    "var"
   ]
  },
  {
   "cell_type": "markdown",
   "metadata": {},
   "source": [
    "`mylist`에 `append()` 메서드를 이용해서 원소 `4` 를 추가해 봅니다."
   ]
  },
  {
   "cell_type": "code",
   "execution_count": null,
   "metadata": {},
   "outputs": [],
   "source": [
    "mylist.append(4)\n",
    "print(mylist)"
   ]
  },
  {
   "cell_type": "markdown",
   "metadata": {},
   "source": [
    "`var`를 출력해 보겠습니다."
   ]
  },
  {
   "cell_type": "code",
   "execution_count": null,
   "metadata": {},
   "outputs": [],
   "source": [
    "print(var)"
   ]
  },
  {
   "cell_type": "markdown",
   "metadata": {},
   "source": [
    "`var`에도 `mylist`와 동일한 연산이 적용되었습니다. 어떻게 된 걸까요? `mylist`와 `var`의 id 값을 확인해 보면, 같은 값이 나오는 것을 확인할 수 있습니다."
   ]
  },
  {
   "cell_type": "code",
   "execution_count": null,
   "metadata": {},
   "outputs": [],
   "source": [
    "# Q. mylist와 var의 id 값을 확인해봅시다.\n",
    "print(mylist, var)"
   ]
  },
  {
   "cell_type": "markdown",
   "metadata": {},
   "source": [
    "변수 `var`에 `mylist`를 할당하면 `var`와 `mylist`는 `[1,2,3,4]`라는 같은 데이터를 참조하게 됩니다. 따라서 `var`와 `mylist`는 id 값이 같으며, `var`도 `mylist`의 연산으로 원소가 추가된 `[1,2,3,4]` 데이터를 참조하게 됩니다. 이렇게 원본 데이터는 그대로 두고, 참조하는 데이터의 id만을 복사하는 것을 **얕은 복사**라고 합니다."
   ]
  },
  {
   "cell_type": "markdown",
   "metadata": {},
   "source": [
    "그런데 우리가 생각하는 복사는 동일한 `[1,2,3,4]` 데이터가 생기는 것이겠죠.\n",
    "이런 복사를 파이썬을 비롯한 프로그래밍에서는 **깊은 복사**라고 합니다."
   ]
  },
  {
   "cell_type": "markdown",
   "metadata": {},
   "source": [
    "아래 링크는 파이썬에서 공식적으로 지원하는 깊은 복사와 얕은 복사 관련 함수입니다."
   ]
  },
  {
   "cell_type": "markdown",
   "metadata": {},
   "source": [
    "- [파이썬 공식 문서: copy() 모듈](https://docs.python.org/3/library/copy.html)"
   ]
  },
  {
   "cell_type": "markdown",
   "metadata": {},
   "source": [
    "원칙적으로 얕은 복사는 원본 객체의 주소를 복사하고, 깊은 복사는 원본 객체의 값을 복사한다고 기억하시면 됩니다. 다만 파이썬에서 얕은 복사, 깊은 복사의 기준은 조금 복잡하므로 우선 서로 다르다는 것만 기억하고, 좀 더 공부한 뒤 필요할 때 다시 공식 문서로 공부해 보세요."
   ]
  },
  {
   "cell_type": "markdown",
   "metadata": {},
   "source": [
    "요약\n",
    "- 파이썬에서는 모든 것(부울, 정수, 실수, 데이터구조(list,tuple,dict,set...), 함수, 프로그램, 모듈)이 객체입니다.\n",
    "- 객체는 상태(state)를 나타내는 속성(attribute)과 동작(behavior)을 나타내는 메서드(method)가 있습니다.\n",
    "- 객체의 속성은 변수로 구현되고, 객체의 메서드는 함수로 구현됩니다."
   ]
  },
  {
   "cell_type": "markdown",
   "metadata": {},
   "source": [
    "## 3-3. 객체 지향 프로그래밍 (2) 객체 지향 프로그래밍이란?"
   ]
  },
  {
   "cell_type": "markdown",
   "metadata": {},
   "source": [
    "앞에서 객체에 대한 개념과 객체를 담는(참조하는) 변수에 대해 알아보았는데요. 이렇게 객체를 활용한 프로그래밍을 **객체 지향 프로그래밍(OOP: Object Oriented Programming)** 이라고 합니다."
   ]
  },
  {
   "cell_type": "markdown",
   "metadata": {},
   "source": [
    "앞서 설명한 객체를 기반으로 하는 프로그래밍 언어가 여럿 등장한 후, 객체의 장점에 주목하기 시작합니다. 또, 컴퓨터가 전문가의 영역을 떠나 일반인이 사용할 수 있는 형태로 이용되면서 객체의 장점이 더욱 두드러지게 됩니다. 그러면서 점점 객체'만' 이용한 프로그래밍 방법론이 두각 되고, 이것이 가능하고 충분한 검증이 이루어진 후로는 대세로 자리 잡았지요."
   ]
  },
  {
   "cell_type": "markdown",
   "metadata": {},
   "source": [
    "객체 지향 프로그래밍에서는 만들고자 하는 것을 모두 객체로 만듭니다. 이 관점은 프로그램에서 처리하려는 데이터(변수)의 **묶음**을 가장 중요하게 봅니다. 데이터(변수)를 잘 엮어 처리하고 나면 우리가 원하는 결과를 얻을 수 있다는 것이죠. 도서관 관리 프로그램을 예로 들자면, 책, 방문자, 대여 상태 등을 모두 데이터(변수)의 묶음으로 만들고 처리하는 것입니다. 눈에 보이는 물질은 물론 보이지 않는 개념(e.g. 대여 상태의 변화)도 객체로 만드는 것이 가능했고, 객체 지향 프로그래밍으로 해결할 수 있었기 때문에 주류 패러다임이 될 수 있었죠."
   ]
  },
  {
   "cell_type": "markdown",
   "metadata": {},
   "source": [
    "![https://www.info.ucl.ac.be/~pvr/VanRoyChapter.pdf](../Images/lec_3/4.png)"
   ]
  },
  {
   "cell_type": "markdown",
   "metadata": {},
   "source": [
    "반면 이 아이디어 외에도 데이터(변수)를 함수로 어떻게 처리를 해야 할지에 관해 심도 있는 논의가 진행되었습니다. 이 방향으로 발전된 것이 절차 지향 프로그래밍입니다. 절차 지향 프로그래밍은 데이터(변수)를 묶음으로 표현하는 데는 관심이 없고 함수를 이용한 처리에 관심이 큽니다. 그래서 최근 분산 환경에서 데이터 처리에 매우 효율적이기 때문에 각광받고 있죠."
   ]
  },
  {
   "cell_type": "markdown",
   "metadata": {},
   "source": [
    "객체 지향 프로그래밍과 절차 지향 프로그래밍은 모두 프로그램을 어떻게 사용할지에 따른 관심 차이로 발전한 프로그래밍 패러다임입니다. 두 가지가 흑과 백처럼 배척되는 것이 아닙니다. 물론 이 두 가지 말고도 다른 관점을 가질 수도 있지만 이 두 가지 패러다임이 특히 효율적이었기 때문에 많은 주목을 받고 있습니다."
   ]
  },
  {
   "cell_type": "markdown",
   "metadata": {},
   "source": [
    "![Object Programming Language](../Images/lec_3/5.png)"
   ]
  },
  {
   "cell_type": "markdown",
   "metadata": {},
   "source": [
    "한편 객체 지향 프로그래밍은 이후로 객체끼리의 상호 작용을 하는 방법, 데이터(변수)를 안전하게 보관하는 체계, 거대한 프로그램도 오류 없이 작성할 수 있는 설계 등 큰 발전을 이루게 됩니다."
   ]
  },
  {
   "cell_type": "markdown",
   "metadata": {},
   "source": [
    "이 외에도 객체 지향 프로그래밍은 소프트웨어와 프로그래밍 전반에 오랜 기간 동안 사용된 개념으로 노드 하나에 다루기에는 그 양이 매우 많습니다. **따라서, 이번 노드에서 다루는 내용은 객체 지향 프로그램의 동작 원리가 아닌 구현 방법에 대해 설명하겠습니다.** 즉, 어떻게 사용하고 어디에 활용하는지를 주로 다루어볼 예정입니다."
   ]
  },
  {
   "cell_type": "markdown",
   "metadata": {},
   "source": [
    "## 3-4. 클래스 기본 문법 (1) 클래스 선언 및 인스턴스화"
   ]
  },
  {
   "cell_type": "markdown",
   "metadata": {},
   "source": [
    "파이썬에서 개발자가 객체를 직접 설계하기 위해서는 `class` 키워드를 이용합니다. 기본 클래스 문법을 익혀 보겠습니다."
   ]
  },
  {
   "cell_type": "markdown",
   "metadata": {},
   "source": [
    "#### **클래스 선언**\n",
    "---"
   ]
  },
  {
   "cell_type": "markdown",
   "metadata": {},
   "source": [
    "![Declare 'class'](../Images/lec_3/6.png)"
   ]
  },
  {
   "cell_type": "code",
   "execution_count": null,
   "metadata": {},
   "outputs": [],
   "source": [
    "class Car:\n",
    "    pass\n",
    "\n",
    "class Car():\n",
    "    pass\n",
    "\n",
    "#id(Car)는 여러번 호출해도 같은 값이 얻어집니다. \n",
    "print(id(Car))\n",
    "print(id(Car))\n",
    "\n",
    "#id(Car())는 Car()가 호출될 때마다 다른 값이 얻어집니다. \n",
    "print(id(Car()))\n",
    "print(id(Car()))\n",
    "\n",
    "# 두 객체의 type을 살펴봅니다. \n",
    "print(type(Car))\n",
    "print(type(Car()))"
   ]
  },
  {
   "cell_type": "markdown",
   "metadata": {},
   "source": [
    "이처럼 클래스 선언은 `class` 키워드를 이용합니다. `class` 키워드를 쓰고 클래스 이름을 쓴 다음 `:`(콜론)을 씁니다. 클래스 이름 다음에 소괄호를 적어 주어도 되지만 보통은 생략합니다."
   ]
  },
  {
   "cell_type": "markdown",
   "metadata": {},
   "source": [
    "위 코드에서 보면, `Car`라는 클래스 자체도 객체이고, `Car()`를 호출할 때마다 새로운 `Car` 타입의 객체가 생성됩니다. 둘 다 id가 존재하기 때문입니다. 그러나, `id(Car)`의 값은 몇 번 호출되더라도 동일하지만 `id(Car())`는 호출될 때마다 다른 id 값을 가진다는 것도 알 수 있습니다."
   ]
  },
  {
   "cell_type": "markdown",
   "metadata": {},
   "source": [
    "`Car`라는 클래스는 `type` 유형의 객체입니다. `Car()`가 호출될 때 `Car` 타입의 객체가 생성됩니다.\n",
    "\n",
    "<br><br>"
   ]
  },
  {
   "cell_type": "markdown",
   "metadata": {},
   "source": [
    "#### **클래스 사용 - 객체 인스턴스화**\n",
    "\n",
    "---\n",
    "\n",
    "클래스를 이용하려면 클래스로 객체를 만들어 주어야 하는데요. 이를 **인스턴스화**라고 합니다."
   ]
  },
  {
   "cell_type": "code",
   "execution_count": null,
   "metadata": {},
   "outputs": [],
   "source": [
    "# Q. 생성된 인스턴스 mycar, mycar2의 id 값을 각각 출력해보세요.\n",
    "mycar = Car()\n",
    "mycar2 = Car()\n",
    "# [[YOUR CODE]]\n",
    "print(id(mycar))\n",
    "print(id(mycar2))"
   ]
  },
  {
   "cell_type": "markdown",
   "metadata": {},
   "source": [
    "클래스명에 괄호를 추가해 객체를 만든 후, `mycar`와 `mycar2`란 변수에 이 객체를 할당했습니다. `mycar` 변수에 `Car` 클래스의 인스턴스를 할당한 것입니다. 종종 \"클래스를 호출(call) 했다\"라는 표현을 쓰기도 합니다. 위 코드에서는 인스턴스가 생성될 때마다 객체를 할당받은 변수들에게 다른 id가 부여되는 것을 알 수 있습니다."
   ]
  },
  {
   "cell_type": "markdown",
   "metadata": {},
   "source": [
    "**표기법**"
   ]
  },
  {
   "cell_type": "markdown",
   "metadata": {},
   "source": [
    "그런데 잠깐만!! 이 인스턴스화하는 방법, 어디서 많이 본 것 같지 않나요? 네 맞아요.<br>\n",
    "함수를 호출하는 것과 클래스로 객체를 만드는 것은 문법이 너무 비슷합니다. 클래스에서도 상속을 사용할 때는 클래스를 선언 시 소괄호를 붙이기도 하고, 초깃값을 설정할 때 인스턴스화 시 인자를 전달하기도 합니다. 함수와 매우 비슷하죠? 이건 어떻게 구분할까요?"
   ]
  },
  {
   "cell_type": "markdown",
   "metadata": {},
   "source": [
    "파이썬에서는 클래스명과 함수명을 다르게 표기하는 방법을 사용합니다. 강제사항은 아니에요. 하지만 나만 다르게 표기하면 오해가 생기기 쉬우니 주의하세요!"
   ]
  },
  {
   "cell_type": "markdown",
   "metadata": {},
   "source": [
    "PEP는 Python Enhancement Proposals의 약자로 파이썬 개선사항을 위한 공식 문서입니다. 그중에서도 PEP8은 파이썬 코딩 스타일(변수명, 코드 표기법 등등)을 개정한 문서인데요, 여기에서 다음과 같이 사용할 것을 권고하고 있습니다."
   ]
  },
  {
   "cell_type": "markdown",
   "metadata": {},
   "source": [
    "**클래스명 표기법: 파스칼 케이스**\n",
    "\n",
    "- 파스칼 케이스: 각 단어의 앞 글자를 대문자로 쓸 것.\n",
    "- 예시: mycar —> MyCar\n",
    "\n",
    "<br>\n",
    "\n",
    "**함수명 표기법: 스네이크 케이스**\n",
    "\n",
    "- 스네이크 케이스: 단어는 소문자로 쓰고 각 단어의 연결은 언더바(_)를 사용할 것\n",
    "- 예시: mycar —> my_car"
   ]
  },
  {
   "cell_type": "markdown",
   "metadata": {},
   "source": [
    "그리고 추가로 클래스명은 주로 명사로, 함수명은 주로 동사로 명명합니다.<br>\n",
    "(이 부분은 파이썬 코드를 깨끗이 작성하는 \"Clean Code\" 규범과 관련된 내용이니 참고로만 알고 계세요)"
   ]
  },
  {
   "cell_type": "markdown",
   "metadata": {},
   "source": [
    "다른 사람이 만들어놓은 경우에는 `type()` 함수를 이용해서 확인해 보는 것도 좋은 방법이겠네요!"
   ]
  },
  {
   "cell_type": "markdown",
   "metadata": {},
   "source": [
    "## 3-5. 클래스 기본 문법 (2) 클래스 속성과 메서드"
   ]
  },
  {
   "cell_type": "markdown",
   "metadata": {},
   "source": [
    "#### **클래스의 속성과 메서드**\n",
    "\n",
    "---\n",
    "\n",
    "앞서 클래스는 개발자가 객체를 설계하기 위한 것이라고 했습니다. 그리고 맨 처음에 객체에는 속성과 메서드가 있다고 배웠습니다.<br>\n",
    "그럼 클래스에서 속성과 메서드를 구현할 수 있어야겠죠?"
   ]
  },
  {
   "cell_type": "markdown",
   "metadata": {},
   "source": [
    "- 클래스의 속성은 상태(state)를 표현합니다. 속성은 변수로 나타냅니다.\n",
    "- 클래스의 메서드는 동작(behavior)을 표현합니다. 메서드는 `def` 키워드로 나타냅니다."
   ]
  },
  {
   "cell_type": "markdown",
   "metadata": {},
   "source": [
    "그럼 이어서 `Car` 클래스를 계속 코딩하도록 하겠습니다.<br>\n",
    "`색상`은 \"red\", `종류`는 \"sports car\"라는 **속성**을 갖고 `주행`과 `가속`이라는 **동작**을 갖는 클래스를 정의해 보겠습니다."
   ]
  },
  {
   "cell_type": "markdown",
   "metadata": {},
   "source": [
    "먼저 간단하게 손코딩으로 해볼게요."
   ]
  },
  {
   "cell_type": "markdown",
   "metadata": {},
   "source": [
    "속성 은 변수로 선언한다고 했으니 아래와 같이 선언하겠습니다."
   ]
  },
  {
   "cell_type": "markdown",
   "metadata": {},
   "source": [
    "- color = 'red'\n",
    "- category = 'sports car'"
   ]
  },
  {
   "cell_type": "markdown",
   "metadata": {},
   "source": [
    "**동작** 은 다른 말로 메서드이고, 메서드는 `def` 키워드를 사용한다고 했습니다. 다음과 같이 선언해 봅시다."
   ]
  },
  {
   "cell_type": "markdown",
   "metadata": {},
   "source": [
    "```python\n",
    "def driving():\n",
    "    pass\n",
    "\n",
    "def accel():\n",
    "    pass\n",
    "```"
   ]
  },
  {
   "cell_type": "markdown",
   "metadata": {},
   "source": [
    "`Car` 클래스에 우리가 원하는 속성과 동작을 담아보겠습니다."
   ]
  },
  {
   "cell_type": "markdown",
   "metadata": {},
   "source": [
    "**전체 코드**"
   ]
  },
  {
   "cell_type": "code",
   "execution_count": null,
   "metadata": {},
   "outputs": [],
   "source": [
    "class Car:\n",
    "    color = 'red'\n",
    "    category = 'sports car'\n",
    "\n",
    "    def drive(self):\n",
    "        print(\"I'm driving\")\n",
    "\n",
    "    def accel(self, speed_up, current_speed=10):\n",
    "        self.speed_up = speed_up\n",
    "        self.current_speed = current_speed + speed_up\n",
    "        print(\"speed up\", self.speed_up, \"driving at\", self.current_speed)"
   ]
  },
  {
   "cell_type": "markdown",
   "metadata": {},
   "source": [
    "**코드 설명**"
   ]
  },
  {
   "cell_type": "markdown",
   "metadata": {},
   "source": [
    "코드를 다시 보면서 주석과 아래의 설명을 비교해 보세요."
   ]
  },
  {
   "cell_type": "markdown",
   "metadata": {},
   "source": [
    "```python\n",
    "# Car 클래스입니다.\n",
    "class Car:\n",
    "    '''\n",
    "    속성은 클래스의 상태를 나타냅니다.\n",
    "    색상: 빨강\n",
    "    종류: 스포츠 카\n",
    "    '''\n",
    "    color = 'red'\n",
    "    category = 'sports car'\n",
    "\t\t\n",
    "    '''\n",
    "    동작은 메서드로 나타냅니다.\n",
    "    '''\n",
    "    def drive(self):\n",
    "        '''\n",
    "        주행 메서드\n",
    "        '''\n",
    "        print(\"I'm driving\")\n",
    "\t\t\t\t\n",
    "    def accel(self, speed_up, current_speed=10):\n",
    "        '''\n",
    "        가속 메서드\n",
    "        :param speed_up: 가속\n",
    "        :param current_speed: 현재 속도\n",
    "        :type speed_up: string\n",
    "        :type current_speed: string\n",
    "        '''\n",
    "        self.speed_up = speed_up\n",
    "        self.current_speed = current_speed + speed_up\n",
    "        print(\"speed up\", self.speed_up, \"driving at\", self.current_speed)\n",
    "```"
   ]
  },
  {
   "cell_type": "markdown",
   "metadata": {},
   "source": [
    "- 속성\n",
    "    - 클래스의 상태는 속성이라고 부르며, 변수로 선언합니다.\n",
    "    - `color`에는 'red'를 `category`에는 'sports car'를 할당합니다.\n",
    "\n",
    "<br>\n",
    "\n",
    "- 메서드\n",
    "    - 동작은 메서드로 나타내고 메서드 선언은 함수와 똑같이 `def` 키워드를 이용합니다.\n",
    "    - 클래스의 메서드는 **첫 번째 인자**는 `self` 값을 적어 주어야 합니다. (`self` 에 대한 설명은 나중에 하겠습니다)\n",
    "    - 주행은 `drive()`라는 메서드명으로 정의하고 self외에 인자는 없습니다.\n",
    "    - 가속은 `accel()`라는 메서드명으로 정의하고 현재 속도와 가속할 값을 인자로 받습니다.<br><br>\n",
    "        - 현재속도 인자명 = `current_speed`, 가속 인자명 = `speed_up`\n",
    "        - `accel` 메서드에 `self.speed_up`, `self.current_speed` 를 인자로 줍니다."
   ]
  },
  {
   "cell_type": "markdown",
   "metadata": {},
   "source": [
    "코드 설명 부분 중에 익숙지 않은 내용도 있을 겁니다. 일단 속성과 메서드 사용법부터 설명하고 나머지 부분을 추가로 설명하겠습니다."
   ]
  },
  {
   "cell_type": "markdown",
   "metadata": {},
   "source": [
    "#### **클래스의 속성과 메서드 사용**\n",
    "---"
   ]
  },
  {
   "cell_type": "markdown",
   "metadata": {},
   "source": [
    "**속성**"
   ]
  },
  {
   "cell_type": "markdown",
   "metadata": {},
   "source": [
    "클래스의 속성과 메서드를 사용해 봅시다. 클래스의 속성에 접근하기 위해서는 인스턴스 객체에 . 을 쓰고 그 뒤에 속성명을 적습니다."
   ]
  },
  {
   "cell_type": "code",
   "execution_count": null,
   "metadata": {},
   "outputs": [],
   "source": [
    "mycar = Car()"
   ]
  },
  {
   "cell_type": "code",
   "execution_count": null,
   "metadata": {},
   "outputs": [],
   "source": [
    "print(mycar.color)"
   ]
  },
  {
   "cell_type": "markdown",
   "metadata": {},
   "source": [
    "아래 코드처럼 없는 속성값에 접근하면 에러가 발생합니다."
   ]
  },
  {
   "cell_type": "code",
   "execution_count": null,
   "metadata": {},
   "outputs": [],
   "source": [
    "# Q. Car 클래스에 정의되지 않은 속성 'price'에 접근해봅시다.\n",
    "# (에러가 나는 것이 정상입니다!)\n",
    "# [[YOUR CODE]]\n",
    "print(mycar.price)"
   ]
  },
  {
   "cell_type": "markdown",
   "metadata": {},
   "source": [
    "**메서드**"
   ]
  },
  {
   "cell_type": "markdown",
   "metadata": {},
   "source": [
    "메서드를 호출하는 방법은 속성 접근과 유사합니다. 인스턴스 객체에 `.`을 쓰고 그 뒤에 메서드 명을 적어줍니다.<br>\n",
    "메서드는 `def` 키워드로 구현한다고 했습니다. 다시 말하면 클래스의 메서드는 클래스 내에 정의된 함수라고 말할 수 있습니다.<br>\n",
    "따라서, 함수를 호출하는 것과 동일하게 함수 이름을 쓰고 소괄호 \"()\"를 적어 줍니다."
   ]
  },
  {
   "cell_type": "markdown",
   "metadata": {},
   "source": [
    "**메서드 호출 (feat. 인터프리터에서 벌어지는 일)**"
   ]
  },
  {
   "cell_type": "markdown",
   "metadata": {},
   "source": [
    "눈썰미가 좋은 분들은 메서드를 정의할 때 `self` 라는 인자를 전달해 준 것을 발견하셨을 것입니다.<br>\n",
    "그런데 메서드를 호출할 때는 `self` 인자를 명시적으로 전달해 주지 않아도 됩니다."
   ]
  },
  {
   "cell_type": "code",
   "execution_count": null,
   "metadata": {},
   "outputs": [],
   "source": [
    "mycar.drive()"
   ]
  },
  {
   "cell_type": "code",
   "execution_count": null,
   "metadata": {},
   "outputs": [],
   "source": [
    "mycar.accel(5)"
   ]
  },
  {
   "cell_type": "markdown",
   "metadata": {},
   "source": [
    "이건 무슨 일일까요? 우리가 작성한 `mycar.drive()` 코드는 인터프리터 내부에서는 `Car.drive(mycar)`로 동작합니다.<br>\n",
    "`self`라는 단어는 클래스를 인스턴스화 한 인스턴스 객체를 가리킵니다.<br>\n",
    "메서드를 호출할 때, 우리가 명시적으로 인자를 넣지는 않지만 파이썬 내부적으로는 (=파이썬 인터프리터에서는) 인자 한 개를 사용하고 있고, 그 인자는 파이썬 클래스에 의해 선언된 객체 자신(`self`)입니다."
   ]
  },
  {
   "cell_type": "markdown",
   "metadata": {},
   "source": [
    "즉, 아래 두 코드는 똑같이 동작합니다."
   ]
  },
  {
   "cell_type": "code",
   "execution_count": null,
   "metadata": {},
   "outputs": [],
   "source": [
    "mycar.drive()"
   ]
  },
  {
   "cell_type": "code",
   "execution_count": null,
   "metadata": {},
   "outputs": [],
   "source": [
    "Car.drive(mycar)"
   ]
  },
  {
   "cell_type": "markdown",
   "metadata": {},
   "source": [
    "코드 구현을 도식적으로 표현한 그림입니다."
   ]
  },
  {
   "cell_type": "markdown",
   "metadata": {},
   "source": [
    "![mycar.drive() flow](../Images/lec_3/7.png)"
   ]
  },
  {
   "cell_type": "markdown",
   "metadata": {},
   "source": [
    "이런 구현이 가능하게 하는 것이 바로 `self` 인자입니다."
   ]
  },
  {
   "cell_type": "markdown",
   "metadata": {},
   "source": [
    "![Class self argument](../Images/lec_3/8.png)"
   ]
  },
  {
   "cell_type": "markdown",
   "metadata": {},
   "source": [
    "그러나 그 누구도 `Car.drive(mycar)`라고 사용하지 않습니다. **여러분 절대 이렇게 구현하지 마세요!**\n",
    "다른 사람들이 알아보기 힘들고 코드야 어떻게든 동작하겠지만 파이썬 인터프리터가 처리해 주는 일을 너무 어렵게 구현하는 것입니다."
   ]
  },
  {
   "cell_type": "markdown",
   "metadata": {},
   "source": [
    "참고로, 클래스 메서드를 정의할 때 `self` 인자를 사용하지 않으면 에러가 발생합니다.\n",
    "아래의 `run2()` 메서드처럼요."
   ]
  },
  {
   "cell_type": "code",
   "execution_count": null,
   "metadata": {},
   "outputs": [],
   "source": [
    "class Test:\n",
    "    def run1(self):\n",
    "        print(\"run1\")\n",
    "\n",
    "    def run2():\n",
    "        print(\"run2\")\n",
    "\n",
    "t = Test()"
   ]
  },
  {
   "cell_type": "code",
   "execution_count": null,
   "metadata": {},
   "outputs": [],
   "source": [
    "# Q. 객체 t의 메서드 run1을 호출해봅시다.\n",
    "# [[YOUR CODE]]\n",
    "t.run1()"
   ]
  },
  {
   "cell_type": "code",
   "execution_count": null,
   "metadata": {},
   "outputs": [],
   "source": [
    "# Q. 객체 t의 메서드 run2를 호출해봅시다.\n",
    "# [[YOUR CODE]]\n",
    "t.run2()"
   ]
  },
  {
   "cell_type": "markdown",
   "metadata": {},
   "source": [
    "**접두사 self.**"
   ]
  },
  {
   "cell_type": "markdown",
   "metadata": {},
   "source": [
    "같은 이유로 인스턴스의 속성으로 사용하고 싶은 변수는 `self.`을 써줍니다. `self` 인자를 통해 선언된 객체의 값이란 의미입니다."
   ]
  },
  {
   "cell_type": "markdown",
   "metadata": {},
   "source": [
    "객체 안에서 `self`를 사용하면 인스턴스 객체의 고유한 속성을 나타낼 수 있습니다. 클래스가 아닌 `self`, 즉 인스턴스화된 객체 자신의 속성이라는 뜻입니다. 참고로 클래스의 메서드 내부에서 `self.` 접두사가 없이 일반 변수와 같게 선언된 변수는 메서드 내부에서만 사용되므로, `self.`를 사용해 참조할 수 없습니다."
   ]
  },
  {
   "cell_type": "markdown",
   "metadata": {},
   "source": [
    "아래의 두 메서드를 비교해 보세요."
   ]
  },
  {
   "cell_type": "code",
   "execution_count": null,
   "metadata": {},
   "outputs": [],
   "source": [
    "class Test2:\n",
    "    def run1(self, a):\n",
    "        self.a = float(a) * 10\n",
    "        print(self.a)\n",
    "\n",
    "    def run2(self, b):\n",
    "        b = float(b) + 10\n",
    "        print(self.b)\n",
    "        \n",
    "t = Test2()"
   ]
  },
  {
   "cell_type": "code",
   "execution_count": null,
   "metadata": {},
   "outputs": [],
   "source": [
    "t.run1(1)"
   ]
  },
  {
   "cell_type": "code",
   "execution_count": null,
   "metadata": {},
   "outputs": [],
   "source": [
    "t.run2(1)"
   ]
  },
  {
   "cell_type": "markdown",
   "metadata": {},
   "source": [
    "`self` **요약**"
   ]
  },
  {
   "cell_type": "markdown",
   "metadata": {},
   "source": [
    "`self`는 초보자에게는 조금 어려운 개념입니다."
   ]
  },
  {
   "cell_type": "markdown",
   "metadata": {},
   "source": [
    "- `self`는 자기 자신입니다.\n",
    "- 클래스에 의해 생성된 객체(인스턴스)를 가리킵니다.\n",
    "- 클래스의 메서드는 인자로 해당 인스턴스(`self`)를 받아야 합니다.\n",
    "- 메서드를 호출할 때는 `self` 인자를 전달하지 않습니다. `self`의 값은 인터프리터가 제공합니다.\n",
    "- 인스턴스 변수를 정의할 때에는 접두사 `self.`을 붙여줍니다."
   ]
  },
  {
   "cell_type": "markdown",
   "metadata": {},
   "source": [
    "## 3-6. 클래스 기본 문법 (3) 생성자"
   ]
  },
  {
   "cell_type": "markdown",
   "metadata": {},
   "source": [
    "#### **생성자 `__init__`**\n",
    "\n",
    "---\n",
    "\n",
    "클래스에 의해 만든 인스턴스 객체의 속성값을 사용자는 어떻게 초기화할 수 있을까요? Car 클래스를 만들 때부터 색깔과 카테고리를 지정해 주고 싶다면 어떻게 그 값을 전달해 줄 수 있을까요? `__init__ `을 사용해서 만들 수 있습니다. 아래 캡처본은 파이썬 공식 문서에서 설명하고 있는 `__init__`의 문법입니다."
   ]
  },
  {
   "cell_type": "markdown",
   "metadata": {},
   "source": [
    "![python __init__()](../Images/lec_3/9.png)"
   ]
  },
  {
   "cell_type": "markdown",
   "metadata": {},
   "source": [
    "- [파이썬 문서-클래스](https://docs.python.org/3.8/tutorial/classes.html)"
   ]
  },
  {
   "cell_type": "markdown",
   "metadata": {},
   "source": [
    "문법 내용이 많진 않죠? 우리가 아까 설계한 `Car` 클래스로 연습해 보겠습니다."
   ]
  },
  {
   "cell_type": "code",
   "execution_count": null,
   "metadata": {},
   "outputs": [],
   "source": [
    "class Car:\n",
    "    color = 'red'\n",
    "    category = 'sports car'\n",
    "\n",
    "    def drive(self):\n",
    "        print(\"I'm driving\")\n",
    "\n",
    "    def accel(self, speed_up, current_speed=10):\n",
    "        self.speed_up = speed_up\n",
    "        self.current_speed = current_speed + self.speed_up\n",
    "        print(\"speed up\", self.speed_up, \"driving at\", self.current_speed)"
   ]
  },
  {
   "cell_type": "markdown",
   "metadata": {},
   "source": [
    "아래는 `Car` 클래스 인스턴스의 `color`와 `category`를 초기화하도록 변경한 코드입니다."
   ]
  },
  {
   "cell_type": "code",
   "execution_count": null,
   "metadata": {},
   "outputs": [],
   "source": [
    "class Car2:\n",
    "    def __init__(self, color, category):\n",
    "        self.color = color\n",
    "        self.category = category\n",
    "\n",
    "    def drive(self):\n",
    "        print(\"I'm driving\")\n",
    "\n",
    "    def accel(self, speed_up, current_speed=10):\n",
    "        self.speed_up = speed_up\n",
    "        self.current_speed = current_speed + self.speed_up\n",
    "        print(\"speed up\", self.speed_up, \"driving at\", self.current_speed)"
   ]
  },
  {
   "cell_type": "markdown",
   "metadata": {},
   "source": [
    "**코드 설명**"
   ]
  },
  {
   "cell_type": "markdown",
   "metadata": {},
   "source": [
    "- `__init__` 메서드 안에 인자를 전달함으로써 인스턴스 객체의 속성을 초기화할 수 있습니다.\n",
    "- 즉, `__init__` 메서드 안에 정의된 속성(변수) color와 category는 클래스를 인스턴스화할 때 값을 설정할 수 있습니다.\n",
    "- 이를 인스턴스 객체의 초기화 (initializing instance) 라고 히고, `__init__`함수는 생성자(constructor)라고 합니다.\n",
    "- `__init__` 역시 `def` 키워드로 정의합니다. 즉, 클래스 안의 메서드이므로 `self` 문법 잊지 마세요!"
   ]
  },
  {
   "cell_type": "markdown",
   "metadata": {},
   "source": [
    "실제로 동작시켜 보겠습니다."
   ]
  },
  {
   "cell_type": "code",
   "execution_count": null,
   "metadata": {},
   "outputs": [],
   "source": [
    "#인스턴스 객체 선언\n",
    "car1 = Car()\n",
    "car2 = Car2('yellow', 'sedan')"
   ]
  },
  {
   "cell_type": "markdown",
   "metadata": {},
   "source": [
    "`Car2` 클래스를 인스턴스 객체로 만든 `car2` 와 같이 인스턴스 객체를 선언할 때 인자를 전달해 주는 형식으로 객체를 초기화 시킬 수 있습니다."
   ]
  },
  {
   "cell_type": "code",
   "execution_count": null,
   "metadata": {},
   "outputs": [],
   "source": [
    "# Q. car1 객체의 color 속성을 출력합니다.\n",
    "# [[YOUR CODE]]\n",
    "car1.color"
   ]
  },
  {
   "cell_type": "code",
   "execution_count": null,
   "metadata": {},
   "outputs": [],
   "source": [
    "# Q. car2 객체의 color 속성을 출력합니다.\n",
    "# [[YOUR CODE]]\n",
    "car2.color"
   ]
  },
  {
   "cell_type": "code",
   "execution_count": null,
   "metadata": {},
   "outputs": [],
   "source": [
    "# Q. car1 객체의 category 속성을 출력합니다.\n",
    "# [[YOUR CODE]]\n",
    "car1.category"
   ]
  },
  {
   "cell_type": "code",
   "execution_count": null,
   "metadata": {},
   "outputs": [],
   "source": [
    "# Q. car2 객체의 category 속성을 출력합니다.\n",
    "# [[YOUR CODE]]\n",
    "car2.category"
   ]
  },
  {
   "cell_type": "markdown",
   "metadata": {},
   "source": [
    "일반 함수와 문법은 비슷합니다. 아래처럼 키워드 인자를 지정할 수도 있습니다."
   ]
  },
  {
   "cell_type": "code",
   "execution_count": null,
   "metadata": {},
   "outputs": [],
   "source": [
    "class Car2:\n",
    "    def __init__(self, color='red', category='sprots car'):\n",
    "        self.color = color\n",
    "        self.category = category"
   ]
  },
  {
   "cell_type": "markdown",
   "metadata": {},
   "source": [
    "**생성자 요약**"
   ]
  },
  {
   "cell_type": "markdown",
   "metadata": {},
   "source": [
    "- `__init__`이라고 쓰고, \"던더(Double Under) 이닛\"이라고 발음합니다.\n",
    "- 다른 객체 지향 언어를 알고 있는 독자라면 생성자라는 말을 들으면 객체 인스턴스화와 초기화 2가지 작업을 생각할 수 있습니다.\n",
    "- 그러나 파이썬의 생성자는 초기화만 수행합니다. 그럼 객체 인스턴스화는 누가 할까요? 기억나시나요? 네, 바로 클래스 사용 시 변수 할당을 통해 이루어집니다.\n",
    "- 그리고 이 `__init__`처럼 앞뒤에 언더바(_)가 두 개씩 있는 메서드를 **매직 메서드** 라고 합니다.\n",
    "- 매직 메서드에 대해 더 알아보고 싶은 분은 [링크](https://rszalski.github.io/magicmethods/)를 참고해 보세요."
   ]
  },
  {
   "cell_type": "markdown",
   "metadata": {},
   "source": [
    "## 3-7. 클래스 기본 문법 (4) 클래스 변수와 인스턴스 변수"
   ]
  },
  {
   "cell_type": "markdown",
   "metadata": {},
   "source": [
    "이번에는 클래스 내 변수를 선언하는 방법을 설명하도록 하겠습니다. 클래스에서 변수를 선언하는 방법은 2가지가 있었습니다. 하나는 보통 변수와 동일하게 변수명을 쓰고 값을 할당하는 방법, 두 번째는 `__init__` 메서드 안에 `self.`와 함께 설정하는 방법입니다."
   ]
  },
  {
   "cell_type": "markdown",
   "metadata": {},
   "source": []
  },
  {
   "cell_type": "markdown",
   "metadata": {},
   "source": [
    "## 3-8. 클래스, 조금 더 알아보기 - 상속"
   ]
  },
  {
   "cell_type": "markdown",
   "metadata": {},
   "source": [
    "## 3-9. n면체 주사위 만들기 (1) 기획"
   ]
  },
  {
   "cell_type": "markdown",
   "metadata": {},
   "source": [
    "## 3-10. n면체 주사위 만들기 (2) 주 프로그램 - main 함수"
   ]
  },
  {
   "cell_type": "markdown",
   "metadata": {},
   "source": [
    "## 3-11. n면체 주사위 만들기 (3) FunnyDice 클래스"
   ]
  },
  {
   "cell_type": "markdown",
   "metadata": {},
   "source": [
    "## 3-12. n면체 주사위 만들기 (4) FunnyDice 클래스 테스트, get_input 함수"
   ]
  },
  {
   "cell_type": "markdown",
   "metadata": {},
   "source": [
    "## 3-13. n면체 주사위 만들기 (5) 완성 코드"
   ]
  }
 ],
 "metadata": {
  "language_info": {
   "name": "python"
  },
  "orig_nbformat": 4
 },
 "nbformat": 4,
 "nbformat_minor": 2
}
