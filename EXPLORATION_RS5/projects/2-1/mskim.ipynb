{
 "cells": [
  {
   "cell_type": "code",
   "execution_count": 64,
   "metadata": {},
   "outputs": [
    {
     "name": "stdout",
     "output_type": "stream",
     "text": [
      "당뇨병 환자 데이터 정보: (442, 10)\n",
      "타겟 데이터 정보: (442,)\n"
     ]
    }
   ],
   "source": [
    "# 2-1. 프로젝트 1 : 손수 설계하는 선형회귀, 당뇨병 수치를 맞춰보자!\n",
    "## (1) 데이터 가져오기\n",
    "\n",
    "# - sklearn.datasets의 load_diabetes에서 데이터를 가져와주세요.\n",
    "from sklearn.datasets import load_diabetes\n",
    "\n",
    "diabetes=load_diabetes()\n",
    "\n",
    "# - diabetes의 data를 df_X에, target을 df_y에 저장해주세요.\n",
    "df_X=diabetes.data\n",
    "df_y=diabetes.target\n",
    "\n",
    "# 데이터 모양 파악하기\n",
    "print(f\"당뇨병 환자 데이터 정보: {df_X.shape}\")\n",
    "print(f\"타겟 데이터 정보: {df_y.shape}\")"
   ]
  },
  {
   "cell_type": "code",
   "execution_count": 65,
   "metadata": {},
   "outputs": [
    {
     "name": "stdout",
     "output_type": "stream",
     "text": [
      "<class 'numpy.ndarray'>\n",
      "[[ 0.03807591  0.05068012  0.06169621 ... -0.00259226  0.01990749\n",
      "  -0.01764613]\n",
      " [-0.00188202 -0.04464164 -0.05147406 ... -0.03949338 -0.06833155\n",
      "  -0.09220405]\n",
      " [ 0.08529891  0.05068012  0.04445121 ... -0.00259226  0.00286131\n",
      "  -0.02593034]\n",
      " ...\n",
      " [ 0.04170844  0.05068012 -0.01590626 ... -0.01107952 -0.04688253\n",
      "   0.01549073]\n",
      " [-0.04547248 -0.04464164  0.03906215 ...  0.02655962  0.04452873\n",
      "  -0.02593034]\n",
      " [-0.04547248 -0.04464164 -0.0730303  ... -0.03949338 -0.00422151\n",
      "   0.00306441]]\n"
     ]
    }
   ],
   "source": [
    "## (2) 모델에 입력할 데이터 X 준비하기\n",
    "# - df_X에 있는 값들을 numpy array로 변환해서 저장해주세요.\n",
    "import numpy as np\n",
    "\n",
    "# Use only one feature; 특정 샘플 가져오기\n",
    "# # 참고: https://scikit-learn.org/stable/auto_examples/linear_model/plot_ols.html#sphx-glr-auto-examples-linear-model-plot-ols-py\n",
    "# X = df_X[:, np.newaxis, 2]\n",
    "    ## 하나만 가져와서 테스트를 해봤는데 W가 1이 되버림을 확인; 데이터셋이 가지고 있는 전체 feature를 다 쓰기 위해서 df_X는 그대로 사용하되 아래 코드에서 이미 X를 끌어다 쓰고 있어서 이름만 맞춰줌\n",
    "X = df_X\n",
    "\n",
    "# 타입확인\n",
    "print(type(X))\n",
    "# 값 확인\n",
    "print(X)"
   ]
  },
  {
   "cell_type": "code",
   "execution_count": 66,
   "metadata": {},
   "outputs": [
    {
     "name": "stdout",
     "output_type": "stream",
     "text": [
      "<class 'numpy.ndarray'>\n"
     ]
    }
   ],
   "source": [
    "## (3) 모델에 예측할 데이터 y 준비하기\n",
    "# - df_y에 있는 값들을 numpy array로 변환해서 저장해주세요.\n",
    "    ### df_y가 1-dimension 구조의 numpy.ndarray 객체라서 변환하지 않아도 된다;로 이해중\n",
    "# 타입확인\n",
    "print(type(df_y))\n",
    "# 값 확인; skip\n",
    "# print(df_y)"
   ]
  },
  {
   "cell_type": "code",
   "execution_count": 67,
   "metadata": {},
   "outputs": [
    {
     "name": "stdout",
     "output_type": "stream",
     "text": [
      "입력데이터 현황\n",
      "(353, 10), (353,)\n",
      "정답 데이터 현황\n",
      "(89, 10), (89,)\n"
     ]
    }
   ],
   "source": [
    "## (4) train 데이터와 test 데이터로 분리하기\n",
    "# - X와 y 데이터를 각각 train 데이터와 test 데이터로 분리해주세요.\n",
    "from sklearn.model_selection import train_test_split\n",
    "\n",
    "# Split the data into training/testing sets\n",
    "# test_size와 random_state는 우선 예제 그대로 따라해봄\n",
    "X_train, X_test, y_train, y_test = train_test_split(X, df_y, test_size=0.2, random_state=42)\n",
    "\n",
    "print(\"입력데이터 현황\")\n",
    "print(f\"{X_train.shape}, {y_train.shape}\")\n",
    "print(\"정답 데이터 현황\")\n",
    "print(f\"{X_test.shape}, {y_test.shape}\")"
   ]
  },
  {
   "cell_type": "code",
   "execution_count": 68,
   "metadata": {},
   "outputs": [
    {
     "name": "stdout",
     "output_type": "stream",
     "text": [
      "가중치: [0.16121209 0.1033328  0.27057351 0.36273737 0.15393703 0.67605414\n",
      " 0.77690849 0.49488503 0.78675641 0.71154203]\n",
      "Bias: 0.7638682927952172\n"
     ]
    }
   ],
   "source": [
    "## (5) 모델 준비하기\n",
    "# - 입력 데이터 개수에 맞는 가중치 W와 b를 준비해주세요\n",
    "    ## 10개의 랜덤 값을 W로, 하나의 상수값을 b로\n",
    "W = np.random.rand(10)\n",
    "b = np.random.rand()\n",
    "\n",
    "print(f\"가중치: {W}\")\n",
    "print(f\"Bias: {b}\")\n",
    "# - 모델 함수를 구현해주세요; model() 예제 사용해봄\n",
    "def model(X, W, b):\n",
    "    predictions = 0\n",
    "    for i in range(10):\n",
    "        predictions += X[:, i] * W[i]\n",
    "    predictions += b\n",
    "    return predictions"
   ]
  },
  {
   "cell_type": "code",
   "execution_count": 69,
   "metadata": {},
   "outputs": [],
   "source": [
    "# (6) 손실함수 loss 정의하기\n",
    "# - 손실함수를 MSE 함수로 정의해주세요; 예제 참고함\n",
    "def MSE(a, b):\n",
    "    mse = ((a - b) ** 2).mean() # 두 값의 차이의 제곱의 평균\n",
    "    return mse\n",
    "\n",
    "def loss(X, W, b, y):\n",
    "    predictions = model(X, W, b)\n",
    "    L = MSE(predictions, y)\n",
    "    return L\n"
   ]
  },
  {
   "cell_type": "code",
   "execution_count": 70,
   "metadata": {},
   "outputs": [],
   "source": [
    "# (7) 기울기를 구하는 gradient 함수 구현하기\n",
    "# - 기울기를 계산하는 gradient 함수를 구현해주세요; 예제 참고함\n",
    "def gradient(X, W, b, y):\n",
    "    N = len(y)  # N is counts of the data points\n",
    "\n",
    "    # y_pred 준비\n",
    "    y_pred = model(X, W, b)\n",
    "\n",
    "    # gradient 공식 적용; 오차값 is y_pred - y\n",
    "    dW = 1/N * 2 * X.T.dot(y_pred - y)\n",
    "\n",
    "    # bdml gradient 계산\n",
    "    db = 2 * (y_pred - y).mean()\n",
    "    return dW, db"
   ]
  },
  {
   "cell_type": "code",
   "execution_count": 89,
   "metadata": {},
   "outputs": [],
   "source": [
    "# (8) 하이퍼 파라미터인 학습률 설정하기\n",
    "# - 학습률, learning rate를 설정해주세요\n",
    "# - 만약 학습이 잘 되지 않는다면 learning rate 값을 한번 여러 가지로 설정하며 실험해 보세요\n",
    "'''\n",
    "    LEARNING RATE 테스트 (500회) & X_train\n",
    "    0.0002 --> 9000 대 loss\n",
    "    0.001 --> 6000 대 loss\n",
    "\n",
    "    LEARNING RATE 테스트 (1000회) & X_train\n",
    "    0.001 --> 5800 대 loss\n",
    "    0.01 --> 4700 대 loss\n",
    "    0.03 --> 3500 대 loss\n",
    "    0.05 --> 3100 대 loss\n",
    "    0.07 --> 2960 대 loss\n",
    "\n",
    "    LEARNING RATE 테스트 & X_test\n",
    "    0.01 --> 기록 못함..\n",
    "    0.07 --> 2870 대 loss\n",
    "'''\n",
    "learning_rate = 0.07"
   ]
  },
  {
   "cell_type": "code",
   "execution_count": 93,
   "metadata": {},
   "outputs": [
    {
     "name": "stdout",
     "output_type": "stream",
     "text": [
      "10 회 반복: Loss 3011.6930\n",
      "20 회 반복: Loss 3010.9990\n",
      "30 회 반복: Loss 3010.3097\n",
      "40 회 반복: Loss 3009.6249\n",
      "50 회 반복: Loss 3008.9447\n",
      "60 회 반복: Loss 3008.2690\n",
      "70 회 반복: Loss 3007.5977\n",
      "80 회 반복: Loss 3006.9309\n",
      "90 회 반복: Loss 3006.2685\n",
      "100 회 반복: Loss 3005.6106\n",
      "110 회 반복: Loss 3004.9569\n",
      "120 회 반복: Loss 3004.3076\n",
      "130 회 반복: Loss 3003.6626\n",
      "140 회 반복: Loss 3003.0218\n",
      "150 회 반복: Loss 3002.3852\n",
      "160 회 반복: Loss 3001.7529\n",
      "170 회 반복: Loss 3001.1247\n",
      "180 회 반복: Loss 3000.5006\n",
      "190 회 반복: Loss 2999.8807\n",
      "200 회 반복: Loss 2999.2648\n",
      "210 회 반복: Loss 2998.6530\n",
      "220 회 반복: Loss 2998.0452\n",
      "230 회 반복: Loss 2997.4414\n",
      "240 회 반복: Loss 2996.8415\n",
      "250 회 반복: Loss 2996.2456\n",
      "260 회 반복: Loss 2995.6536\n",
      "270 회 반복: Loss 2995.0655\n",
      "280 회 반복: Loss 2994.4812\n",
      "290 회 반복: Loss 2993.9007\n",
      "300 회 반복: Loss 2993.3241\n",
      "310 회 반복: Loss 2992.7512\n",
      "320 회 반복: Loss 2992.1820\n",
      "330 회 반복: Loss 2991.6166\n",
      "340 회 반복: Loss 2991.0548\n",
      "350 회 반복: Loss 2990.4968\n",
      "360 회 반복: Loss 2989.9423\n",
      "370 회 반복: Loss 2989.3915\n",
      "380 회 반복: Loss 2988.8442\n",
      "390 회 반복: Loss 2988.3005\n",
      "400 회 반복: Loss 2987.7604\n",
      "410 회 반복: Loss 2987.2237\n",
      "420 회 반복: Loss 2986.6906\n",
      "430 회 반복: Loss 2986.1609\n",
      "440 회 반복: Loss 2985.6346\n",
      "450 회 반복: Loss 2985.1118\n",
      "460 회 반복: Loss 2984.5923\n",
      "470 회 반복: Loss 2984.0762\n",
      "480 회 반복: Loss 2983.5635\n",
      "490 회 반복: Loss 2983.0541\n",
      "500 회 반복: Loss 2982.5479\n",
      "510 회 반복: Loss 2982.0451\n",
      "520 회 반복: Loss 2981.5455\n",
      "530 회 반복: Loss 2981.0491\n",
      "540 회 반복: Loss 2980.5559\n",
      "550 회 반복: Loss 2980.0659\n",
      "560 회 반복: Loss 2979.5791\n",
      "570 회 반복: Loss 2979.0954\n",
      "580 회 반복: Loss 2978.6148\n",
      "590 회 반복: Loss 2978.1373\n",
      "600 회 반복: Loss 2977.6629\n",
      "610 회 반복: Loss 2977.1915\n",
      "620 회 반복: Loss 2976.7232\n",
      "630 회 반복: Loss 2976.2578\n",
      "640 회 반복: Loss 2975.7955\n",
      "650 회 반복: Loss 2975.3361\n",
      "660 회 반복: Loss 2974.8797\n",
      "670 회 반복: Loss 2974.4262\n",
      "680 회 반복: Loss 2973.9756\n",
      "690 회 반복: Loss 2973.5279\n",
      "700 회 반복: Loss 2973.0831\n",
      "710 회 반복: Loss 2972.6411\n",
      "720 회 반복: Loss 2972.2019\n",
      "730 회 반복: Loss 2971.7656\n",
      "740 회 반복: Loss 2971.3320\n",
      "750 회 반복: Loss 2970.9012\n",
      "760 회 반복: Loss 2970.4732\n",
      "770 회 반복: Loss 2970.0479\n",
      "780 회 반복: Loss 2969.6253\n",
      "790 회 반복: Loss 2969.2054\n",
      "800 회 반복: Loss 2968.7882\n",
      "810 회 반복: Loss 2968.3736\n",
      "820 회 반복: Loss 2967.9617\n",
      "830 회 반복: Loss 2967.5523\n",
      "840 회 반복: Loss 2967.1456\n",
      "850 회 반복: Loss 2966.7415\n",
      "860 회 반복: Loss 2966.3400\n",
      "870 회 반복: Loss 2965.9410\n",
      "880 회 반복: Loss 2965.5445\n",
      "890 회 반복: Loss 2965.1505\n",
      "900 회 반복: Loss 2964.7591\n",
      "910 회 반복: Loss 2964.3701\n",
      "920 회 반복: Loss 2963.9836\n",
      "930 회 반복: Loss 2963.5995\n",
      "940 회 반복: Loss 2963.2179\n",
      "950 회 반복: Loss 2962.8387\n",
      "960 회 반복: Loss 2962.4619\n",
      "970 회 반복: Loss 2962.0874\n",
      "980 회 반복: Loss 2961.7153\n",
      "990 회 반복: Loss 2961.3456\n",
      "1000 회 반복: Loss 2960.9782\n"
     ]
    },
    {
     "data": {
      "image/png": "[encoded data removed]",
      "text/plain": [
       "<Figure size 640x480 with 1 Axes>"
      ]
     },
     "metadata": {},
     "output_type": "display_data"
    }
   ],
   "source": [
    "# (9) 모델 학습하기\n",
    "# - 정의된 손실함수와 기울기 함수로 모델을 학습해주세요\n",
    "# - loss값이 충분히 떨어질 때까지 학습을 진행해 주세요\n",
    "# - 입력하는 데이터인 X에 들어가는 특성 컬럼들을 몇 개 빼도 괜찮습니다. 다양한 데이터로 실험해 보세요\n",
    "\n",
    "## 오차값들을 저장할 list 선언\n",
    "losses = []\n",
    "\n",
    "for i in range(1, 1001):    # 500번 돌려보다가 1000번으로 교체함\n",
    "    dW, db = gradient(X_train, W, b, y_train)\n",
    "    W -= learning_rate * dW\n",
    "    b -= learning_rate * db\n",
    "    L = loss(X_train, W, b, y_train)\n",
    "    losses.append(L)\n",
    "\n",
    "    # 10회마다 학습 현황 체크; 예제 참고함\n",
    "    if i % 10 == 0:\n",
    "        print('%d 회 반복: Loss %0.4f' % (i, L))\n",
    "\n",
    "import matplotlib.pyplot as plt\n",
    "# Loss율 그래프로 시각화\n",
    "plt.plot(losses)\n",
    "plt.show()"
   ]
  },
  {
   "cell_type": "code",
   "execution_count": 96,
   "metadata": {},
   "outputs": [
    {
     "data": {
      "text/plain": [
       "2866.794431695913"
      ]
     },
     "execution_count": 96,
     "metadata": {},
     "output_type": "execute_result"
    }
   ],
   "source": [
    "# (10) test 데이터에 대한 성능 확인하기\n",
    "# - test 데이터에 대한 성능을 확인해주세요\n",
    "## 예제 참고함\n",
    "prediction = model(X_test, W, b)\n",
    "mse = loss(X_test, W, b, y_test)\n",
    "mse"
   ]
  },
  {
   "cell_type": "code",
   "execution_count": 97,
   "metadata": {},
   "outputs": [
    {
     "data": {
      "image/png": "[encoded data removed]",
      "text/plain": [
       "<Figure size 640x480 with 1 Axes>"
      ]
     },
     "metadata": {},
     "output_type": "display_data"
    }
   ],
   "source": [
    "# (11) 정답 데이터와 예측한 데이터 시각화하기\n",
    "# - x축에는 X 데이터의 첫 번째 컬럼을, y축에는 정답인 target 데이터를 넣어서 모델이 예측한 데이터를 시각화해주세요\n",
    "## 예제 참고함\n",
    "plt.scatter(X_test[:, 0], y_test)\n",
    "plt.scatter(X_test[:, 0], prediction)\n",
    "plt.show()"
   ]
  }
 ],
 "metadata": {
  "kernelspec": {
   "display_name": "base",
   "language": "python",
   "name": "python3"
  },
  "language_info": {
   "codemirror_mode": {
    "name": "ipython",
    "version": 3
   },
   "file_extension": ".py",
   "mimetype": "text/x-python",
   "name": "python",
   "nbconvert_exporter": "python",
   "pygments_lexer": "ipython3",
   "version": "3.10.9"
  },
  "orig_nbformat": 4
 },
 "nbformat": 4,
 "nbformat_minor": 2
}
