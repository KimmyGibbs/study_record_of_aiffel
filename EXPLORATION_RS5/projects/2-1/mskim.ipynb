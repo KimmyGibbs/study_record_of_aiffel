{
 "cells": [
  {
   "cell_type": "code",
   "execution_count": 61,
   "metadata": {},
   "outputs": [
    {
     "name": "stdout",
     "output_type": "stream",
     "text": [
      "당뇨병 환자 데이터 정보: (442, 10)\n",
      "타겟 데이터 정보: (442,)\n"
     ]
    }
   ],
   "source": [
    "# 2-1. 프로젝트 1 : 손수 설계하는 선형회귀, 당뇨병 수치를 맞춰보자!\n",
    "## (1) 데이터 가져오기\n",
    "\n",
    "# - sklearn.datasets의 load_diabetes에서 데이터를 가져와주세요.\n",
    "from sklearn.datasets import load_diabetes\n",
    "\n",
    "diabetes=load_diabetes()\n",
    "\n",
    "# - diabetes의 data를 df_X에, target을 df_y에 저장해주세요.\n",
    "df_X=diabetes.data\n",
    "df_y=diabetes.target\n",
    "\n",
    "# 데이터 모양 파악하기\n",
    "print(f\"당뇨병 환자 데이터 정보: {df_X.shape}\")\n",
    "print(f\"타겟 데이터 정보: {df_y.shape}\")"
   ]
  },
  {
   "cell_type": "code",
   "execution_count": 78,
   "metadata": {},
   "outputs": [
    {
     "name": "stdout",
     "output_type": "stream",
     "text": [
      "<class 'numpy.ndarray'>\n",
      "[[ 0.03807591  0.05068012  0.06169621 ... -0.00259226  0.01990749\n",
      "  -0.01764613]\n",
      " [-0.00188202 -0.04464164 -0.05147406 ... -0.03949338 -0.06833155\n",
      "  -0.09220405]\n",
      " [ 0.08529891  0.05068012  0.04445121 ... -0.00259226  0.00286131\n",
      "  -0.02593034]\n",
      " ...\n",
      " [ 0.04170844  0.05068012 -0.01590626 ... -0.01107952 -0.04688253\n",
      "   0.01549073]\n",
      " [-0.04547248 -0.04464164  0.03906215 ...  0.02655962  0.04452873\n",
      "  -0.02593034]\n",
      " [-0.04547248 -0.04464164 -0.0730303  ... -0.03949338 -0.00422151\n",
      "   0.00306441]]\n"
     ]
    }
   ],
   "source": [
    "## (2) 모델에 입력할 데이터 X 준비하기\n",
    "# - df_X에 있는 값들을 numpy array로 변환해서 저장해주세요.\n",
    "import numpy as np\n",
    "\n",
    "# Use only one feature; 특정 샘플 가져오기\n",
    "# # 참고: https://scikit-learn.org/stable/auto_examples/linear_model/plot_ols.html#sphx-glr-auto-examples-linear-model-plot-ols-py\n",
    "# X = df_X[:, np.newaxis, 2]\n",
    "    ## 하나만 가져와서 테스트를 해봤는데 W가 1이 되버림을 확인; 데이터셋이 가지고 있는 전체 feature를 다 쓰기 위해서 df_X는 그대로 사용하되 아래 코드에서 이미 X를 끌어다 쓰고 있어서 이름만 맞춰줌\n",
    "X = df_X\n",
    "\n",
    "# 타입확인\n",
    "print(type(X))\n",
    "# 값 확인\n",
    "print(X)"
   ]
  },
  {
   "cell_type": "code",
   "execution_count": 81,
   "metadata": {},
   "outputs": [
    {
     "name": "stdout",
     "output_type": "stream",
     "text": [
      "<class 'numpy.ndarray'>\n",
      "[151.  75. 141. 206. 135.  97. 138.  63. 110. 310. 101.  69. 179. 185.\n",
      " 118. 171. 166. 144.  97. 168.  68.  49.  68. 245. 184. 202. 137.  85.\n",
      " 131. 283. 129.  59. 341.  87.  65. 102. 265. 276. 252.  90. 100.  55.\n",
      "  61.  92. 259.  53. 190. 142.  75. 142. 155. 225.  59. 104. 182. 128.\n",
      "  52.  37. 170. 170.  61. 144.  52. 128.  71. 163. 150.  97. 160. 178.\n",
      "  48. 270. 202. 111.  85.  42. 170. 200. 252. 113. 143.  51.  52. 210.\n",
      "  65. 141.  55. 134.  42. 111.  98. 164.  48.  96.  90. 162. 150. 279.\n",
      "  92.  83. 128. 102. 302. 198.  95.  53. 134. 144. 232.  81. 104.  59.\n",
      " 246. 297. 258. 229. 275. 281. 179. 200. 200. 173. 180.  84. 121. 161.\n",
      "  99. 109. 115. 268. 274. 158. 107.  83. 103. 272.  85. 280. 336. 281.\n",
      " 118. 317. 235.  60. 174. 259. 178. 128.  96. 126. 288.  88. 292.  71.\n",
      " 197. 186.  25.  84.  96. 195.  53. 217. 172. 131. 214.  59.  70. 220.\n",
      " 268. 152.  47.  74. 295. 101. 151. 127. 237. 225.  81. 151. 107.  64.\n",
      " 138. 185. 265. 101. 137. 143. 141.  79. 292. 178.  91. 116.  86. 122.\n",
      "  72. 129. 142.  90. 158.  39. 196. 222. 277.  99. 196. 202. 155.  77.\n",
      " 191.  70.  73.  49.  65. 263. 248. 296. 214. 185.  78.  93. 252. 150.\n",
      "  77. 208.  77. 108. 160.  53. 220. 154. 259.  90. 246. 124.  67.  72.\n",
      " 257. 262. 275. 177.  71.  47. 187. 125.  78.  51. 258. 215. 303. 243.\n",
      "  91. 150. 310. 153. 346.  63.  89.  50.  39. 103. 308. 116. 145.  74.\n",
      "  45. 115. 264.  87. 202. 127. 182. 241.  66.  94. 283.  64. 102. 200.\n",
      " 265.  94. 230. 181. 156. 233.  60. 219.  80.  68. 332. 248.  84. 200.\n",
      "  55.  85.  89.  31. 129.  83. 275.  65. 198. 236. 253. 124.  44. 172.\n",
      " 114. 142. 109. 180. 144. 163. 147.  97. 220. 190. 109. 191. 122. 230.\n",
      " 242. 248. 249. 192. 131. 237.  78. 135. 244. 199. 270. 164.  72.  96.\n",
      " 306.  91. 214.  95. 216. 263. 178. 113. 200. 139. 139.  88. 148.  88.\n",
      " 243.  71.  77. 109. 272.  60.  54. 221.  90. 311. 281. 182. 321.  58.\n",
      " 262. 206. 233. 242. 123. 167.  63. 197.  71. 168. 140. 217. 121. 235.\n",
      " 245.  40.  52. 104. 132.  88.  69. 219.  72. 201. 110.  51. 277.  63.\n",
      " 118.  69. 273. 258.  43. 198. 242. 232. 175.  93. 168. 275. 293. 281.\n",
      "  72. 140. 189. 181. 209. 136. 261. 113. 131. 174. 257.  55.  84.  42.\n",
      " 146. 212. 233.  91. 111. 152. 120.  67. 310.  94. 183.  66. 173.  72.\n",
      "  49.  64.  48. 178. 104. 132. 220.  57.]\n"
     ]
    }
   ],
   "source": [
    "## (3) 모델에 예측할 데이터 y 준비하기\n",
    "# - df_y에 있는 값들을 numpy array로 변환해서 저장해주세요.\n",
    "    ### df_y가 1-dimension 구조의 numpy.ndarray 객체라서 변환하지 않아도 된다;로 이해중\n",
    "# 타입확인\n",
    "print(type(df_y))\n",
    "# 값 확인\n",
    "print(df_y)"
   ]
  },
  {
   "cell_type": "code",
   "execution_count": 82,
   "metadata": {},
   "outputs": [
    {
     "name": "stdout",
     "output_type": "stream",
     "text": [
      "입력데이터 현황\n",
      "(353, 10), (353,)\n",
      "정답 데이터 현황\n",
      "(89, 10), (89,)\n"
     ]
    }
   ],
   "source": [
    "## (4) train 데이터와 test 데이터로 분리하기\n",
    "# - X와 y 데이터를 각각 train 데이터와 test 데이터로 분리해주세요.\n",
    "from sklearn.model_selection import train_test_split\n",
    "\n",
    "# Split the data into training/testing sets\n",
    "# test_size와 random_state는 우선 예제 그대로 따라해봄\n",
    "X_train, X_test, y_train, y_test = train_test_split(X, df_y, test_size=0.2, random_state=42)\n",
    "\n",
    "print(\"입력데이터 현황\")\n",
    "print(f\"{X_train.shape}, {y_train.shape}\")\n",
    "print(\"정답 데이터 현황\")\n",
    "print(f\"{X_test.shape}, {y_test.shape}\")"
   ]
  },
  {
   "cell_type": "code",
   "execution_count": 105,
   "metadata": {},
   "outputs": [
    {
     "name": "stdout",
     "output_type": "stream",
     "text": [
      "가중치: [0.02926158 0.82959502 0.08342443 0.96731642 0.30479544 0.30403436\n",
      " 0.77998711 0.72358631 0.48336972 0.05856513]\n",
      "Bias: 0.03591020085495833\n"
     ]
    }
   ],
   "source": [
    "## (5) 모델 준비하기\n",
    "# - 입력 데이터 개수에 맞는 가중치 W와 b를 준비해주세요\n",
    "    ## 10개의 랜덤 값을 W로, 하나의 상수값을 b로\n",
    "W = np.random.rand(10)\n",
    "b = np.random.rand()\n",
    "\n",
    "print(f\"가중치: {W}\")\n",
    "print(f\"Bias: {b}\")\n",
    "# - 모델 함수를 구현해주세요; model() 예제 사용해봄\n",
    "def model(X, W, b):\n",
    "    predictions = 0\n",
    "    for i in range(10):\n",
    "        predictions += X[:, i] * W[i]\n",
    "    predictions += b\n",
    "    return predictions"
   ]
  },
  {
   "cell_type": "code",
   "execution_count": 112,
   "metadata": {},
   "outputs": [],
   "source": [
    "# (6) 손실함수 loss 정의하기\n",
    "# - 손실함수를 MSE 함수로 정의해주세요; 예제 참고함\n",
    "def MSE(a, b):\n",
    "    mse = ((a - b) ** 2).mean() # 두 값의 차이의 제곱의 평균\n",
    "    return mse\n",
    "\n",
    "def loss(X, W, b, y):\n",
    "    predictions = model(X, W, b)\n",
    "    L = MSE(predictions, y)\n",
    "    return L\n"
   ]
  },
  {
   "cell_type": "code",
   "execution_count": 118,
   "metadata": {},
   "outputs": [],
   "source": [
    "# (7) 기울기를 구하는 gradient 함수 구현하기\n",
    "# - 기울기를 계산하는 gradient 함수를 구현해주세요; 예제 참고함\n",
    "def gradient(X, W, b, y):\n",
    "    N = len(y)  # N is counts of the data points\n",
    "\n",
    "    # y_pred 준비\n",
    "    y_pred = model(X, W, b)\n",
    "\n",
    "    # gradient 공식 적용; 오차값 is y_pred - y\n",
    "    dW = 1/N * 2 * X.T.dot(y_pred - y)\n",
    "\n",
    "    # bdml gradient 계산\n",
    "    db = 2 * (y_pred - y).mean()\n",
    "    return dW, db"
   ]
  },
  {
   "cell_type": "code",
   "execution_count": 140,
   "metadata": {},
   "outputs": [],
   "source": [
    "# (8) 하이퍼 파라미터인 학습률 설정하기\n",
    "# - 학습률, learning rate를 설정해주세요\n",
    "# - 만약 학습이 잘 되지 않는다면 learning rate 값을 한번 여러 가지로 설정하며 실험해 보세요\n",
    "'''\n",
    "    LEARNING RATE 테스트 (500회) & X_train\n",
    "    0.0002 --> 9000 대 loss\n",
    "    0.001 --> 6000 대 loss\n",
    "\n",
    "    LEARNING RATE 테스트 (1000회) & X_train\n",
    "    0.001 --> 5800 대 loss\n",
    "    0.01 --> 4700 대 loss\n",
    "\n",
    "    LEARNING RATE 테스트 (1000회) & X_test\n",
    "    0.01 --> 4500 대 loss\n",
    "'''\n",
    "learning_rate = 0.01"
   ]
  },
  {
   "cell_type": "code",
   "execution_count": 150,
   "metadata": {},
   "outputs": [
    {
     "name": "stdout",
     "output_type": "stream",
     "text": [
      "10 회 반복: Loss 4204.0650\n",
      "20 회 반복: Loss 4201.7241\n",
      "30 회 반복: Loss 4199.3893\n",
      "40 회 반복: Loss 4197.0607\n",
      "50 회 반복: Loss 4194.7381\n",
      "60 회 반복: Loss 4192.4216\n",
      "70 회 반복: Loss 4190.1111\n",
      "80 회 반복: Loss 4187.8067\n",
      "90 회 반복: Loss 4185.5083\n",
      "100 회 반복: Loss 4183.2158\n",
      "110 회 반복: Loss 4180.9293\n",
      "120 회 반복: Loss 4178.6488\n",
      "130 회 반복: Loss 4176.3742\n",
      "140 회 반복: Loss 4174.1055\n",
      "150 회 반복: Loss 4171.8428\n",
      "160 회 반복: Loss 4169.5858\n",
      "170 회 반복: Loss 4167.3348\n",
      "180 회 반복: Loss 4165.0896\n",
      "190 회 반복: Loss 4162.8502\n",
      "200 회 반복: Loss 4160.6165\n",
      "210 회 반복: Loss 4158.3887\n",
      "220 회 반복: Loss 4156.1667\n",
      "230 회 반복: Loss 4153.9503\n",
      "240 회 반복: Loss 4151.7397\n",
      "250 회 반복: Loss 4149.5348\n",
      "260 회 반복: Loss 4147.3356\n",
      "270 회 반복: Loss 4145.1421\n",
      "280 회 반복: Loss 4142.9542\n",
      "290 회 반복: Loss 4140.7720\n",
      "300 회 반복: Loss 4138.5954\n",
      "310 회 반복: Loss 4136.4243\n",
      "320 회 반복: Loss 4134.2589\n",
      "330 회 반복: Loss 4132.0990\n",
      "340 회 반복: Loss 4129.9447\n",
      "350 회 반복: Loss 4127.7958\n",
      "360 회 반복: Loss 4125.6525\n",
      "370 회 반복: Loss 4123.5147\n",
      "380 회 반복: Loss 4121.3824\n",
      "390 회 반복: Loss 4119.2555\n",
      "400 회 반복: Loss 4117.1341\n",
      "410 회 반복: Loss 4115.0181\n",
      "420 회 반복: Loss 4112.9074\n",
      "430 회 반복: Loss 4110.8022\n",
      "440 회 반복: Loss 4108.7024\n",
      "450 회 반복: Loss 4106.6079\n",
      "460 회 반복: Loss 4104.5187\n",
      "470 회 반복: Loss 4102.4349\n",
      "480 회 반복: Loss 4100.3563\n",
      "490 회 반복: Loss 4098.2831\n",
      "500 회 반복: Loss 4096.2151\n",
      "510 회 반복: Loss 4094.1524\n",
      "520 회 반복: Loss 4092.0949\n",
      "530 회 반복: Loss 4090.0426\n",
      "540 회 반복: Loss 4087.9955\n",
      "550 회 반복: Loss 4085.9536\n",
      "560 회 반복: Loss 4083.9169\n",
      "570 회 반복: Loss 4081.8854\n",
      "580 회 반복: Loss 4079.8589\n",
      "590 회 반복: Loss 4077.8376\n",
      "600 회 반복: Loss 4075.8214\n",
      "610 회 반복: Loss 4073.8103\n",
      "620 회 반복: Loss 4071.8043\n",
      "630 회 반복: Loss 4069.8033\n",
      "640 회 반복: Loss 4067.8074\n",
      "650 회 반복: Loss 4065.8165\n",
      "660 회 반복: Loss 4063.8306\n",
      "670 회 반복: Loss 4061.8496\n",
      "680 회 반복: Loss 4059.8737\n",
      "690 회 반복: Loss 4057.9027\n",
      "700 회 반복: Loss 4055.9367\n",
      "710 회 반복: Loss 4053.9756\n",
      "720 회 반복: Loss 4052.0194\n",
      "730 회 반복: Loss 4050.0681\n",
      "740 회 반복: Loss 4048.1217\n",
      "750 회 반복: Loss 4046.1802\n",
      "760 회 반복: Loss 4044.2435\n",
      "770 회 반복: Loss 4042.3117\n",
      "780 회 반복: Loss 4040.3847\n",
      "790 회 반복: Loss 4038.4625\n",
      "800 회 반복: Loss 4036.5450\n",
      "810 회 반복: Loss 4034.6324\n",
      "820 회 반복: Loss 4032.7245\n",
      "830 회 반복: Loss 4030.8214\n",
      "840 회 반복: Loss 4028.9230\n",
      "850 회 반복: Loss 4027.0293\n",
      "860 회 반복: Loss 4025.1403\n",
      "870 회 반복: Loss 4023.2560\n",
      "880 회 반복: Loss 4021.3764\n",
      "890 회 반복: Loss 4019.5015\n",
      "900 회 반복: Loss 4017.6312\n",
      "910 회 반복: Loss 4015.7655\n",
      "920 회 반복: Loss 4013.9044\n",
      "930 회 반복: Loss 4012.0479\n",
      "940 회 반복: Loss 4010.1960\n",
      "950 회 반복: Loss 4008.3487\n",
      "960 회 반복: Loss 4006.5060\n",
      "970 회 반복: Loss 4004.6678\n",
      "980 회 반복: Loss 4002.8341\n",
      "990 회 반복: Loss 4001.0049\n",
      "1000 회 반복: Loss 3999.1802\n"
     ]
    },
    {
     "data": {
      "image/png": "[encoded data removed]",
      "text/plain": [
       "<Figure size 640x480 with 1 Axes>"
      ]
     },
     "metadata": {},
     "output_type": "display_data"
    }
   ],
   "source": [
    "# (9) 모델 학습하기\n",
    "# - 정의된 손실함수와 기울기 함수로 모델을 학습해주세요\n",
    "# - loss값이 충분히 떨어질 때까지 학습을 진행해 주세요\n",
    "# - 입력하는 데이터인 X에 들어가는 특성 컬럼들을 몇 개 빼도 괜찮습니다. 다양한 데이터로 실험해 보세요\n",
    "\n",
    "## 오차값들을 저장할 list 선언\n",
    "losses = []\n",
    "\n",
    "for i in range(1, 1001):    # 500번 돌려보다가 1000번으로 교체함\n",
    "    dW, db = gradient(X_train, W, b, y_train)\n",
    "    W -= learning_rate * dW\n",
    "    b -= learning_rate * db\n",
    "    L = loss(X_train, W, b, y_train)\n",
    "    losses.append(L)\n",
    "\n",
    "    # 10회마다 학습 현황 체크; 예제 참고함\n",
    "    if i % 10 == 0:\n",
    "        print('%d 회 반복: Loss %0.4f' % (i, L))\n",
    "\n",
    "import matplotlib.pyplot as plt\n",
    "# Loss율 그래프로 시각화\n",
    "plt.plot(losses)\n",
    "plt.show()"
   ]
  },
  {
   "cell_type": "code",
   "execution_count": 153,
   "metadata": {},
   "outputs": [
    {
     "data": {
      "text/plain": [
       "3359.1137845463477"
      ]
     },
     "execution_count": 153,
     "metadata": {},
     "output_type": "execute_result"
    }
   ],
   "source": [
    "# (10) test 데이터에 대한 성능 확인하기\n",
    "# - test 데이터에 대한 성능을 확인해주세요\n",
    "## 예제 참고함\n",
    "prediction = model(X_test, W, b)\n",
    "mse = loss(X_test, W, b, y_test)\n",
    "mse"
   ]
  },
  {
   "cell_type": "code",
   "execution_count": 155,
   "metadata": {},
   "outputs": [
    {
     "data": {
      "image/png": "[encoded data removed]",
      "text/plain": [
       "<Figure size 640x480 with 1 Axes>"
      ]
     },
     "metadata": {},
     "output_type": "display_data"
    }
   ],
   "source": [
    "# (11) 정답 데이터와 예측한 데이터 시각화하기\n",
    "# - x축에는 X 데이터의 첫 번째 컬럼을, y축에는 정답인 target 데이터를 넣어서 모델이 예측한 데이터를 시각화해주세요\n",
    "## 예제 참고함\n",
    "plt.scatter(X_test[:, 0], y_test)\n",
    "plt.scatter(X_test[:, 0], prediction)\n",
    "plt.show()"
   ]
  }
 ],
 "metadata": {
  "kernelspec": {
   "display_name": "base",
   "language": "python",
   "name": "python3"
  },
  "language_info": {
   "codemirror_mode": {
    "name": "ipython",
    "version": 3
   },
   "file_extension": ".py",
   "mimetype": "text/x-python",
   "name": "python",
   "nbconvert_exporter": "python",
   "pygments_lexer": "ipython3",
   "version": "3.10.9"
  },
  "orig_nbformat": 4
 },
 "nbformat": 4,
 "nbformat_minor": 2
}
