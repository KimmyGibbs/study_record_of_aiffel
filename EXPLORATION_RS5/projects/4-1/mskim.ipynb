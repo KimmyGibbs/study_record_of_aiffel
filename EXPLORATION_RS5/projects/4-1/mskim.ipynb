{
 "cells": [
  {
   "cell_type": "code",
   "execution_count": null,
   "metadata": {},
   "outputs": [],
   "source": [
    "\"\"\"\n",
    "평가문항\n",
    "    - 상세기준\n",
    "1. 케글 데이터 분석 전과정이 성공적으로 진행되었는가?\n",
    "    - 작성한 노트북을 케글에 제출했다.\n",
    "2. 전처리, 학습과정 및 결과에 대한 설명이 시각화를 포함하여 체계적으로 진행되었는가?\n",
    "    - 제출한 주피터노트북 파일이 케글 커널 환경에서도 에러 없이 동작하며, 전처리, 학습, 최적화 진행 과정이 체계적으로 기술되었다.\n",
    "3. 회귀모델 예츠 정확도가 기준 이상 높게 나왔는가?\n",
    "    - 다양한 피처 엔지니어링과 하이퍼 파라미터 튜닝 등의 최적화 기법을 통해 케클 리더보드의 Private score 기준 110000 이하의 점수를 보였다.\n",
    "\"\"\""
   ]
  },
  {
   "cell_type": "code",
   "execution_count": 1,
   "metadata": {},
   "outputs": [
    {
     "name": "stdout",
     "output_type": "stream",
     "text": [
      "1.4.2\n",
      "3.3.0\n",
      "0.5.2\n",
      "1.2.2\n"
     ]
    }
   ],
   "source": [
    "# 사용할 라이브러리 버전 체크\n",
    "import xgboost\n",
    "import lightgbm\n",
    "import missingno\n",
    "import sklearn\n",
    "\n",
    "print(xgboost.__version__)\n",
    "print(lightgbm.__version__)\n",
    "print(missingno.__version__)\n",
    "print(sklearn.__version__)"
   ]
  }
 ],
 "metadata": {
  "kernelspec": {
   "display_name": "myconda",
   "language": "python",
   "name": "python3"
  },
  "language_info": {
   "codemirror_mode": {
    "name": "ipython",
    "version": 3
   },
   "file_extension": ".py",
   "mimetype": "text/x-python",
   "name": "python",
   "nbconvert_exporter": "python",
   "pygments_lexer": "ipython3",
   "version": "3.9.17"
  },
  "orig_nbformat": 4
 },
 "nbformat": 4,
 "nbformat_minor": 2
}
