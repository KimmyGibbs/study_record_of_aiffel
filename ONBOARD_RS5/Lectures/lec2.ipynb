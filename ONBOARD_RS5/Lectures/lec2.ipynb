{
 "cells": [
  {
   "cell_type": "markdown",
   "metadata": {},
   "source": [
    "# **2. 개발자를 위한 첫 번째 필수 교양**"
   ]
  },
  {
   "cell_type": "markdown",
   "metadata": {},
   "source": [
    "## **2-1. 들어가며**"
   ]
  },
  {
   "cell_type": "markdown",
   "metadata": {},
   "source": [
    "안녕하세요!<br>\n",
    "\n",
    "개발자를 위한 필수 교양을 알고 싶은 여러분을 환영합니다. 😊<br>\n",
    "\n",
    "여러분들은 개발자가 되고 싶으신가요? 그렇다면 잘 오셨습니다!<br>\n",
    "\n",
    "이번 노드를 통해 개발자라면 누구나 알고 있어야 하는 필수 교양을 학습하시게 될 거에요.<br>\n",
    "\n",
    "필수 교양을 배우기 전에, 먼저 아이스브레이킹을 해볼까요?"
   ]
  },
  {
   "cell_type": "markdown",
   "metadata": {},
   "source": [
    "### **이 노드를 학습하시면 좋은 분들!**\n",
    "\n",
    "---\n",
    "\n",
    "- 협업 관리 툴을 다뤄본 적이 없습니다.\n",
    "\n",
    "- Git과 GitHub에 대한 개념을 공부해본 적이 없습니다.\n",
    "\n",
    "- GitHub을 이용해 소스코드의 버전 관리를 해 본 적이 없습니다.\n",
    "\n",
    "- pip를 활용해 본 적은 있으나, Jupyter Notebook을 설치해 사용해 본 적이 없습니다.\n",
    "\n",
    "- 마크다운 문법을 공부하거나 활용해본 적이 없습니다."
   ]
  },
  {
   "cell_type": "markdown",
   "metadata": {},
   "source": [
    "### **학습 내용**\n",
    "\n",
    "---\n",
    "\n",
    "- 2-3. 개발자를 위한 첫 번째 필수 교양\n",
    "\n",
    "    - 협업에 필요한 여러 가지 툴들에 대해 알아봅니다.\n",
    "    - GitHub의 존재와 그 의미에 대해 알아봅니다.\n",
    "<br><br>\n",
    "- 4-6. 내 코드의 모든 발자취를 기록할 수 있을까?\n",
    "\n",
    "    - Git과 GitHub의 차이를 알아보고, 각각을 설치해봅니다.\n",
    "<br><br>\n",
    "- 7-12. GitHub에 첫 번째 잔디 심기, 어렵지 않아요!\n",
    "\n",
    "    - GitHub을 처음 사용하기 위해 로컬 저장소와 원격 저장소를 만들어봅니다.\n",
    "    - add, commit, push, pull 등의 명령어를 실습을 통해 직접 사용해 보고, 그 필요성을 알게 됩니다.\n",
    "<br><br>\n",
    "- 13-14. 개발자 문서작업의 시작과 끝! 마크다운을 익혀보자\n",
    "\n",
    "    - 다양한 마크다운 문법을 알아보며 직접 실습을 통해 익혀봅니다."
   ]
  },
  {
   "cell_type": "markdown",
   "metadata": {},
   "source": [
    "### **학습 목표**\n",
    "\n",
    "---\n",
    "\n",
    "- Git과 GitHub의 차이를 말할 수 있습니다.\n",
    "\n",
    "- Git의 add, commit, push, pull 등의 명령어를 알고, 활용할 수 있습니다.\n",
    "\n",
    "- GitHub을 활용해 소스코드 버전관리를 할 줄 알게 됩니다.\n",
    "\n",
    "- Jupyter Notebook을 활용해 자유자재로 코드/문서 작업을 할 수 있습니다.\n",
    "\n",
    "- 마크다운 문법을 활용해 자유롭게 문서를 작성할 수 있습니다."
   ]
  },
  {
   "cell_type": "markdown",
   "metadata": {},
   "source": [
    "## **2-2. 개발자를 위한 첫 번째 필수 교양 (1) 협업을 더 잘, 더 편리하게 하기 위해**"
   ]
  },
  {
   "cell_type": "markdown",
   "metadata": {},
   "source": [
    "개발자에게 필요한 가장 첫 번째 덕목은 무엇일까요?<br>\n",
    "\n",
    "다양한 의견이 있을 수 있지만, 언제나 빼먹지 않고 이야기되는 것은 바로 **협업 능력**입니다.<br>\n",
    "\n",
    "협업 능력은 분야와 직무를 막론하고 어디서든 중요한 스킬이겠지만, 특히 개발자들에게 많이 요구되는 이유는 아마 그만큼 협업을 통해 해결해야 하는 문제가 많기 때문일겁니다. 그만큼 개발 분야에는 협업을 위한 도구들이 많이 사용되고, 계속해서 더 좋은 도구가 개발되고 있습니다.<br>\n",
    "\n",
    "오늘 자세하게 배워볼 협업 및 버전관리 툴 **깃허브(GitHub)** 를 시작하기 전에, 커뮤니케이션 및 생산성 앱 중 가장 많이 쓰이면서도 어렵지 않은 몇 가지만 먼저 소개해 드리고 시작하도록 하겠습니다. 앞으로 개발 또는 인공지능 분야를 계속 탐험할 예정이라면 아주 많이 다루게 될 수 있는 도구들이니, 한 번 눈에 익혀두고 가는 것도 좋을 겁니다!"
   ]
  },
  {
   "cell_type": "markdown",
   "metadata": {},
   "source": [
    "### **✔️ Slack (슬랙)**\n",
    "\n",
    "---\n",
    "\n",
    "- 링크 : https://slack.com/"
   ]
  },
  {
   "cell_type": "markdown",
   "metadata": {},
   "source": [
    "![Slack](../Images/lec_2/1.png)"
   ]
  },
  {
   "cell_type": "markdown",
   "metadata": {},
   "source": [
    "슬랙은 많은 사람들이 효율적으로 소통하는 데에 최적화된 앱입니다.<br>\n",
    "\n",
    "팀 단위로 각각의 Workspace를 만들고, Workspace 안에서는 주제 단위로 채널을 만들어 소통할 수 있습니다. 단순한 메세징을 넘어 코드, 파일, 링크, 일정 등 다양한 정보를 주고받을 수 있어요. 또 구글 캘린더, 구글 드라이브, GitHub 등 다양한 다른 프로그램과의 연동을 지원해 협업을 하는 데에 필요한 거의 모든 것들을 빠르게 공유할 수 있는 것이 장점입니다."
   ]
  },
  {
   "cell_type": "markdown",
   "metadata": {},
   "source": [
    "### **✔️ Notion(노션)**\n",
    "\n",
    "---\n",
    "\n",
    "- 링크 : https://www.notion.so/"
   ]
  },
  {
   "cell_type": "markdown",
   "metadata": {},
   "source": [
    "![Notion](../Images/lec_2/2.png)"
   ]
  },
  {
   "cell_type": "markdown",
   "metadata": {},
   "source": [
    "노션은 협업뿐만 아니라 혼자 업무를 진행할 때에도 생산성을 크게 높여줄 수 있는 문서작성 앱입니다.<br>\n",
    "\n",
    "표, 카드보드, 리스트 등의 다양한 포맷을 편리하게 사용할 수 있도록 최적화되어 있으며, 다른 사람과 페이지를 공유하여 함께 작업하거나 진행상황을 확인할 수 있도록 도와줍니다. 위 이미지의 오른쪽 부분에서 볼 수 있듯 다양한 템플릿을 제공합니다. 직관적이면서도 보기 좋은 문서를 편리하게 만들도록 도와주는 앱이라고 할 수 있습니다."
   ]
  },
  {
   "cell_type": "markdown",
   "metadata": {},
   "source": [
    "### **✔️ Trello(트렐로)**\n",
    "\n",
    "---\n",
    "\n",
    "링크 : https://trello.com/"
   ]
  },
  {
   "cell_type": "markdown",
   "metadata": {},
   "source": [
    "![Trello](../Images/lec_2/3.png)"
   ]
  },
  {
   "cell_type": "markdown",
   "metadata": {},
   "source": [
    "트렐로는 진행되고 있는 작업을 한 눈에 확인하고 관리할 수 있는 To-Do 앱입니다.<br>\n",
    "\n",
    "트렐로 또한 다른 사람들과 함께 관리할 수 있고, 위 이미지처럼 To Do, Doing, Done 등의 보드를 자유롭게 만들어 작업 리스트를 편하게 관리할 수 있습니다. 각 보드 안에는 할 일 별로 카드를 만든 후 카드를 원하는 보드로 옮겨 현재 상황을 편리하게 표시할 수 있다는 장점이 있습니다. 트렐로를 적절히 활용하면 현재 해야 할 일의 우선순위와, 진행되고 있는 일들을 최적화하여 관리할 수 있습니다."
   ]
  },
  {
   "cell_type": "markdown",
   "metadata": {},
   "source": [
    "### **✔️ Zoom(줌) / Google Meet(구글 밋)**\n",
    "\n",
    "---\n",
    "\n",
    "- Zoom 링크 : https://zoom.us/\n",
    "- Google Meet 링크 : https://meet.google.com/"
   ]
  },
  {
   "cell_type": "markdown",
   "metadata": {},
   "source": [
    "![Google Meet](../Images/lec_2/4.png)"
   ]
  },
  {
   "cell_type": "markdown",
   "metadata": {},
   "source": [
    "줌, 구글 밋은 모두 화상회의를 위한 앱입니다.<br>\n",
    "\n",
    "원격 근무 또는 재택 근무가 점점 많아지면서 사용 빈도가 높아지고 있습니다. 줌, 구글 밋에서는 동시에 여러 명이 접속해서 카메라로 얼굴을 보여주거나 화면을 공유할 수 있습니다. 화상회의를 위한 툴은 줌 외에도 스카이프 등 다양하기 때문에 기업 또는 팀의 활용 목적에 보다 부합하는 툴을 사용할 수 있습니다. 다만, 무료 버전의 경우 사용 시간 또는 동시 접속 인원에 대한 제한이 있으니 확인해 보고 사용해야 합니다."
   ]
  },
  {
   "cell_type": "markdown",
   "metadata": {},
   "source": [
    "### **개발자의 생산성을 위한 키워드**\n",
    "\n",
    "---\n",
    "\n",
    "이외에도 개발자의 생산성을 위한 앱은 무궁무진합니다. 많은 개발자들은 조금이라도 더 효율적으로 소통하고 업무를 하기 위해 노력하고 있죠. 이 글을 읽고 계신 분도 혹시 생산성과 커뮤니케이션, 협업을 더 잘 하는 방법 등에 관심이 있다면 다음과 같은 키워드로 검색해 보는 것을 권합니다."
   ]
  },
  {
   "cell_type": "markdown",
   "metadata": {},
   "source": [
    "💡 Keywords\n",
    "\n",
    "- 개발자의 생산성\n",
    "\n",
    "- 개발자를 위한 생산성 도구\n",
    "\n",
    "- 개발자 협업\n",
    "\n",
    "- 개발자 커뮤니케이션"
   ]
  },
  {
   "cell_type": "markdown",
   "metadata": {},
   "source": [
    "개발을 다루는 사람이라면 원하는 자료를 잘 찾는 능력을 갖추는 것 또한 매우 중요합니다. 그러기 위해서는 위와 같이 여러 키워드를 다양하게 검색해 보는 시도도 필요하죠. 더 잘 할 수 있으려면 먼저 무엇이 존재하는지 많이 아는 것도 중요하니까요! 어떤 자료든 많이 검색해 보고, 많이 읽어보시는 것은 언제나 도움이 될 것입니다."
   ]
  },
  {
   "cell_type": "markdown",
   "metadata": {},
   "source": [
    "## **2-3. 개발자를 위한 첫 번째 필수 교양 (2) 개발자의 가드닝, 잔디 심기**"
   ]
  },
  {
   "cell_type": "markdown",
   "metadata": {},
   "source": [
    "잔디 심는 개발자, 혹시 들어보셨나요? 바로 다음과 같은 잔디밭 말이죠!"
   ]
  },
  {
   "cell_type": "markdown",
   "metadata": {},
   "source": [
    "![Github Gardening]()"
   ]
  },
  {
   "cell_type": "markdown",
   "metadata": {},
   "source": [
    "빽빽한 잔디밭.. 👍<br>\n",
    "\n",
    "위 이미지는 바로 [GitHub](https://github.com/)이라는 사이트의 활동 기록입니다.<br>\n",
    "\n",
    "바로 위처럼 나타나는 잔디로 인해, 개발자에게 GitHub은 아주 강력한 버전 관리 호스팅 사이트이면서, 개발자로서 나의 열정을 가장 빠르게 보여줄 수 있는 플랫폼이기도 합니다.<br>\n",
    "\n",
    "위에서 보이는 작은 사각형은 하루하루를 나타냅니다. 왼쪽 끝에서부터 오른쪽 끝까지 각 열마다 일주일을 나타내며, 총 365개의 셀로 1년을 보여줍니다. 조금 후에 배울 `commit`이라는 활동을 해서 GitHub 사이트에 그 내역을 전송하면, 오늘을 나타내는 셀이 초록색으로 칠해집니다. `commit`을 많이 하면 더 진한 초록색으로, 조금 하면 연한 초록색으로 보이죠. 아무 활동도 하지 않은 날은 그냥 회색 셀로 보입니다.<br>\n",
    "\n",
    "위와 같이 모든 셀이 초록색으로 칠해졌다는 것은 1년 365일을 빼먹지 않고 `commit`했다는 것을 나타냅니다. `commit`을 한다는 것은 어떤 식으로든 코드를 다루었거나 개발과 관련된 문서 작업 등을 했다는 뜻인데, 1년 동안 개발 관련 작업을 단 하루도 빼먹지 않고 했다는 것이죠. 실제로 저렇게 초록초록한 잔디밭을 만드는 것은 절대 쉬운 일이 아닙니다.<br>\n",
    "\n",
    "그만큼 개발자 사이에서는 \"[1일 1커밋하기](https://www.google.com/search?q=1%EC%9D%BC+1%EC%BB%A4%EB%B0%8B&ei=dDZCZJn-GpW5hwPs1K-YAg&ved=0ahUKEwiZiKmbtbr-AhWV3GEKHWzqCyMQ4dUDCA8&uact=5&oq=1%EC%9D%BC+1%EC%BB%A4%EB%B0%8B&gs_lcp=Cgxnd3Mtd2l6LXNlcnAQAzIFCAAQgAQyBQgAEIAEMgUIABCABDIFCAAQgAQyBAgAEB46CQguEIoFEAoQQzoLCAAQgAQQsQMQgwE6EQguEIAEELEDEIMBEMcBENEDOgUILhCABDoQCC4QgAQQ3AQQ3gQQ4AQYAToCCCZKBAhBGABQAFj5E2CtFWgDcAB4AIABmwKIAcwQkgEGMC4xMi4xmAEAoAEBwAEB2gEGCAEQARgU&sclient=gws-wiz-serp)\" 같은 운동이 있기도 합니다. 1일 1커밋을 꾸준히 지속한다면 위와 같이 예쁜 잔디밭을 만들 수 있기 때문에, 저것만으로도 자기 자신이 굉장히 성실한 사람이라는 것을 나타낼 수 있기 때문이죠.<br>\n",
    "\n",
    "어떤가요? 여러분도 여러분만의 잔디를 심어보고 싶지 않으신가요?!<br>\n",
    "\n",
    "하지만 사실 잔디심기는 GitHub의 부수적인 부분일 뿐입니다. 실제로 GitHub의 용도는 많은 개발자들이 코드를 오픈소스로 공유하고, 여러 명이 한 팀을 이루어 개발을 진행할 때 복잡한 코드 버전들을 효율적으로 관리하기 위한 호스팅 사이트죠.<br>\n",
    "\n",
    "흠, 이런 설명만으로는 사실 GitHub이 정말 어디에 필요하고 어떻게 활용되는지 감이 오지 않으실 것 같습니다. 하지만 아직 첫 단계이니만큼, 어렵게 생각하지 않으셔도 됩니다.<br>\n",
    "\n",
    "**GitHub은 코드를 다루는 개발자들이 편리하게 협업하기 위한 도구**라는 것만 기억하고, 다음 스텝부터 실제 내용을 알아보도록 하겠습니다. 가시죠!"
   ]
  },
  {
   "cell_type": "markdown",
   "metadata": {},
   "source": [
    "![옥토캣(출처: https://github.com/logos)](../Images/lec_2/5.png)"
   ]
  },
  {
   "cell_type": "markdown",
   "metadata": {},
   "source": [
    "## **2-4. 내 코드의 모든 발자취를 기록할 수 있을까? (1) 버전관리와 Git**"
   ]
  },
  {
   "cell_type": "markdown",
   "metadata": {},
   "source": [
    "혹시 슈퍼마리오 게임을 해 보셨나요?"
   ]
  },
  {
   "cell_type": "markdown",
   "metadata": {},
   "source": [
    "![도토리 평원-1 내에서 차례로 클리어해야 할 다양한 맵들](../Images/lec_2/6.png)"
   ]
  },
  {
   "cell_type": "markdown",
   "metadata": {},
   "source": [
    "슈퍼마리오 같은 게임에선 클리어해야 하는 맵들이 순서대로 있고, 플레이어는 각 맵에서 여러 번 죽어보기도 하면서 하나하나 게임을 깨나갑니다. 만약 World 2의 stage 4를 막 클리어했다면, 많은 경우 지금 게임기를 끄고 다음에 다시 키더라도 stage 4의 다음 맵인 stage 5부터 진행할 수 있습니다. 처음부터 다시 시작할 필요가 없는 거죠."
   ]
  },
  {
   "cell_type": "markdown",
   "metadata": {},
   "source": [
    "간단히 말하자면 바로 이런 것이 **버전 관리**의 대표적인 예라고 할 수 있습니다. 특정 시점의 진행 상황을 저장해두고, 언제 다시 돌아오더라도 그 시점으로부터 다시 시작할 수 있도록 관리하는 것이죠. 만약 되돌아가는 기능도 있다면, 언제든 원하는 과거 시점으로 돌아갈 수도 있을 것입니다."
   ]
  },
  {
   "cell_type": "markdown",
   "metadata": {},
   "source": [
    "개발을 하면서 코드를 짜다보면 이러한 버전 관리가 필수적입니다. 코드를 삭제하거나 덧붙인 다음, 되돌리고 싶을 때 영영 돌아갈 수 없는 상황은 너무 끔찍하죠. 아주 간단하고 짧은 코드만을 짠다면 필요가 없겠지만, 코드가 점점 길어지거나 파일이 많아짐에 따라 특정 시점에서의 버전을 잘 기록해두고 관리해야할 필요성이 커지죠. 나 혼자서 하는 작업이 아니라, 다른 사람과 함께 한다면 더더욱이요."
   ]
  },
  {
   "cell_type": "markdown",
   "metadata": {},
   "source": [
    "소스 코드의 버전 관리를 도와주는 시스템 중 하나가 바로 `Git`과 `GitHub`입니다. 코드의 버전을 관리함과 동시에 다른 사람과 협업하는 것을 편리하게 만들어주는, 개발자에겐 산소와 같은 프로그램이죠. 오늘은 Git과 GitHub을 자세히 알아보고, 그 활용법을 익히며 직접 실습을 해볼 예정입니다."
   ]
  },
  {
   "cell_type": "markdown",
   "metadata": {},
   "source": [
    "오늘 과정에서는 앞으로 공부를 하면서 Git과 GitHub를 다루기 위해 꼭 알아야 하는 핵심 내용들을 빠르게 짚고 넘어갈 텐데, 사실 Git과 GitHub는 사용 방법만으로도 두꺼운 책 한 권이 나올만큼 내용이 방대합니다. 따라서 오늘 기초적인 것들을 학습한 후 꼭 책이나 전체 내용을 다루는 온라인 커리큘럼 등을 통해서 보다 깊게 공부해 보시는 것을 추천드립니다."
   ]
  },
  {
   "cell_type": "markdown",
   "metadata": {},
   "source": [
    "💡 **기본서**: [Pro Git](https://git-scm.com/book/ko/v2)<br>\n",
    "\n",
    "💡 **Git, GitHub을 온라인에서 공부할 수 있는 좋은 컨텐츠** : [지옥에서 온 Git](https://opentutorials.org/module/2676)<br>\n",
    "\n",
    "그렇다면, 각각의 정확한 개념부터 알아보러 가시죠."
   ]
  },
  {
   "cell_type": "markdown",
   "metadata": {},
   "source": [
    "## **2-5. 코드의 모든 발자취를 기록할 수 있을까? (2) Git과 GitHub**"
   ]
  },
  {
   "cell_type": "markdown",
   "metadata": {},
   "source": [
    "개발을 공부하다보면 애매모호하게 알고 넘어가는 용어들이 참 많습니다. 받아들일 당시에는 어렴풋이 그 의미를 이해했다고 생각하지만, 사실 입문자가 그 본질을 제대로 이해하기에는 어려운 것들이 많기 때문이죠. 그래서 새로운 것을 배울 때 용어를 확실하게 알고 시작하는 것은 그것을 더 깊게 이해하는 데에 큰 도움을 줍니다.<br>\n",
    "\n",
    "위에서 잠시 언급했던 Git과 GitHub, 이 두 가지의 차이는 무엇일까요? 두 용어를 정의해보자면 다음과 같습니다."
   ]
  },
  {
   "cell_type": "markdown",
   "metadata": {},
   "source": [
    "✒️ **Git**<br>\n",
    "\n",
    "개발을 진행하며 작성하는 소스코드가 업데이트 되는 버전을 기록해두고 관리할 수 있는 소스코드 버전 관리 시스템"
   ]
  },
  {
   "cell_type": "markdown",
   "metadata": {},
   "source": [
    "✒️ **GitHub**<br>\n",
    "\n",
    "Git으로 관리하는 프로젝트를 호스팅하고, 시간과 공간의 제약 없이 협업할 수 있는 온라인 서비스"
   ]
  },
  {
   "cell_type": "markdown",
   "metadata": {},
   "source": [
    "이 두 가지를 조금 더 풀어서 설명하자면 다음과 같이 말할 수 있습니다.\n",
    "\n",
    "- Git이 버전 기록을 저장한다면, GitHub에서는 그 기록을 다른 사람과 함께 공유하며 협업할 수 있습니다.\n",
    "\n",
    "- 로컬(Local)에서 작업한 내용을 Git이 저장해 두었다면, 그 기록을 온라인 작업공간인 GitHub에 올려 원격(Remote)으로도 작업할 수 있도록 합니다.\n",
    "\n",
    "<br>\n",
    "여기에서 로컬이란 개인 노트북 또는 데스크탑같은 Personal Computer를 뜻하고, 원격(Remote)이란 웹사이트와 같이 다른 사람과 함께 작업할 수 있는 공간을 뜻합니다."
   ]
  },
  {
   "cell_type": "markdown",
   "metadata": {},
   "source": [
    "역사 이야기를 조금 해볼까요? 사실 Git은 리눅스의 창시자 리누스 토르발즈가 만든 오픈소스 툴입니다. 전세계 사람들이 오픈소스인 리눅스를 함께 개발하고 관리하다 보니 여러 명의 개발자가 짠 코드를 일목요연하게 합치고, 각 버전을 나눌 필요가 생겼습니다. 그래서 리누스 토르발즈는 리눅스 프로젝트의 코드 버전을 관리하기 위한 소프트웨어를 짜기 시작했는데, 그게 바로 Git인 것이죠."
   ]
  },
  {
   "cell_type": "markdown",
   "metadata": {},
   "source": [
    "GitHub은 Git이라는 도구를 더 쉽게 사용하게 해주는 사설 서비스입니다. 사실 GitHub과 같이 웹사이트 기반으로 Git을 관리하는 온라인 서비스는 GitHub 외에도 GitLab 등 다양합니다."
   ]
  },
  {
   "cell_type": "markdown",
   "metadata": {},
   "source": [
    "정의와 함께 설명을 읽어보니 조금 더 와닿게 이해가 되시나요? Git과 GitHub 두 가지의 차이를 스스로 정리해 보면서 보다 잘 이해하고 넘어가기를 바랍니다."
   ]
  },
  {
   "cell_type": "markdown",
   "metadata": {},
   "source": [
    "## **2-6. 내 코드의 모든 발자취를 기록할 수 있을까? (3) Git, GitHub 셋팅하기**"
   ]
  },
  {
   "cell_type": "markdown",
   "metadata": {},
   "source": [
    "### **우분투에서 Git 시작하기**\n",
    "\n",
    "---\n",
    "\n",
    "두 가지의 개념을 자세히 알아봤으니, 바로 사용해 보지 않을 수 없겠죠.<br>\n",
    "\n",
    "클라우드에는 이미 Git이 설치돼있습니다. Cloud Shell에서 아래 명령어를 실행하여 버전을 확인해보세요!"
   ]
  },
  {
   "cell_type": "markdown",
   "metadata": {},
   "source": [
    "```shell\n",
    "$ git --version\n",
    "```"
   ]
  },
  {
   "cell_type": "markdown",
   "metadata": {},
   "source": [
    "버전이 잘 표시된다면 Git을 사용하실 준비가 완료된 것입니다."
   ]
  },
  {
   "cell_type": "markdown",
   "metadata": {},
   "source": [
    "### **GitHub 시작하기**\n",
    "\n",
    "---\n",
    "\n",
    "그렇다면 그 다음은? 바로 GitHub을 사용해 보러 가야겠죠!\n",
    "먼저 GitHub은 위에서 설명했듯 웹사이트 기반의 소스코드 버전관리 시스템이기 때문에, 해당 사이트의 계정을 만들어야 시작할 수 있습니다."
   ]
  },
  {
   "cell_type": "markdown",
   "metadata": {},
   "source": [
    "GitHub에 접속해 Sign Up을 눌러 계정을 만들어 봅시다.\n",
    "\n",
    "- [Github](https://github.com/)"
   ]
  },
  {
   "cell_type": "markdown",
   "metadata": {},
   "source": [
    "GitHub 공식 문서를 통해 시작해도 좋습니다.\n",
    "\n",
    "- [Signing up for a new GitHub account](https://docs.github.com/en/get-started/signing-up-for-github/signing-up-for-a-new-github-account)"
   ]
  },
  {
   "cell_type": "markdown",
   "metadata": {},
   "source": [
    "계정을 만들 때 유의해야 할 것은 **중복되지 않는 Username을 잘 선택해야 한다**는 것, 그리고 **인증 가능한 email을 사용해야 한다**는 것입니다. 인증 메일을 확인하는 것을 잊지 마세요!<br>\n",
    "특히 Username은 내 GitHub 페이지의 도메인 주소가 되기 때문에 신중하게 짓는 것을 추천합니다!"
   ]
  },
  {
   "cell_type": "markdown",
   "metadata": {},
   "source": [
    "여기까지 준비가 되었다면, 당신은 Git과 GitHub을 활용한 버전관리 세상에 들어갈 준비가 완료된 것입니다.<br>\n",
    "다음 스텝부터 본격적으로 활용해 보도록 하겠습니다!"
   ]
  },
  {
   "cell_type": "markdown",
   "metadata": {},
   "source": [
    "## **2-7. GitHub에 첫 번째 잔디 심기, 어렵지 않아요! (1) 로컬 저장소**"
   ]
  },
  {
   "cell_type": "markdown",
   "metadata": {},
   "source": [
    "이제 Git과 GitHub까지 준비물은 모두 준비되었습니다.<br>\n",
    "\n",
    "이제 직접 첫 번째 코드를 로컬 저장소(내 노트북)에서 원격 저장소(GitHub 서버)로 보내고, 위에서 보았던 초록색 잔디🌱를 한 단계 한 단계 천천히 거치며 완성해 보도록 하겠습니다!"
   ]
  },
  {
   "cell_type": "markdown",
   "metadata": {},
   "source": [
    "### **1. 로컬의 Git에 GitHub의 계정 정보 등록하기**\n",
    "\n",
    "---\n",
    "\n",
    "첫 번째로 해야 할 일은 로컬의 Git과 원격에 있는 GitHub을 연결하는 것입니다.\n",
    "앞에서 설명했던 Git과 GitHub의 설명이 기억나시나요? Git이 로컬에서 버전 관리를 하는 툴이라면, GitHub은 원격으로 관리하며 협업할 수 있는 웹사이트라고 소개했었죠."
   ]
  },
  {
   "cell_type": "markdown",
   "metadata": {},
   "source": [
    "로컬의 Git과 동기화를 해서 온라인으로 관리할 수 있는 원격저장소를 GitHub에서는 **레파지토리(Repository)** 라고 부릅니다. 우리가 로컬에서 다양한 코드 작업을 한 후, GitHub의 내 계정에 있는 원격저장소, 레파지토리로 잘 전송하려면 로컬의 Git이 원격의 GitHub 계정 정보를 알고 있어야겠죠.<br>\n",
    "\n",
    "다행히 우리는 다음과 같은 명령어로 간단히 Git과 GitHub을 연결할 수 있습니다."
   ]
  },
  {
   "cell_type": "markdown",
   "metadata": {},
   "source": [
    "```shell\n",
    "$ git config --global user.email \"my-email@gmail.com\"\n",
    "$ git config --global user.name \"my-username\"\n",
    "```"
   ]
  },
  {
   "cell_type": "markdown",
   "metadata": {},
   "source": [
    "위에서 `my-email@gmail.com` 과 `my-username` 부분은 **자신의 email 주소와 username으로 변경해서 입력하면 됩니다.** 이렇게 입력해주고 나면 Git 툴이 내가 GitHub 사이트로 코드 정보를 전송할 때 어떤 계정에 있는 레파지토리로 전송해야 하는지 기억합니다.<br>\n",
    "\n",
    "아래와 같이, Git에 등록한 config의 정보를 모두 확인하고 싶으면 다음과 같이 입력해 봅시다."
   ]
  },
  {
   "cell_type": "markdown",
   "metadata": {},
   "source": [
    "```shell\n",
    "$ git config -l\n",
    "```"
   ]
  },
  {
   "cell_type": "markdown",
   "metadata": {},
   "source": [
    "### **2. 내 컴퓨터에 로컬 저장소 만들기**\n",
    "\n",
    "---\n",
    "\n",
    "그 다음으로는 먼저 내 컴퓨터에 Git으로 관리해 보고 싶은 로컬 저장소를 만들어보겠습니다. 로컬 저장소라는 용어라고 칭하니 거창해 보이지만, 사실은 특별할 것 없이 우리가 보통 파일을 관리할 때 쓰는 폴더, 즉 디렉토리를 말합니다. Git은 디렉토리를 기준으로 그 하위에 있는 모든 폴더와 파일에 대한 버전을 기록할 수 있습니다."
   ]
  },
  {
   "cell_type": "markdown",
   "metadata": {},
   "source": [
    "다음과 같이 사용자 홈 디렉토리로 이동한 후 `workplace` 라는 이름으로 새로운 폴더를 만들어보겠습니다.\n",
    "우리는 이 새로운 폴더에서 작업을 시작할 것입니다."
   ]
  },
  {
   "cell_type": "markdown",
   "metadata": {},
   "source": [
    "```shell\n",
    "$ cd ~\n",
    "$ cd aiffel\n",
    "$ mkdir workplace\n",
    "```"
   ]
  },
  {
   "cell_type": "markdown",
   "metadata": {},
   "source": [
    "자, 리눅스 명령어 두 가지가 나왔습니다. 각각의 명령어가 무엇을 뜻하는지 알고 있나요?"
   ]
  },
  {
   "cell_type": "markdown",
   "metadata": {},
   "source": [
    "<details>\n",
    "<summary><b>Q. cd는 어떤 동작을 하는 명령어인가요?</b></summary>\n",
    "\n",
    "`change directory`\n",
    "</details>"
   ]
  },
  {
   "cell_type": "markdown",
   "metadata": {},
   "source": [
    "<details>\n",
    "<summary><b>Q. mkdir은 어떤 동작을 하는 명령어인가요?</b></summary>\n",
    "\n",
    "`make directory`\n",
    "</details>"
   ]
  },
  {
   "cell_type": "markdown",
   "metadata": {},
   "source": [
    "### **3. Git으로 버전 관리 시작하기**\n",
    "\n",
    "---\n",
    "\n",
    "우리가 작업을 진행할 새로운 디렉토리 workplace를 생성하였습니다.\n",
    "이제 그 디렉토리로 옮겨가보시죠."
   ]
  },
  {
   "cell_type": "markdown",
   "metadata": {},
   "source": [
    "```shell\n",
    "$ cd workplace\n",
    "```"
   ]
  },
  {
   "cell_type": "markdown",
   "metadata": {},
   "source": [
    "우리는 이제 이 디렉토리를 Git으로 관리하기 시작할 것입니다. 다음 명령어로 Git을 현재의 디렉토리 내에 심어놓을 수 있죠!"
   ]
  },
  {
   "cell_type": "markdown",
   "metadata": {},
   "source": [
    "```shell\n",
    "$ git init\n",
    "```"
   ]
  },
  {
   "cell_type": "markdown",
   "metadata": {},
   "source": [
    "`init`은 initialization의 약자입니다. 시작한다는 뜻을 갖고 있죠. 이제부터는 Git이 지금 있는 `workplace` 디렉토리에서 발생하는 모든 변화를 기록해둘 것입니다. `ls`만 해서는 보이지 않겠지만 다음과 같이 하면 빈 디렉토리였던 `workplace` 안에 새롭게 생긴 `.git` 디렉토리와, 그 안에 있는 내용들을 확인해 볼 수 있습니다."
   ]
  },
  {
   "cell_type": "markdown",
   "metadata": {},
   "source": [
    "```shell\n",
    "$ ls -a\n",
    ".  ..  .git\n",
    "$ cd .git\n",
    "$ ls \n",
    "HEAD  branches  config  description  hooks  info  objects  refs\n",
    "```"
   ]
  },
  {
   "cell_type": "markdown",
   "metadata": {},
   "source": [
    "이게 무슨 뜻일까요? `git init`은 `workplace`라는 디렉토리를 새로운 Git 로컬 저장소로 만들었다는 뜻입니다. 모든 Git 로컬 저장소는 `.git`이라는 디렉토리를 가지고 있습니다."
   ]
  },
  {
   "cell_type": "markdown",
   "metadata": {},
   "source": [
    "## **2-8. GitHub에 첫 번째 잔디 심기, 어렵지 않아요! (2) 변화 추적하기**"
   ]
  },
  {
   "cell_type": "markdown",
   "metadata": {},
   "source": [
    "### **4. README.md 파일 생성하기**\n",
    "\n",
    "---\n",
    "\n",
    "README 파일을 들어보셨나요? 리드미 파일이라고도 부르는 이 파일은, GitHub의 레파지토리에서 대문과 같은 역할을 하는 파일입니다.\n",
    "Tensorflow 오픈소스 코드가 올라와있는 GitHub 레파지토리를 구경하러 가보죠."
   ]
  },
  {
   "cell_type": "markdown",
   "metadata": {},
   "source": [
    "- [tensorflow/tensorflow](https://github.com/tensorflow/tensorflow)\n",
    "\n",
    "<br>\n",
    "다음 이미지와 같은 README.md 파일을 확인하셨나요?"
   ]
  },
  {
   "cell_type": "markdown",
   "metadata": {},
   "source": [
    "![Readme example of Tensorflow](../Images/lec_2/7.png)"
   ]
  },
  {
   "cell_type": "markdown",
   "metadata": {},
   "source": [
    "이렇게 README.md 파일은 레파지토리를 들어갔을 때 그 레파지토리가 담은 오픈소스 코드들에 대해 소개하는 역할을 합니다.\n",
    "레파지토리 주인이 어떻게 그 파일을 꾸며놓느냐에 따라 그 레파지토리를 구경하는 사람들이 느끼는 첫인상도 달라지겠죠."
   ]
  },
  {
   "cell_type": "markdown",
   "metadata": {},
   "source": [
    "`md`라는 확장자는 Markdown, 마크다운이라는 파일을 지칭하는데, 마크다운은 개발자들이 많이 사용하는 문서작업용 언어입니다.\n",
    "언어라고 하니 거창해 보이는데 크게 어렵지 않습니다! 마크다운에 대한 내용은 이후 스텝(`개발자 문서작업의 시작과 끝! 마크다운을 익혀보자 (1) 마크다운 소개`)에서 간단히 소개할 예정인데, 그 정도만 익혀도 충분할 것입니다."
   ]
  },
  {
   "cell_type": "markdown",
   "metadata": {},
   "source": [
    "아무튼, 이렇게 내 레파지토리를 구경할 사람들에게 내 작업물을 간단히 소개하기 위한 파일이 바로 `README.md` 파일인 것이죠.\n",
    "그렇다면 첫 번째 레파지토리에 담길 첫 번째 리드미 파일을 만들어볼까요?"
   ]
  },
  {
   "cell_type": "markdown",
   "metadata": {},
   "source": [
    "```shell\n",
    "$ cd ~/aiffel/workplace\n",
    "$ echo \"# first-repository\" >> README.md\n",
    "```"
   ]
  },
  {
   "cell_type": "markdown",
   "metadata": {},
   "source": [
    "위와 같은 명령어를 입력하면 `README.md` 파일을 생성함과 동시에 그 파일 내에 `# first-repository`라는 한 줄이 입력되게 됩니다.\n",
    "`echo`는 출력을 하는 명령어인데, 출력 스트림을 지정하는 `>>`을 통해 출력 타겟을 `README.md` 파일로 지정했기 때문입니다."
   ]
  },
  {
   "cell_type": "markdown",
   "metadata": {},
   "source": [
    "위 명령어를 실행했다면 다음과 같이 README.md 파일이 생성된 것을 확인할 수 있을 것입니다. cat 명령어를 통해 생성된 텍스트 파일을 열어 봅시다.\n",
    "\n",
    "- 참고: [Linux manual - cat(1)](https://man7.org/linux/man-pages/man1/cat.1.html)"
   ]
  },
  {
   "cell_type": "markdown",
   "metadata": {},
   "source": [
    "```shell\n",
    "$ ls\n",
    "README.md\n",
    "\n",
    "$ cat README.md\n",
    "# first-repository\n",
    "```"
   ]
  },
  {
   "cell_type": "markdown",
   "metadata": {},
   "source": [
    "`ls`로 파일 목록을 확인하면 `README.md` 파일이 목록 내에 출력될 것이고, `cat` 명령어를 통해 해당 파일에 작성되어 있는 내용을 확인하면 우리가 입력한 `# first-repository`가 출력될 것입니다."
   ]
  },
  {
   "cell_type": "markdown",
   "metadata": {},
   "source": [
    "### **5. git으로 변화 확인! 지금 버전에 도장 쾅! 찍기**\n",
    "\n",
    "---\n",
    "\n",
    "자, 우리는 방금 git으로 버전을 관리하고 있는 `workplace` 디렉토리에 `README.md` 파일을 생성함으로써 변화를 주었습니다.<br>\n",
    "그 변화가 아무리 미미할지언정 변화는 변화이니, git은 그 변화를 감지했을 것입니다!"
   ]
  },
  {
   "cell_type": "markdown",
   "metadata": {},
   "source": [
    "Git이 추적하고 있는 변화는 다음 명령어로 확인할 수 있습니다.\n",
    "```shell\n",
    "$ git status\n",
    "On branch main\n",
    "\n",
    "No commits yet\n",
    "\n",
    "Untracked files:\n",
    "    (use \"git add <file>...\" to include in what will be committed)\n",
    "    README.md\n",
    "\n",
    "nothing added to commit but untracked files present (use \"git add\" to track) \n",
    "```"
   ]
  },
  {
   "cell_type": "markdown",
   "metadata": {},
   "source": [
    "> 💡 main & master,깃허브의 정책 변화?<br>\n",
    "\n",
    "> 위 실행창에서 `On branch main` 부분은 `On branch master`로 뜰 수도 있습니다.<br>\n",
    "이를 잘 확인하여 다음 스텝에서 살펴볼 `git push`명령어에서 변경하여 사용하시면 됩니다.<br>\n",
    "깃허브의 입장에 따르면, 기존에 사용하던 `master`라는 표현은 인종 차별을 연상시킬 수 있다며 main이라는 표현으로 바꾸기로 했답니다.<br><br>\n",
    "\n",
    "> [깃허브, 개발용어 '마스터'&rarr;메인으로 바꾼다](https://zdnet.co.kr/view/?no=20200921101131)"
   ]
  },
  {
   "cell_type": "markdown",
   "metadata": {},
   "source": [
    "위와 같은 내용이 출력되었다면 성공입니다. `Untracked files:`라고 하며 아직 추적되지 않은 새로운 파일인 `README.md` 파일을 잡아내었죠."
   ]
  },
  {
   "cell_type": "markdown",
   "metadata": {},
   "source": [
    "그렇다면 우리는 git에 이 변경사항을 저장해 둘 필요가 있겠죠. `add`와 `commit` 두 가지의 명령어로 진행할 수 있습니다.\n",
    "\n",
    "```shell\n",
    "$ git add README.md\n",
    "$ git commit -m \"new readme file\"\n",
    "[master (root-commit) 438a37c] new readme file \n",
    "    1 file changed, 1 insertion(+)\n",
    "    create mode 100644 README.md\n",
    "```\n",
    "\n",
    "`-m`은 메세지 옵션입니다. `git commit -m` 뒤에는 해당 커밋에 대한 설명을 작성하면 됩니다.<br>\n",
    "`add`와 `commit`의 개념은 Git을 다룰 때 아주 중요한 개념 중 하나입니다. 두 명령어 모두 현재의 변화를 기록하기 위한 명령어인데, 중요한 차이가 있습니다."
   ]
  },
  {
   "cell_type": "markdown",
   "metadata": {},
   "source": [
    "다음 두 가지 글을 먼저 읽어보고 `add`와 `commit`의 차이를 한 번 생각해 보죠.\n",
    "\n",
    "- [Git 저장소 생성 및 커밋 ( init / add / commit )](https://ifuwanna.tistory.com/193)\n",
    "- [git - 간편 안내서](https://rogerdudler.github.io/git-guide/index.ko.html)"
   ]
  },
  {
   "cell_type": "markdown",
   "metadata": {},
   "source": [
    "<details>\n",
    "<summary><b>Q. add와 commit은 어떤 차이가 있을까요?</b></summary>\n",
    "\n",
    "`add`: 로컬 소스코드를 git의 이력에 추가<br>\n",
    "`commit`: git의 내역에 추가된 소스코드를 저장소(repository)에 사용하려고 결정(commit)함\n",
    "</details>"
   ]
  },
  {
   "cell_type": "markdown",
   "metadata": {},
   "source": [
    "차이에 대한 감이 오시나요?<br>\n",
    "간단히 말하자면 `add`는 해당 순간을 스냅샷으로 남겨두기 위한 준비작업, `commit`은 해당 순간을 정말 도장처럼 쾅! 찍어서 기록해두는 확정 작업인 셈이죠.<br>\n",
    "\n",
    "아무튼, 여기까지 우리는 새로운 파일인 `README.md` 파일이 생성된 순간의 버전을 스냅샷으로 잘 기록하였네요!"
   ]
  },
  {
   "cell_type": "markdown",
   "metadata": {},
   "source": [
    "## **2-9. GitHub에 첫 번째 잔디 심기, 어렵지 않아요! (3) 원격 저장소**"
   ]
  },
  {
   "cell_type": "markdown",
   "metadata": {},
   "source": [
    "### **6. GitHub에 나의 첫 번째 레파지토리 만들기**\n",
    "\n",
    "---\n",
    "\n",
    "자, 이제 로컬 저장소에서 새로운 파일을 만들었고, 그 기록을 commit 으로 저장도 해두었으니 이걸 원격저장소, 즉 레파지토리에 옮겨볼 차례입니다."
   ]
  },
  {
   "cell_type": "markdown",
   "metadata": {},
   "source": [
    "옮기기 위해서는 먼저 레파지토리를 만들어야겠죠!\n",
    "다음 포스팅에서 안내하는 순서대로 레파지토리를 만들어 보겠습니다.\n",
    "\n",
    "- [깃허브(Github) 원격저장소(Repository) 생성](https://aboneu.tistory.com/482)"
   ]
  },
  {
   "cell_type": "markdown",
   "metadata": {},
   "source": [
    "레파지토리 이름은 원하는대로 마음대로 생성해 보세요! 저는 `first-repository`로 생성했습니다. 포스팅에서는 레파지토리를 생성하면서 README 파일을 함께 생성하도록 안내가 되어있는데, 우리는 이미 로컬저장소에서 README 파일을 만들어 놓았으니 그 부분은 체크 해제해서 진행하면 됩니다."
   ]
  },
  {
   "cell_type": "markdown",
   "metadata": {},
   "source": [
    "무사히 생성했다면 다음과 같은 레파지토리가 생성된 화면을 볼 수 있을 것입니다. 레파지토리 이름이 직접 지정했던 이름으로 잘 생성되었나요? 다음 이미지에서 `first-repository` 위치에 설정한 이름이 뜬다면 성공입니다!"
   ]
  },
  {
   "cell_type": "markdown",
   "metadata": {},
   "source": [
    "![Github repository example](../Images/lec_2/8.png)"
   ]
  },
  {
   "cell_type": "markdown",
   "metadata": {},
   "source": [
    "### **7. 내 로컬 저장소와 원격 저장소를 연결해 보자!**\n",
    "\n",
    "---\n",
    "\n",
    "이제 로컬 저장소도, 원격 저장소도 모두 준비가 되었으니 둘을 연결하는 일만 남았습니다.<br>\n",
    "둘을 연결하는 연결고리는 바로 위의 이미지에서 봤던 내 레파지토리의 주소입니다."
   ]
  },
  {
   "cell_type": "markdown",
   "metadata": {},
   "source": [
    "위 이미지에서 `HTTPS`라고 적힌 오른쪽에 `https://...`라고 적혀있는 레파지토리의 주소가 보이시나요? 저 주소를 로컬 저장소에 있는 git에게 알려주면 git은 GitHub의 원격 저장소의 주소를 알고 두 저장소 간에 정보를 전송할 수 있습니다. 주소 칸의 맨 오른쪽에 보이는 아이콘을 누르면 주소가 클립보드에 복사됩니다."
   ]
  },
  {
   "cell_type": "markdown",
   "metadata": {},
   "source": [
    "주소를 클립보드에 저장한 후, 터미널에서 아래 명령어를 입력해서 로컬 저장소에 있는 Git이 원격 저장소의 주소를 알 수 있도록 저장하겠습니다. 아래 명령어는 꼭 로컬 저장소 디렉토리 안에서 실행해야 합니다.\n",
    "\n",
    "```shell\n",
    "$ cd ~/aiffel/workplace\n",
    "$ git remote add origin https://github.com/xxx/first-repository.git\n",
    "```\n",
    "\n",
    "`origin`은 원격 저장소의 닉네임과 같은 역할을 합니다. 앞으로는 복잡한 `https://...`의 주소를 매번 사용하는 것이 아니라, `origin`이라는 이름으로 원격 저장소를 지칭할 수 있는 것이죠. 물론 위의 `xxx` 부분은 본인의 username이 들어가야합니다!"
   ]
  },
  {
   "cell_type": "markdown",
   "metadata": {},
   "source": [
    "### **8. GitHub에서 토큰 생성하기!**\n",
    "\n",
    "---\n",
    "\n",
    "이제 로컬 저장소에 저장된 내용을 원격 저장소로 전송해야 합니다."
   ]
  },
  {
   "cell_type": "markdown",
   "metadata": {},
   "source": [
    "그런데 연결만 한다고 아무나 원격 저장소로 전송할 수 있다면 어떻게 될까요? 이걸 막기 위해 비밀번호를 사용해야겠죠? 하지만 GitHub에서는 이제 비밀번호를 사용하지 않습니다. 대신 토큰을 만들어서 사용합니다. 토큰은 시간 제한이 있는 비밀번호라고 생각하면 됩니다. 또 한 가지 특징은 내가 직접 토큰을 만들 수는 없고, GitHub이 만들어 준다는 것입니다."
   ]
  },
  {
   "cell_type": "markdown",
   "metadata": {},
   "source": [
    "- [[GitHub] 토큰을 사용한 계정 등록 방법](https://wooono.tistory.com/460)"
   ]
  },
  {
   "cell_type": "markdown",
   "metadata": {},
   "source": [
    "GitHub에 로그인한 상태에서 위 링크를 참고해 토큰을 만들어 주세요! 토큰의 유효 기간을 지정하고 그 기간을 잘 기억해놔야 나중에 당황하지 않을 거예요~! 어느날 갑자기 안돼서 당황할 수가 있어요!!"
   ]
  },
  {
   "cell_type": "markdown",
   "metadata": {},
   "source": [
    "### **9. 로컬 저장소의 기록을 원격 저장소로 전송하기**\n",
    "\n",
    "---\n",
    "\n",
    "이제 모든 준비가 끝났으니 로컬에서 레파지토리로 전송하는 것은 아주 간단합니다.<br>\n",
    "바로 다음 명령어 두 줄이면 되죠."
   ]
  },
  {
   "cell_type": "markdown",
   "metadata": {},
   "source": [
    "```shell\n",
    "$ git config credential.helper store\n",
    "$ git push origin main\n",
    "Username for 'https://github.com': [계정에 사용된 이메일을 입력하세요]\n",
    "Password for 'https://[위에 입력한 이메일]@github.com': [비밀번호(토큰)를 입력하세요]\n",
    "Enumerating objects: 3, done.\n",
    "Counting objects: 100% (3/3), done.\n",
    "Writing objects: 100% (3/3), 230 bytes | 230.00 KiB/s, done.\n",
    "Total 3 (delta 0), reused 0 (delta 0)\n",
    "To https://github.com/jeina7/first-repository.git\n",
    "    * [new branch]      master -> master\n",
    "```"
   ]
  },
  {
   "cell_type": "markdown",
   "metadata": {},
   "source": [
    "(위 커맨드에서 에러가 난다면 `git push origin master`로 시도해보시기 바랍니다.)"
   ]
  },
  {
   "cell_type": "markdown",
   "metadata": {},
   "source": [
    "계정에 사용된 이메일을 입력하고, 비밀번호를 입력해야 합니다. **비밀번호 대신 위에서 생성한 토큰을 입력하면 됩니다.** 긴 토큰을 입력하기 위해 복사/붙여넣기를 해야하는데요. 터미널에서 붙여넣을 때는 `Ctrl+Shift+V`를 입력하면 됩니다."
   ]
  },
  {
   "cell_type": "markdown",
   "metadata": {},
   "source": [
    "위 명령어는 현재 로컬에 있는 버전 기록과 모든 파일들을 `origin`, 즉 원격 저장소의 master 브랜치로 `push`해 밀어넣겠다는 뜻을 가집니다.\n",
    "브랜치란, 간단히 말하자면 작업을 하는 '가지'를 말합니다. 하나의 작업을 여러 개의 가지로 분기하여 작업을 진행할 수 있습니다. 브랜치의 개념은 다음 글에서 한 번 더 확인해 보도록 하겠습니다."
   ]
  },
  {
   "cell_type": "markdown",
   "metadata": {},
   "source": [
    "- [브랜치란? 【브랜치 (Branch)】 | 누구나 쉽게 이해할 수 있는 Git 입문~버전 관리를 완벽하게 이용해 보자~ | Backlog](https://nulab.com/ko/learn/software-development/git-tutorial/git-collaboration/branches/what-is-a-git-branch/)"
   ]
  },
  {
   "cell_type": "markdown",
   "metadata": {},
   "source": [
    "`push`를 할 때마다 매번 로그인을 하지 않으려면 `git config credential.helper store` 명령어를 단 한 번만 실행해주시면 됩니다."
   ]
  },
  {
   "cell_type": "markdown",
   "metadata": {},
   "source": [
    "위 작업까지 모두 마치게 되면 우리는 우리의 첫 번째 Repository를 완성한 것입니다.\n",
    "다음과 같은 레파지토리의 모습이 확인되시나요?!"
   ]
  },
  {
   "cell_type": "markdown",
   "metadata": {},
   "source": [
    "![Example of the Github repository](../Images/lec_2/9.png)"
   ]
  },
  {
   "cell_type": "markdown",
   "metadata": {},
   "source": [
    "### **클라우드 환경 팁!**\n",
    "\n",
    "---\n",
    "\n",
    "이제 앞으로도 원격 저장소에 전송을 할 경우라면 클라우드 환경에서는 한 가지 문제가 있습니다."
   ]
  },
  {
   "cell_type": "markdown",
   "metadata": {},
   "source": [
    "```shell\n",
    "$ git config --global 후략...\n",
    "```"
   ]
  },
  {
   "cell_type": "markdown",
   "metadata": {},
   "source": [
    "앞서 계정 정보를 등록하면서 위와 같은 명령어를 사용했는데요. `--global` 옵션을 사용하면 약속된 폴더에 그 정보가 저장됩니다. 약속된 폴더는 `/aiffel` 폴더 바깥에 있어요. 그런데 클라우드 환경을 새로 만들면 `/aiffel`폴더 밖에 있는 모든 내용이 삭제되기 때문에 `--global` 옵션을 사용해 저장했던 내용이 사라집니다. 그래서 클라우드 환경에서는 계정 정보가 `/aiffel` 폴더 안에 저장되도록 만들어야 클라우드 환경이 바뀌어도 계정 정보가 남아있게 됩니다."
   ]
  },
  {
   "cell_type": "markdown",
   "metadata": {},
   "source": [
    "아래 명령어를 사용하면 계정 정보를 원하는 위치에 저장할 수 있습니다."
   ]
  },
  {
   "cell_type": "markdown",
   "metadata": {},
   "source": [
    "```shell\n",
    "$ cd ~/aiffel/workplace\n",
    "$ git config credential.helper \"store --file ~/aiffel/.git-credentials\"\n",
    "```"
   ]
  },
  {
   "cell_type": "markdown",
   "metadata": {},
   "source": [
    "`~/aiffel/.git-credentials` 이 아닌 다른 파일 이름이나 위치로 저장할 수도 있습니다.\n",
    "설정 후에는 그 아래 명령어로 설정된 내용을 확인할 수 있어요."
   ]
  },
  {
   "cell_type": "markdown",
   "metadata": {},
   "source": [
    "```shell\n",
    "$ git config -l\n",
    "```"
   ]
  },
  {
   "cell_type": "markdown",
   "metadata": {},
   "source": [
    "아래 항목이 나오면 성공입니다.\n",
    "\n",
    "```shell\n",
    "credential.helper=store --file ~/aiffel/.git-credentials\n",
    "```"
   ]
  },
  {
   "cell_type": "markdown",
   "metadata": {},
   "source": [
    "여기까지 진행해도 실제로 `~/aiffel/.git-credentials` 파일은 생기지 않습니다.<br>\n",
    "아래 명령어로 `README.md` 내용을 바꿔 원격 저장소에 다시 저장해 봅시다."
   ]
  },
  {
   "cell_type": "markdown",
   "metadata": {},
   "source": [
    "```shell\n",
    "$ echo \"## git config\" >> README.md\n",
    "$ cat README.md\n",
    "$ git commit -a -m \"change file\"\n",
    "$ git push origin main\n",
    "```"
   ]
  },
  {
   "cell_type": "markdown",
   "metadata": {},
   "source": [
    "아까 입력한 Username(이메일)과 Password(토큰)를 입력하면 원격 저장소에 변화된 내용이 저장되면서 `~/aiffel/.git-credentials` 파일이 생성됩니다.<br>\n",
    "이제 저장된 `~/aiffel/.git-credentials` 파일을 확인하러 가봅시다."
   ]
  },
  {
   "cell_type": "markdown",
   "metadata": {},
   "source": [
    "```shell\n",
    "$ cd ~/aiffel\n",
    "$ ls\n",
    "```"
   ]
  },
  {
   "cell_type": "markdown",
   "metadata": {},
   "source": [
    "어떤가요? 파일이 보이나요? 보이지 않는 것이 정상입니다. 이 파일은 .으로 시작하는 숨김 파일이기 때문에 명령어에 옵션을 붙여야 보입니다.\n",
    "\n",
    "```shell\n",
    "$ ls -a\n",
    "```"
   ]
  },
  {
   "cell_type": "markdown",
   "metadata": {},
   "source": [
    "파일의 내용을 확인해 볼게요.\n",
    "\n",
    "```shell\n",
    "$ cat .git-credentials\n",
    "```"
   ]
  },
  {
   "cell_type": "markdown",
   "metadata": {},
   "source": [
    "아래처럼 계정 정보가 나옵니다.\n",
    "\n",
    "```shell\n",
    "https://[이메일].[비밀번호(토큰)]@github.com\n",
    "```\n",
    "\n",
    "이렇게 파일로 저장되어 다음부터는 이 파일을 이용해 자동으로 원격 저장소에 접근하게 됩니다. 아주 편리하겠죠?!"
   ]
  },
  {
   "cell_type": "markdown",
   "metadata": {},
   "source": [
    "그런데 여기서 뭔가 이상하다고 생각해야 합니다. 바로 보안 때문이에요. 그 어떤 경우라도 비밀번호를 알아보기 좋게 저장해놓는 일은 없어야 합니다. 누군가 이 파일을 얻게 된다면 여러분의 원격 저장소는 탈취될 수도 있고, 삭제되어 사라져 버릴 수도 있습니다. 위 방법을 사용한다면 편의성을 위해서 보안을 포기하게 되는 것이죠. 그러므로 자신의 판단에 따라 이 방법을 사용할지 결정하세요."
   ]
  },
  {
   "cell_type": "markdown",
   "metadata": {},
   "source": [
    "이 방법을 사용하고 싶지 않다면 아래 명령어를 통해 설정을 삭제할 수 있습니다.\n",
    "\n",
    "```shell\n",
    "$ rm ~/aiffel/.git-credentials\n",
    "$ ls -a\n",
    "$ cd ~/aiffel/workplace\n",
    "$ git config --unset credential.helper\n",
    "$ git config -l\n",
    "```\n",
    "\n",
    "어떤가요? 비밀번호가 적힌 파일도 사라지고 아까 설정이 사라졌나요? 그렇다면 이제 불편하긴 하지만 안전해졌습니다."
   ]
  },
  {
   "cell_type": "markdown",
   "metadata": {},
   "source": [
    "## **2-10. GitHub에 첫 번째 잔디 심기, 어렵지 않아요! (4) 협업하기**"
   ]
  },
  {
   "cell_type": "markdown",
   "metadata": {},
   "source": [
    "### **10. 원격 저장소를 로컬로도 가져올 수 있을까?**\n",
    "\n",
    "---\n",
    "\n",
    "만약 우리가 지금까지 했던 것처럼 로컬 저장소를 GitHub의 원격 저장소로 전송하는 것이 아니라, 그 반대로 이미 GitHub에 올라와 있는 저장소를 통째로 내 로컬에 가져오고 싶다면 어떻게 해야 할까요?"
   ]
  },
  {
   "cell_type": "markdown",
   "metadata": {},
   "source": [
    "이 작업 또한 아주 간단합니다.<br>\n",
    "원격 저장소를 로컬에 가져오려면 역시 그 연결고리가 필요하겠죠. 다음과 같이 레파지토리의 주소를 복사하겠습니다."
   ]
  },
  {
   "cell_type": "markdown",
   "metadata": {},
   "source": [
    "![Example of github; git clone](../Images/lec_2/10.png)"
   ]
  },
  {
   "cell_type": "markdown",
   "metadata": {},
   "source": [
    "우리는 이 저장소를 아까 생성했던 `workplace`가 아닌 다른 디렉토리인 `project`에 가져와보겠습니다.\n",
    "\n",
    "```shell\n",
    "$ cd ~\n",
    "$ cd aiffel\n",
    "$ mkdir project\n",
    "$ cd project\n",
    "```\n",
    "\n",
    "이동 후에, 다음과 같은 명령어를 사용하면 GitHub의 레파지토리를 통째로 가져올 수 있습니다. 명령어는 복제라는 뜻을 가진 `clone`을 사용합니다."
   ]
  },
  {
   "cell_type": "markdown",
   "metadata": {},
   "source": [
    "> ❗ (주의) 아래 코드를 실행할 때 `...github.com/xxx/first-repository...`에서의 `xxx` 부분을 본인의 깃허브 username 으로 대체해주세요"
   ]
  },
  {
   "cell_type": "markdown",
   "metadata": {},
   "source": [
    "```shell\n",
    "$ git clone https://github.com/xxx/first-repository.git\n",
    "Cloning into 'first-repository'...\n",
    "remote: Enumerating objects: 3, done.\n",
    "remote: Counting objects: 100% (3/3), done.\n",
    "remote: Total 3 (delta 0), reused 3 (delta 0), pack-reused 0\n",
    "Unpacking objects: 100% (3/3), done.\n",
    "```"
   ]
  },
  {
   "cell_type": "markdown",
   "metadata": {},
   "source": [
    "그러면 제대로 잘 복사가 되었는지 확인해볼까요?\n",
    "\n",
    "```shell\n",
    "$ ls\n",
    "first-repository\n",
    "```\n",
    "\n",
    "`ls`로 확인하면 레파지토리 이름으로 폴더가 생성된 것을 확인할 수 있습니다. 이동해서 확인해 보죠."
   ]
  },
  {
   "cell_type": "markdown",
   "metadata": {},
   "source": [
    "```shell\n",
    "$ cd first-repository\n",
    "$ ls\n",
    "README.md\n",
    "```\n",
    "\n",
    "폴더 내로 이동해서 다시 `ls`로 확인하면 우리가 아까 만들어놓고 레파지토리로 전송했던 `README.md` 파일을 확인할 수 있습니다. `cat`으로 내용을 확인해 보죠!"
   ]
  },
  {
   "cell_type": "markdown",
   "metadata": {},
   "source": [
    "```shell\n",
    "$ cat README.md\n",
    "# first-repository\n",
    "```\n",
    "\n",
    "내용도 우리가 작성한대로 잘 가져와졌군요."
   ]
  },
  {
   "cell_type": "markdown",
   "metadata": {},
   "source": [
    "### **11. 로컬로 가져온 원격 저장소를 수정해서 다시 `push`해 보자!**\n",
    "\n",
    "---\n",
    "\n",
    "그렇다면 이제 로컬로 가져온 레파지토리 내용을 수정해서 다시 원격으로 전송해보는 작업을 할 것입니다.<br>\n",
    "파일에 변화를 주기 위해서 현재 있는 README.md 파일을 한번 수정해 보겠습니다."
   ]
  },
  {
   "cell_type": "markdown",
   "metadata": {},
   "source": [
    "```shell\n",
    "$ echo \"add new contents\" >> README.md\n",
    "```\n",
    "\n",
    "이번에도 `echo` 명령어를 활용하지만, 아까와는 다르게 이미 `README.md` 파일이 있기 때문에 새로 생성하는 것이 아니라 현재 있는 파일의 아래쪽에 문자열을 추가하게 됩니다."
   ]
  },
  {
   "cell_type": "markdown",
   "metadata": {},
   "source": [
    "다시 한 번 파일 내용을 확인해볼까요?\n",
    "\n",
    "```shell\n",
    "$ cat README.md\n",
    "# first-repository\n",
    "add new contents\n",
    "```"
   ]
  },
  {
   "cell_type": "markdown",
   "metadata": {},
   "source": [
    "내용에 원래 있던 첫 번째 줄과 아래 두 번째 줄이 추가되었군요.<br>\n",
    "그렇다면 다시 변화가 생긴 것이니, git이 이 변화를 추적하고 있을 것입니다. 확인해봅시다."
   ]
  },
  {
   "cell_type": "markdown",
   "metadata": {},
   "source": [
    "```shell\n",
    "$ git status\n",
    "On branch master\n",
    "Changes not staged for commit:\n",
    "    (use \"git add <file>...\" to update what will be committed)\n",
    "    (use \"git restore <file>...\" to discard changes in working directory)\n",
    "    modified:   README.md\n",
    "\n",
    "no changes added to commit (use \"git add\" and/or \"git commit -a\")\n",
    "```"
   ]
  },
  {
   "cell_type": "markdown",
   "metadata": {},
   "source": [
    "이번에는 `README.md` 파일이 새로 생긴 것이 아니라, `modified`되었다고 나옵니다. 맞게 잘 추적하고 있는 것 같군요.<br>\n",
    "이제 다시 아까 했던 작업과 동일하게 `add`, `commit`을 진행하도록 하겠습니다."
   ]
  },
  {
   "cell_type": "markdown",
   "metadata": {},
   "source": [
    "```shell\n",
    "$ git add README.md\n",
    "$ git commit -m \"new contents\"\n",
    "[master c82640d] new contents\n",
    "    1 file changed, 1 insertion(+)\n",
    "```"
   ]
  },
  {
   "cell_type": "markdown",
   "metadata": {},
   "source": [
    "새로운 `commit`, 즉 새로운 스냅샷이 저장되었습니다.<br>\n",
    "마지막 단계는 이것을 다시! 원격 저장소로 전송하는 것이죠. 원격 저장소로 보내는 명령어가 뭐였죠!? `push`!"
   ]
  },
  {
   "cell_type": "markdown",
   "metadata": {},
   "source": [
    "```shell\n",
    "$ git push origin main\n",
    "Enumerating objects: 5, done.\n",
    "Counting objects: 100% (5/5), done.\n",
    "Writing objects: 100% (3/3), 276 bytes | 276.00 KiB/s, done.\n",
    "Total 3 (delta 0), reused 0 (delta 0)\n",
    "To https://github.com/jeina7/first-repository.git\n",
    "    438a37c..c82640d  master -> master\n",
    "```\n",
    "\n",
    "만약 위 커맨드가 안된다면 `git push origin master`로 다시 시도해 보세요!"
   ]
  },
  {
   "cell_type": "markdown",
   "metadata": {},
   "source": [
    "위와 같은 결과가 나오면 모두 완료된 것입니다. 이제 최종적으로 원격 저장소, 레파지토리로 다시 가서 확인해봅시다."
   ]
  },
  {
   "cell_type": "markdown",
   "metadata": {},
   "source": [
    "![Example of git push](../Images/lec_2/11.png)"
   ]
  },
  {
   "cell_type": "markdown",
   "metadata": {},
   "source": [
    "새로운 내용이 잘 추가되었군요!<br>\n",
    "그렇다면 우리가 처음에 만들었던 `workplace` 디렉토리에도 이 변화가 반영되었을까요?"
   ]
  },
  {
   "cell_type": "markdown",
   "metadata": {},
   "source": [
    "## **2-11. GitHub에 첫 번째 잔디 심기, 어렵지 않아요! (5) 받아오기**"
   ]
  },
  {
   "cell_type": "markdown",
   "metadata": {},
   "source": [
    "### **12. 로컬 저장소를 원격 저장소의 내용과 같게 업데이트하자!**\n",
    "\n",
    "---\n",
    "\n",
    "이제 오늘의 마지막 작업입니다. 원격 저장소의 `README.md` 파일이 수정된 것을 처음에 만들었던 `workplace` 로컬저장소에도 업데이트해주는 것이죠."
   ]
  },
  {
   "cell_type": "markdown",
   "metadata": {},
   "source": [
    "처음에 만들었던 로컬 저장소의 `README.md` 파일이 자동으로 업데이트 되었을까요? 다시 이동해서 확인해봅시다.\n",
    "\n",
    "```shell\n",
    "$ cd ~/aiffel/workplace\n",
    "$ ls\n",
    "README.md\n",
    "$ cat README.md\n",
    "# first-repository\n",
    "```\n",
    "\n",
    "음, 당연하지만 자동으로 업데이트가 되지는 않았군요. 하지만 다행히 이 로컬 저장소를 수정된 원격 저장소와 같게 업데이트 해주는 것 또한 매우 간단합니다."
   ]
  },
  {
   "cell_type": "markdown",
   "metadata": {},
   "source": [
    "```shell\n",
    "$ git pull origin main\n",
    "remote: Enumerating objects: 5, done.\n",
    "remote: Counting objects: 100% (5/5), done.\n",
    "remote: Total 3 (delta 0), reused 3 (delta 0), pack-reused 0\n",
    "Unpacking objects: 100% (3/3), done.\n",
    "From https://github.com/jeina7/first-repository\n",
    "    * branch            master     -> FETCH_HEAD\n",
    "    438a37c..c82640d  master     -> origin/master\n",
    "Updating 438a37c..c82640d\n",
    "Fast-forward\n",
    "    README.md | 1 +\n",
    "    1 file changed, 1 insertion(+)\n",
    "```\n",
    "\n",
    "`push` 의 반댓말, `pull`로 `origin` 별칭의 원격 저장소를 로컬 저장소로 \"당겨올\" 수 있습니다.<br>\n",
    "역시 명령어가 안된다면 `git pull origin master`로 다시 시도해 보세요!"
   ]
  },
  {
   "cell_type": "markdown",
   "metadata": {},
   "source": [
    "잘 가져와졌다면, 다음과 같은 결과가 나와야겠죠!\n",
    "\n",
    "```shell\n",
    "$ cat README.md\n",
    "# first-repository\n",
    "add new contents\n",
    "```\n",
    "\n",
    "`add new contents`라는 내용이 추가되었다면 성공입니다!<br>\n",
    "\n",
    "수고하셨습니다! 👏🏼👏🏼👏🏼"
   ]
  },
  {
   "cell_type": "markdown",
   "metadata": {},
   "source": [
    "## **2-12. GitHub에 첫 번째 잔디 심기, 어렵지 않아요! (6) 정리**"
   ]
  },
  {
   "cell_type": "markdown",
   "metadata": {},
   "source": [
    "여기까지 모두 진행했다면, 우리의 GitHub 프로필 페이지에서 초록색 칸으로 색칠이 된 잔디를 확인하실 수 있을 것입니다. 확인이 되나요? 이렇게 잔디가 칠해지려면 `commit`, `push` 등의 GitHub 활동을 해야합니다. 즉 맨 처음에 봤던 그 1년 내내 파릇파릇한 잔디는 이러한 코드 작업을 매일매일 한 것으로 볼 수 있죠."
   ]
  },
  {
   "cell_type": "markdown",
   "metadata": {},
   "source": [
    "우리가 지금까지 무엇을 한 걸까요? 그림으로 간단히 정리하자면 다음과 같습니다."
   ]
  },
  {
   "cell_type": "markdown",
   "metadata": {},
   "source": [
    "![git cycle example](../Images/lec_2/12.png)"
   ]
  },
  {
   "cell_type": "markdown",
   "metadata": {},
   "source": [
    "한 눈에 들어오시나요?"
   ]
  },
  {
   "cell_type": "markdown",
   "metadata": {},
   "source": [
    "`workplace`라는 로컬저장소, 다른 말로는 디렉토리를 만드는 것부터 시작해서, `add`, `commit`, `push` 세 가지의 명령어를 통해 원격 저장소로 전송했습니다. 그 후에는 원격 저장소를 다시 `first-repository`라는 디렉토리로 복제해와서 파일을 수정한 후 다시 원격 저장소로 전송했죠. 마지막에는 수정된 원격 저장소를 `workplace`로 가져와서 처음 만들었던 저장소를 업데이트하는 작업까지 진행해 보았습니다!"
   ]
  },
  {
   "cell_type": "markdown",
   "metadata": {},
   "source": [
    "그렇다면 이렇게 복잡한 GitHub은 왜 써야하는 걸까요? 위 이미지를 단순화된 이미지로 재구성하자면 다음과 같을 것입니다.<br>\n",
    "우리는 위의 작업을 모두 혼자서 진행했지만, 사실 다른 개발자들과 협업할 때는 다음 이미지와 같이 진행되는 것이죠."
   ]
  },
  {
   "cell_type": "markdown",
   "metadata": {},
   "source": [
    "![github co-work flow example](../Images/lec_2/13.png)"
   ]
  },
  {
   "cell_type": "markdown",
   "metadata": {},
   "source": [
    "위에서 봤던 `workplace`를 만든 것이 개발자 A, 원격 저장소를 복제해왔던 `first-repository`를 다루는 사람이 개발자 B라고 해 봅시다. 협업을 진행하는 두 개발자가 GitHub을 활용한다면, 둘은 서로 업데이트한 **파일을 따로 전송할 필요 없이** GitHub에 Push 또는 Pull하는 것만으로 효율적인 협업을 진행할 수 있는 것이죠. 지금은 크게 중요하지 않아 보일 수 있지만, 여러 개발자가 동시에 개발을 진행하며, 여러 개의 파일에 작업을 하고, 그 버전들이 다양해질 경우, 각 파일의 버전이 관리되지 않는다면 파일을 관리하는 작업은 굉장히 복잡해질 수 있습니다."
   ]
  },
  {
   "cell_type": "markdown",
   "metadata": {},
   "source": [
    "이러한 어려움을 Git과 GitHub은 `commit`이라는 버전 관리 작업을 통해 손쉽게 관리할 수 있도록 한 것이죠."
   ]
  },
  {
   "cell_type": "markdown",
   "metadata": {},
   "source": [
    "Git을 활용한 버전 관리는 앞서 언급했듯 오늘 배운 것보다 훨씬 다양한 명령어, 작업들을 포함하고 있습니다. 다른 사람이 관리하는 메인 레파지토리는 망치지 않으면서, 손님으로서 작업하기 위해 레파지토리를 `fork`한다거나, `fork`한 레파지토리에서 작업한 것을 다시 메인 레파지토리에 반영하도록 요청하기 위해 `pull request`를 보내는 등 다른 기능들은 너무 방대해서 오늘 다 다루지 못했습니다."
   ]
  },
  {
   "cell_type": "markdown",
   "metadata": {},
   "source": [
    "앞으로 GitHub은 개발 공부를 진행하면서 쭉 함께할 친구일테니, 앞으로 더 다양하게 찾아보면서 공부하는 것을 권합니다. 많이 알수록, 더 편리해질 것이니까요!"
   ]
  },
  {
   "cell_type": "markdown",
   "metadata": {},
   "source": [
    "## **2-13. 개발자 문서작업의 시작과 끝! 마크다운을 익혀보자 (1) 마크다운 소개**"
   ]
  },
  {
   "cell_type": "markdown",
   "metadata": {},
   "source": []
  },
  {
   "cell_type": "markdown",
   "metadata": {},
   "source": [
    "## **2-14. 개발자 문서작업의 시작과 끝! 마크다운을 익혀보자 (2) 마크다운 작성하기**"
   ]
  },
  {
   "cell_type": "markdown",
   "metadata": {},
   "source": []
  },
  {
   "cell_type": "markdown",
   "metadata": {},
   "source": [
    "## **2-15. 마무리**"
   ]
  },
  {
   "cell_type": "markdown",
   "metadata": {},
   "source": []
  }
 ],
 "metadata": {
  "language_info": {
   "name": "python"
  },
  "orig_nbformat": 4
 },
 "nbformat": 4,
 "nbformat_minor": 2
}
