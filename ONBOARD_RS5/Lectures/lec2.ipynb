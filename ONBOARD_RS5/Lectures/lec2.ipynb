{
 "cells": [
  {
   "cell_type": "markdown",
   "metadata": {},
   "source": [
    "# **2. 개발자를 위한 첫 번째 필수 교양**"
   ]
  },
  {
   "cell_type": "markdown",
   "metadata": {},
   "source": [
    "## **2-1. 들어가며**"
   ]
  },
  {
   "cell_type": "markdown",
   "metadata": {},
   "source": [
    "안녕하세요!<br>\n",
    "\n",
    "개발자를 위한 필수 교양을 알고 싶은 여러분을 환영합니다. 😊<br>\n",
    "\n",
    "여러분들은 개발자가 되고 싶으신가요? 그렇다면 잘 오셨습니다!<br>\n",
    "\n",
    "이번 노드를 통해 개발자라면 누구나 알고 있어야 하는 필수 교양을 학습하시게 될 거에요.<br>\n",
    "\n",
    "필수 교양을 배우기 전에, 먼저 아이스브레이킹을 해볼까요?"
   ]
  },
  {
   "cell_type": "markdown",
   "metadata": {},
   "source": [
    "### **이 노드를 학습하시면 좋은 분들!**\n",
    "\n",
    "---\n",
    "\n",
    "- 협업 관리 툴을 다뤄본 적이 없습니다.\n",
    "\n",
    "- Git과 GitHub에 대한 개념을 공부해본 적이 없습니다.\n",
    "\n",
    "- GitHub을 이용해 소스코드의 버전 관리를 해 본 적이 없습니다.\n",
    "\n",
    "- pip를 활용해 본 적은 있으나, Jupyter Notebook을 설치해 사용해 본 적이 없습니다.\n",
    "\n",
    "- 마크다운 문법을 공부하거나 활용해본 적이 없습니다."
   ]
  },
  {
   "cell_type": "markdown",
   "metadata": {},
   "source": [
    "### **학습 내용**\n",
    "\n",
    "---\n",
    "\n",
    "- 2-3. 개발자를 위한 첫 번째 필수 교양\n",
    "\n",
    "    - 협업에 필요한 여러 가지 툴들에 대해 알아봅니다.\n",
    "    - GitHub의 존재와 그 의미에 대해 알아봅니다.\n",
    "<br><br>\n",
    "- 4-6. 내 코드의 모든 발자취를 기록할 수 있을까?\n",
    "\n",
    "    - Git과 GitHub의 차이를 알아보고, 각각을 설치해봅니다.\n",
    "<br><br>\n",
    "- 7-12. GitHub에 첫 번째 잔디 심기, 어렵지 않아요!\n",
    "\n",
    "    - GitHub을 처음 사용하기 위해 로컬 저장소와 원격 저장소를 만들어봅니다.\n",
    "    - add, commit, push, pull 등의 명령어를 실습을 통해 직접 사용해 보고, 그 필요성을 알게 됩니다.\n",
    "<br><br>\n",
    "- 13-14. 개발자 문서작업의 시작과 끝! 마크다운을 익혀보자\n",
    "\n",
    "    - 다양한 마크다운 문법을 알아보며 직접 실습을 통해 익혀봅니다."
   ]
  },
  {
   "cell_type": "markdown",
   "metadata": {},
   "source": [
    "### **학습 목표**\n",
    "\n",
    "---\n",
    "\n",
    "- Git과 GitHub의 차이를 말할 수 있습니다.\n",
    "\n",
    "- Git의 add, commit, push, pull 등의 명령어를 알고, 활용할 수 있습니다.\n",
    "\n",
    "- GitHub을 활용해 소스코드 버전관리를 할 줄 알게 됩니다.\n",
    "\n",
    "- Jupyter Notebook을 활용해 자유자재로 코드/문서 작업을 할 수 있습니다.\n",
    "\n",
    "- 마크다운 문법을 활용해 자유롭게 문서를 작성할 수 있습니다."
   ]
  },
  {
   "cell_type": "markdown",
   "metadata": {},
   "source": [
    "## **2-2. 개발자를 위한 첫 번째 필수 교양 (1) 협업을 더 잘, 더 편리하게 하기 위해**"
   ]
  },
  {
   "cell_type": "markdown",
   "metadata": {},
   "source": [
    "개발자에게 필요한 가장 첫 번째 덕목은 무엇일까요?<br>\n",
    "\n",
    "다양한 의견이 있을 수 있지만, 언제나 빼먹지 않고 이야기되는 것은 바로 **협업 능력**입니다.<br>\n",
    "\n",
    "협업 능력은 분야와 직무를 막론하고 어디서든 중요한 스킬이겠지만, 특히 개발자들에게 많이 요구되는 이유는 아마 그만큼 협업을 통해 해결해야 하는 문제가 많기 때문일겁니다. 그만큼 개발 분야에는 협업을 위한 도구들이 많이 사용되고, 계속해서 더 좋은 도구가 개발되고 있습니다.<br>\n",
    "\n",
    "오늘 자세하게 배워볼 협업 및 버전관리 툴 **깃허브(GitHub)** 를 시작하기 전에, 커뮤니케이션 및 생산성 앱 중 가장 많이 쓰이면서도 어렵지 않은 몇 가지만 먼저 소개해 드리고 시작하도록 하겠습니다. 앞으로 개발 또는 인공지능 분야를 계속 탐험할 예정이라면 아주 많이 다루게 될 수 있는 도구들이니, 한 번 눈에 익혀두고 가는 것도 좋을 겁니다!"
   ]
  },
  {
   "cell_type": "markdown",
   "metadata": {},
   "source": [
    "### **✔️ Slack (슬랙)**\n",
    "\n",
    "---\n",
    "\n",
    "- 링크 : https://slack.com/"
   ]
  },
  {
   "cell_type": "markdown",
   "metadata": {},
   "source": [
    "![Slack](../Images/lec_2/1.png)"
   ]
  },
  {
   "cell_type": "markdown",
   "metadata": {},
   "source": [
    "슬랙은 많은 사람들이 효율적으로 소통하는 데에 최적화된 앱입니다.<br>\n",
    "\n",
    "팀 단위로 각각의 Workspace를 만들고, Workspace 안에서는 주제 단위로 채널을 만들어 소통할 수 있습니다. 단순한 메세징을 넘어 코드, 파일, 링크, 일정 등 다양한 정보를 주고받을 수 있어요. 또 구글 캘린더, 구글 드라이브, GitHub 등 다양한 다른 프로그램과의 연동을 지원해 협업을 하는 데에 필요한 거의 모든 것들을 빠르게 공유할 수 있는 것이 장점입니다."
   ]
  },
  {
   "cell_type": "markdown",
   "metadata": {},
   "source": [
    "### **✔️ Notion(노션)**\n",
    "\n",
    "---\n",
    "\n",
    "- 링크 : https://www.notion.so/"
   ]
  },
  {
   "cell_type": "markdown",
   "metadata": {},
   "source": [
    "![Notion](../Images/lec_2/2.png)"
   ]
  },
  {
   "cell_type": "markdown",
   "metadata": {},
   "source": [
    "노션은 협업뿐만 아니라 혼자 업무를 진행할 때에도 생산성을 크게 높여줄 수 있는 문서작성 앱입니다.<br>\n",
    "\n",
    "표, 카드보드, 리스트 등의 다양한 포맷을 편리하게 사용할 수 있도록 최적화되어 있으며, 다른 사람과 페이지를 공유하여 함께 작업하거나 진행상황을 확인할 수 있도록 도와줍니다. 위 이미지의 오른쪽 부분에서 볼 수 있듯 다양한 템플릿을 제공합니다. 직관적이면서도 보기 좋은 문서를 편리하게 만들도록 도와주는 앱이라고 할 수 있습니다."
   ]
  },
  {
   "cell_type": "markdown",
   "metadata": {},
   "source": [
    "### **✔️ Trello(트렐로)**\n",
    "\n",
    "---\n",
    "\n",
    "링크 : https://trello.com/"
   ]
  },
  {
   "cell_type": "markdown",
   "metadata": {},
   "source": [
    "![Trello](../Images/lec_2/3.png)"
   ]
  },
  {
   "cell_type": "markdown",
   "metadata": {},
   "source": [
    "트렐로는 진행되고 있는 작업을 한 눈에 확인하고 관리할 수 있는 To-Do 앱입니다.<br>\n",
    "\n",
    "트렐로 또한 다른 사람들과 함께 관리할 수 있고, 위 이미지처럼 To Do, Doing, Done 등의 보드를 자유롭게 만들어 작업 리스트를 편하게 관리할 수 있습니다. 각 보드 안에는 할 일 별로 카드를 만든 후 카드를 원하는 보드로 옮겨 현재 상황을 편리하게 표시할 수 있다는 장점이 있습니다. 트렐로를 적절히 활용하면 현재 해야 할 일의 우선순위와, 진행되고 있는 일들을 최적화하여 관리할 수 있습니다."
   ]
  },
  {
   "cell_type": "markdown",
   "metadata": {},
   "source": [
    "### **✔️ Zoom(줌) / Google Meet(구글 밋)**\n",
    "\n",
    "---\n",
    "\n",
    "- Zoom 링크 : https://zoom.us/\n",
    "- Google Meet 링크 : https://meet.google.com/"
   ]
  },
  {
   "cell_type": "markdown",
   "metadata": {},
   "source": [
    "![Google Meet](../Images/lec_2/4.png)"
   ]
  },
  {
   "cell_type": "markdown",
   "metadata": {},
   "source": [
    "줌, 구글 밋은 모두 화상회의를 위한 앱입니다.<br>\n",
    "\n",
    "원격 근무 또는 재택 근무가 점점 많아지면서 사용 빈도가 높아지고 있습니다. 줌, 구글 밋에서는 동시에 여러 명이 접속해서 카메라로 얼굴을 보여주거나 화면을 공유할 수 있습니다. 화상회의를 위한 툴은 줌 외에도 스카이프 등 다양하기 때문에 기업 또는 팀의 활용 목적에 보다 부합하는 툴을 사용할 수 있습니다. 다만, 무료 버전의 경우 사용 시간 또는 동시 접속 인원에 대한 제한이 있으니 확인해 보고 사용해야 합니다."
   ]
  },
  {
   "cell_type": "markdown",
   "metadata": {},
   "source": [
    "### **개발자의 생산성을 위한 키워드**\n",
    "\n",
    "---\n",
    "\n",
    "이외에도 개발자의 생산성을 위한 앱은 무궁무진합니다. 많은 개발자들은 조금이라도 더 효율적으로 소통하고 업무를 하기 위해 노력하고 있죠. 이 글을 읽고 계신 분도 혹시 생산성과 커뮤니케이션, 협업을 더 잘 하는 방법 등에 관심이 있다면 다음과 같은 키워드로 검색해 보는 것을 권합니다."
   ]
  },
  {
   "cell_type": "markdown",
   "metadata": {},
   "source": [
    "💡 Keywords\n",
    "\n",
    "- 개발자의 생산성\n",
    "\n",
    "- 개발자를 위한 생산성 도구\n",
    "\n",
    "- 개발자 협업\n",
    "\n",
    "- 개발자 커뮤니케이션"
   ]
  },
  {
   "cell_type": "markdown",
   "metadata": {},
   "source": [
    "개발을 다루는 사람이라면 원하는 자료를 잘 찾는 능력을 갖추는 것 또한 매우 중요합니다. 그러기 위해서는 위와 같이 여러 키워드를 다양하게 검색해 보는 시도도 필요하죠. 더 잘 할 수 있으려면 먼저 무엇이 존재하는지 많이 아는 것도 중요하니까요! 어떤 자료든 많이 검색해 보고, 많이 읽어보시는 것은 언제나 도움이 될 것입니다."
   ]
  },
  {
   "cell_type": "markdown",
   "metadata": {},
   "source": [
    "## **2-3. 개발자를 위한 첫 번째 필수 교양 (2) 개발자의 가드닝, 잔디 심기**"
   ]
  },
  {
   "cell_type": "markdown",
   "metadata": {},
   "source": [
    "잔디 심는 개발자, 혹시 들어보셨나요? 바로 다음과 같은 잔디밭 말이죠!"
   ]
  },
  {
   "cell_type": "markdown",
   "metadata": {},
   "source": [
    "![Github Gardening]()"
   ]
  },
  {
   "cell_type": "markdown",
   "metadata": {},
   "source": [
    "빽빽한 잔디밭.. 👍<br>\n",
    "\n",
    "위 이미지는 바로 [GitHub](https://github.com/)이라는 사이트의 활동 기록입니다.<br>\n",
    "\n",
    "바로 위처럼 나타나는 잔디로 인해, 개발자에게 GitHub은 아주 강력한 버전 관리 호스팅 사이트이면서, 개발자로서 나의 열정을 가장 빠르게 보여줄 수 있는 플랫폼이기도 합니다.<br>\n",
    "\n",
    "위에서 보이는 작은 사각형은 하루하루를 나타냅니다. 왼쪽 끝에서부터 오른쪽 끝까지 각 열마다 일주일을 나타내며, 총 365개의 셀로 1년을 보여줍니다. 조금 후에 배울 `commit`이라는 활동을 해서 GitHub 사이트에 그 내역을 전송하면, 오늘을 나타내는 셀이 초록색으로 칠해집니다. `commit`을 많이 하면 더 진한 초록색으로, 조금 하면 연한 초록색으로 보이죠. 아무 활동도 하지 않은 날은 그냥 회색 셀로 보입니다.<br>\n",
    "\n",
    "위와 같이 모든 셀이 초록색으로 칠해졌다는 것은 1년 365일을 빼먹지 않고 `commit`했다는 것을 나타냅니다. `commit`을 한다는 것은 어떤 식으로든 코드를 다루었거나 개발과 관련된 문서 작업 등을 했다는 뜻인데, 1년 동안 개발 관련 작업을 단 하루도 빼먹지 않고 했다는 것이죠. 실제로 저렇게 초록초록한 잔디밭을 만드는 것은 절대 쉬운 일이 아닙니다.<br>\n",
    "\n",
    "그만큼 개발자 사이에서는 \"[1일 1커밋하기](https://www.google.com/search?q=1%EC%9D%BC+1%EC%BB%A4%EB%B0%8B&ei=dDZCZJn-GpW5hwPs1K-YAg&ved=0ahUKEwiZiKmbtbr-AhWV3GEKHWzqCyMQ4dUDCA8&uact=5&oq=1%EC%9D%BC+1%EC%BB%A4%EB%B0%8B&gs_lcp=Cgxnd3Mtd2l6LXNlcnAQAzIFCAAQgAQyBQgAEIAEMgUIABCABDIFCAAQgAQyBAgAEB46CQguEIoFEAoQQzoLCAAQgAQQsQMQgwE6EQguEIAEELEDEIMBEMcBENEDOgUILhCABDoQCC4QgAQQ3AQQ3gQQ4AQYAToCCCZKBAhBGABQAFj5E2CtFWgDcAB4AIABmwKIAcwQkgEGMC4xMi4xmAEAoAEBwAEB2gEGCAEQARgU&sclient=gws-wiz-serp)\" 같은 운동이 있기도 합니다. 1일 1커밋을 꾸준히 지속한다면 위와 같이 예쁜 잔디밭을 만들 수 있기 때문에, 저것만으로도 자기 자신이 굉장히 성실한 사람이라는 것을 나타낼 수 있기 때문이죠.<br>\n",
    "\n",
    "어떤가요? 여러분도 여러분만의 잔디를 심어보고 싶지 않으신가요?!<br>\n",
    "\n",
    "하지만 사실 잔디심기는 GitHub의 부수적인 부분일 뿐입니다. 실제로 GitHub의 용도는 많은 개발자들이 코드를 오픈소스로 공유하고, 여러 명이 한 팀을 이루어 개발을 진행할 때 복잡한 코드 버전들을 효율적으로 관리하기 위한 호스팅 사이트죠.<br>\n",
    "\n",
    "흠, 이런 설명만으로는 사실 GitHub이 정말 어디에 필요하고 어떻게 활용되는지 감이 오지 않으실 것 같습니다. 하지만 아직 첫 단계이니만큼, 어렵게 생각하지 않으셔도 됩니다.<br>\n",
    "\n",
    "**GitHub은 코드를 다루는 개발자들이 편리하게 협업하기 위한 도구**라는 것만 기억하고, 다음 스텝부터 실제 내용을 알아보도록 하겠습니다. 가시죠!"
   ]
  },
  {
   "cell_type": "markdown",
   "metadata": {},
   "source": [
    "![옥토캣(출처: https://github.com/logos)](../Images/lec_2/5.png)"
   ]
  },
  {
   "cell_type": "markdown",
   "metadata": {},
   "source": [
    "## **2-4. 내 코드의 모든 발자취를 기록할 수 있을까? (1) 버전관리와 Git**"
   ]
  },
  {
   "cell_type": "markdown",
   "metadata": {},
   "source": [
    "혹시 슈퍼마리오 게임을 해 보셨나요?"
   ]
  },
  {
   "cell_type": "markdown",
   "metadata": {},
   "source": [
    "![도토리 평원-1 내에서 차례로 클리어해야 할 다양한 맵들](../Images/lec_2/6.png)"
   ]
  },
  {
   "cell_type": "markdown",
   "metadata": {},
   "source": [
    "슈퍼마리오 같은 게임에선 클리어해야 하는 맵들이 순서대로 있고, 플레이어는 각 맵에서 여러 번 죽어보기도 하면서 하나하나 게임을 깨나갑니다. 만약 World 2의 stage 4를 막 클리어했다면, 많은 경우 지금 게임기를 끄고 다음에 다시 키더라도 stage 4의 다음 맵인 stage 5부터 진행할 수 있습니다. 처음부터 다시 시작할 필요가 없는 거죠."
   ]
  },
  {
   "cell_type": "markdown",
   "metadata": {},
   "source": [
    "간단히 말하자면 바로 이런 것이 **버전 관리**의 대표적인 예라고 할 수 있습니다. 특정 시점의 진행 상황을 저장해두고, 언제 다시 돌아오더라도 그 시점으로부터 다시 시작할 수 있도록 관리하는 것이죠. 만약 되돌아가는 기능도 있다면, 언제든 원하는 과거 시점으로 돌아갈 수도 있을 것입니다."
   ]
  },
  {
   "cell_type": "markdown",
   "metadata": {},
   "source": [
    "개발을 하면서 코드를 짜다보면 이러한 버전 관리가 필수적입니다. 코드를 삭제하거나 덧붙인 다음, 되돌리고 싶을 때 영영 돌아갈 수 없는 상황은 너무 끔찍하죠. 아주 간단하고 짧은 코드만을 짠다면 필요가 없겠지만, 코드가 점점 길어지거나 파일이 많아짐에 따라 특정 시점에서의 버전을 잘 기록해두고 관리해야할 필요성이 커지죠. 나 혼자서 하는 작업이 아니라, 다른 사람과 함께 한다면 더더욱이요."
   ]
  },
  {
   "cell_type": "markdown",
   "metadata": {},
   "source": [
    "소스 코드의 버전 관리를 도와주는 시스템 중 하나가 바로 `Git`과 `GitHub`입니다. 코드의 버전을 관리함과 동시에 다른 사람과 협업하는 것을 편리하게 만들어주는, 개발자에겐 산소와 같은 프로그램이죠. 오늘은 Git과 GitHub을 자세히 알아보고, 그 활용법을 익히며 직접 실습을 해볼 예정입니다."
   ]
  },
  {
   "cell_type": "markdown",
   "metadata": {},
   "source": [
    "오늘 과정에서는 앞으로 공부를 하면서 Git과 GitHub를 다루기 위해 꼭 알아야 하는 핵심 내용들을 빠르게 짚고 넘어갈 텐데, 사실 Git과 GitHub는 사용 방법만으로도 두꺼운 책 한 권이 나올만큼 내용이 방대합니다. 따라서 오늘 기초적인 것들을 학습한 후 꼭 책이나 전체 내용을 다루는 온라인 커리큘럼 등을 통해서 보다 깊게 공부해 보시는 것을 추천드립니다."
   ]
  },
  {
   "cell_type": "markdown",
   "metadata": {},
   "source": [
    "💡 **기본서**: [Pro Git](https://git-scm.com/book/ko/v2)<br>\n",
    "\n",
    "💡 **Git, GitHub을 온라인에서 공부할 수 있는 좋은 컨텐츠** : [지옥에서 온 Git](https://opentutorials.org/module/2676)<br>\n",
    "\n",
    "그렇다면, 각각의 정확한 개념부터 알아보러 가시죠."
   ]
  },
  {
   "cell_type": "markdown",
   "metadata": {},
   "source": [
    "## **2-5. 코드의 모든 발자취를 기록할 수 있을까? (2) Git과 GitHub**"
   ]
  },
  {
   "cell_type": "markdown",
   "metadata": {},
   "source": [
    "개발을 공부하다보면 애매모호하게 알고 넘어가는 용어들이 참 많습니다. 받아들일 당시에는 어렴풋이 그 의미를 이해했다고 생각하지만, 사실 입문자가 그 본질을 제대로 이해하기에는 어려운 것들이 많기 때문이죠. 그래서 새로운 것을 배울 때 용어를 확실하게 알고 시작하는 것은 그것을 더 깊게 이해하는 데에 큰 도움을 줍니다.<br>\n",
    "\n",
    "위에서 잠시 언급했던 Git과 GitHub, 이 두 가지의 차이는 무엇일까요? 두 용어를 정의해보자면 다음과 같습니다."
   ]
  },
  {
   "cell_type": "markdown",
   "metadata": {},
   "source": [
    "✒️ **Git**<br>\n",
    "\n",
    "개발을 진행하며 작성하는 소스코드가 업데이트 되는 버전을 기록해두고 관리할 수 있는 소스코드 버전 관리 시스템"
   ]
  },
  {
   "cell_type": "markdown",
   "metadata": {},
   "source": [
    "✒️ **GitHub**<br>\n",
    "\n",
    "Git으로 관리하는 프로젝트를 호스팅하고, 시간과 공간의 제약 없이 협업할 수 있는 온라인 서비스"
   ]
  },
  {
   "cell_type": "markdown",
   "metadata": {},
   "source": [
    "이 두 가지를 조금 더 풀어서 설명하자면 다음과 같이 말할 수 있습니다.\n",
    "\n",
    "- Git이 버전 기록을 저장한다면, GitHub에서는 그 기록을 다른 사람과 함께 공유하며 협업할 수 있습니다.\n",
    "\n",
    "- 로컬(Local)에서 작업한 내용을 Git이 저장해 두었다면, 그 기록을 온라인 작업공간인 GitHub에 올려 원격(Remote)으로도 작업할 수 있도록 합니다.\n",
    "\n",
    "<br>\n",
    "여기에서 로컬이란 개인 노트북 또는 데스크탑같은 Personal Computer를 뜻하고, 원격(Remote)이란 웹사이트와 같이 다른 사람과 함께 작업할 수 있는 공간을 뜻합니다."
   ]
  },
  {
   "cell_type": "markdown",
   "metadata": {},
   "source": [
    "역사 이야기를 조금 해볼까요? 사실 Git은 리눅스의 창시자 리누스 토르발즈가 만든 오픈소스 툴입니다. 전세계 사람들이 오픈소스인 리눅스를 함께 개발하고 관리하다 보니 여러 명의 개발자가 짠 코드를 일목요연하게 합치고, 각 버전을 나눌 필요가 생겼습니다. 그래서 리누스 토르발즈는 리눅스 프로젝트의 코드 버전을 관리하기 위한 소프트웨어를 짜기 시작했는데, 그게 바로 Git인 것이죠."
   ]
  },
  {
   "cell_type": "markdown",
   "metadata": {},
   "source": [
    "GitHub은 Git이라는 도구를 더 쉽게 사용하게 해주는 사설 서비스입니다. 사실 GitHub과 같이 웹사이트 기반으로 Git을 관리하는 온라인 서비스는 GitHub 외에도 GitLab 등 다양합니다."
   ]
  },
  {
   "cell_type": "markdown",
   "metadata": {},
   "source": [
    "정의와 함께 설명을 읽어보니 조금 더 와닿게 이해가 되시나요? Git과 GitHub 두 가지의 차이를 스스로 정리해 보면서 보다 잘 이해하고 넘어가기를 바랍니다."
   ]
  },
  {
   "cell_type": "markdown",
   "metadata": {},
   "source": [
    "## **2-6. 내 코드의 모든 발자취를 기록할 수 있을까? (3) Git, GitHub 셋팅하기**"
   ]
  },
  {
   "cell_type": "markdown",
   "metadata": {},
   "source": [
    "### **우분투에서 Git 시작하기**\n",
    "\n",
    "---\n",
    "\n",
    "두 가지의 개념을 자세히 알아봤으니, 바로 사용해 보지 않을 수 없겠죠.<br>\n",
    "\n",
    "클라우드에는 이미 Git이 설치돼있습니다. Cloud Shell에서 아래 명령어를 실행하여 버전을 확인해보세요!"
   ]
  },
  {
   "cell_type": "markdown",
   "metadata": {},
   "source": [
    "```shell\n",
    "$ git --version\n",
    "```"
   ]
  },
  {
   "cell_type": "markdown",
   "metadata": {},
   "source": [
    "버전이 잘 표시된다면 Git을 사용하실 준비가 완료된 것입니다."
   ]
  },
  {
   "cell_type": "markdown",
   "metadata": {},
   "source": [
    "### **GitHub 시작하기**\n",
    "\n",
    "---\n",
    "\n",
    "그렇다면 그 다음은? 바로 GitHub을 사용해 보러 가야겠죠!\n",
    "먼저 GitHub은 위에서 설명했듯 웹사이트 기반의 소스코드 버전관리 시스템이기 때문에, 해당 사이트의 계정을 만들어야 시작할 수 있습니다."
   ]
  },
  {
   "cell_type": "markdown",
   "metadata": {},
   "source": [
    "GitHub에 접속해 Sign Up을 눌러 계정을 만들어 봅시다.\n",
    "\n",
    "- [Github](https://github.com/)"
   ]
  },
  {
   "cell_type": "markdown",
   "metadata": {},
   "source": [
    "GitHub 공식 문서를 통해 시작해도 좋습니다.\n",
    "\n",
    "- [Signing up for a new GitHub account](https://docs.github.com/en/get-started/signing-up-for-github/signing-up-for-a-new-github-account)"
   ]
  },
  {
   "cell_type": "markdown",
   "metadata": {},
   "source": [
    "계정을 만들 때 유의해야 할 것은 **중복되지 않는 Username을 잘 선택해야 한다**는 것, 그리고 **인증 가능한 email을 사용해야 한다**는 것입니다. 인증 메일을 확인하는 것을 잊지 마세요!<br>\n",
    "특히 Username은 내 GitHub 페이지의 도메인 주소가 되기 때문에 신중하게 짓는 것을 추천합니다!"
   ]
  },
  {
   "cell_type": "markdown",
   "metadata": {},
   "source": [
    "여기까지 준비가 되었다면, 당신은 Git과 GitHub을 활용한 버전관리 세상에 들어갈 준비가 완료된 것입니다.<br>\n",
    "다음 스텝부터 본격적으로 활용해 보도록 하겠습니다!"
   ]
  },
  {
   "cell_type": "markdown",
   "metadata": {},
   "source": [
    "## **2-7. GitHub에 첫 번째 잔디 심기, 어렵지 않아요! (1) 로컬 저장소**"
   ]
  },
  {
   "cell_type": "markdown",
   "metadata": {},
   "source": [
    "이제 Git과 GitHub까지 준비물은 모두 준비되었습니다.<br>\n",
    "\n",
    "이제 직접 첫 번째 코드를 로컬 저장소(내 노트북)에서 원격 저장소(GitHub 서버)로 보내고, 위에서 보았던 초록색 잔디🌱를 한 단계 한 단계 천천히 거치며 완성해 보도록 하겠습니다!"
   ]
  },
  {
   "cell_type": "markdown",
   "metadata": {},
   "source": [
    "### **1. 로컬의 Git에 GitHub의 계정 정보 등록하기**\n",
    "\n",
    "---\n",
    "\n",
    "첫 번째로 해야 할 일은 로컬의 Git과 원격에 있는 GitHub을 연결하는 것입니다.\n",
    "앞에서 설명했던 Git과 GitHub의 설명이 기억나시나요? Git이 로컬에서 버전 관리를 하는 툴이라면, GitHub은 원격으로 관리하며 협업할 수 있는 웹사이트라고 소개했었죠."
   ]
  },
  {
   "cell_type": "markdown",
   "metadata": {},
   "source": [
    "로컬의 Git과 동기화를 해서 온라인으로 관리할 수 있는 원격저장소를 GitHub에서는 **레파지토리(Repository)** 라고 부릅니다. 우리가 로컬에서 다양한 코드 작업을 한 후, GitHub의 내 계정에 있는 원격저장소, 레파지토리로 잘 전송하려면 로컬의 Git이 원격의 GitHub 계정 정보를 알고 있어야겠죠.<br>\n",
    "\n",
    "다행히 우리는 다음과 같은 명령어로 간단히 Git과 GitHub을 연결할 수 있습니다."
   ]
  },
  {
   "cell_type": "markdown",
   "metadata": {},
   "source": [
    "```shell\n",
    "$ git config --global user.email \"my-email@gmail.com\"\n",
    "$ git config --global user.name \"my-username\"\n",
    "```"
   ]
  },
  {
   "cell_type": "markdown",
   "metadata": {},
   "source": [
    "위에서 `my-email@gmail.com` 과 `my-username` 부분은 **자신의 email 주소와 username으로 변경해서 입력하면 됩니다.** 이렇게 입력해주고 나면 Git 툴이 내가 GitHub 사이트로 코드 정보를 전송할 때 어떤 계정에 있는 레파지토리로 전송해야 하는지 기억합니다.<br>\n",
    "\n",
    "아래와 같이, Git에 등록한 config의 정보를 모두 확인하고 싶으면 다음과 같이 입력해 봅시다."
   ]
  },
  {
   "cell_type": "markdown",
   "metadata": {},
   "source": [
    "```shell\n",
    "$ git config -l\n",
    "```"
   ]
  },
  {
   "cell_type": "markdown",
   "metadata": {},
   "source": [
    "### **2. 내 컴퓨터에 로컬 저장소 만들기**\n",
    "\n",
    "---\n",
    "\n",
    "그 다음으로는 먼저 내 컴퓨터에 Git으로 관리해 보고 싶은 로컬 저장소를 만들어보겠습니다. 로컬 저장소라는 용어라고 칭하니 거창해 보이지만, 사실은 특별할 것 없이 우리가 보통 파일을 관리할 때 쓰는 폴더, 즉 디렉토리를 말합니다. Git은 디렉토리를 기준으로 그 하위에 있는 모든 폴더와 파일에 대한 버전을 기록할 수 있습니다."
   ]
  },
  {
   "cell_type": "markdown",
   "metadata": {},
   "source": [
    "다음과 같이 사용자 홈 디렉토리로 이동한 후 `workplace` 라는 이름으로 새로운 폴더를 만들어보겠습니다.\n",
    "우리는 이 새로운 폴더에서 작업을 시작할 것입니다."
   ]
  },
  {
   "cell_type": "markdown",
   "metadata": {},
   "source": [
    "```shell\n",
    "$ cd ~\n",
    "$ cd aiffel\n",
    "$ mkdir workplace\n",
    "```"
   ]
  },
  {
   "cell_type": "markdown",
   "metadata": {},
   "source": [
    "자, 리눅스 명령어 두 가지가 나왔습니다. 각각의 명령어가 무엇을 뜻하는지 알고 있나요?"
   ]
  },
  {
   "cell_type": "markdown",
   "metadata": {},
   "source": [
    "<details>\n",
    "<summary><b>Q. cd는 어떤 동작을 하는 명령어인가요?</b></summary>\n",
    "\n",
    "`change directory`\n",
    "</details>"
   ]
  },
  {
   "cell_type": "markdown",
   "metadata": {},
   "source": [
    "<details>\n",
    "<summary><b>Q. mkdir은 어떤 동작을 하는 명령어인가요?</b></summary>\n",
    "\n",
    "`make directory`\n",
    "</details>"
   ]
  },
  {
   "cell_type": "markdown",
   "metadata": {},
   "source": [
    "### **3. Git으로 버전 관리 시작하기**\n",
    "\n",
    "---\n",
    "\n",
    "우리가 작업을 진행할 새로운 디렉토리 workplace를 생성하였습니다.\n",
    "이제 그 디렉토리로 옮겨가보시죠."
   ]
  },
  {
   "cell_type": "markdown",
   "metadata": {},
   "source": [
    "```shell\n",
    "$ cd workplace\n",
    "```"
   ]
  },
  {
   "cell_type": "markdown",
   "metadata": {},
   "source": [
    "우리는 이제 이 디렉토리를 Git으로 관리하기 시작할 것입니다. 다음 명령어로 Git을 현재의 디렉토리 내에 심어놓을 수 있죠!"
   ]
  },
  {
   "cell_type": "markdown",
   "metadata": {},
   "source": [
    "```shell\n",
    "$ git init\n",
    "```"
   ]
  },
  {
   "cell_type": "markdown",
   "metadata": {},
   "source": [
    "`init`은 initialization의 약자입니다. 시작한다는 뜻을 갖고 있죠. 이제부터는 Git이 지금 있는 `workplace` 디렉토리에서 발생하는 모든 변화를 기록해둘 것입니다. `ls`만 해서는 보이지 않겠지만 다음과 같이 하면 빈 디렉토리였던 `workplace` 안에 새롭게 생긴 `.git` 디렉토리와, 그 안에 있는 내용들을 확인해 볼 수 있습니다."
   ]
  },
  {
   "cell_type": "markdown",
   "metadata": {},
   "source": [
    "```shell\n",
    "$ ls -a\n",
    ".  ..  .git\n",
    "$ cd .git\n",
    "$ ls \n",
    "HEAD  branches  config  description  hooks  info  objects  refs\n",
    "```"
   ]
  },
  {
   "cell_type": "markdown",
   "metadata": {},
   "source": [
    "이게 무슨 뜻일까요? `git init`은 `workplace`라는 디렉토리를 새로운 Git 로컬 저장소로 만들었다는 뜻입니다. 모든 Git 로컬 저장소는 `.git`이라는 디렉토리를 가지고 있습니다."
   ]
  },
  {
   "cell_type": "markdown",
   "metadata": {},
   "source": [
    "## **2-8. GitHub에 첫 번째 잔디 심기, 어렵지 않아요! (2) 변화 추적하기**"
   ]
  },
  {
   "cell_type": "markdown",
   "metadata": {},
   "source": [
    "### **4. README.md 파일 생성하기**\n",
    "\n",
    "---\n",
    "\n",
    "README 파일을 들어보셨나요? 리드미 파일이라고도 부르는 이 파일은, GitHub의 레파지토리에서 대문과 같은 역할을 하는 파일입니다.\n",
    "Tensorflow 오픈소스 코드가 올라와있는 GitHub 레파지토리를 구경하러 가보죠."
   ]
  },
  {
   "cell_type": "markdown",
   "metadata": {},
   "source": [
    "- [tensorflow/tensorflow](https://github.com/tensorflow/tensorflow)\n",
    "\n",
    "<br>\n",
    "다음 이미지와 같은 README.md 파일을 확인하셨나요?"
   ]
  },
  {
   "cell_type": "markdown",
   "metadata": {},
   "source": [
    "![Readme example of Tensorflow](../Images/lec_2/7.png)"
   ]
  },
  {
   "cell_type": "markdown",
   "metadata": {},
   "source": [
    "이렇게 README.md 파일은 레파지토리를 들어갔을 때 그 레파지토리가 담은 오픈소스 코드들에 대해 소개하는 역할을 합니다.\n",
    "레파지토리 주인이 어떻게 그 파일을 꾸며놓느냐에 따라 그 레파지토리를 구경하는 사람들이 느끼는 첫인상도 달라지겠죠."
   ]
  },
  {
   "cell_type": "markdown",
   "metadata": {},
   "source": [
    "`md`라는 확장자는 Markdown, 마크다운이라는 파일을 지칭하는데, 마크다운은 개발자들이 많이 사용하는 문서작업용 언어입니다.\n",
    "언어라고 하니 거창해 보이는데 크게 어렵지 않습니다! 마크다운에 대한 내용은 이후 스텝(`개발자 문서작업의 시작과 끝! 마크다운을 익혀보자 (1) 마크다운 소개`)에서 간단히 소개할 예정인데, 그 정도만 익혀도 충분할 것입니다."
   ]
  },
  {
   "cell_type": "markdown",
   "metadata": {},
   "source": [
    "아무튼, 이렇게 내 레파지토리를 구경할 사람들에게 내 작업물을 간단히 소개하기 위한 파일이 바로 `README.md` 파일인 것이죠.\n",
    "그렇다면 첫 번째 레파지토리에 담길 첫 번째 리드미 파일을 만들어볼까요?"
   ]
  },
  {
   "cell_type": "markdown",
   "metadata": {},
   "source": [
    "```shell\n",
    "$ cd ~/aiffel/workplace\n",
    "$ echo \"# first-repository\" >> README.md\n",
    "```"
   ]
  },
  {
   "cell_type": "markdown",
   "metadata": {},
   "source": [
    "위와 같은 명령어를 입력하면 `README.md` 파일을 생성함과 동시에 그 파일 내에 `# first-repository`라는 한 줄이 입력되게 됩니다.\n",
    "`echo`는 출력을 하는 명령어인데, 출력 스트림을 지정하는 `>>`을 통해 출력 타겟을 `README.md` 파일로 지정했기 때문입니다."
   ]
  },
  {
   "cell_type": "markdown",
   "metadata": {},
   "source": [
    "위 명령어를 실행했다면 다음과 같이 README.md 파일이 생성된 것을 확인할 수 있을 것입니다. cat 명령어를 통해 생성된 텍스트 파일을 열어 봅시다.\n",
    "\n",
    "- 참고: [Linux manual - cat(1)](https://man7.org/linux/man-pages/man1/cat.1.html)"
   ]
  },
  {
   "cell_type": "markdown",
   "metadata": {},
   "source": [
    "```shell\n",
    "$ ls\n",
    "README.md\n",
    "\n",
    "$ cat README.md\n",
    "# first-repository\n",
    "```"
   ]
  },
  {
   "cell_type": "markdown",
   "metadata": {},
   "source": [
    "`ls`로 파일 목록을 확인하면 `README.md` 파일이 목록 내에 출력될 것이고, `cat` 명령어를 통해 해당 파일에 작성되어 있는 내용을 확인하면 우리가 입력한 `# first-repository`가 출력될 것입니다."
   ]
  },
  {
   "cell_type": "markdown",
   "metadata": {},
   "source": [
    "### **5. git으로 변화 확인! 지금 버전에 도장 쾅! 찍기**\n",
    "\n",
    "---\n",
    "\n",
    "자, 우리는 방금 git으로 버전을 관리하고 있는 `workplace` 디렉토리에 `README.md` 파일을 생성함으로써 변화를 주었습니다.<br>\n",
    "그 변화가 아무리 미미할지언정 변화는 변화이니, git은 그 변화를 감지했을 것입니다!"
   ]
  },
  {
   "cell_type": "markdown",
   "metadata": {},
   "source": [
    "Git이 추적하고 있는 변화는 다음 명령어로 확인할 수 있습니다.\n",
    "```shell\n",
    "$ git status\n",
    "On branch main\n",
    "\n",
    "No commits yet\n",
    "\n",
    "Untracked files:\n",
    "    (use \"git add <file>...\" to include in what will be committed)\n",
    "    README.md\n",
    "\n",
    "nothing added to commit but untracked files present (use \"git add\" to track) \n",
    "```"
   ]
  },
  {
   "cell_type": "markdown",
   "metadata": {},
   "source": [
    "> 💡 main & master,깃허브의 정책 변화?<br>\n",
    "\n",
    "> 위 실행창에서 `On branch main` 부분은 `On branch master`로 뜰 수도 있습니다.<br>\n",
    "이를 잘 확인하여 다음 스텝에서 살펴볼 `git push`명령어에서 변경하여 사용하시면 됩니다.<br>\n",
    "깃허브의 입장에 따르면, 기존에 사용하던 `master`라는 표현은 인종 차별을 연상시킬 수 있다며 main이라는 표현으로 바꾸기로 했답니다.<br><br>\n",
    "\n",
    "> [깃허브, 개발용어 '마스터'&rarr;메인으로 바꾼다](https://zdnet.co.kr/view/?no=20200921101131)"
   ]
  },
  {
   "cell_type": "markdown",
   "metadata": {},
   "source": [
    "위와 같은 내용이 출력되었다면 성공입니다. `Untracked files:`라고 하며 아직 추적되지 않은 새로운 파일인 `README.md` 파일을 잡아내었죠."
   ]
  },
  {
   "cell_type": "markdown",
   "metadata": {},
   "source": [
    "그렇다면 우리는 git에 이 변경사항을 저장해 둘 필요가 있겠죠. `add`와 `commit` 두 가지의 명령어로 진행할 수 있습니다.\n",
    "\n",
    "```shell\n",
    "$ git add README.md\n",
    "$ git commit -m \"new readme file\"\n",
    "[master (root-commit) 438a37c] new readme file \n",
    "    1 file changed, 1 insertion(+)\n",
    "    create mode 100644 README.md\n",
    "```\n",
    "\n",
    "`-m`은 메세지 옵션입니다. `git commit -m` 뒤에는 해당 커밋에 대한 설명을 작성하면 됩니다.<br>\n",
    "`add`와 `commit`의 개념은 Git을 다룰 때 아주 중요한 개념 중 하나입니다. 두 명령어 모두 현재의 변화를 기록하기 위한 명령어인데, 중요한 차이가 있습니다."
   ]
  },
  {
   "cell_type": "markdown",
   "metadata": {},
   "source": [
    "다음 두 가지 글을 먼저 읽어보고 `add`와 `commit`의 차이를 한 번 생각해 보죠.\n",
    "\n",
    "- [Git 저장소 생성 및 커밋 ( init / add / commit )](https://ifuwanna.tistory.com/193)\n",
    "- [git - 간편 안내서](https://rogerdudler.github.io/git-guide/index.ko.html)"
   ]
  },
  {
   "cell_type": "markdown",
   "metadata": {},
   "source": [
    "<details>\n",
    "<summary><b>Q. add와 commit은 어떤 차이가 있을까요?</b></summary>\n",
    "\n",
    "`add`: 로컬 소스코드를 git의 이력에 추가<br>\n",
    "`commit`: git의 내역에 추가된 소스코드를 저장소(repository)에 사용하려고 결정(commit)함\n",
    "</details>"
   ]
  },
  {
   "cell_type": "markdown",
   "metadata": {},
   "source": [
    "차이에 대한 감이 오시나요?<br>\n",
    "간단히 말하자면 `add`는 해당 순간을 스냅샷으로 남겨두기 위한 준비작업, `commit`은 해당 순간을 정말 도장처럼 쾅! 찍어서 기록해두는 확정 작업인 셈이죠.<br>\n",
    "\n",
    "아무튼, 여기까지 우리는 새로운 파일인 `README.md` 파일이 생성된 순간의 버전을 스냅샷으로 잘 기록하였네요!"
   ]
  },
  {
   "cell_type": "markdown",
   "metadata": {},
   "source": [
    "## **2-9. GitHub에 첫 번째 잔디 심기, 어렵지 않아요! (3) 원격 저장소**"
   ]
  },
  {
   "cell_type": "markdown",
   "metadata": {},
   "source": []
  },
  {
   "cell_type": "markdown",
   "metadata": {},
   "source": [
    "## **2-10. GitHub에 첫 번째 잔디 심기, 어렵지 않아요! (4) 협업하기**"
   ]
  },
  {
   "cell_type": "markdown",
   "metadata": {},
   "source": []
  },
  {
   "cell_type": "markdown",
   "metadata": {},
   "source": [
    "## **2-11. GitHub에 첫 번째 잔디 심기, 어렵지 않아요! (5) 받아오기**"
   ]
  },
  {
   "cell_type": "markdown",
   "metadata": {},
   "source": []
  },
  {
   "cell_type": "markdown",
   "metadata": {},
   "source": [
    "## **2-12. GitHub에 첫 번째 잔디 심기, 어렵지 않아요! (6) 정리**"
   ]
  },
  {
   "cell_type": "markdown",
   "metadata": {},
   "source": []
  }
 ],
 "metadata": {
  "language_info": {
   "name": "python"
  },
  "orig_nbformat": 4
 },
 "nbformat": 4,
 "nbformat_minor": 2
}
