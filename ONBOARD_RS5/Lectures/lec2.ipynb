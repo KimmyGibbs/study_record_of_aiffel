{
 "cells": [
  {
   "cell_type": "markdown",
   "metadata": {},
   "source": [
    "# **2. 개발자를 위한 첫 번째 필수 교양**"
   ]
  },
  {
   "cell_type": "markdown",
   "metadata": {},
   "source": [
    "## **2-1. 들어가며**"
   ]
  },
  {
   "cell_type": "markdown",
   "metadata": {},
   "source": []
  },
  {
   "cell_type": "markdown",
   "metadata": {},
   "source": [
    "## **2-2. 개발자를 위한 첫 번째 필수 교양 (1) 협업을 더 잘, 더 편리하게 하기 위해**"
   ]
  },
  {
   "cell_type": "markdown",
   "metadata": {},
   "source": []
  },
  {
   "cell_type": "markdown",
   "metadata": {},
   "source": [
    "## **2-3. 개발자를 위한 첫 번째 필수 교양 (2) 개발자의 가드닝, 잔디 심기**"
   ]
  },
  {
   "cell_type": "markdown",
   "metadata": {},
   "source": []
  },
  {
   "cell_type": "markdown",
   "metadata": {},
   "source": [
    "## **2-4. 내 코드의 모든 발자취를 기록할 수 있을까? (1) 버전관리와 Git**"
   ]
  },
  {
   "cell_type": "markdown",
   "metadata": {},
   "source": []
  },
  {
   "cell_type": "markdown",
   "metadata": {},
   "source": [
    "## **2-5. 코드의 모든 발자취를 기록할 수 있을까? (2) Git과 GitHub**"
   ]
  },
  {
   "cell_type": "markdown",
   "metadata": {},
   "source": []
  },
  {
   "cell_type": "markdown",
   "metadata": {},
   "source": [
    "## **2-6. 내 코드의 모든 발자취를 기록할 수 있을까? (3) Git, GitHub 셋팅하기**"
   ]
  },
  {
   "cell_type": "markdown",
   "metadata": {},
   "source": []
  },
  {
   "cell_type": "markdown",
   "metadata": {},
   "source": [
    "## **2-7. GitHub에 첫 번째 잔디 심기, 어렵지 않아요! (1) 로컬 저장소**"
   ]
  },
  {
   "cell_type": "markdown",
   "metadata": {},
   "source": []
  },
  {
   "cell_type": "markdown",
   "metadata": {},
   "source": [
    "## **2-8. GitHub에 첫 번째 잔디 심기, 어렵지 않아요! (2) 변화 추적하기**"
   ]
  },
  {
   "cell_type": "markdown",
   "metadata": {},
   "source": []
  },
  {
   "cell_type": "markdown",
   "metadata": {},
   "source": [
    "## **2-9. GitHub에 첫 번째 잔디 심기, 어렵지 않아요! (3) 원격 저장소**"
   ]
  },
  {
   "cell_type": "markdown",
   "metadata": {},
   "source": []
  },
  {
   "cell_type": "markdown",
   "metadata": {},
   "source": [
    "## **2-10. GitHub에 첫 번째 잔디 심기, 어렵지 않아요! (4) 협업하기**"
   ]
  },
  {
   "cell_type": "markdown",
   "metadata": {},
   "source": []
  },
  {
   "cell_type": "markdown",
   "metadata": {},
   "source": [
    "## **2-11. GitHub에 첫 번째 잔디 심기, 어렵지 않아요! (5) 받아오기**"
   ]
  },
  {
   "cell_type": "markdown",
   "metadata": {},
   "source": []
  },
  {
   "cell_type": "markdown",
   "metadata": {},
   "source": [
    "## **2-12. GitHub에 첫 번째 잔디 심기, 어렵지 않아요! (6) 정리**"
   ]
  },
  {
   "cell_type": "markdown",
   "metadata": {},
   "source": []
  }
 ],
 "metadata": {
  "language_info": {
   "name": "python"
  },
  "orig_nbformat": 4
 },
 "nbformat": 4,
 "nbformat_minor": 2
}
