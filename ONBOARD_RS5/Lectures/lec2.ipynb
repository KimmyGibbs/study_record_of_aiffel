{
 "cells": [
  {
   "cell_type": "markdown",
   "metadata": {},
   "source": [
    "# **2. 개발자를 위한 첫 번째 필수 교양**"
   ]
  },
  {
   "cell_type": "markdown",
   "metadata": {},
   "source": [
    "## **2-1. 들어가며**"
   ]
  },
  {
   "cell_type": "markdown",
   "metadata": {},
   "source": [
    "안녕하세요!<br>\n",
    "\n",
    "개발자를 위한 필수 교양을 알고 싶은 여러분을 환영합니다. 😊<br>\n",
    "\n",
    "여러분들은 개발자가 되고 싶으신가요? 그렇다면 잘 오셨습니다!<br>\n",
    "\n",
    "이번 노드를 통해 개발자라면 누구나 알고 있어야 하는 필수 교양을 학습하시게 될 거에요.<br>\n",
    "\n",
    "필수 교양을 배우기 전에, 먼저 아이스브레이킹을 해볼까요?"
   ]
  },
  {
   "cell_type": "markdown",
   "metadata": {},
   "source": [
    "### **이 노드를 학습하시면 좋은 분들!**\n",
    "\n",
    "---\n",
    "\n",
    "- 협업 관리 툴을 다뤄본 적이 없습니다.\n",
    "\n",
    "- Git과 GitHub에 대한 개념을 공부해본 적이 없습니다.\n",
    "\n",
    "- GitHub을 이용해 소스코드의 버전 관리를 해 본 적이 없습니다.\n",
    "\n",
    "- pip를 활용해 본 적은 있으나, Jupyter Notebook을 설치해 사용해 본 적이 없습니다.\n",
    "\n",
    "- 마크다운 문법을 공부하거나 활용해본 적이 없습니다."
   ]
  },
  {
   "cell_type": "markdown",
   "metadata": {},
   "source": [
    "### **학습 내용**\n",
    "\n",
    "---\n",
    "\n",
    "- 2-3. 개발자를 위한 첫 번째 필수 교양\n",
    "\n",
    "    - 협업에 필요한 여러 가지 툴들에 대해 알아봅니다.\n",
    "    - GitHub의 존재와 그 의미에 대해 알아봅니다.\n",
    "<br><br>\n",
    "- 4-6. 내 코드의 모든 발자취를 기록할 수 있을까?\n",
    "\n",
    "    - Git과 GitHub의 차이를 알아보고, 각각을 설치해봅니다.\n",
    "<br><br>\n",
    "- 7-12. GitHub에 첫 번째 잔디 심기, 어렵지 않아요!\n",
    "\n",
    "    - GitHub을 처음 사용하기 위해 로컬 저장소와 원격 저장소를 만들어봅니다.\n",
    "    - add, commit, push, pull 등의 명령어를 실습을 통해 직접 사용해 보고, 그 필요성을 알게 됩니다.\n",
    "<br><br>\n",
    "- 13-14. 개발자 문서작업의 시작과 끝! 마크다운을 익혀보자\n",
    "\n",
    "    - 다양한 마크다운 문법을 알아보며 직접 실습을 통해 익혀봅니다."
   ]
  },
  {
   "cell_type": "markdown",
   "metadata": {},
   "source": [
    "### **학습 목표**\n",
    "\n",
    "---\n",
    "\n",
    "- Git과 GitHub의 차이를 말할 수 있습니다.\n",
    "\n",
    "- Git의 add, commit, push, pull 등의 명령어를 알고, 활용할 수 있습니다.\n",
    "\n",
    "- GitHub을 활용해 소스코드 버전관리를 할 줄 알게 됩니다.\n",
    "\n",
    "- Jupyter Notebook을 활용해 자유자재로 코드/문서 작업을 할 수 있습니다.\n",
    "\n",
    "- 마크다운 문법을 활용해 자유롭게 문서를 작성할 수 있습니다."
   ]
  },
  {
   "cell_type": "markdown",
   "metadata": {},
   "source": [
    "## **2-2. 개발자를 위한 첫 번째 필수 교양 (1) 협업을 더 잘, 더 편리하게 하기 위해**"
   ]
  },
  {
   "cell_type": "markdown",
   "metadata": {},
   "source": [
    "개발자에게 필요한 가장 첫 번째 덕목은 무엇일까요?<br>\n",
    "\n",
    "다양한 의견이 있을 수 있지만, 언제나 빼먹지 않고 이야기되는 것은 바로 **협업 능력**입니다.<br>\n",
    "\n",
    "협업 능력은 분야와 직무를 막론하고 어디서든 중요한 스킬이겠지만, 특히 개발자들에게 많이 요구되는 이유는 아마 그만큼 협업을 통해 해결해야 하는 문제가 많기 때문일겁니다. 그만큼 개발 분야에는 협업을 위한 도구들이 많이 사용되고, 계속해서 더 좋은 도구가 개발되고 있습니다.<br>\n",
    "\n",
    "오늘 자세하게 배워볼 협업 및 버전관리 툴 **깃허브(GitHub)** 를 시작하기 전에, 커뮤니케이션 및 생산성 앱 중 가장 많이 쓰이면서도 어렵지 않은 몇 가지만 먼저 소개해 드리고 시작하도록 하겠습니다. 앞으로 개발 또는 인공지능 분야를 계속 탐험할 예정이라면 아주 많이 다루게 될 수 있는 도구들이니, 한 번 눈에 익혀두고 가는 것도 좋을 겁니다!"
   ]
  },
  {
   "cell_type": "markdown",
   "metadata": {},
   "source": [
    "### **✔️ Slack (슬랙)**\n",
    "\n",
    "---\n",
    "\n",
    "- 링크 : https://slack.com/"
   ]
  },
  {
   "cell_type": "markdown",
   "metadata": {},
   "source": [
    "![Slack](../Images/lec_2/1.png)"
   ]
  },
  {
   "cell_type": "markdown",
   "metadata": {},
   "source": [
    "슬랙은 많은 사람들이 효율적으로 소통하는 데에 최적화된 앱입니다.<br>\n",
    "\n",
    "팀 단위로 각각의 Workspace를 만들고, Workspace 안에서는 주제 단위로 채널을 만들어 소통할 수 있습니다. 단순한 메세징을 넘어 코드, 파일, 링크, 일정 등 다양한 정보를 주고받을 수 있어요. 또 구글 캘린더, 구글 드라이브, GitHub 등 다양한 다른 프로그램과의 연동을 지원해 협업을 하는 데에 필요한 거의 모든 것들을 빠르게 공유할 수 있는 것이 장점입니다."
   ]
  },
  {
   "cell_type": "markdown",
   "metadata": {},
   "source": [
    "### **✔️ Notion(노션)**\n",
    "\n",
    "---\n",
    "\n",
    "- 링크 : https://www.notion.so/"
   ]
  },
  {
   "cell_type": "markdown",
   "metadata": {},
   "source": [
    "![Notion](../Images/lec_2/2.png)"
   ]
  },
  {
   "cell_type": "markdown",
   "metadata": {},
   "source": [
    "노션은 협업뿐만 아니라 혼자 업무를 진행할 때에도 생산성을 크게 높여줄 수 있는 문서작성 앱입니다.<br>\n",
    "\n",
    "표, 카드보드, 리스트 등의 다양한 포맷을 편리하게 사용할 수 있도록 최적화되어 있으며, 다른 사람과 페이지를 공유하여 함께 작업하거나 진행상황을 확인할 수 있도록 도와줍니다. 위 이미지의 오른쪽 부분에서 볼 수 있듯 다양한 템플릿을 제공합니다. 직관적이면서도 보기 좋은 문서를 편리하게 만들도록 도와주는 앱이라고 할 수 있습니다."
   ]
  },
  {
   "cell_type": "markdown",
   "metadata": {},
   "source": [
    "### **✔️ Trello(트렐로)**\n",
    "\n",
    "---\n",
    "\n",
    "링크 : https://trello.com/"
   ]
  },
  {
   "cell_type": "markdown",
   "metadata": {},
   "source": [
    "![Trello](../Images/lec_2/3.png)"
   ]
  },
  {
   "cell_type": "markdown",
   "metadata": {},
   "source": [
    "트렐로는 진행되고 있는 작업을 한 눈에 확인하고 관리할 수 있는 To-Do 앱입니다.<br>\n",
    "\n",
    "트렐로 또한 다른 사람들과 함께 관리할 수 있고, 위 이미지처럼 To Do, Doing, Done 등의 보드를 자유롭게 만들어 작업 리스트를 편하게 관리할 수 있습니다. 각 보드 안에는 할 일 별로 카드를 만든 후 카드를 원하는 보드로 옮겨 현재 상황을 편리하게 표시할 수 있다는 장점이 있습니다. 트렐로를 적절히 활용하면 현재 해야 할 일의 우선순위와, 진행되고 있는 일들을 최적화하여 관리할 수 있습니다."
   ]
  },
  {
   "cell_type": "markdown",
   "metadata": {},
   "source": [
    "### **✔️ Zoom(줌) / Google Meet(구글 밋)**\n",
    "\n",
    "---\n",
    "\n",
    "- Zoom 링크 : https://zoom.us/\n",
    "- Google Meet 링크 : https://meet.google.com/"
   ]
  },
  {
   "cell_type": "markdown",
   "metadata": {},
   "source": [
    "![Google Meet](../Images/lec_2/4.png)"
   ]
  },
  {
   "cell_type": "markdown",
   "metadata": {},
   "source": [
    "줌, 구글 밋은 모두 화상회의를 위한 앱입니다.<br>\n",
    "\n",
    "원격 근무 또는 재택 근무가 점점 많아지면서 사용 빈도가 높아지고 있습니다. 줌, 구글 밋에서는 동시에 여러 명이 접속해서 카메라로 얼굴을 보여주거나 화면을 공유할 수 있습니다. 화상회의를 위한 툴은 줌 외에도 스카이프 등 다양하기 때문에 기업 또는 팀의 활용 목적에 보다 부합하는 툴을 사용할 수 있습니다. 다만, 무료 버전의 경우 사용 시간 또는 동시 접속 인원에 대한 제한이 있으니 확인해 보고 사용해야 합니다."
   ]
  },
  {
   "cell_type": "markdown",
   "metadata": {},
   "source": [
    "### **개발자의 생산성을 위한 키워드**\n",
    "\n",
    "---\n",
    "\n",
    "이외에도 개발자의 생산성을 위한 앱은 무궁무진합니다. 많은 개발자들은 조금이라도 더 효율적으로 소통하고 업무를 하기 위해 노력하고 있죠. 이 글을 읽고 계신 분도 혹시 생산성과 커뮤니케이션, 협업을 더 잘 하는 방법 등에 관심이 있다면 다음과 같은 키워드로 검색해 보는 것을 권합니다."
   ]
  },
  {
   "cell_type": "markdown",
   "metadata": {},
   "source": [
    "💡 Keywords\n",
    "\n",
    "- 개발자의 생산성\n",
    "\n",
    "- 개발자를 위한 생산성 도구\n",
    "\n",
    "- 개발자 협업\n",
    "\n",
    "- 개발자 커뮤니케이션"
   ]
  },
  {
   "cell_type": "markdown",
   "metadata": {},
   "source": [
    "개발을 다루는 사람이라면 원하는 자료를 잘 찾는 능력을 갖추는 것 또한 매우 중요합니다. 그러기 위해서는 위와 같이 여러 키워드를 다양하게 검색해 보는 시도도 필요하죠. 더 잘 할 수 있으려면 먼저 무엇이 존재하는지 많이 아는 것도 중요하니까요! 어떤 자료든 많이 검색해 보고, 많이 읽어보시는 것은 언제나 도움이 될 것입니다."
   ]
  },
  {
   "cell_type": "markdown",
   "metadata": {},
   "source": [
    "## **2-3. 개발자를 위한 첫 번째 필수 교양 (2) 개발자의 가드닝, 잔디 심기**"
   ]
  },
  {
   "cell_type": "markdown",
   "metadata": {},
   "source": [
    "잔디 심는 개발자, 혹시 들어보셨나요? 바로 다음과 같은 잔디밭 말이죠!"
   ]
  },
  {
   "cell_type": "markdown",
   "metadata": {},
   "source": [
    "![Github Gardening]()"
   ]
  },
  {
   "cell_type": "markdown",
   "metadata": {},
   "source": [
    "빽빽한 잔디밭.. 👍<br>\n",
    "\n",
    "위 이미지는 바로 [GitHub](https://github.com/)이라는 사이트의 활동 기록입니다.<br>\n",
    "\n",
    "바로 위처럼 나타나는 잔디로 인해, 개발자에게 GitHub은 아주 강력한 버전 관리 호스팅 사이트이면서, 개발자로서 나의 열정을 가장 빠르게 보여줄 수 있는 플랫폼이기도 합니다.<br>\n",
    "\n",
    "위에서 보이는 작은 사각형은 하루하루를 나타냅니다. 왼쪽 끝에서부터 오른쪽 끝까지 각 열마다 일주일을 나타내며, 총 365개의 셀로 1년을 보여줍니다. 조금 후에 배울 `commit`이라는 활동을 해서 GitHub 사이트에 그 내역을 전송하면, 오늘을 나타내는 셀이 초록색으로 칠해집니다. `commit`을 많이 하면 더 진한 초록색으로, 조금 하면 연한 초록색으로 보이죠. 아무 활동도 하지 않은 날은 그냥 회색 셀로 보입니다.<br>\n",
    "\n",
    "위와 같이 모든 셀이 초록색으로 칠해졌다는 것은 1년 365일을 빼먹지 않고 `commit`했다는 것을 나타냅니다. `commit`을 한다는 것은 어떤 식으로든 코드를 다루었거나 개발과 관련된 문서 작업 등을 했다는 뜻인데, 1년 동안 개발 관련 작업을 단 하루도 빼먹지 않고 했다는 것이죠. 실제로 저렇게 초록초록한 잔디밭을 만드는 것은 절대 쉬운 일이 아닙니다.<br>\n",
    "\n",
    "그만큼 개발자 사이에서는 \"[1일 1커밋하기](https://www.google.com/search?q=1%EC%9D%BC+1%EC%BB%A4%EB%B0%8B&ei=dDZCZJn-GpW5hwPs1K-YAg&ved=0ahUKEwiZiKmbtbr-AhWV3GEKHWzqCyMQ4dUDCA8&uact=5&oq=1%EC%9D%BC+1%EC%BB%A4%EB%B0%8B&gs_lcp=Cgxnd3Mtd2l6LXNlcnAQAzIFCAAQgAQyBQgAEIAEMgUIABCABDIFCAAQgAQyBAgAEB46CQguEIoFEAoQQzoLCAAQgAQQsQMQgwE6EQguEIAEELEDEIMBEMcBENEDOgUILhCABDoQCC4QgAQQ3AQQ3gQQ4AQYAToCCCZKBAhBGABQAFj5E2CtFWgDcAB4AIABmwKIAcwQkgEGMC4xMi4xmAEAoAEBwAEB2gEGCAEQARgU&sclient=gws-wiz-serp)\" 같은 운동이 있기도 합니다. 1일 1커밋을 꾸준히 지속한다면 위와 같이 예쁜 잔디밭을 만들 수 있기 때문에, 저것만으로도 자기 자신이 굉장히 성실한 사람이라는 것을 나타낼 수 있기 때문이죠.<br>\n",
    "\n",
    "어떤가요? 여러분도 여러분만의 잔디를 심어보고 싶지 않으신가요?!<br>\n",
    "\n",
    "하지만 사실 잔디심기는 GitHub의 부수적인 부분일 뿐입니다. 실제로 GitHub의 용도는 많은 개발자들이 코드를 오픈소스로 공유하고, 여러 명이 한 팀을 이루어 개발을 진행할 때 복잡한 코드 버전들을 효율적으로 관리하기 위한 호스팅 사이트죠.<br>\n",
    "\n",
    "흠, 이런 설명만으로는 사실 GitHub이 정말 어디에 필요하고 어떻게 활용되는지 감이 오지 않으실 것 같습니다. 하지만 아직 첫 단계이니만큼, 어렵게 생각하지 않으셔도 됩니다.<br>\n",
    "\n",
    "**GitHub은 코드를 다루는 개발자들이 편리하게 협업하기 위한 도구**라는 것만 기억하고, 다음 스텝부터 실제 내용을 알아보도록 하겠습니다. 가시죠!"
   ]
  },
  {
   "cell_type": "markdown",
   "metadata": {},
   "source": [
    "![옥토캣(출처: https://github.com/logos)](../Images/lec_2/5.png)"
   ]
  },
  {
   "cell_type": "markdown",
   "metadata": {},
   "source": [
    "## **2-4. 내 코드의 모든 발자취를 기록할 수 있을까? (1) 버전관리와 Git**"
   ]
  },
  {
   "cell_type": "markdown",
   "metadata": {},
   "source": [
    "혹시 슈퍼마리오 게임을 해 보셨나요?"
   ]
  },
  {
   "cell_type": "markdown",
   "metadata": {},
   "source": [
    "![도토리 평원-1 내에서 차례로 클리어해야 할 다양한 맵들]()"
   ]
  },
  {
   "cell_type": "markdown",
   "metadata": {},
   "source": [
    "슈퍼마리오 같은 게임에선 클리어해야 하는 맵들이 순서대로 있고, 플레이어는 각 맵에서 여러 번 죽어보기도 하면서 하나하나 게임을 깨나갑니다. 만약 World 2의 stage 4를 막 클리어했다면, 많은 경우 지금 게임기를 끄고 다음에 다시 키더라도 stage 4의 다음 맵인 stage 5부터 진행할 수 있습니다. 처음부터 다시 시작할 필요가 없는 거죠."
   ]
  },
  {
   "cell_type": "markdown",
   "metadata": {},
   "source": [
    "간단히 말하자면 바로 이런 것이 **버전 관리**의 대표적인 예라고 할 수 있습니다. 특정 시점의 진행 상황을 저장해두고, 언제 다시 돌아오더라도 그 시점으로부터 다시 시작할 수 있도록 관리하는 것이죠. 만약 되돌아가는 기능도 있다면, 언제든 원하는 과거 시점으로 돌아갈 수도 있을 것입니다."
   ]
  },
  {
   "cell_type": "markdown",
   "metadata": {},
   "source": [
    "개발을 하면서 코드를 짜다보면 이러한 버전 관리가 필수적입니다. 코드를 삭제하거나 덧붙인 다음, 되돌리고 싶을 때 영영 돌아갈 수 없는 상황은 너무 끔찍하죠. 아주 간단하고 짧은 코드만을 짠다면 필요가 없겠지만, 코드가 점점 길어지거나 파일이 많아짐에 따라 특정 시점에서의 버전을 잘 기록해두고 관리해야할 필요성이 커지죠. 나 혼자서 하는 작업이 아니라, 다른 사람과 함께 한다면 더더욱이요."
   ]
  },
  {
   "cell_type": "markdown",
   "metadata": {},
   "source": [
    "소스 코드의 버전 관리를 도와주는 시스템 중 하나가 바로 `Git`과 `GitHub`입니다. 코드의 버전을 관리함과 동시에 다른 사람과 협업하는 것을 편리하게 만들어주는, 개발자에겐 산소와 같은 프로그램이죠. 오늘은 Git과 GitHub을 자세히 알아보고, 그 활용법을 익히며 직접 실습을 해볼 예정입니다."
   ]
  },
  {
   "cell_type": "markdown",
   "metadata": {},
   "source": [
    "오늘 과정에서는 앞으로 공부를 하면서 Git과 GitHub를 다루기 위해 꼭 알아야 하는 핵심 내용들을 빠르게 짚고 넘어갈 텐데, 사실 Git과 GitHub는 사용 방법만으로도 두꺼운 책 한 권이 나올만큼 내용이 방대합니다. 따라서 오늘 기초적인 것들을 학습한 후 꼭 책이나 전체 내용을 다루는 온라인 커리큘럼 등을 통해서 보다 깊게 공부해 보시는 것을 추천드립니다."
   ]
  },
  {
   "cell_type": "markdown",
   "metadata": {},
   "source": [
    "💡 **기본서**: [Pro Git](https://git-scm.com/book/ko/v2)<br>\n",
    "\n",
    "💡 **Git, GitHub을 온라인에서 공부할 수 있는 좋은 컨텐츠** : [지옥에서 온 Git](https://opentutorials.org/module/2676)<br>\n",
    "\n",
    "그렇다면, 각각의 정확한 개념부터 알아보러 가시죠."
   ]
  },
  {
   "cell_type": "markdown",
   "metadata": {},
   "source": [
    "## **2-5. 코드의 모든 발자취를 기록할 수 있을까? (2) Git과 GitHub**"
   ]
  },
  {
   "cell_type": "markdown",
   "metadata": {},
   "source": []
  },
  {
   "cell_type": "markdown",
   "metadata": {},
   "source": [
    "## **2-6. 내 코드의 모든 발자취를 기록할 수 있을까? (3) Git, GitHub 셋팅하기**"
   ]
  },
  {
   "cell_type": "markdown",
   "metadata": {},
   "source": []
  },
  {
   "cell_type": "markdown",
   "metadata": {},
   "source": [
    "## **2-7. GitHub에 첫 번째 잔디 심기, 어렵지 않아요! (1) 로컬 저장소**"
   ]
  },
  {
   "cell_type": "markdown",
   "metadata": {},
   "source": []
  },
  {
   "cell_type": "markdown",
   "metadata": {},
   "source": [
    "## **2-8. GitHub에 첫 번째 잔디 심기, 어렵지 않아요! (2) 변화 추적하기**"
   ]
  },
  {
   "cell_type": "markdown",
   "metadata": {},
   "source": []
  },
  {
   "cell_type": "markdown",
   "metadata": {},
   "source": [
    "## **2-9. GitHub에 첫 번째 잔디 심기, 어렵지 않아요! (3) 원격 저장소**"
   ]
  },
  {
   "cell_type": "markdown",
   "metadata": {},
   "source": []
  },
  {
   "cell_type": "markdown",
   "metadata": {},
   "source": [
    "## **2-10. GitHub에 첫 번째 잔디 심기, 어렵지 않아요! (4) 협업하기**"
   ]
  },
  {
   "cell_type": "markdown",
   "metadata": {},
   "source": []
  },
  {
   "cell_type": "markdown",
   "metadata": {},
   "source": [
    "## **2-11. GitHub에 첫 번째 잔디 심기, 어렵지 않아요! (5) 받아오기**"
   ]
  },
  {
   "cell_type": "markdown",
   "metadata": {},
   "source": []
  },
  {
   "cell_type": "markdown",
   "metadata": {},
   "source": [
    "## **2-12. GitHub에 첫 번째 잔디 심기, 어렵지 않아요! (6) 정리**"
   ]
  },
  {
   "cell_type": "markdown",
   "metadata": {},
   "source": []
  }
 ],
 "metadata": {
  "language_info": {
   "name": "python"
  },
  "orig_nbformat": 4
 },
 "nbformat": 4,
 "nbformat_minor": 2
}
