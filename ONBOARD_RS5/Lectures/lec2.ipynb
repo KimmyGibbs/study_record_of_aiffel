{
 "cells": [
  {
   "cell_type": "markdown",
   "metadata": {},
   "source": [
    "# **2. 개발자를 위한 첫 번째 필수 교양**"
   ]
  },
  {
   "cell_type": "markdown",
   "metadata": {},
   "source": [
    "## **2-1. 들어가며**"
   ]
  },
  {
   "cell_type": "markdown",
   "metadata": {},
   "source": [
    "안녕하세요!<br>\n",
    "\n",
    "개발자를 위한 필수 교양을 알고 싶은 여러분을 환영합니다. 😊<br>\n",
    "\n",
    "여러분들은 개발자가 되고 싶으신가요? 그렇다면 잘 오셨습니다!<br>\n",
    "\n",
    "이번 노드를 통해 개발자라면 누구나 알고 있어야 하는 필수 교양을 학습하시게 될 거에요.<br>\n",
    "\n",
    "필수 교양을 배우기 전에, 먼저 아이스브레이킹을 해볼까요?"
   ]
  },
  {
   "cell_type": "markdown",
   "metadata": {},
   "source": [
    "### **이 노드를 학습하시면 좋은 분들!**\n",
    "\n",
    "---\n",
    "\n",
    "- 협업 관리 툴을 다뤄본 적이 없습니다.\n",
    "\n",
    "- Git과 GitHub에 대한 개념을 공부해본 적이 없습니다.\n",
    "\n",
    "- GitHub을 이용해 소스코드의 버전 관리를 해 본 적이 없습니다.\n",
    "\n",
    "- pip를 활용해 본 적은 있으나, Jupyter Notebook을 설치해 사용해 본 적이 없습니다.\n",
    "\n",
    "- 마크다운 문법을 공부하거나 활용해본 적이 없습니다."
   ]
  },
  {
   "cell_type": "markdown",
   "metadata": {},
   "source": [
    "### **학습 내용**\n",
    "\n",
    "---\n",
    "\n",
    "- 2-3. 개발자를 위한 첫 번째 필수 교양\n",
    "\n",
    "    - 협업에 필요한 여러 가지 툴들에 대해 알아봅니다.\n",
    "    - GitHub의 존재와 그 의미에 대해 알아봅니다.\n",
    "<br><br>\n",
    "- 4-6. 내 코드의 모든 발자취를 기록할 수 있을까?\n",
    "\n",
    "    - Git과 GitHub의 차이를 알아보고, 각각을 설치해봅니다.\n",
    "<br><br>\n",
    "- 7-12. GitHub에 첫 번째 잔디 심기, 어렵지 않아요!\n",
    "\n",
    "    - GitHub을 처음 사용하기 위해 로컬 저장소와 원격 저장소를 만들어봅니다.\n",
    "    - add, commit, push, pull 등의 명령어를 실습을 통해 직접 사용해 보고, 그 필요성을 알게 됩니다.\n",
    "<br><br>\n",
    "- 13-14. 개발자 문서작업의 시작과 끝! 마크다운을 익혀보자\n",
    "\n",
    "    - 다양한 마크다운 문법을 알아보며 직접 실습을 통해 익혀봅니다."
   ]
  },
  {
   "cell_type": "markdown",
   "metadata": {},
   "source": [
    "### **학습 목표**\n",
    "\n",
    "---\n",
    "\n",
    "- Git과 GitHub의 차이를 말할 수 있습니다.\n",
    "\n",
    "- Git의 add, commit, push, pull 등의 명령어를 알고, 활용할 수 있습니다.\n",
    "\n",
    "- GitHub을 활용해 소스코드 버전관리를 할 줄 알게 됩니다.\n",
    "\n",
    "- Jupyter Notebook을 활용해 자유자재로 코드/문서 작업을 할 수 있습니다.\n",
    "\n",
    "- 마크다운 문법을 활용해 자유롭게 문서를 작성할 수 있습니다."
   ]
  },
  {
   "cell_type": "markdown",
   "metadata": {},
   "source": [
    "## **2-2. 개발자를 위한 첫 번째 필수 교양 (1) 협업을 더 잘, 더 편리하게 하기 위해**"
   ]
  },
  {
   "cell_type": "markdown",
   "metadata": {},
   "source": [
    "개발자에게 필요한 가장 첫 번째 덕목은 무엇일까요?<br>\n",
    "\n",
    "다양한 의견이 있을 수 있지만, 언제나 빼먹지 않고 이야기되는 것은 바로 **협업 능력**입니다.<br>\n",
    "\n",
    "협업 능력은 분야와 직무를 막론하고 어디서든 중요한 스킬이겠지만, 특히 개발자들에게 많이 요구되는 이유는 아마 그만큼 협업을 통해 해결해야 하는 문제가 많기 때문일겁니다. 그만큼 개발 분야에는 협업을 위한 도구들이 많이 사용되고, 계속해서 더 좋은 도구가 개발되고 있습니다.<br>\n",
    "\n",
    "오늘 자세하게 배워볼 협업 및 버전관리 툴 **깃허브(GitHub)** 를 시작하기 전에, 커뮤니케이션 및 생산성 앱 중 가장 많이 쓰이면서도 어렵지 않은 몇 가지만 먼저 소개해 드리고 시작하도록 하겠습니다. 앞으로 개발 또는 인공지능 분야를 계속 탐험할 예정이라면 아주 많이 다루게 될 수 있는 도구들이니, 한 번 눈에 익혀두고 가는 것도 좋을 겁니다!"
   ]
  },
  {
   "cell_type": "markdown",
   "metadata": {},
   "source": [
    "### **✔️ Slack (슬랙)**\n",
    "\n",
    "---\n",
    "\n",
    "- 링크 : https://slack.com/"
   ]
  },
  {
   "cell_type": "markdown",
   "metadata": {},
   "source": [
    "![Slack](../Images/lec_2/1.png)"
   ]
  },
  {
   "cell_type": "markdown",
   "metadata": {},
   "source": [
    "슬랙은 많은 사람들이 효율적으로 소통하는 데에 최적화된 앱입니다.<br>\n",
    "\n",
    "팀 단위로 각각의 Workspace를 만들고, Workspace 안에서는 주제 단위로 채널을 만들어 소통할 수 있습니다. 단순한 메세징을 넘어 코드, 파일, 링크, 일정 등 다양한 정보를 주고받을 수 있어요. 또 구글 캘린더, 구글 드라이브, GitHub 등 다양한 다른 프로그램과의 연동을 지원해 협업을 하는 데에 필요한 거의 모든 것들을 빠르게 공유할 수 있는 것이 장점입니다."
   ]
  },
  {
   "cell_type": "markdown",
   "metadata": {},
   "source": [
    "### **✔️ Notion(노션)**\n",
    "\n",
    "---\n",
    "\n",
    "- 링크 : https://www.notion.so/"
   ]
  },
  {
   "cell_type": "markdown",
   "metadata": {},
   "source": [
    "![Notion](../Images/lec_2/2.png)"
   ]
  },
  {
   "cell_type": "markdown",
   "metadata": {},
   "source": [
    "노션은 협업뿐만 아니라 혼자 업무를 진행할 때에도 생산성을 크게 높여줄 수 있는 문서작성 앱입니다.<br>\n",
    "\n",
    "표, 카드보드, 리스트 등의 다양한 포맷을 편리하게 사용할 수 있도록 최적화되어 있으며, 다른 사람과 페이지를 공유하여 함께 작업하거나 진행상황을 확인할 수 있도록 도와줍니다. 위 이미지의 오른쪽 부분에서 볼 수 있듯 다양한 템플릿을 제공합니다. 직관적이면서도 보기 좋은 문서를 편리하게 만들도록 도와주는 앱이라고 할 수 있습니다."
   ]
  },
  {
   "cell_type": "markdown",
   "metadata": {},
   "source": [
    "### **✔️ Trello(트렐로)**\n",
    "\n",
    "---\n",
    "\n",
    "링크 : https://trello.com/"
   ]
  },
  {
   "cell_type": "markdown",
   "metadata": {},
   "source": [
    "![Trello](../Images/lec_2/3.png)"
   ]
  },
  {
   "cell_type": "markdown",
   "metadata": {},
   "source": [
    "트렐로는 진행되고 있는 작업을 한 눈에 확인하고 관리할 수 있는 To-Do 앱입니다.<br>\n",
    "\n",
    "트렐로 또한 다른 사람들과 함께 관리할 수 있고, 위 이미지처럼 To Do, Doing, Done 등의 보드를 자유롭게 만들어 작업 리스트를 편하게 관리할 수 있습니다. 각 보드 안에는 할 일 별로 카드를 만든 후 카드를 원하는 보드로 옮겨 현재 상황을 편리하게 표시할 수 있다는 장점이 있습니다. 트렐로를 적절히 활용하면 현재 해야 할 일의 우선순위와, 진행되고 있는 일들을 최적화하여 관리할 수 있습니다."
   ]
  },
  {
   "cell_type": "markdown",
   "metadata": {},
   "source": [
    "### **✔️ Zoom(줌) / Google Meet(구글 밋)**\n",
    "\n",
    "---\n",
    "\n",
    "- Zoom 링크 : https://zoom.us/\n",
    "- Google Meet 링크 : https://meet.google.com/"
   ]
  },
  {
   "cell_type": "markdown",
   "metadata": {},
   "source": [
    "![Google Meet](../Images/lec_2/4.png)"
   ]
  },
  {
   "cell_type": "markdown",
   "metadata": {},
   "source": [
    "줌, 구글 밋은 모두 화상회의를 위한 앱입니다.<br>\n",
    "\n",
    "원격 근무 또는 재택 근무가 점점 많아지면서 사용 빈도가 높아지고 있습니다. 줌, 구글 밋에서는 동시에 여러 명이 접속해서 카메라로 얼굴을 보여주거나 화면을 공유할 수 있습니다. 화상회의를 위한 툴은 줌 외에도 스카이프 등 다양하기 때문에 기업 또는 팀의 활용 목적에 보다 부합하는 툴을 사용할 수 있습니다. 다만, 무료 버전의 경우 사용 시간 또는 동시 접속 인원에 대한 제한이 있으니 확인해 보고 사용해야 합니다."
   ]
  },
  {
   "cell_type": "markdown",
   "metadata": {},
   "source": [
    "### **개발자의 생산성을 위한 키워드**\n",
    "\n",
    "---\n",
    "\n",
    "이외에도 개발자의 생산성을 위한 앱은 무궁무진합니다. 많은 개발자들은 조금이라도 더 효율적으로 소통하고 업무를 하기 위해 노력하고 있죠. 이 글을 읽고 계신 분도 혹시 생산성과 커뮤니케이션, 협업을 더 잘 하는 방법 등에 관심이 있다면 다음과 같은 키워드로 검색해 보는 것을 권합니다."
   ]
  },
  {
   "cell_type": "markdown",
   "metadata": {},
   "source": [
    "💡 Keywords\n",
    "\n",
    "- 개발자의 생산성\n",
    "\n",
    "- 개발자를 위한 생산성 도구\n",
    "\n",
    "- 개발자 협업\n",
    "\n",
    "- 개발자 커뮤니케이션"
   ]
  },
  {
   "cell_type": "markdown",
   "metadata": {},
   "source": [
    "개발을 다루는 사람이라면 원하는 자료를 잘 찾는 능력을 갖추는 것 또한 매우 중요합니다. 그러기 위해서는 위와 같이 여러 키워드를 다양하게 검색해 보는 시도도 필요하죠. 더 잘 할 수 있으려면 먼저 무엇이 존재하는지 많이 아는 것도 중요하니까요! 어떤 자료든 많이 검색해 보고, 많이 읽어보시는 것은 언제나 도움이 될 것입니다."
   ]
  },
  {
   "cell_type": "markdown",
   "metadata": {},
   "source": [
    "## **2-3. 개발자를 위한 첫 번째 필수 교양 (2) 개발자의 가드닝, 잔디 심기**"
   ]
  },
  {
   "cell_type": "markdown",
   "metadata": {},
   "source": []
  },
  {
   "cell_type": "markdown",
   "metadata": {},
   "source": [
    "## **2-4. 내 코드의 모든 발자취를 기록할 수 있을까? (1) 버전관리와 Git**"
   ]
  },
  {
   "cell_type": "markdown",
   "metadata": {},
   "source": []
  },
  {
   "cell_type": "markdown",
   "metadata": {},
   "source": [
    "## **2-5. 코드의 모든 발자취를 기록할 수 있을까? (2) Git과 GitHub**"
   ]
  },
  {
   "cell_type": "markdown",
   "metadata": {},
   "source": []
  },
  {
   "cell_type": "markdown",
   "metadata": {},
   "source": [
    "## **2-6. 내 코드의 모든 발자취를 기록할 수 있을까? (3) Git, GitHub 셋팅하기**"
   ]
  },
  {
   "cell_type": "markdown",
   "metadata": {},
   "source": []
  },
  {
   "cell_type": "markdown",
   "metadata": {},
   "source": [
    "## **2-7. GitHub에 첫 번째 잔디 심기, 어렵지 않아요! (1) 로컬 저장소**"
   ]
  },
  {
   "cell_type": "markdown",
   "metadata": {},
   "source": []
  },
  {
   "cell_type": "markdown",
   "metadata": {},
   "source": [
    "## **2-8. GitHub에 첫 번째 잔디 심기, 어렵지 않아요! (2) 변화 추적하기**"
   ]
  },
  {
   "cell_type": "markdown",
   "metadata": {},
   "source": []
  },
  {
   "cell_type": "markdown",
   "metadata": {},
   "source": [
    "## **2-9. GitHub에 첫 번째 잔디 심기, 어렵지 않아요! (3) 원격 저장소**"
   ]
  },
  {
   "cell_type": "markdown",
   "metadata": {},
   "source": []
  },
  {
   "cell_type": "markdown",
   "metadata": {},
   "source": [
    "## **2-10. GitHub에 첫 번째 잔디 심기, 어렵지 않아요! (4) 협업하기**"
   ]
  },
  {
   "cell_type": "markdown",
   "metadata": {},
   "source": []
  },
  {
   "cell_type": "markdown",
   "metadata": {},
   "source": [
    "## **2-11. GitHub에 첫 번째 잔디 심기, 어렵지 않아요! (5) 받아오기**"
   ]
  },
  {
   "cell_type": "markdown",
   "metadata": {},
   "source": []
  },
  {
   "cell_type": "markdown",
   "metadata": {},
   "source": [
    "## **2-12. GitHub에 첫 번째 잔디 심기, 어렵지 않아요! (6) 정리**"
   ]
  },
  {
   "cell_type": "markdown",
   "metadata": {},
   "source": []
  }
 ],
 "metadata": {
  "language_info": {
   "name": "python"
  },
  "orig_nbformat": 4
 },
 "nbformat": 4,
 "nbformat_minor": 2
}
