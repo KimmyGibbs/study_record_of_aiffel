{
 "cells": [
  {
   "cell_type": "markdown",
   "metadata": {},
   "source": [
    "# **4. 터미널로 배우는 리눅스 운영체제**"
   ]
  },
  {
   "cell_type": "markdown",
   "metadata": {},
   "source": [
    "## **4-1. 터미널로 배우는 리눅스 운영체제**"
   ]
  },
  {
   "cell_type": "markdown",
   "metadata": {},
   "source": [
    "#### **학습 목표**\n",
    "\n",
    "---\n",
    "\n",
    "본 노드는 리눅스 기반 운영체제에 대해 모든 정보를 설명해주는 것보다, 직접 검색해서 이해할 수 있을 정도의 배경과, 어떤 것을 찾아볼지 키워드를 제공하는 것을 목표로 합니다. 따라서 충분히 이해가 되지 않는 부분은 직접 검색을 통해 자료를 찾아가며 보완할 것을 권장합니다.\n",
    "\n",
    "- 운영체제의 구성과 커널의 역할에 대해 이해합니다.\n",
    "- 터미널과 터미널 에뮬레이터, 셸의 차이점을 이해합니다.\n",
    "- 기본적인 리눅스 명령어들을 배우고 사용해 봅니다.<br>\n",
    "\n",
    "    - ❤️: 필수로 꼭 알아두어야 하는 가장 기본적인 명령어입니다.\n",
    "\n",
    "    - 👍️: 사용법을 기억해두면 편리한 명령어입니다.\n",
    "\n",
    "    - 👌️: 이런 명령어가 있다는 것만 알아두고 필요할 때마다 검색해서 사용하면 충분합니다.\n",
    "    \n",
    "본 노드는 우분투 20.04를 기반으로 작성되었습니다."
   ]
  },
  {
   "cell_type": "markdown",
   "metadata": {},
   "source": [
    "## **4-2. 떠나자 디지털 월드로! (1) pwd**"
   ]
  },
  {
   "cell_type": "markdown",
   "metadata": {},
   "source": [
    "클라우드 환경을 사용하는 유저라면 이후 실습은 브라우저 우측의 `Cloud Shell 열기` 버튼을 누른 후 터미널 창에서 수행하시기 바랍니다."
   ]
  },
  {
   "cell_type": "markdown",
   "metadata": {},
   "source": [
    "##### **`pwd`: 여긴 어디?**\n",
    "\n",
    "---\n",
    "\n",
    "까만 화면이 나타났습니다!<br>\n",
    "겁내지 마세요! 리눅스(Linux)는 사용자 친화적입니다."
   ]
  },
  {
   "cell_type": "markdown",
   "metadata": {},
   "source": [
    "![리눅스의 마스코트는 턱스(Tux)라는 이름의 귀여운 펭귄입니다. 물론 늘상 이렇게 얼굴을 찌푸리고 있지는 않습니다.](../Images/lec_4/1.png)"
   ]
  },
  {
   "cell_type": "markdown",
   "metadata": {},
   "source": [
    "`Cloud Shell 열기` 을 하시면 어두운 화면이 나옵니다.<br>\n",
    "거기 누구 없어요? `echo hello?`를 입력하고 엔터를 쳐서 결과를 확인합니다.\n",
    "\n",
    "```shell\n",
    "$ echo hello?\n",
    "hello?\n",
    "```"
   ]
  },
  {
   "cell_type": "markdown",
   "metadata": {},
   "source": [
    "> ❤️ `echo`: 뒤이어 입력한 내용을 출력합니다."
   ]
  },
  {
   "cell_type": "markdown",
   "metadata": {},
   "source": [
    "아무도 없는 것 같습니다. 여기는 어디지? `pwd`를 입력하고 엔터를 쳐서 결과를 확인합니다.\n",
    "\n",
    "```shell\n",
    "$ pwd\n",
    "/aiffel\n",
    "```"
   ]
  },
  {
   "cell_type": "markdown",
   "metadata": {},
   "source": [
    "> 👍️ `pwd`: Print Working Directory의 약자(또는 Present Working Directory의 약자)입니다. 현재 내가 위치한 디렉토리 위치를 출력합니다."
   ]
  },
  {
   "cell_type": "markdown",
   "metadata": {},
   "source": [
    "`/aiffel`과 같은 형태의 결과가 표시됩니다. `aiffel` 폴더 안에 있다는 뜻입니다. 윈도우즈에서는 폴더 구분에 역슬래시(`＼`, 또는 글꼴에 따라 원화 기호 `₩`로 출력)를 쓰지만 리눅스에서는 슬래시(`/`)를 쓰는 것을 알 수 있습니다."
   ]
  },
  {
   "cell_type": "markdown",
   "metadata": {},
   "source": [
    "**이 위치를 해당 사용자의 홈 디렉토리라고 합니다.** 사용자마다 하나씩 주어지며, 윈도우즈의 내 문서 폴더와 비슷하다고 생각하시면 됩니다. 홈 디렉토리를 줄여서 `~`로도 표시하는데, 이는 옛날 옛적에 Home 키와 `~` 키가 같은 자판에 있던 시절로부터 전해져 내려온 유구한 전통입니다."
   ]
  },
  {
   "cell_type": "markdown",
   "metadata": {},
   "source": [
    "그럼 이제 아까부터 터미널에 떠 있던 저 문구의 뜻을 조금은 알 수 있을 것 같습니다.\n",
    "\n",
    "```shell\n",
    "root@wtetysocxvx7e6avqwhctccah-776475db6-h2swf:~#\n",
    "```"
   ]
  },
  {
   "cell_type": "markdown",
   "metadata": {},
   "source": [
    "- cloud shell에서는 $이 아닌 root@wtetysocxvx7e6avqwhctccah-776475db6-h2swf:~# 형태로 표시가 됩니다.\n",
    "\n",
    "- @ 앞의 `root`은 현재 로그인한 사용자명입니다.\n",
    "\n",
    "- @ 뒤의 `wtetysocxvx7e6avqwhctccah-776475db6-h2swf`는 컴퓨터의 이름, 호스트명입니다.\n",
    "\n",
    "- : 뒤의 `~`는 현재 위치입니다.\n",
    "\n",
    "- 마지막 `#`는 현재 로그인한 사용자가 최고 관리자 계정(root)임을 나타내고 일반 사용자임의 경우에는 `$`로 표시됩니다."
   ]
  },
  {
   "cell_type": "markdown",
   "metadata": {},
   "source": [
    "리눅스는 UNIX라는 운영체제를 본떠 만들어졌는데, 이 UNIX의 철학 중 하나는 \"모든 것은 파일이다\"라는 점입니다. 윈도우에서는 각종 시스템 설정값이 레지스트리에 들어있지만, 리눅스에서는 설정값 또한 파일이며, 키보드 등의 하드웨어 기기들도 파일로서 접근 가능합니다. 셸 내부에서 나의 위치도 마치 하나의 파일처럼 항상 어떤 폴더 안에 있기 때문에 길을 잃을 염려는 없습니다."
   ]
  },
  {
   "cell_type": "markdown",
   "metadata": {},
   "source": [
    "셸 뭐라구요? 우리가 지금 사용하고 있는 것과 같은 프로그램의 종류를 **셸(shell)** 이라고 하며, 우리는 이 껍데기를 통해 운영체제의 알맹이인 **커널(kernel)** 과 소통합니다. 셸이 무엇인지에 대해서는 뒤에서 자세히 알아보겠습니다."
   ]
  },
  {
   "cell_type": "markdown",
   "metadata": {},
   "source": [
    "## **4-3. 떠나자 디지털 월드로! (2) ls**"
   ]
  },
  {
   "cell_type": "markdown",
   "metadata": {},
   "source": [
    "#### **ls: 뭐가 있지?**\n",
    "\n",
    "---\n",
    "\n",
    "우리는 여기서 어디로 갈 수 있을까요? `ls`를 입력하여 지금 있는 폴더 안에 어떤 파일/폴더가 있는지 목록을 뽑아봅시다.\n",
    "\n",
    "```shell\n",
    "$ ls\n",
    "aiffel  data\n",
    "```"
   ]
  },
  {
   "cell_type": "markdown",
   "metadata": {},
   "source": [
    "> ❤️ `ls`: 현재 디렉토리 내의 파일 및 폴더들을 출력합니다."
   ]
  },
  {
   "cell_type": "markdown",
   "metadata": {},
   "source": [
    "하지만 세상에 눈에 보이는 것이 전부는 아닙니다. `ls` 대신 `ls --all`를 입력해 봅니다.\n",
    "\n",
    "```shell\n",
    "$ ls --all\n",
    ".  ..  aiffel  .cache  .conda  data  .jupyter  .local  .wget-hsts\n",
    "```"
   ]
  },
  {
   "cell_type": "markdown",
   "metadata": {},
   "source": [
    "아까는 안 보이던 파일들이 늘어났습니다. 어떻게 된 것일까요?<br>\n",
    "`~`가 홈 디렉토리를 가리키는 것처럼, `.`는 현재 폴더를, `..`는 상위 폴더를 가리킵니다."
   ]
  },
  {
   "cell_type": "markdown",
   "metadata": {},
   "source": [
    "참고로 리눅스에서 `.`으로 시작하는 이름을 가진 파일은 숨김 파일입니다. 예를 들어 `.bashrc`와 `.profile`은 셸에 로그인 시 자동으로 불러오는 설정 파일들입니다. 이런 숨김 파일들도 `ls` 명령어에 `--all` 인자를 함께 사용하면 모두 표시할 수 있습니다.클라우드 환경에서는 설정 파일이 안보일수 있습니다. ^^"
   ]
  },
  {
   "cell_type": "markdown",
   "metadata": {},
   "source": [
    "그런데 어떤 명령어가 어떤 인자를 제공하는지는 어떻게 할 수 있을까요?<br>\n",
    "\n",
    "대부분의 명령어들은 `--help`라는 인자를 기본으로 제공합니다. `ls --help`를 입력해 봅시다."
   ]
  },
  {
   "cell_type": "markdown",
   "metadata": {},
   "source": [
    "```shell\n",
    "$ ls --help\n",
    "Usage: ls [OPTION]... [FILE]...\n",
    "List information about the FILEs (the current directory by default).\n",
    "Sort entries alphabetically if none of -cftuvSUX nor --sort is specified.\n",
    "\n",
    "Mandatory arguments to long options are mandatory for short options too.\n",
    "  -a, --all                  do not ignore entries starting with .\n",
    "  -A, --almost-all           do not list implied . and ..\n",
    "      --author               with -l, print the author of each file\n",
    "  -b, --escape               print C-style escapes for nongraphic characters\n",
    "      --block-size=SIZE      scale sizes by SIZE before printing them; e.g.,\n",
    "                               '--block-size=M' prints sizes in units of\n",
    "```"
   ]
  },
  {
   "cell_type": "markdown",
   "metadata": {},
   "source": [
    "내용이 너무 길어서 화면이 넘어갔습니다. 지금 화면에서는 마우스도 쓸 수 없는데 어떡하냐구요? `Ctrl+Shift+↑/↓`으로 한줄씩 위/아래로 스크롤하거나, `Shift+PageUp/PageDown`으로 한 페이지씩 위/아래로 스크롤 할 수 있습니다.\n",
    "\n",
    "```shell\n",
    "-B, --ignore-backups       do not list implied entries ending with ~\n",
    "  -c                         with -lt: sort by, and show, ctime (time of last\n",
    "                               modification of file status information);\n",
    "                               with -l: show ctime and sort by name;\n",
    "                               otherwise: sort by ctime, newest first\n",
    "  -C                         list entries by columns\n",
    "      --color[=WHEN]         colorize the output; WHEN can be 'always' (default\n",
    "                               if omitted), 'auto', or 'never'; more info below\n",
    "  -d, --directory            list directories themselves, not their contents\n",
    "  -D, --dired                generate output designed for Emacs' dired mode\n",
    "  -f                         do not sort, enable -aU, disable -ls --color\n",
    "  -F, --classify             append indicator (one of */=>@|) to entries\n",
    "```\n",
    "\n",
    "`--all`은 `-a`로 줄여서 쓸 수도 있다는 점을 알았습니다. 추가로 다음 인자들도 눈여겨보면 좋습니다."
   ]
  },
  {
   "cell_type": "markdown",
   "metadata": {},
   "source": [
    "- `-l`: 각 파일 및 폴더의 권한, 소유자, 크기, 수정일시 등 자세한 정보를 출력합니다.\n",
    "\n",
    "- `-h`: 파일 크기를 바이트 수 대신 사람이 알아볼 수 있는 단위(1K, 234M, 2G 등)로 표시합니다.\n",
    "\n",
    "- `-t`: 파일 수정시간 순으로 정렬해서 출력합니다. 최신 파일이 위쪽으로 표시됩니다.\n",
    "\n",
    "- `-r`: 정렬 순서를 뒤집어 출력합니다. -rt의 형태로 쓰면 최신 파일이 아래쪽으로 표시되어 유용할 때가 있습니다."
   ]
  },
  {
   "cell_type": "markdown",
   "metadata": {},
   "source": [
    "한 글자 인자를 여럿 쓸 때에는 서로 붙여 쓸 수 있습니다. 즉, `ls -l -a -h`는 `ls -lah`로 쓸 수 있습니다.\n",
    "\n",
    "```shell\n",
    "$ ls -lah\n",
    "total 32K\n",
    "drwxr-xr-x 1 root root 4.0K Jun  7 05:10 .\n",
    "drwxr-xr-x 1 root root 4.0K Jun  7 05:10 ..\n",
    "drwxrwxrwx 2 root root    0 Jun  2 02:45 aiffel\n",
    "drwxr-xr-x 1 root root 4.0K Apr 19 09:30 .cache\n",
    "drwxrwsr-x 2 root root 4.0K Apr 19 09:30 .conda\n",
    "drwxr-xr-x 2 root root 4.0K Jun  4 03:42 data\n",
    "drwx------ 1 root root 4.0K Apr 19 09:23 .jupyter\n",
    "drwxr-xr-x 3 root root 4.0K Jun  7 05:10 .local\n",
    "-rw-r--r-- 1 root root  170 Apr 19 09:28 .wget-hsts\n",
    "```\n",
    "\n",
    "(Tip) `ls -alrt` 가 유용할 때가 많습니다.\n",
    "\n",
    "---\n",
    "\n",
    "`ls` 뒤에 폴더명을 넣어서 해당 폴더 안을 볼 수도 있습니다. `ls --all aiffel`를 입력해 aiffel 폴더 안에 어떤 파일들이 있는지 살펴봅니다.\n",
    "\n",
    "```shell\n",
    "$ ls --all aiffel\n",
    ".  .. \n",
    "```\n",
    "\n",
    "aiffel 폴더 자체와 그 상위 폴더인 홈 디렉토리를 각각 가리키는 `.`와 `..`만 나옵니다."
   ]
  },
  {
   "cell_type": "markdown",
   "metadata": {},
   "source": [
    "<details>\n",
    "<summary><b>Q. 앞에서 홈 디렉토리에 두 개의 디렉토리 aiffel, data가 있는 것을 확인했습니다. data 디렉토리 안에 있는 파일이 무엇인지, 크기가 얼마나 되는지 보려면 명령어를 어떻게 써야 할까요?\n",
    "data 디렉토리 안에 있는 파일의 이름과 크기도 알려주세요! (현재 폴더, 상위 폴더를 가리키는 &#96;.&#96;, &#96;..&#96; 제외)</b></summary>\n",
    "\n",
    "```shell\n",
    "$ ls -al ~/data/\n",
    "```\n",
    "</details>"
   ]
  },
  {
   "cell_type": "markdown",
   "metadata": {},
   "source": [
    "## **4-4. 떠나자 디지털 월드로! (3) cd**"
   ]
  },
  {
   "cell_type": "markdown",
   "metadata": {},
   "source": [
    "#### **`cd`: 움직여보자**\n",
    "\n",
    "---\n",
    "\n",
    "리눅스에서 모든 것은 파일이고, 나도 파일처럼 항상 어느 폴더 안에 들어있다는 사실을 위에서 배웠습니다. 그럼 내가 다른 폴더로 이동하려면 어떻게 해야할까요? 내가 들어있는 디렉토리를 바꾸면 됩니다. `cd aiffel`를 입력해 aiffel 폴더 안으로 이동해 봅시다.\n",
    "\n",
    "```shell\n",
    "$ cd aiffel\n",
    "root@wtetysocxvx7e6avqwhctccah-776475db6-h2swf:~/aiffel# \n",
    "```"
   ]
  },
  {
   "cell_type": "markdown",
   "metadata": {},
   "source": [
    "> ❤️ `cd`: Change Directory의 약자로, 뒤에 따라오는 폴더로 내가 있는 셸의 현재 위치를 이동시킵니다."
   ]
  },
  {
   "cell_type": "markdown",
   "metadata": {},
   "source": [
    "커서 앞의 `~`가 `~/aiffel`로 바뀌었습니다. 여기서 `pwd`를 해보면?\n",
    "\n",
    "```shell\n",
    "$ pwd\n",
    "/aiffel/aiffel\n",
    "```"
   ]
  },
  {
   "cell_type": "markdown",
   "metadata": {},
   "source": [
    "여기서 다시 상위 폴더로 이동하려면? `..`이 상위 폴더를 가리킨다고 했으니, `cd ..`를 입력한 뒤 이어서 pwd를 해 봅니다.\n",
    "\n",
    "```shell\n",
    "$ cd ..\n",
    "$ pwd\n",
    "/aiffel\n",
    "```\n",
    "\n",
    "여기서 `..`나 `aiffel`에서처럼 명령을 입력하는 시점에 내가 현재 있는 디렉토리에 영향을 받는 위치 표시 방식을 **상대 경로**라고 합니다. 반면에 `/home/june/aiffel`와 같이 어디서 입력하든 똑같은 곳을 가리키도록 위치 전체를 적어주는 것을 **절대 경로**라고 합니다."
   ]
  },
  {
   "cell_type": "markdown",
   "metadata": {},
   "source": [
    "> 뒤에 위치 없이 그냥 `cd`만 입력하면 어디로 갈까요?"
   ]
  },
  {
   "cell_type": "markdown",
   "metadata": {},
   "source": [
    "그럼 이 세상의 끝은 어디일까요? 계속 한번 위로 올라가봅시다.\n",
    "\n",
    "```shell\n",
    "$ cd ..\n",
    "$ cd ..\n",
    "$ pwd\n",
    "/\n",
    "```\n",
    "\n",
    "`/`에 도달한 이후 더 이상 상위 폴더로 올라가지지 않습니다. 여기가 바로 세상의 끝입니다.<br>\n",
    "세상의 끝에는 무엇이 있을까요?\n",
    "\n",
    "```shell\n",
    "$ ls\n",
    "aiffel  boot  etc   lib    media  opt   root  sbin  sys  usr  workspace\n",
    "bin     dev   home  lib64  mnt    proc  run   srv   tmp  var\n",
    "```\n",
    "\n",
    "일부 주요 폴더들의 용도 및 내용물은 다음과 같습니다. 굳이 기억할 필요는 없고, 이런 것들이 있다는 것만 알고 넘어갑시다."
   ]
  },
  {
   "cell_type": "markdown",
   "metadata": {},
   "source": [
    "- `/home`: 사용자별 홈 디렉토리들이 있는 곳\n",
    "\n",
    "- `/root`: 최고 관리자 계정의 홈 디렉토리\n",
    "\n",
    "- `/mnt`: 저장장치(HDD, SSD)가 붙는 위치\n",
    "\n",
    "- `/media`: 이동식 미디어(USB 드라이브)가 붙는 위치\n",
    "\n",
    "- `/tmp`: 재부팅 시 삭제될 임시 파일들을 저장하는 폴더\n",
    "\n",
    "- `/dev`: 컴퓨터에 연결된 하드웨어 및 가상 기기(device)들을 가리키는 파일들\n",
    "\n",
    "- `/proc`: 현재 실행 중인 프로세스들을 가리키는 파일들\n",
    "\n",
    "- `/etc`: 각종 설정 파일들\n",
    "\n",
    "- `/bin`: 실행 가능한 프로그램(binary)들\n",
    "\n",
    "- `/sbin`: 시스템 관리용 프로그램들\n",
    "\n",
    "- `/usr`: 다중 사용자 모드에서 사용 가능한 파일 및 프로그램들 (root 계정만 있는 단일 사용자 모드에서는 사용 불가)\n",
    "\n",
    "- `/var`: 캐시, 로그 등 시스템 구동 간 계속 내용이 바뀌는 파일들"
   ]
  },
  {
   "cell_type": "markdown",
   "metadata": {},
   "source": [
    "<details>\n",
    "<summary><b>Q. LMS의 클라우드 환경에는 앞으로 공부할 때 필요한 라이브러리들이 미리 설치되어 있습니다. cloud shell의 홈 디렉토리에서 라이브러리들이 설치된 폴더로 이동하고, 폴더의 내용을 보는 명령어를 작성해봅시다! (폴더의 절대 경로: `/opt/conda/lib/python3.9/site-packages/`)</b></summary>\n",
    "\n",
    "```shell\n",
    "$ cd /opt/conda/lib/python3.9/site-packages/\n",
    "$ ls\n",
    "```\n",
    "</details>"
   ]
  },
  {
   "cell_type": "markdown",
   "metadata": {},
   "source": [
    "## **4-5. 운영체제 일반 개론 (1) 운영체제란**"
   ]
  },
  {
   "cell_type": "markdown",
   "metadata": {},
   "source": [
    "잠시 숨을 돌리면서, 리눅스를 넘어 일반적인 운영체제에 대해 이야기해보겠습니다. 운영체제란 컴퓨터의 다양한 하드웨어 장치들과 더불어 소프트웨어를 관리하는 시스템을 일컫습니다."
   ]
  },
  {
   "cell_type": "markdown",
   "metadata": {},
   "source": [
    "막연하실 것 같아 이런 예를 들어 보겠습니다.<br>\n",
    "커다란 귀족 저택에 요리사가 3명, 정원사 5명, 청소부가 10명이나 있다고 합시다. 심지어 이 하인들은 출신국가나 언어도 제각기 달라서 어떤 요리사는 영어를, 어떤 청소부는 독일어를, 어떤 정원사는 중국어를 쓰기도 한다고 합시다. 이 저택의 집주인이 이 많은 하인들에게 일을 직접 시키려면 얼마나 힘들겠습니까? 적절하게 필요 자원을 배분해서 일을 시키는 것만으로도 바쁜데, 그 수많은 하인들의 언어와 성격까지 맞추어 일을 시킨다는 것은 보통 일이 아니겠죠?<br>\n",
    "이때, 전세계 모든 언어를 마스터한 스마트한 집사가 하나 나타났다고 생각해 봅시다. 이제 이 귀족은 굳이 하인들을 직접 만날 필요가 없습니다. 그냥 스마트한 집사에게 모든 것을 시키면 됩니다. 설령 요리사가 도중 아프리카인으로 교체된다고 해도 귀족 집주인은 신경쓸 필요가 없습니다. 달라지는 부분에 대해서는 집사가 다 알아서 해줄 테니까요."
   ]
  },
  {
   "cell_type": "markdown",
   "metadata": {},
   "source": [
    "비유해서 생각하면 운영체제는 컴퓨터라는 대저택을 관리하는 집사와 같은 존재로 볼 수 있습니다. 집주인(최고관리자)의 권한을 위임받아 요리사, 정원사, 청소부 등 각각의 보조 인원(어플리케이션)들에게 재산(연산 자원)을 적절히 분배하여 운영하고, 서로 권한을 침범할 수 없도록 관리하는 역할을 맡습니다."
   ]
  },
  {
   "cell_type": "markdown",
   "metadata": {},
   "source": [
    "![https://en.wikipedia.org/wiki/Kernel_(operating_system)](../Images/lec_4/2.png)"
   ]
  },
  {
   "cell_type": "markdown",
   "metadata": {},
   "source": [
    "우리가 지금 보고 있는 것은 운영체제들 중 리눅스 계열의 우분투(Ubuntu)라는 운영체제입니다. 조금 더 친숙한 운영체제로는 마이크소프트의 윈도우즈나, 애플의 맥 OS, iOS, 구글의 Android, ChromeOS 등이 있습니다."
   ]
  },
  {
   "cell_type": "markdown",
   "metadata": {},
   "source": [
    "그런데 위 그림에서 도대체 어디가 운영체제냐구요? 위 그림에서 CPU, Memory, SDD 등 각종 디바이스를 통합 관리하면서 그 연산 자원을 수많은 어플리케이션들에 분배하는 자리에 있는 것은 바로 커널(Kernel)이라는 것입니다. 운영체제=커널이라고 할 수는 없겠지만 커널은 보안, 자원관리, 디바이스 인터페이스 추상화 등 바로 대저택의 집사와 같은 역할을 하는 운영체제의 가장 핵심적인 구성요소입니다."
   ]
  },
  {
   "cell_type": "markdown",
   "metadata": {},
   "source": [
    "## **4-6. 운영체제 일반 개론 (2) 커널**"
   ]
  },
  {
   "cell_type": "markdown",
   "metadata": {},
   "source": [
    "운영체제의 내부는 알맹이인 커널(kernel)과 껍데기인 셸(shell)로 이루어져 있습니다. 우분투의 커널은 리눅스이고, 마이크로소프트 윈도우(Windows)의 경우 2000 이후의 버전은 Windows NT라는 커널을 사용하며, 맥 OS(macOS)의 경우에는 XNU(XNU is Not Unix의 약자)라는 커널을 사용합니다."
   ]
  },
  {
   "cell_type": "markdown",
   "metadata": {},
   "source": [
    "![about windows](../Images/lec_4/3.png)"
   ]
  },
  {
   "cell_type": "markdown",
   "metadata": {},
   "source": [
    "> Q. 그래서 버전이 8이라는 거야 6.3이라는 거야? <br>A. 전체 운영체제의 버전이 8이고, 커널의 버전이 6.3이라는 뜻입니다."
   ]
  },
  {
   "cell_type": "markdown",
   "metadata": {},
   "source": [
    "윈도우를 제외한 운영체제들은 사실상 서로 사촌지간이라고 볼 수 있는데, 여기에는 약간의 역사가 있습니다.<br>\n",
    "태초에 유닉스(Unix)라는 상용 운영체제(겸 해당 운영체제를 위한 커널)가 있었습니다. 이를 기반으로 미국 UC 버클리에서 개발한 BSD 운영체제가 나오자, 미국 카네기 멜론 대학교에서 BSD를 위해 Mach 커널을 개발합니다. 1985년 애플에서 쫓겨났던 스티브 잡스가 창업한 NeXT에서는 이 Mach 커널을 사용해 XNU라는 커널을 만듭니다.<br>\n",
    "이후 NeXT가 (스티브 잡스와 함께) 애플에 흡수되면서 XNU는 맥 OS, iOS (및 iPadOS, tvOS, watchOS..) 운영체제에서 커널로 사용되게 됩니다."
   ]
  },
  {
   "cell_type": "markdown",
   "metadata": {},
   "source": [
    "리눅스 커널 또한 유닉스와 관련이 깊은데, 1991년 핀란드에서 당시 컴퓨터 공학과 학생 리누스 토발즈(Linus Torvalds)가 유닉스의 무료 및 공개 버전을 지향하여 만든 것이 리눅스입니다.<br>\n",
    "여기서 명심할 점은 리눅스가 그 자체로 운영체제가 아니라, 운영체제를 위한 커널이라는 사실인데, 우리가 흔히 리눅스 운영체제라 부르는 것들은 사실 이 리눅스를 커널로써 사용하는 운영체제들을 가리키며, 우분투나 Android, ChromeOS 말고도 Debian, CentOS, Red Hat Enterprise Linux 등 다양한 종류가 있습니다."
   ]
  },
  {
   "cell_type": "markdown",
   "metadata": {},
   "source": [
    "즉, 맥 OS의 XNU 커널과 우분투의 리눅스 커널은 역사적 배경 때문에 모두 유닉스와 유사하며, 유닉스 표준(POSIX)과 일부 호환성이 제공됩니다. 이런 유사성은 두 운영체제 모두 동일하게 bash를 기본 셸로 제공하는 점에서도 찾아볼 수 있습니다."
   ]
  },
  {
   "cell_type": "markdown",
   "metadata": {},
   "source": [
    "> bash가 뭐냐구요? 궁금하시면 `cloud shell 열기`를 누른 후 `echo $SHELL` 이라고 입력해 보세요."
   ]
  },
  {
   "cell_type": "markdown",
   "metadata": {},
   "source": [
    "## **4-7. 운영체제 일반 개론 (3) 셸**"
   ]
  },
  {
   "cell_type": "markdown",
   "metadata": {},
   "source": [
    "셸은 말 그대로 눈에 보이는 운영체제의 껍데기인데, 그래픽 기반의 GUI(Graphical User Interface) 셸과 텍스트 기반의 CLI(Command Line Interface) 셸로 구분할 수 있습니다."
   ]
  },
  {
   "cell_type": "markdown",
   "metadata": {},
   "source": [
    "**GUI 셸**의 경우, 윈도우에는 우리에게 친숙한 시작 버튼을 포함하는 셸을 Windows shell이 라 부르고, 맥 OS의 경우는 Aqua라는 이름을 갖고 있습니다. 리눅스 계열 운영체제는 GNOME, Unity(동명의 게임 엔진과는 별도의 프로그램) 등이 있지만, 단독으로 동작하기보다 보통 Xorg 등 다른 종류의 프로그램들과 함께 사용됩니다."
   ]
  },
  {
   "cell_type": "markdown",
   "metadata": {},
   "source": [
    "**CLI 셸**로는 윈도우 운영체제의 cmd.exe와 PowerShell이 있고, 우분투 및 맥 OS에서는 CLI 셸로서 기본으로 sh와 여기에 몇 가지 편의기능을 덧붙인 bash가 설치되어 있습니다. 이 외에도 csh, fish, zsh 등 다양한 CLI 셸을 직접 설치하여 사용할 수 있습니다. 또한 zsh처럼 테마 및 플러그인을 지원하는 셸의 경우 모양과 편의기능을 입맛에 따라 꾸밀 수 있습니다."
   ]
  },
  {
   "cell_type": "markdown",
   "metadata": {},
   "source": [
    "![zsh와 함께 사용할 수 있는 pure 테마 (https://github.com/sindresorhus/pure)](../Images/lec_4/4.png)"
   ]
  },
  {
   "cell_type": "markdown",
   "metadata": {},
   "source": [
    "## **4-8. 운영체제 일반 개론 (4) 프로세스와 스레드**"
   ]
  },
  {
   "cell_type": "markdown",
   "metadata": {},
   "source": [
    "**프로그램**은 컴퓨터가 수행할 작업을 기록해놓은 것을 뜻합니다. 프로그램이 실제로 실행될 때 운영체제는 이를 **프로세스(process)** 라는 단위로 관리합니다. 즉, 운영체제는 프로세스 단위로 메모리와 CPU 연산 등 컴퓨팅 자원을 분배합니다."
   ]
  },
  {
   "cell_type": "markdown",
   "metadata": {},
   "source": [
    "- **메모리 관리**: 운영체제는 프로세스에 실제 메모리의 일부를 가상 메모리(virtual memory)로 떼어서 제공함으로써, 프로세스가 컴퓨터의 메모리 전체에 접근할 수는 없도록 하고 다른 프로세스의 메모리 또는 운영체제 자체가 사용하고 있는 커널 메모리를 훔쳐볼 수 없도록 합니다. 이것을 운영체제의 중요한 보안 기제 중 하나인 프로세스 격리(process isolation)라고 부르며, 다른 프로세스의 메모리에는 접근할 수 없기 때문에 프로세스들이 서로 소통하기 위해서는 별도로 허용된 프로세스 간 통신 (Inter-Process Communication, IPC) 기법들을 사용해야 합니다.\n",
    "\n",
    "- **CPU 자원 관리**: 메모리는 주소로서 프로세스에 제공되지만, CPU 연산의 경우 코어 단위로 프로세스에 제공됩니다. 프로세스는 **스레드(thread)** 라는 단위로 코어를 하나씩 사용할 수가 있는데, 하나의 프로세스가 시작되면 기본적으로 하나의 스레드를 가지고 있습니다. 하지만 개발자는 프로그램이 더 많은 스레드를 사용하도록 설계하여 다중 CPU 코어의 이점을 극대화할 수 있습니다."
   ]
  },
  {
   "cell_type": "markdown",
   "metadata": {},
   "source": [
    "![https://en.wikipedia.org/wiki/Thread_(computing)](../Images/lec_4/5.png)"
   ]
  },
  {
   "cell_type": "markdown",
   "metadata": {},
   "source": [
    "> 프로세스는 운영체제가 메모리를 할당하는 작업단위라면, 스레드는 프로세스가 할당받은 메모리를 활용하는 실행단위입니다.<br>\n",
    "하나의 프로그램 안에서 여러개의 프로세스를 활용하는 것을 멀티프로세싱(Multiprocessing) , 하나의 프로세스 안에서 여러개의 스레드를 활용하는 것을 멀티스레딩(Multithreading) 이라고 합니다."
   ]
  },
  {
   "cell_type": "markdown",
   "metadata": {},
   "source": [
    "## **4-9. 리눅스 기반 운영체제 (1) 터미널**"
   ]
  },
  {
   "cell_type": "markdown",
   "metadata": {},
   "source": [
    "앞에서는 운영체제의 일반적인 내용을 다루었지만, 이제부터는 리눅스 기반 운영체제에 조금 더 특화된 내용을 살펴보겠습니다.<br>\n",
    "\n",
    "우분투에서 `Cloud shell 열기`를 눌러보면 아까 본 텍스트 화면이 들어있는, 흔히 터미널 또는 콘솔이라고도 부르는 창이 열립니다. 이 창 내부에서 텍스트로 조작하는 환경은 위에서 배웠듯이 CLI 셸입니다. 이 창을 여는 프로그램은 엄밀히 말하면 터미널이 아니라, 정확히는 그래픽 환경에서 터미널을 모사하는 **터미널 에뮬레이터**입니다. 그렇다면 진짜 터미널이란 무엇을 가리키는 걸까요?<br>\n",
    "\n",
    "터미널이라는 이름은 개인용 컴퓨터(PC)가 등장하기 전의 시절, 실제 연산을 담당하는 크고 비싼 메인프레임 컴퓨터와는 별도로, 입출력만 담당하는 CRT 모니터와 키보드로 구성된 말단(=terminal)의 기기에서 유래한 명칭입니다. 여러 대의 터미널을 한 대의 메인프레임에 연결해 여러 사용자끼리 나눠 사용하는 것도 가능했으며, 원격으로 타이핑을 한다는 의미에서 teletype이라는 명칭으로도 불렸습니다."
   ]
  },
  {
   "cell_type": "markdown",
   "metadata": {},
   "source": [
    "![teletype](../Images/lec_4/6.png)"
   ]
  },
  {
   "cell_type": "markdown",
   "metadata": {},
   "source": [
    "시대가 흘렀지만 teletype은 운영체제 안에 흔적이 남아있습니다. /dev(device, 장치) 폴더 안에는 tty(teletype)로 시작하는 여러 대의 소프트웨어 터미널이 있습니다. 물론 시리얼 포트를 통해 실제 하드웨어 터미널과 연결할 수 있는 ttyS도 함께 남아있습니다.\n",
    "\n",
    "```shell\n",
    "$ ls /dev\n",
    "core  full    null     nvidiactl   nvidia-uvm-tools  pts     shm     stdin   termination-log  urandom\n",
    "fd    mqueue  nvidia0  nvidia-uvm  ptmx              random  stderr  stdout  tty              zero\n",
    "```\n",
    "\n",
    "우분투에서는 18.04부터 로그인한 사용자의 그래픽 환경을 2번 터미널에 붙여두기 때문에, 우리는 CLI 셸(tty3)에서 무사히 GUI 셸(tty2)으로 귀환할 수 있었습니다. 즉, 터미널이란 컴퓨터에 정보를 입력하고 출력하는 소프트웨어 및 하드웨어로서의 장치이며, 지금도 우리는 하나의 터미널(tty2)이라는 창구를 통해 컴퓨터 안의 세상을 그래픽 화면으로 들여다보고 있는 것입니다. 아래 영상의 장치도 터미널이라 부르기에 충분합니다."
   ]
  },
  {
   "cell_type": "markdown",
   "metadata": {},
   "source": [
    "[[Video] Using a 1930 Teletype as a Linux Terminal](https://youtu.be/2XLZ4Z8LpEE)"
   ]
  },
  {
   "cell_type": "markdown",
   "metadata": {},
   "source": [
    "## **4-10. 리눅스 기반 운영체제 (2) 프로세스 관리와 시스템 콜**"
   ]
  },
  {
   "cell_type": "markdown",
   "metadata": {},
   "source": [
    "## **4-11. 리눅스 기반 운영체제 (3) 프로그램과 환경변수**"
   ]
  },
  {
   "cell_type": "markdown",
   "metadata": {},
   "source": [
    "## **4-12. 리눅스 기반 운영체제 (4) 패키지 관리자**"
   ]
  },
  {
   "cell_type": "markdown",
   "metadata": {},
   "source": [
    "## **4-13. 리눅스 기반 운영체제 (5) 사용자와 권한**"
   ]
  },
  {
   "cell_type": "markdown",
   "metadata": {},
   "source": [
    "## **4-14. 기타 (1) 약간의 하드웨어 1: 연산장치**"
   ]
  },
  {
   "cell_type": "markdown",
   "metadata": {},
   "source": [
    "## **4-15. 기타 (2) 약간의 하드웨어 2: 저장장치**"
   ]
  },
  {
   "cell_type": "markdown",
   "metadata": {},
   "source": [
    "## **4-16. 기타 (3) 클라우드와 가상화**"
   ]
  },
  {
   "cell_type": "markdown",
   "metadata": {},
   "source": [
    "## **4-17. 셸 심화 (1) 편리한 기능**"
   ]
  },
  {
   "cell_type": "markdown",
   "metadata": {},
   "source": [
    "## **4-18. 셸 심화 (2) 셸 스크립트**"
   ]
  },
  {
   "cell_type": "markdown",
   "metadata": {},
   "source": [
    "## **4-19. 셸 심화 (3) 명령어 모음 및 추천자료**"
   ]
  },
  {
   "cell_type": "markdown",
   "metadata": {},
   "source": [
    "## **4-20. 셸 심화 (4) 연습문제**"
   ]
  }
 ],
 "metadata": {
  "language_info": {
   "name": "python"
  },
  "orig_nbformat": 4
 },
 "nbformat": 4,
 "nbformat_minor": 2
}
