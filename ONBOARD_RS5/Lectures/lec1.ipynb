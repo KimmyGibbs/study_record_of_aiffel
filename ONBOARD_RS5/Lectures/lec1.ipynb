{
 "cells": [
  {
   "cell_type": "markdown",
   "metadata": {},
   "source": [
    "# **1. Ready to go?**"
   ]
  },
  {
   "cell_type": "markdown",
   "metadata": {},
   "source": [
    "## **1-1. LMS 200% 활용하기**"
   ]
  },
  {
   "cell_type": "markdown",
   "metadata": {},
   "source": [
    "🧚 안녕하세요! 앞으로 펼쳐질 멋진 여정을 시작하는 첫 번째 노드에 오신걸 환영합니다.\n",
    "\n",
    "든든한 동반자인 LMS를 200%로 활용하실 수 있다면 두려울게 없습니다 💪"
   ]
  },
  {
   "cell_type": "markdown",
   "metadata": {},
   "source": [
    "> LMS는 Learning management system 의 약자입니다."
   ]
  },
  {
   "cell_type": "markdown",
   "metadata": {},
   "source": [
    "핵심 기능들을 지금 바로 알아볼까요?"
   ]
  },
  {
   "cell_type": "markdown",
   "metadata": {},
   "source": [
    "#### **퀴즈 블록**\n",
    "\n",
    "---\n",
    "\n",
    "최고의 학습법 중 하나, **직접 생각해보기!** 저희 LMS는 학습 중간 중간에 이해도를 확인하고 스스로 생각해보는 시간을 제공하기 위해 퀴즈를 내드립니다."
   ]
  },
  {
   "cell_type": "markdown",
   "metadata": {},
   "source": [
    "**[생각해 보기] AI 마스터가 되실 준비됐나요~?**\n",
    "> 네에"
   ]
  },
  {
   "cell_type": "markdown",
   "metadata": {},
   "source": [
    "설마 틀리신 분 없죠? 🤔\n",
    "여러분은 다 맞추셨을 겁니다!\n",
    "퀴즈 제출 후 \"예시답안\"을 확인하여 자신의 생각과 비교해볼 수도 있습니다."
   ]
  },
  {
   "cell_type": "markdown",
   "metadata": {},
   "source": [
    "#### **코드 블록**\n",
    "---"
   ]
  },
  {
   "cell_type": "markdown",
   "metadata": {},
   "source": [
    "![LMS 코드 블록](../Images/lec_1/1.png)"
   ]
  },
  {
   "cell_type": "markdown",
   "metadata": {},
   "source": [
    "위 사진이 바로 LMS의 꽃 🌹 코드 블록입니다.<br>\n",
    "LMS 상에는 코드 실행 멈춤, 복사, refresh, 실행 등 다양한 기능이 여러분을 위해 구비돼있습니다.<br>\n",
    "이번 노드에서 환경 구성 점검 후, 코드를 직접 돌려보는 시간을 가질 테니 기대해주세요!"
   ]
  },
  {
   "cell_type": "markdown",
   "metadata": {},
   "source": [
    "#### **디테일 토글**\n",
    "\n",
    "---\n",
    "\n",
    "LMS의 부끄럼쟁이, 토글이도 소개를 드려야겠어요.\n",
    "\n",
    "<details>\n",
    "<summary>왼쪽에 있는 토글이를 건들여보세요</summary>\n",
    "```\n",
    "Hello LMS!\n",
    "```\n",
    "</details>\n",
    "\n",
    "겉으로는 소심하지만 속에는 끼를 감추고 있네요."
   ]
  },
  {
   "cell_type": "markdown",
   "metadata": {},
   "source": [
    "![토글 예시](../Images/lec_1/2.png)"
   ]
  },
  {
   "cell_type": "markdown",
   "metadata": {},
   "source": [
    "#### **블록 리스트**\n",
    "---"
   ]
  },
  {
   "cell_type": "markdown",
   "metadata": {},
   "source": [
    "![Example of the block list](../Images/lec_1/3.png)"
   ]
  },
  {
   "cell_type": "markdown",
   "metadata": {},
   "source": [
    "현재 스텝에 어떤 코드 블록과 퀴즈 블록이 있는지 리스트되고, 클릭 한 번만 하면 거기로 쓩 날아갈 수 있는 ✈️ 최첨단 기능도 준비돼있습니다.<br>\n",
    "컨텐츠가 많아 스크롤을 자주 해야하는 스텝일수록 더욱 편리하게 쓸 수 있겠죠.<br>\n",
    "또한, 어느 블록이 미완료인지도 편하게 보실 수 있어요.<br>\n",
    "❗주의 : 참고로 하나라도 완료하지 않았다면 다음 스텝으로 넘어가실 수 없으니 잘 확인해주세요!"
   ]
  },
  {
   "cell_type": "markdown",
   "metadata": {},
   "source": [
    "#### **클라우드 / 로컬 환경**\n",
    "\n",
    "---\n",
    "\n",
    "저희 LMS는 기본적으로 클라우드 환경을 제공하여 별도의 패키지 설치나 환경 설정 없이 바로 코드를 돌려보실 수 있도록 해놓은 놀라운 시스템입니다.<br>\n",
    "다만, 직접 개인 데스크톱이나 랩톱에서 코드를 돌려보고 싶으신 분들을 위해서도 컨텐츠를 준비해놨죠 😎<br>\n",
    "클라우드 / 로컬 커널 전환은 다다음 스텝에서 더 설명드리겠습니다.<br>\n",
    "커널에 따라 보여지는 컨텐츠가 다르다는 사실만 알고 계시면 됩니다!"
   ]
  },
  {
   "cell_type": "markdown",
   "metadata": {},
   "source": [
    "## **1-2. 안녕, 우분투**"
   ]
  },
  {
   "cell_type": "markdown",
   "metadata": {},
   "source": [
    "이번 스텝에서는 LMS의 환경구성에 대해 알아보는 🕵 시간을 갖겠습니다.<br>\n",
    "\n",
    "인공지능 연구개발을 위해 주로 사용하는 운영체제는 바로 우분투(Ubuntu)입니다. 우분투는 리눅스(Linux) 배포판의 한 종류인데, 구글을 비롯한 수많은 회사에서 표준 배포환경으로 사용하고 있고 많은 개발자들이 애용하고 있어서 우리가 앞으로 사용하게 될 텐서플로우(Tensorflow) 등 머신러닝 라이브러리들이 가장 안정적으로 구동되는 환경이기도 합니다. 물론 리눅스이기 때문에 공짜라는 장점도 있지요.<br>\n",
    "\n",
    "그러면 우리에게 익숙한 윈도우즈(Windows) 환경을 사용하면 안되냐구요? 전혀 안되는 건 아니지만, 우리가 학습 도중에 사용하게 될 수많은 라이브러리 중에는 윈도우즈에서 안정적으로 구동되지 않는 경우들이 있습니다. 기본적으로 윈도우즈는 개발자들이 선호하는 표준 개발환경은 아닌지라, 라이브러리들의 호환성이 충분히 지원되지 않는 경우들이 있기 때문입니다. 앞으로 우리가 학습하게 될 내용들은 우분투 20.04.3 버전을 기준으로 테스트되었음을 미리 밝힙니다."
   ]
  },
  {
   "cell_type": "markdown",
   "metadata": {},
   "source": [
    "> 💡 토막 상식! Ubuntu 가 무슨 뜻이지?<br>\n",
    "Ubuntu 는 아프리카 반투어에서 유래한 말로, \"네가 있기에 내가 있다\"를 뜻합니다.<br>\n",
    "교류가 활발한 우분투 커뮤니티의 사상을 잘 반영한 것 같네요!<br>\n",
    "아이펠이 우분투를 사용하는 이유 중 하나일 수도? 🧐"
   ]
  },
  {
   "cell_type": "markdown",
   "metadata": {},
   "source": [
    "명령어 등 자세한 사항은 다른 노드들에서도 충분히 다루니, 우선은 저희가 사용할 LMS 의 `Cloud Shell` 이 우분투로 돌아간다는 것만 알아두세요~\n",
    "`Cloud Shell`이 뭐냐고요? 궁금하면 다음 스텝으로 고고! 🚀"
   ]
  },
  {
   "cell_type": "markdown",
   "metadata": {},
   "source": [
    "## **1-3. 삐빅! 환경 구성 나와라, 오버**"
   ]
  },
  {
   "cell_type": "markdown",
   "metadata": {},
   "source": [
    "#### **Cloud Shell**\n",
    "\n",
    "---\n",
    "\n",
    "☁️ Cloud Shell이 뭔지 궁금하셨죠? 아이펠에서는 Learning by doing!"
   ]
  },
  {
   "cell_type": "markdown",
   "metadata": {},
   "source": [
    "![LMS Cloud shell](../Images/lec_1/4.png)"
   ]
  },
  {
   "cell_type": "markdown",
   "metadata": {},
   "source": [
    "위 사진에서 파란 박스가 가리키고 있는 버튼을 클릭하여 실행해보세요."
   ]
  },
  {
   "cell_type": "markdown",
   "metadata": {},
   "source": [
    "짜잔! Cloud Shell 이 떴네요.<br>\n",
    "\n",
    "저희 LMS 클라우드 상에는 이미 필요한 패키지들이 다운되어있습니다. 어떤 패키지들이 준비돼있나 확인해볼까요?\n",
    "\n",
    "```shell\n",
    "$ pip list\n",
    "```"
   ]
  },
  {
   "cell_type": "markdown",
   "metadata": {},
   "source": [
    "#### **Cloud Jupyter**\n",
    "\n",
    "---"
   ]
  },
  {
   "cell_type": "markdown",
   "metadata": {},
   "source": [
    "마지막으로, Cloud Jupyter도 빼놓을 수 없죠.<br>\n",
    "말 그대로 클라우드에서 사용 가능한 주피터 노트북입니다.<br>\n",
    "\n",
    "자세한 설명은 개발자를 위한 첫 번째 필수 교양 노드에서 확인해보실 수 있어요.<br>\n",
    "일단 이번 스텝에서는 데이터를 업로드하는 방법에 대해서만 알아보겠습니다.<br>\n",
    "\n",
    "인물사진을 만들어 보자 같은 노드에서는 여러분의 셀카 사진을 업로드하여 뒷배경을 블러 처리하는 법을 배웁니다. 벌써 설레시죠? 🥰<br>\n",
    "바로 이때, Cloud Jupyter를 통해 사진을 올릴 수 있어요.<br>\n",
    "\n",
    "한번 열어보실까요?"
   ]
  },
  {
   "cell_type": "markdown",
   "metadata": {},
   "source": []
  },
  {
   "cell_type": "markdown",
   "metadata": {},
   "source": [
    "위 사진에서 파란색 박스가 가리키는 버튼을 클릭해주세요."
   ]
  },
  {
   "cell_type": "markdown",
   "metadata": {},
   "source": []
  },
  {
   "cell_type": "markdown",
   "metadata": {},
   "source": [
    "자세히 보니 `aiffel`이라는 디렉토리가 이미 준비돼있네요. 이 폴더가 여러분의 개인 컨테이너입니다.<br>\n",
    "더 자세한 설명은 앞으로 보실 노드들에서 친절히 설명드릴게요.<br>\n",
    "\n",
    "`LMS 200% 활용하기`에서 보셨던 토글이의 \"까꿍\" 이미지를 한번 올려볼게요.<br>\n",
    "\n",
    "어디에 올릴지도 중요하겠죠? 저희는 지금 최상위 폴더에 있습니다.<br>\n",
    "\n",
    "어떻게 아냐고요? 위 사진을 보시면 디렉토리 아이콘 뒤에 아무것도 없기 때문입니다~<br>\n",
    "\n",
    "아이펠 폴더로 이동하면<br>\n",
    "\n",
    "이렇게 뒤에 `/aiffel`이 붙습니다. 여기에 이미지를 올리고 싶다고 해볼게요!<br>\n",
    "\n",
    "파란색 박스가 감싸고 있는 `Upload` 버튼을 클릭하셔서 원하는 이미지를 클릭하시면 됩니다.<br>\n",
    "\n",
    "야호~! `aiffel` 디렉토리로 `까꿍.png`를 성공적으로 올렸네요.<br>\n",
    "\n",
    "물론 저희는 `aiffel` 폴더로 직접 데이터를 올리는 경우는 없을거에요. 폴더 관리를 효율적으로 할 수 있기 위해 각 노드 별로 디렉토리를 만들어 줄 예정입니다. 그때 그때 설명드릴테니 안심하셔도 됩니다!<br>\n",
    "\n",
    "이로써 환경 구성 탐험 완료! 🧑‍🚀<br>\n",
    "\n",
    "미션 컴플릿~!"
   ]
  },
  {
   "cell_type": "markdown",
   "metadata": {},
   "source": [
    "## **1-4. 커널 실행하기**"
   ]
  },
  {
   "cell_type": "markdown",
   "metadata": {},
   "source": [
    "AIFFEL 온라인 LMS는 브라우저 상에서 파이썬 코드를 수행해 볼 수 있는 혁신적인 구조로 설계되어 있습니다. 하지만 파이썬 코드가 정말 브라우저 상에서 수행되는 것은 아니랍니다. 코드가 실제로 수행되기 위한 프로세스가 별도로 필요합니다. 우리는 이것을 커널(Kernel)이라고 부르고 있습니다.<br>\n",
    "\n",
    "지금 보고 계신 화면 우상단에 아래 그림 같은 부분이 보이시나요?"
   ]
  },
  {
   "cell_type": "markdown",
   "metadata": {},
   "source": [
    "![Example of Kernel Connection](../Images/lec_1/5.png)"
   ]
  },
  {
   "cell_type": "markdown",
   "metadata": {},
   "source": [
    "Cloud 커널로 연결돼있네요. 만약 여러분이 개인 PC로 LMS에 연결하고 싶다면?"
   ]
  },
  {
   "cell_type": "markdown",
   "metadata": {},
   "source": [
    "![Example of the LMS connection](../Images/lec_1/6.png)"
   ]
  },
  {
   "cell_type": "markdown",
   "metadata": {},
   "source": [
    "위 그림에서 `user->계정설정->커널 사용` 설정부분에 구름 모양 토글이 왼쪽에 있으면 `클라우드` 오른쪽에 있으면 `로컬`로 커널 연결이 구분 됩니다. 로컬 및 클라우드 환경에 맞춰진 별도의 실습 콘텐츠만 표시됩니다.<br>\n",
    "\n",
    "일단은 Cloud 에 연결되어있다면 코드도 LMS 에서 마음껏 실행할 수 있습니다. 자세한 내용은 다음 스텝에서 알아봐요~"
   ]
  },
  {
   "cell_type": "markdown",
   "metadata": {},
   "source": [
    "## **1-5. 코드 실행 확인하기**"
   ]
  },
  {
   "cell_type": "markdown",
   "metadata": {},
   "source": [
    "좋습니다! 이제 우리는 AIFFEL 실습을 진행할 준비가 끝났습니다. 그럼 아래 코드를 실행해 봅시다."
   ]
  },
  {
   "cell_type": "code",
   "execution_count": 1,
   "metadata": {},
   "outputs": [
    {
     "name": "stdout",
     "output_type": "stream",
     "text": [
      "Hello, AIFFEL.\n"
     ]
    }
   ],
   "source": [
    "print('Hello, AIFFEL.')"
   ]
  },
  {
   "cell_type": "markdown",
   "metadata": {},
   "source": [
    "정상적으로 Hello, AIFFEL.이 출력되었나요? 축하합니다. 🎉<br>\n",
    "AIFFEL에서의 첫번째 코드 실행이 성공적으로 수행되었습니다.<br>\n",
    "\n",
    "이제 환경구성이 거의 완료되었습니다! 하지만 이것만으로는 좀 심심하지요? 다음 코드도 한번 실행해 보실까요? 방금 실행했던 것보단 조금 더 깁니다."
   ]
  },
  {
   "cell_type": "code",
   "execution_count": 2,
   "metadata": {},
   "outputs": [
    {
     "name": "stdout",
     "output_type": "stream",
     "text": [
      "Model: \"sequential\"\n",
      "_________________________________________________________________\n",
      "Layer (type)                 Output Shape              Param #   \n",
      "=================================================================\n",
      "conv2d (Conv2D)              (None, 26, 26, 16)        160       \n",
      "_________________________________________________________________\n",
      "max_pooling2d (MaxPooling2D) (None, 13, 13, 16)        0         \n",
      "_________________________________________________________________\n",
      "conv2d_1 (Conv2D)            (None, 11, 11, 32)        4640      \n",
      "_________________________________________________________________\n",
      "max_pooling2d_1 (MaxPooling2 (None, 5, 5, 32)          0         \n",
      "_________________________________________________________________\n",
      "flatten (Flatten)            (None, 800)               0         \n",
      "_________________________________________________________________\n",
      "dense (Dense)                (None, 32)                25632     \n",
      "_________________________________________________________________\n",
      "dense_1 (Dense)              (None, 10)                330       \n",
      "=================================================================\n",
      "Total params: 30,762\n",
      "Trainable params: 30,762\n",
      "Non-trainable params: 0\n",
      "_________________________________________________________________\n",
      "Epoch 1/10\n",
      "1875/1875 [==============================] - 66s 34ms/step - loss: 0.4621 - accuracy: 0.8501\n",
      "Epoch 2/10\n",
      "1875/1875 [==============================] - 65s 35ms/step - loss: 0.0678 - accuracy: 0.9785\n",
      "Epoch 3/10\n",
      "1875/1875 [==============================] - 64s 34ms/step - loss: 0.0499 - accuracy: 0.9845\n",
      "Epoch 4/10\n",
      "1875/1875 [==============================] - 65s 35ms/step - loss: 0.0365 - accuracy: 0.9890\n",
      "Epoch 5/10\n",
      "1875/1875 [==============================] - 64s 34ms/step - loss: 0.0277 - accuracy: 0.9916\n",
      "Epoch 6/10\n",
      "1875/1875 [==============================] - 65s 35ms/step - loss: 0.0235 - accuracy: 0.9924\n",
      "Epoch 7/10\n",
      "1875/1875 [==============================] - 64s 34ms/step - loss: 0.0182 - accuracy: 0.9943\n",
      "Epoch 8/10\n",
      "1875/1875 [==============================] - 65s 35ms/step - loss: 0.0160 - accuracy: 0.9949\n",
      "Epoch 9/10\n",
      "1875/1875 [==============================] - 64s 34ms/step - loss: 0.0131 - accuracy: 0.9955\n",
      "Epoch 10/10\n",
      "1875/1875 [==============================] - 42s 22ms/step - loss: 0.0106 - accuracy: 0.9965\n"
     ]
    },
    {
     "data": {
      "text/plain": [
       "<tensorflow.python.keras.callbacks.History at 0x7f0da68d6a50>"
      ]
     },
     "execution_count": 2,
     "metadata": {},
     "output_type": "execute_result"
    }
   ],
   "source": [
    "import tensorflow as tf\n",
    "from tensorflow import keras\n",
    "import numpy as np\n",
    "import matplotlib.pyplot as plt\n",
    "\n",
    "mnist = keras.datasets.mnist\n",
    "(x_train, y_train), (x_test, y_test) = mnist.load_data()   \n",
    "x_train_norm, x_test_norm = x_train / 255.0, x_test / 255.0\n",
    "x_train_reshaped=x_train_norm.reshape( -1, 28, 28, 1)  \n",
    "x_test_reshaped=x_test_norm.reshape( -1, 28, 28, 1)\n",
    "\n",
    "model=keras.models.Sequential()\n",
    "model.add(keras.layers.Conv2D(16, (3,3), activation='relu', input_shape=(28,28,1)))\n",
    "model.add(keras.layers.MaxPool2D(2,2))\n",
    "model.add(keras.layers.Conv2D(32, (3,3), activation='relu'))\n",
    "model.add(keras.layers.MaxPooling2D((2,2)))\n",
    "model.add(keras.layers.Flatten())\n",
    "model.add(keras.layers.Dense(32, activation='relu'))\n",
    "model.add(keras.layers.Dense(10, activation='softmax'))\n",
    "\n",
    "model.summary()\n",
    "model.compile(optimizer='adam',\n",
    "             loss='sparse_categorical_crossentropy',\n",
    "             metrics=['accuracy'])\n",
    "\n",
    "# 모델 훈련\n",
    "model.fit(x_train_reshaped, y_train, epochs=10)"
   ]
  },
  {
   "cell_type": "markdown",
   "metadata": {},
   "source": [
    "코드가 돌아가는 동안, 유용한 기능 몇 가지 소개드릴게요!<br>\n",
    "\n",
    "**1. 코드 중지**\n",
    "앗, 생각해보니깐 코드 18번째 줄을 지워서 어떤 변화가 있는지 알아보고 싶어요. 코드 블록 좌상단의 검은색 네모 ⬛ 를 클릭하시면 코드가 중지됩니다! KeyboardInterrupt 에러가 뜨는게 정상입니다.\n",
    "\n",
    "**2. 코드 복사**\n",
    "코드 중지 버튼의 오른쪽에 Copy 아이콘을 클릭하시면 클립보드로 복사가 됩니다.\n",
    "\n",
    "**3. 새로 고침**\n",
    "코드 블록에서 자유롭게 이것 저것 실험해보다가, 다시 원본 코드로 바꾸고 싶을 수도 있죠.\n",
    "아까 18번째 줄을 지웠었는데... 원래 코드가 뭐였더라 💭\n",
    "당황하지 마세요! 우상단의 새로 고침 버튼을 클릭하시면 원본으로 새로고침됩니다.\n",
    "\n",
    "LMS 코드 블록, 기특하죠? ✌️<br>\n",
    "\n",
    "정상적으로 실행되었다면, 축하합니다.🎊 AIFFEL에서 첫번째 딥러닝 코드를 성공적으로 실행하셨네요. 이제는 정말 AIFFEL에서 학습할 준비가 완료됐습니다.<br>\n",
    "\n",
    "위 코드는 GPU가 장착된 컴퓨터에서라면 Epoch당 5s 이내, 총 소요시간 1분 이내에 수행될 것입니다. GPU가 없다면 그것보다는 몇 배 정도 시간이 더 걸릴 수 있습니다.<br>\n",
    "\n",
    "이것으로 AIFFEL 실습환경 실습을 마치겠습니다. AIFFEL과 함께 탐험할 수많은 노드들도 기대되시죠~?<br>\n",
    "그럼, 다음 노드에서 다시 만나요! 🙌"
   ]
  }
 ],
 "metadata": {
  "kernelspec": {
   "display_name": "Python 3",
   "language": "python",
   "name": "python3"
  },
  "language_info": {
   "codemirror_mode": {
    "name": "ipython",
    "version": 3
   },
   "file_extension": ".py",
   "mimetype": "text/x-python",
   "name": "python",
   "nbconvert_exporter": "python",
   "pygments_lexer": "ipython3",
   "version": "3.7.9"
  }
 },
 "nbformat": 4,
 "nbformat_minor": 2
}
