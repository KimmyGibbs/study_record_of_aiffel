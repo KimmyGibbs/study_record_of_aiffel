{
 "cells": [
  {
   "cell_type": "markdown",
   "id": "c7f9e1fc",
   "metadata": {},
   "source": [
    "# 2. 멋진 단어사전 만들기\n",
    "\n",
    "---\n",
    "\n",
    "## 2-1. 들어가며\n",
    "## 2-2. 데이터 다운로드 및 분석\n",
    "## 2-3. 공백 기반 토큰화\n",
    "## 2-4. 형태소 기반 토큰화\n",
    "\n",
    "---"
   ]
  },
  {
   "cell_type": "markdown",
   "id": "c9c0f9c9",
   "metadata": {},
   "source": [
    "## 2-1. 들어가며\n",
    "코스목표 : **문장을 조각내는 방법**을 배우기</br>\n",
    "### **준비물**\n",
    "[설치하기 - KoNLPy](https://konlpy.org/ko/latest/install/)</br>\n",
    "- KoNLPy, 그 중에서도 가장 성능이 준수한 **MeCab 클래스**를 활용해 실습 수행\n",
    "    - 클라우드 환경에는 이미 설치 되어있음\n",
    "\n",
    "설치 완료 후엔 간단히 `import`하여 형태소 분석기를 사용가능하다."
   ]
  },
  {
   "cell_type": "code",
   "execution_count": 1,
   "id": "88e23877",
   "metadata": {},
   "outputs": [
    {
     "name": "stdout",
     "output_type": "stream",
     "text": [
      "['자연어', '처리', '가', '너무', '재밌', '어서', '밥', '먹', '는', '것', '도', '가끔', '까먹', '어요']\n"
     ]
    }
   ],
   "source": [
    "from konlpy.tag import Mecab\n",
    "\n",
    "mecab = Mecab()\n",
    "print(mecab.morphs('자연어처리가너무재밌어서밥먹는것도가끔까먹어요'))"
   ]
  },
  {
   "cell_type": "markdown",
   "id": "60a192ee",
   "metadata": {},
   "source": [
    "## 2-2. 데이터 다운로드 및 분석\n",
    "먼저 프로젝트에 사용될 라이브러리를 `import`"
   ]
  },
  {
   "cell_type": "code",
   "execution_count": 2,
   "id": "ffc6f39a",
   "metadata": {},
   "outputs": [],
   "source": [
    "import os\n",
    "\n",
    "import matplotlib.pyplot as plt\n",
    "import tensorflow as tf\n",
    "import numpy as np\n",
    "\n",
    "%matplotlib inline"
   ]
  },
  {
   "cell_type": "markdown",
   "id": "1f13d9e8",
   "metadata": {},
   "source": [
    "학습환경 구성 및 데이터 다운로드</br>\n",
    "cloud shell에서 다음 명령어들을 순서대로 입력해주세요\n",
    "```shell\n",
    "$ wget https://github.com/jungyeul/korean-parallel-corpora/raw/master/korean-english-news-v1/korean-english-park.train.tar.gz\n",
    "$ mkdir -p ~/aiffel/sp_tokenizer/data\n",
    "$ mv korean-english-park.train.tar.gz ~/aiffel/sp_tokenizer/data\n",
    "$ cd ~/aiffel/sp_tokenizer/data\n",
    "$ tar -xzvf korean-english-park.train.tar.gz\n",
    "```"
   ]
  },
  {
   "cell_type": "markdown",
   "id": "49d2b2ee",
   "metadata": {},
   "source": [
    "---\n",
    "\n",
    "학습 데이터 확인 예제 코드"
   ]
  },
  {
   "cell_type": "code",
   "execution_count": 3,
   "id": "7b773df9",
   "metadata": {},
   "outputs": [
    {
     "name": "stdout",
     "output_type": "stream",
     "text": [
      "Data Size: 94123\n",
      "Example:\n",
      ">> 개인용 컴퓨터 사용의 상당 부분은 \"이것보다 뛰어날 수 있느냐?\"\n",
      ">> 북한의 핵무기 계획을 포기하도록 하려는 압력이 거세지고 있는 가운데, 일본과 북한의 외교관들이 외교 관계를 정상화하려는 회담을 재개했다.\n",
      ">> \"경호 로보트가 침입자나 화재를 탐지하기 위해서 개인적으로, 그리고 전문적으로 사용되고 있습니다.\"\n",
      ">> 수자원부 당국은 논란이 되고 있고, 막대한 비용이 드는 이 사업에 대해 내년에 건설을 시작할 계획이다.\n",
      ">> 또한 근력 운동은 활발하게 걷는 것이나 최소한 20분 동안 뛰는 것과 같은 유산소 활동에서 얻는 운동 효과를 심장과 폐에 주지 않기 때문에, 연구학자들은 근력 운동이 심장에 큰 영향을 미치는지 여부에 대해 논쟁을 해왔다.\n"
     ]
    }
   ],
   "source": [
    "import os\n",
    "path_to_file = os.getenv('HOME')+'/aiffel/sp_tokenizer/data/korean-english-park.train.ko'\n",
    "\n",
    "with open(path_to_file, \"r\") as f:\n",
    "    raw = f.read().splitlines()\n",
    "\n",
    "print(\"Data Size:\", len(raw))\n",
    "\n",
    "print(\"Example:\")\n",
    "for sen in raw[0:100][::20]: print(\">>\", sen)"
   ]
  },
  {
   "cell_type": "markdown",
   "id": "e97e19c1",
   "metadata": {},
   "source": [
    "내려받은 데이터\n",
    "- 한국어의 형태소 분석과 품사 태깅, 기계 번역 연구를 위해 공개된 데이터\n",
    "\n",
    "사용할 데이터\n",
    "- 한국어-영어 병렬을 이루는 말뭉치 중 한국어 부분\n",
    "    - 전체 말뭉치는 추후 번역기에 사용될 예정\n",
    "    \n",
    "다른데이터 종류가 궁금하다면 아래 링크를 참고\n",
    "- [jungyeul/korean-parallel-corpora](https://github.com/jungyeul/korean-parallel-corpora)"
   ]
  },
  {
   "cell_type": "markdown",
   "id": "e3ae6de3",
   "metadata": {},
   "source": [
    "예제 소스 코드\n",
    "- 문장의 최단 길이, 최장 길이, 평균 길이를 구한 후 문장 길이 분포를 막대그래프로 표현\n",
    "\n",
    "코드의 `raw`\n",
    "- 앞서 다운로드 받은 데이터가 담긴 변수"
   ]
  },
  {
   "cell_type": "code",
   "execution_count": 4,
   "id": "34e63cc5",
   "metadata": {},
   "outputs": [
    {
     "name": "stdout",
     "output_type": "stream",
     "text": [
      "문장의 최단 길이: 1\n",
      "문장의 최장 길이: 377\n",
      "문장의 평균 길이: 60\n"
     ]
    },
    {
     "data": {
      "image/png": "[encoded data removed]",
      "text/plain": [
       "<Figure size 432x288 with 1 Axes>"
      ]
     },
     "metadata": {
      "needs_background": "light"
     },
     "output_type": "display_data"
    }
   ],
   "source": [
    "min_len = 999\n",
    "max_len = 0\n",
    "sum_len = 0\n",
    "\n",
    "for sen in raw:\n",
    "    length = len(sen)\n",
    "    if min_len > length: min_len = length\n",
    "    if max_len < length: max_len = length\n",
    "    sum_len += length\n",
    "\n",
    "print(\"문장의 최단 길이:\", min_len)\n",
    "print(\"문장의 최장 길이:\", max_len)\n",
    "print(\"문장의 평균 길이:\", sum_len // len(raw))\n",
    "\n",
    "sentence_length = np.zeros((max_len), dtype=int)\n",
    "\n",
    "for sen in raw:\n",
    "    sentence_length[len(sen)-1] += 1\n",
    "\n",
    "plt.bar(range(max_len), sentence_length, width=1.0)\n",
    "plt.title(\"Sentence Length Distribution\")\n",
    "plt.show()"
   ]
  },
  {
   "cell_type": "markdown",
   "id": "a5c867b0",
   "metadata": {},
   "source": [
    "1) 길이 1의 문장이 무엇인지 확인해봅시다"
   ]
  },
  {
   "cell_type": "code",
   "execution_count": 5,
   "id": "e8d4013b",
   "metadata": {},
   "outputs": [
    {
     "name": "stdout",
     "output_type": "stream",
     "text": [
      "’\n"
     ]
    }
   ],
   "source": [
    "def check_sentence_with_length(raw, length):\n",
    "    count = 0\n",
    "    \n",
    "    for sen in raw:\n",
    "        if len(sen) == length:\n",
    "            print(sen)\n",
    "            count += 1\n",
    "            if count > 100: return\n",
    "\n",
    "check_sentence_with_length(raw, 1)"
   ]
  },
  {
   "cell_type": "markdown",
   "id": "e8b8617d",
   "metadata": {},
   "source": [
    "길이 1인 문장은 노이즈 데이터임을 확인  \n",
    "확인이 필요한 문장을 다 살펴보자"
   ]
  },
  {
   "cell_type": "code",
   "execution_count": 6,
   "id": "adc8f5e6",
   "metadata": {},
   "outputs": [
    {
     "name": "stdout",
     "output_type": "stream",
     "text": [
      "Outlier Index: 11\n",
      "Outlier Index: 19\n",
      "Outlier Index: 21\n"
     ]
    }
   ],
   "source": [
    "for idx, _sum in enumerate(sentence_length):\n",
    "    # 문장의 수가 1500을 초과하는 문장 길이를 추출합니다.\n",
    "    if _sum > 1500:\n",
    "        print(\"Outlier Index:\", idx+1)"
   ]
  },
  {
   "cell_type": "markdown",
   "id": "7895fc7d",
   "metadata": {},
   "source": [
    "위에서 찾은 outlier index 중 하나인, 길이가 11인 문장들은 어떤 것들이 있는지 확인해봅시다."
   ]
  },
  {
   "cell_type": "code",
   "execution_count": 7,
   "id": "88d567f2",
   "metadata": {},
   "outputs": [
    {
     "name": "stdout",
     "output_type": "stream",
     "text": [
      "라고 조던이 말했다.\n",
      "- 모르고 있습니다.\n",
      "- 네, 보이는군요.\n",
      "디즈니사만이 아니다.\n",
      "큰 파티는 아니지요.\n",
      "의자는 비어 있었다.\n",
      "이 일은 계속됩니다.\n",
      "나는 크게 실망했다.\n",
      "그 이유는 간단하다.\n",
      "이력서와 자기 소개서\n",
      "시대가 변하고 있다.\n",
      "는 돌발질문을 했다.\n",
      "9. 몇 분간의 명상\n",
      "하와이, 빅 아일랜드\n",
      "키스를 잘 하는 방법\n",
      "키스를 잘 하는 방법\n",
      "스피어스가 뚱뚱한가?\n",
      "산 위를 나는 느낌.\n",
      "세 시간쯤 걸었을까?\n",
      "(아직 읽고있습니까?\n",
      "처음에는 장난이었다.\n",
      "우리는 운이 좋았다.\n",
      "아기가 숨을 멈출 때\n",
      "건물 전체 무너져내려\n",
      "그녀의 아름다운 눈.\n",
      "대답은 다음과 같다.\n",
      "\"사과할 것이 없다.\n",
      "폭탄테러가 공포 유발\n",
      "그는 \"잘 모르겠다.\n",
      "그는 \"잘 모르겠다.\n",
      "그는 \"잘 모르겠다.\n",
      "그는 \"잘 모르겠다.\n",
      "그는 \"잘 모르겠다.\n",
      "그는 \"잘 모르겠다.\n",
      "그는 \"잘 모르겠다.\n",
      "그는 \"잘 모르겠다.\n",
      "그는 \"잘 모르겠다.\n",
      "케냐 야생동물 고아원\n",
      "경유 1200원대로…\n",
      "더 내려야 하는 이유\n",
      "케냐 야생동물 고아원\n",
      "경유 1200원대로…\n",
      "더 내려야 하는 이유\n",
      "케냐 야생동물 고아원\n",
      "경유 1200원대로…\n",
      "더 내려야 하는 이유\n",
      "케냐 야생동물 고아원\n",
      "경유 1200원대로…\n",
      "더 내려야 하는 이유\n",
      "케냐 야생동물 고아원\n",
      "경유 1200원대로…\n",
      "더 내려야 하는 이유\n",
      "케냐 야생동물 고아원\n",
      "경유 1200원대로…\n",
      "더 내려야 하는 이유\n",
      "케냐 야생동물 고아원\n",
      "경유 1200원대로…\n",
      "더 내려야 하는 이유\n",
      "케냐 야생동물 고아원\n",
      "경유 1200원대로…\n",
      "더 내려야 하는 이유\n",
      "케냐 야생동물 고아원\n",
      "경유 1200원대로…\n",
      "더 내려야 하는 이유\n",
      "케냐 야생동물 고아원\n",
      "경유 1200원대로…\n",
      "더 내려야 하는 이유\n",
      "케냐 야생동물 고아원\n",
      "경유 1200원대로…\n",
      "더 내려야 하는 이유\n",
      "케냐 야생동물 고아원\n",
      "경유 1200원대로…\n",
      "더 내려야 하는 이유\n",
      "케냐 야생동물 고아원\n",
      "경유 1200원대로…\n",
      "더 내려야 하는 이유\n",
      "케냐 야생동물 고아원\n",
      "경유 1200원대로…\n",
      "더 내려야 하는 이유\n",
      "케냐 야생동물 고아원\n",
      "경유 1200원대로…\n",
      "더 내려야 하는 이유\n",
      "케냐 야생동물 고아원\n",
      "경유 1200원대로…\n",
      "더 내려야 하는 이유\n",
      "케냐 야생동물 고아원\n",
      "경유 1200원대로…\n",
      "더 내려야 하는 이유\n",
      "케냐 야생동물 고아원\n",
      "경유 1200원대로…\n",
      "더 내려야 하는 이유\n",
      "케냐 야생동물 고아원\n",
      "경유 1200원대로…\n",
      "더 내려야 하는 이유\n",
      "케냐 야생동물 고아원\n",
      "경유 1200원대로…\n",
      "더 내려야 하는 이유\n",
      "조금은 새침한 샬롯？\n",
      "조금은 새침한 샬롯？\n",
      "케냐 야생동물 고아원\n",
      "경유 1200원대로…\n"
     ]
    }
   ],
   "source": [
    "check_sentence_with_length(raw, 11)"
   ]
  },
  {
   "cell_type": "markdown",
   "id": "49a45d6a",
   "metadata": {},
   "source": [
    "데이터의 중복을 제거하고 데이터의 분포를 재확인"
   ]
  },
  {
   "cell_type": "code",
   "execution_count": 8,
   "id": "4c54f8f4",
   "metadata": {},
   "outputs": [
    {
     "name": "stdout",
     "output_type": "stream",
     "text": [
      "Data Size: 77591\n",
      "문장의 최단 길이: 1\n",
      "문장의 최장 길이: 377\n",
      "문장의 평균 길이: 64\n"
     ]
    },
    {
     "data": {
      "image/png": "[encoded data removed]",
      "text/plain": [
       "<Figure size 432x288 with 1 Axes>"
      ]
     },
     "metadata": {
      "needs_background": "light"
     },
     "output_type": "display_data"
    }
   ],
   "source": [
    "min_len = 999\n",
    "max_len = 0\n",
    "sum_len = 0\n",
    "\n",
    "cleaned_corpus = list(set(raw))  # set를 사용해서 중복을 제거합니다.\n",
    "print(\"Data Size:\", len(cleaned_corpus))\n",
    "\n",
    "for sen in cleaned_corpus:\n",
    "    length = len(sen)\n",
    "    if min_len > length: min_len = length\n",
    "    if max_len < length: max_len = length\n",
    "    sum_len += length\n",
    "\n",
    "print(\"문장의 최단 길이:\", min_len)\n",
    "print(\"문장의 최장 길이:\", max_len)\n",
    "print(\"문장의 평균 길이:\", sum_len // len(cleaned_corpus))\n",
    "\n",
    "sentence_length = np.zeros((max_len), dtype=int)\n",
    "\n",
    "for sen in cleaned_corpus:   # 중복이 제거된 코퍼스 기준\n",
    "    sentence_length[len(sen)-1] += 1\n",
    "\n",
    "plt.bar(range(max_len), sentence_length, width=1.0)\n",
    "plt.title(\"Sentence Length Distribution\")\n",
    "plt.show()"
   ]
  },
  {
   "cell_type": "markdown",
   "id": "95507453",
   "metadata": {},
   "source": [
    "데이터 사용여부 (전부 사용, 나눠서`mini-batch` 사용)에 따라 처리를 해주어야 한다.  \n",
    "미니 배치\n",
    "- 특성상 각 데이터의 크기가 동일해야함\n",
    "- **가장 긴 데이터를 기준으로 padding 처리**\n",
    "> 예제에서는 길이 10 미만, 길이 150 이상의 데이터들을 제거함"
   ]
  },
  {
   "cell_type": "code",
   "execution_count": 9,
   "id": "abb538fa",
   "metadata": {
    "scrolled": true
   },
   "outputs": [
    {
     "data": {
      "image/png": "[encoded data removed]",
      "text/plain": [
       "<Figure size 432x288 with 1 Axes>"
      ]
     },
     "metadata": {
      "needs_background": "light"
     },
     "output_type": "display_data"
    }
   ],
   "source": [
    "max_len = 150\n",
    "min_len = 10\n",
    "\n",
    "# 길이 조건에 맞는 문장만 선택합니다.\n",
    "filtered_corpus = [s for s in cleaned_corpus if (len(s) < max_len) & (len(s) >= min_len)]\n",
    "\n",
    "# 분포도를 다시 그려봅니다.\n",
    "sentence_length = np.zeros((max_len), dtype=int)\n",
    "\n",
    "for sen in filtered_corpus:\n",
    "    sentence_length[len(sen)-1] += 1\n",
    "\n",
    "plt.bar(range(max_len), sentence_length, width=1.0)\n",
    "plt.title(\"Sentence Length Distribution\")\n",
    "plt.show()"
   ]
  },
  {
   "cell_type": "markdown",
   "id": "6566d339",
   "metadata": {},
   "source": [
    "## 2-3. 공백 기반 토큰화\n",
    "배운 순서대로, 먼저 공백 기반 토큰화를 진행\n",
    "1. **이전 스탭에서 얻은 정제된 데이터**`filtered_corpus`**를 공백기반으로 토큰화**\n",
    "2. **리스트**`split_corpus`**에 저장**\n",
    "3. **아래 함수**`tokenize()`**를 사용해 단어 사전과 Tensor 데이터를 획득**\n",
    "4. **단어 사전의 크기를 확인**"
   ]
  },
  {
   "cell_type": "code",
   "execution_count": 10,
   "id": "c95eadc3",
   "metadata": {},
   "outputs": [],
   "source": [
    "def tokenize(corpus):  # corpus: Tokenized Sentence's List\n",
    "    tokenizer = tf.keras.preprocessing.text.Tokenizer(filters='')\n",
    "    tokenizer.fit_on_texts(corpus)\n",
    "\n",
    "    tensor = tokenizer.texts_to_sequences(corpus)\n",
    "\n",
    "    tensor = tf.keras.preprocessing.sequence.pad_sequences(tensor, padding='post')\n",
    "\n",
    "    return tensor, tokenizer"
   ]
  },
  {
   "cell_type": "code",
   "execution_count": 11,
   "id": "81754a2e",
   "metadata": {},
   "outputs": [],
   "source": [
    "# 정제된 데이터 filtered_corpus를 공백 기반으로 토큰화하여 저장하는 코드를 직접 작성해 보세요.\n",
    "split_corpus = []\n",
    "\n",
    "for kor in filtered_corpus:\n",
    "    split_corpus.append(kor.split())"
   ]
  },
  {
   "cell_type": "markdown",
   "id": "8901841b",
   "metadata": {},
   "source": [
    "이제 공백 기반 토큰화 진행 후, 단어 사전의 길이 확인해보기"
   ]
  },
  {
   "cell_type": "code",
   "execution_count": 12,
   "id": "e1579ce3",
   "metadata": {},
   "outputs": [
    {
     "name": "stdout",
     "output_type": "stream",
     "text": [
      "Split Vocab Size: 237435\n"
     ]
    }
   ],
   "source": [
    "split_tensor, split_tokenizer = tokenize(split_corpus)\n",
    "\n",
    "print(\"Split Vocab Size:\", len(split_tokenizer.index_word))"
   ]
  },
  {
   "cell_type": "markdown",
   "id": "236b7ea9",
   "metadata": {},
   "source": [
    "아래 코드로, 생성돈 단어 사전을 확인할 수 있다."
   ]
  },
  {
   "cell_type": "code",
   "execution_count": 13,
   "id": "69bf00b1",
   "metadata": {},
   "outputs": [
    {
     "name": "stdout",
     "output_type": "stream",
     "text": [
      "0 : 이\n",
      "1 : 밝혔다.\n",
      "2 : 있다.\n",
      "3 : 말했다.\n",
      "4 : 수\n",
      "5 : 있는\n",
      "6 : 그는\n",
      "7 : 대한\n",
      "8 : 위해\n",
      "9 : 전했다.\n",
      "10 : 지난\n",
      "11 : 이번\n"
     ]
    }
   ],
   "source": [
    "for idx, word in enumerate(split_tokenizer.word_index):\n",
    "    print(idx, \":\", word)\n",
    "\n",
    "    if idx > 10: break"
   ]
  },
  {
   "cell_type": "markdown",
   "id": "a170c2ea",
   "metadata": {},
   "source": [
    "**공백 기반 토큰화의 문제점**\n",
    "- 동사로 이루어진 단어를 살피면 확인할 수 있다.\n",
    "    - 동사형태로 나누어진 단어를 모두 다른 단어로 간주함\n",
    "- 따라서 다음의 경우가 발생함\n",
    "    - **불필요하게 큰 단어 사전을 가지게 되며 이는 연산량 증가**로 이어짐\n",
    "    \n",
    "동사 부분의 단어 사전을 효율적으로 만들면서 동사의 의미를 공통된 어절을 고려해서 분류하려면 **형태소 분석기**를 사용하면 된다."
   ]
  },
  {
   "cell_type": "markdown",
   "id": "430d4b74",
   "metadata": {},
   "source": [
    "## 2-4. 형태소 기반 토큰화\n",
    "한국어 형태소 분석기\n",
    "> 대표적으로 다음이 사용된다.\n",
    "- Khaiii\n",
    "- KoNLPy\n",
    "\n",
    "예제 코드는 KoNLPy + MeCab을 활용한다.  "
   ]
  },
  {
   "cell_type": "code",
   "execution_count": 14,
   "id": "c5f0929e",
   "metadata": {},
   "outputs": [],
   "source": [
    "# 위에서 사용한 코드를 활용해 MeCab 단어 사전을 만들어보세요. \n",
    "# Hint : mecab.morphs()를 사용해서 형태소분석을 합니다.\n",
    "def mecab_split(sentence):\n",
    "    return mecab.morphs(sentence)\n",
    "\n",
    "mecab_corpus = []\n",
    "\n",
    "for kor in filtered_corpus:\n",
    "    mecab_corpus.append(mecab_split(kor))"
   ]
  },
  {
   "cell_type": "markdown",
   "id": "a42f1672",
   "metadata": {},
   "source": [
    "형태소 기반 토큰화 진행  \n",
    "이후, 단어 사전의 길이 확인"
   ]
  },
  {
   "cell_type": "code",
   "execution_count": 15,
   "id": "b1ea3e69",
   "metadata": {},
   "outputs": [
    {
     "name": "stdout",
     "output_type": "stream",
     "text": [
      "MeCab Vocab Size: 52279\n"
     ]
    }
   ],
   "source": [
    "mecab_tensor, mecab_tokenizer = tokenize(mecab_corpus)\n",
    "\n",
    "print(\"MeCab Vocab Size:\", len(mecab_tokenizer.index_word))"
   ]
  },
  {
   "cell_type": "markdown",
   "id": "25521b4f",
   "metadata": {},
   "source": [
    "공백 기반 단어 사전 단어수 (`약 23만개`)에 비해 단어 수 가 현저히 줄어든 것을 확인함  \n",
    "이는 연산량 감소로 이어져 학습이 더 빨라진다.  \n",
    "심지어 모델이 튜닝해야 하는 `parameter` 수가 줄어들어 학습이 더 잘 된다."
   ]
  },
  {
   "cell_type": "markdown",
   "id": "2b465fdc",
   "metadata": {},
   "source": [
    "적어도 한국어를 처리할 때는 **공백 기반 토큰화를 사용하지 말아야한다.**  \n",
    "자주 사용되는 토큰화(`SentencePiece`)보다 형태소 분석기가 좋은 성능을 내는 사례 존재\n",
    "- 한국어 BERT 모델 (**KorBERT**)\n",
    "- [모델 구조 및 평가 내역](https://aiopen.etri.re.kr/bertModel)"
   ]
  },
  {
   "cell_type": "markdown",
   "id": "d19d4ad5",
   "metadata": {},
   "source": [
    "위 과정은 문장을 Tensor로 Encoding하는 과정이다.  \n",
    "후에 모델이 생성한 Tensor를 문장으로 Decoding 하는 과정을 수행해보자"
   ]
  },
  {
   "cell_type": "markdown",
   "id": "773307ea",
   "metadata": {},
   "source": [
    "- `tokenizer.sequences_to_texts()` 함수를 사용하여 Decoding\n",
    "- `tokenizer.index_word`를 사용하여 Decoding\n",
    "\n",
    "두 가지 방법으로 `mecab_tensor[100]`을 원문으로 되돌려보기  \n",
    "(띄어쓰기는 고려하지 않음)"
   ]
  },
  {
   "cell_type": "code",
   "execution_count": 16,
   "id": "8e51778f",
   "metadata": {},
   "outputs": [
    {
     "name": "stdout",
     "output_type": "stream",
     "text": [
      "aha 는 현재 아이 들 이 심장 에 문제 가 없 다는 진단 을 확실히 하 기 위해 adhd 어린이 들 에게 치료제 를 투약 하 기 전 에 어린이 의 가족력 과 심전 도 검사 등 전반 적 인 검사 를 하 도록 권고 했 다 .\n"
     ]
    }
   ],
   "source": [
    "# Case 1 : tokenizer.sequences_to_texts()\n",
    "texts = mecab_tokenizer.sequences_to_texts([mecab_tensor[100]])\n",
    "print(texts[0])"
   ]
  },
  {
   "cell_type": "code",
   "execution_count": 17,
   "id": "0546a33e",
   "metadata": {},
   "outputs": [
    {
     "name": "stdout",
     "output_type": "stream",
     "text": [
      "aha 는 현재 아이 들 이 심장 에 문제 가 없 다는 진단 을 확실히 하 기 위해 adhd 어린이 들 에게 치료제 를 투약 하 기 전 에 어린이 의 가족력 과 심전 도 검사 등 전반 적 인 검사 를 하 도록 권고 했 다 . \n"
     ]
    }
   ],
   "source": [
    "# Case 2 : tokenizer.index_word\n",
    "sentence = \"\"\n",
    "\n",
    "for w in mecab_tensor[100]:\n",
    "    if w == 0: continue\n",
    "    sentence += mecab_tokenizer.index_word[w] + \" \"\n",
    "\n",
    "print(sentence)"
   ]
  }
 ],
 "metadata": {
  "kernelspec": {
   "display_name": "Python 3 (ipykernel)",
   "language": "python",
   "name": "python3"
  },
  "language_info": {
   "codemirror_mode": {
    "name": "ipython",
    "version": 3
   },
   "file_extension": ".py",
   "mimetype": "text/x-python",
   "name": "python",
   "nbconvert_exporter": "python",
   "pygments_lexer": "ipython3",
   "version": "3.9.7"
  }
 },
 "nbformat": 4,
 "nbformat_minor": 5
}
